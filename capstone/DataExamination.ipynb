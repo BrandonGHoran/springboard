{
 "cells": [
  {
   "cell_type": "code",
   "execution_count": 20,
   "metadata": {},
   "outputs": [],
   "source": [
    "import commandLine as c"
   ]
  },
  {
   "cell_type": "code",
   "execution_count": 3,
   "metadata": {},
   "outputs": [
    {
     "data": {
      "text/plain": [
       "[\"b'/mnt/c/Users/BrandonHoran/Documents/Work/Springboard/Projects/Capstone\",\n",
       " \"'\"]"
      ]
     },
     "execution_count": 3,
     "metadata": {},
     "output_type": "execute_result"
    }
   ],
   "source": [
    "c.run(\"pwd\")"
   ]
  },
  {
   "cell_type": "code",
   "execution_count": 4,
   "metadata": {},
   "outputs": [
    {
     "data": {
      "text/plain": [
       "[\"b'total 300K\",\n",
       " 'drwxrwxrwx 1 brandon brandon 4.0K Jun 15 10:05 ebi_data',\n",
       " 'drwxrwxrwx 1 brandon brandon 4.0K Jun 16 20:57 kaggle',\n",
       " 'drwxrwxrwx 1 brandon brandon 4.0K Jun 16 23:21 Zenodo',\n",
       " 'drwxrwxrwx 1 brandon brandon 4.0K Jun 16 23:35 kvasir',\n",
       " '-rwxrwxrwx 1 brandon brandon 284K Jun 17 00:28 1555086036_AIC_Capstone_Phase_1_Step_1__Project_Ideas_-_Google_Docs.pdf',\n",
       " '-rwxrwxrwx 1 brandon brandon 3.5K Jun 20 22:51 InitialWork.ipynb',\n",
       " '-rwxrwxrwx 1 brandon brandon  255 Jun 20 22:53 ls.py',\n",
       " '-rwxrwxrwx 1 brandon brandon   72 Jun 20 22:53 Untitled.ipynb',\n",
       " '-rwxrwxrwx 1 brandon brandon  135 Jun 20 22:55 commandLine.py',\n",
       " 'drwxrwxrwx 1 brandon brandon 4.0K Jun 20 22:56 __pycache__',\n",
       " '-rwxrwxrwx 1 brandon brandon  135 Jun 20 22:57 test.txt',\n",
       " '-rwxrwxrwx 1 brandon brandon 4.6K Jun 20 22:58 Untitled1.ipynb',\n",
       " '-rwxrwxrwx 1 brandon brandon 2.1K Jun 20 22:58 DataExamination.ipynb',\n",
       " \"'\"]"
      ]
     },
     "execution_count": 4,
     "metadata": {},
     "output_type": "execute_result"
    }
   ],
   "source": [
    "c.run(\"ls -ltrh\")"
   ]
  },
  {
   "cell_type": "code",
   "execution_count": 5,
   "metadata": {},
   "outputs": [
    {
     "data": {
      "text/plain": [
       "[\"b'total 3.0G\",\n",
       " '-rwxrwxrwx 1 brandon brandon 338M Jun 15 10:15 cell-images-for-detecting-malaria.zip',\n",
       " '-rwxrwxrwx 1 brandon brandon 2.7G Jun 15 10:27 skin-cancer-mnist-ham10000.zip',\n",
       " 'drwxrwxrwx 1 brandon brandon 4.0K Jun 15 20:25 crowds-cure-cancer',\n",
       " 'drwxrwxrwx 1 brandon brandon 4.0K Jun 15 22:01 models',\n",
       " 'drwxrwxrwx 1 brandon brandon 4.0K Jun 16 09:27 cell_images',\n",
       " 'drwxrwxrwx 1 brandon brandon 4.0K Jun 16 21:03 colerectal-histology-mnist',\n",
       " 'drwxrwxrwx 1 brandon brandon 4.0K Jun 16 21:37 hpv',\n",
       " 'drwxrwxrwx 1 brandon brandon 4.0K Jun 16 21:59 ddsm-mammography',\n",
       " 'drwxrwxrwx 1 brandon brandon 4.0K Jun 16 22:01 skin-cancer',\n",
       " 'drwxrwxrwx 1 brandon brandon 4.0K Jun 16 22:14 breast-cancer-more',\n",
       " 'drwxrwxrwx 1 brandon brandon 4.0K Jun 17 01:13 breast-histopathology',\n",
       " \"'\"]"
      ]
     },
     "execution_count": 5,
     "metadata": {},
     "output_type": "execute_result"
    }
   ],
   "source": [
    "c.run(\"ls -ltrh kaggle\")"
   ]
  },
  {
   "cell_type": "code",
   "execution_count": 6,
   "metadata": {},
   "outputs": [
    {
     "data": {
      "text/plain": [
       "[\"b'total 17M\",\n",
       " 'drwxrwxrwx 1 brandon brandon 4.0K Mar 28  2018 Uninfected',\n",
       " '-rwxrwxrwx 1 brandon brandon 635K Jun 15 20:26 dump',\n",
       " '-rwxrwxrwx 1 brandon brandon 635K Jun 15 20:26 dump1',\n",
       " '-rwxrwxrwx 1 brandon brandon 2.1M Jun 15 20:33 peerj-4568.pdf',\n",
       " '-rwxrwxrwx 1 brandon brandon 1.2M Jun 15 20:42 5872-efficient-and-robust-automated-machine-learning.pdf',\n",
       " 'drwxrwxrwx 1 brandon brandon 4.0K Jun 15 21:05 Parasitized',\n",
       " '-rwxrwxrwx 1 brandon brandon 6.1M Jun 15 22:11 044506_1.pdf',\n",
       " '-rwxrwxrwx 1 brandon brandon 2.1M Jun 15 22:13 58989.pdf',\n",
       " '-rwxrwxrwx 1 brandon brandon 2.6M Jun 15 22:16 1608.02989.pdf',\n",
       " 'drwxrwxrwx 1 brandon brandon 4.0K Jun 15 23:04 auto_sklearn',\n",
       " '-rwxrwxrwx 1 brandon brandon 1.1M Jun 16 00:43 1806.10282.pdf',\n",
       " '-rwxrwxrwx 1 brandon brandon 781K Jun 16 09:27 learn_autosklearn_vectorizeImage.ipynb',\n",
       " 'drwxrwxrwx 1 brandon brandon 4.0K Jun 20 16:55 REFERENCE_DATA',\n",
       " \"'\"]"
      ]
     },
     "execution_count": 6,
     "metadata": {},
     "output_type": "execute_result"
    }
   ],
   "source": [
    "c.run(\"ls -ltrh kaggle/cell_images\")"
   ]
  },
  {
   "cell_type": "code",
   "execution_count": 7,
   "metadata": {},
   "outputs": [
    {
     "data": {
      "text/plain": [
       "[\"b'total 183M\",\n",
       " '-rwxrwxrwx 1 brandon brandon  14K Jul 13  2016 C33P1thinF_IMG_20150619_114756a_cell_2.png',\n",
       " '-rwxrwxrwx 1 brandon brandon  14K Jul 13  2016 C33P1thinF_IMG_20150619_114756a_cell_81.png',\n",
       " '-rwxrwxrwx 1 brandon brandon  13K Jul 13  2016 C33P1thinF_IMG_20150619_114756a_cell_36.png',\n",
       " '-rwxrwxrwx 1 brandon brandon  10K Jul 13  2016 C33P1thinF_IMG_20150619_114756a_cell_20.png',\n",
       " '-rwxrwxrwx 1 brandon brandon  14K Jul 13  2016 C33P1thinF_IMG_20150619_114756a_cell_157.png',\n",
       " '-rwxrwxrwx 1 brandon brandon  17K Jul 13  2016 C33P1thinF_IMG_20150619_114756a_cell_127.png',\n",
       " '-rwxrwxrwx 1 brandon brandon 9.8K Jul 13  2016 C133P94ThinF_IMG_20151004_153930_cell_95.png',\n",
       " '-rwxrwxrwx 1 brandon brandon  10K Jul 13  2016 C133P94ThinF_IMG_20151004_153930_cell_73.png',\n",
       " '-rwxrwxrwx 1 brandon brandon 8.9K Jul 13  2016 C133P94ThinF_IMG_20151004_153930_cell_71.png',\n",
       " '-rwxrwxrwx 1 brandon brandon 8.9K Jul 13  2016 C133P94ThinF_IMG_20151004_153930_cell_52.png',\n",
       " '-rwxrwxrwx 1 brandon brandon 9.7K Jul 13  2016 C133P94ThinF_IMG_20151004_153930_cell_29.png',\n",
       " '-rwxrwxrwx 1 brandon brandon  11K Jul 13  2016 C133P94ThinF_IMG_20151004_153930_cell_26.png',\n",
       " '-rwxrwxrwx 1 brandon brandon  11K Jul 13  2016 C99P60ThinF_IMG_20150918_140900_cell_6.png',\n",
       " '-rwxrwxrwx 1 brandon brandon  11K Jul 13  2016 C99P60ThinF_IMG_20150918_140900_cell_91.png',\n",
       " '-rwxrwxrwx 1 brandon brandon  12K Jul 13  2016 C99P60ThinF_IMG_20150918_140900_cell_69.png',\n",
       " '-rwxrwxrwx 1 brandon brandon  14K Jul 13  2016 C99P60ThinF_IMG_20150918_140900_cell_66.png',\n",
       " '-rwxrwxrwx 1 brandon brandon  15K Jul 13  2016 C99P60ThinF_IMG_20150918_140900_cell_59.png',\n",
       " '-rwxrwxrwx 1 brandon brandon  11K Jul 13  2016 C99P60ThinF_IMG_20150918_140900_cell_52.png',\n",
       " '-rwxrwxrwx 1 brandon brandon 5.2K Jul 13  2016 C99P60ThinF_IMG_20150918_140900_cell_44.png',\n",
       " '-rwxrwxrwx 1 brandon brandon  14K Jul 13  2016 C99P60ThinF_IMG_20150918_140900_cell_41.png',\n",
       " '-rwxrwxrwx 1 brandon brandon 8.6K Jul 13  2016 C99P60ThinF_IMG_20150918_140900_cell_34.png',\n",
       " '-rwxrwxrwx 1 brandon brandon  15K Jul 13  2016 C99P60ThinF_IMG_20150918_140900_cell_24.png',\n",
       " '-rwxrwxrwx 1 brandon brandon  14K Jul 13  2016 C72P33_ThinF_IMG_20150815_104045_cell_17.png',\n",
       " '-rwxrwxrwx 1 brandon brandon 7.9K Jul 13  2016 C72P33_ThinF_IMG_20150815_104045_cell_62.png',\n",
       " '-rwxrwxrwx 1 brandon brandon 9.5K Jul 13  2016 C72P33_ThinF_IMG_20150815_104045_cell_60.png',\n",
       " '-rwxrwxrwx 1 brandon brandon  12K Jul 13  2016 C72P33_ThinF_IMG_20150815_104045_cell_50.png',\n",
       " '-rwxrwxrwx 1 brandon brandon  13K Jul 13  2016 C72P33_ThinF_IMG_20150815_104045_cell_48.png',\n",
       " '-rwxrwxrwx 1 brandon brandon  11K Jul 13  2016 C72P33_ThinF_IMG_20150815_104045_cell_135.png',\n",
       " '-rwxrwxrwx 1 brandon brandon 9.0K Jul 13  2016 C72P33_ThinF_IMG_20150815_104045_cell_118.png',\n",
       " '-rwxrwxrwx 1 brandon brandon 7.7K Jul 13  2016 C72P33_ThinF_IMG_20150815_104045_cell_109.png',\n",
       " '-rwxrwxrwx 1 brandon brandon 9.4K Jul 13  2016 C72P33_ThinF_IMG_20150815_104045_cell_195.png',\n",
       " '-rwxrwxrwx 1 brandon brandon  11K Jul 13  2016 C72P33_ThinF_IMG_20150815_104045_cell_194.png',\n",
       " '-rwxrwxrwx 1 brandon brandon 9.0K Jul 13  2016 C72P33_ThinF_IMG_20150815_104045_cell_175.png',\n",
       " '-rwxrwxrwx 1 brandon brandon  11K Jul 13  2016 C72P33_ThinF_IMG_20150815_104045_cell_163.png',\n",
       " '-rwxrwxrwx 1 brandon brandon  13K Jul 13  2016 C33P1thinF_IMG_20150619_115740a_cell_65.png',\n",
       " '-rwxrwxrwx 1 brandon brandon  14K Jul 13  2016 C33P1thinF_IMG_20150619_115740a_cell_6.png',\n",
       " '-rwxrwxrwx 1 brandon brandon  14K Jul 13  2016 C33P1thinF_IMG_20150619_115740a_cell_39.png',\n",
       " '-rwxrwxrwx 1 brandon brandon  12K Jul 13  2016 C33P1thinF_IMG_20150619_115740a_cell_127.png',\n",
       " '-rwxrwxrwx 1 brandon brandon  14K Jul 13  2016 C33P1thinF_IMG_20150619_115740a_cell_120.png',\n",
       " '-rwxrwxrwx 1 brandon brandon  15K Jul 13  2016 C33P1thinF_IMG_20150619_115740a_cell_132.png',\n",
       " '-rwxrwxrwx 1 brandon brandon 9.3K Jul 13  2016 C133P94ThinF_IMG_20151004_154158_cell_90.png',\n",
       " '-rwxrwxrwx 1 brandon brandon 7.6K Jul 13  2016 C133P94ThinF_IMG_20151004_154158_cell_81.png',\n",
       " '-rwxrwxrwx 1 brandon brandon 7.7K Jul 13  2016 C133P94ThinF_IMG_20151004_154158_cell_6.png',\n",
       " '-rwxrwxrwx 1 brandon brandon  12K Jul 13  2016 C133P94ThinF_IMG_20151004_154158_cell_56.png',\n",
       " '-rwxrwxrwx 1 brandon brandon 6.8K Jul 13  2016 C133P94ThinF_IMG_20151004_154158_cell_40.png',\n",
       " '-rwxrwxrwx 1 brandon brandon  10K Jul 13  2016 C133P94ThinF_IMG_20151004_154158_cell_16.png',\n",
       " '-rwxrwxrwx 1 brandon brandon  14K Jul 13  2016 C99P60ThinF_IMG_20150918_141001_cell_4.png',\n",
       " '-rwxrwxrwx 1 brandon brandon  15K Jul 13  2016 C99P60ThinF_IMG_20150918_141001_cell_26.png',\n",
       " '-rwxrwxrwx 1 brandon brandon  12K Jul 13  2016 C99P60ThinF_IMG_20150918_141001_cell_24.png',\n",
       " '-rwxrwxrwx 1 brandon brandon  14K Jul 13  2016 C33P1thinF_IMG_20150619_115808a_cell_62.png',\n",
       " '-rwxrwxrwx 1 brandon brandon  14K Jul 13  2016 C33P1thinF_IMG_20150619_115808a_cell_59.png',\n",
       " '-rwxrwxrwx 1 brandon brandon  16K Jul 13  2016 C33P1thinF_IMG_20150619_115808a_cell_55.png',\n",
       " '-rwxrwxrwx 1 brandon brandon  12K Jul 13  2016 C33P1thinF_IMG_20150619_115808a_cell_52.png',\n",
       " '-rwxrwxrwx 1 brandon brandon  11K Jul 13  2016 C99P60ThinF_IMG_20150918_141001_cell_89.png',\n",
       " '-rwxrwxrwx 1 brandon brandon  15K Jul 13  2016 C99P60ThinF_IMG_20150918_141001_cell_69.png',\n",
       " '-rwxrwxrwx 1 brandon brandon  14K Jul 13  2016 C99P60ThinF_IMG_20150918_141001_cell_66.png',\n",
       " '-rwxrwxrwx 1 brandon brandon  17K Jul 13  2016 C99P60ThinF_IMG_20150918_141001_cell_61.png',\n",
       " '-rwxrwxrwx 1 brandon brandon  12K Jul 13  2016 C99P60ThinF_IMG_20150918_141001_cell_60.png',\n",
       " '-rwxrwxrwx 1 brandon brandon  10K Jul 13  2016 C99P60ThinF_IMG_20150918_141001_cell_50.png',\n",
       " '-rwxrwxrwx 1 brandon brandon  16K Jul 13  2016 C99P60ThinF_IMG_20150918_141001_cell_46.png',\n",
       " '-rwxrwxrwx 1 brandon brandon  14K Jul 13  2016 C33P1thinF_IMG_20150619_115808a_cell_175.png',\n",
       " '-rwxrwxrwx 1 brandon brandon  13K Jul 13  2016 C33P1thinF_IMG_20150619_115808a_cell_101.png',\n",
       " '-rwxrwxrwx 1 brandon brandon 9.3K Jul 13  2016 C72P33_ThinF_IMG_20150815_104307_cell_90.png',\n",
       " '-rwxrwxrwx 1 brandon brandon 7.6K Jul 13  2016 C72P33_ThinF_IMG_20150815_104307_cell_85.png',\n",
       " '-rwxrwxrwx 1 brandon brandon 5.9K Jul 13  2016 C72P33_ThinF_IMG_20150815_104307_cell_66.png',\n",
       " '-rwxrwxrwx 1 brandon brandon 8.7K Jul 13  2016 C72P33_ThinF_IMG_20150815_104307_cell_60.png',\n",
       " '-rwxrwxrwx 1 brandon brandon  14K Jul 13  2016 C72P33_ThinF_IMG_20150815_104307_cell_53.png',\n",
       " '-rwxrwxrwx 1 brandon brandon 9.5K Jul 13  2016 C72P33_ThinF_IMG_20150815_104307_cell_169.png',\n",
       " '-rwxrwxrwx 1 brandon brandon 9.2K Jul 13  2016 C72P33_ThinF_IMG_20150815_104307_cell_154.png',\n",
       " '-rwxrwxrwx 1 brandon brandon 8.4K Jul 13  2016 C72P33_ThinF_IMG_20150815_104307_cell_135.png',\n",
       " '-rwxrwxrwx 1 brandon brandon  11K Jul 13  2016 C72P33_ThinF_IMG_20150815_104307_cell_217.png',\n",
       " '-rwxrwxrwx 1 brandon brandon  12K Jul 13  2016 C72P33_ThinF_IMG_20150815_104307_cell_208.png',\n",
       " '-rwxrwxrwx 1 brandon brandon 8.5K Jul 13  2016 C72P33_ThinF_IMG_20150815_104307_cell_185.png',\n",
       " '-rwxrwxrwx 1 brandon brandon  11K Jul 13  2016 C72P33_ThinF_IMG_20150815_104307_cell_182.png',\n",
       " '-rwxrwxrwx 1 brandon brandon  13K Jul 13  2016 C33P1thinF_IMG_20150619_120645a_cell_35.png',\n",
       " '-rwxrwxrwx 1 brandon brandon  12K Jul 13  2016 C33P1thinF_IMG_20150619_120645a_cell_26.png',\n",
       " '-rwxrwxrwx 1 brandon brandon  14K Jul 13  2016 C33P1thinF_IMG_20150619_120645a_cell_11.png',\n",
       " '-rwxrwxrwx 1 brandon brandon  11K Jul 13  2016 C33P1thinF_IMG_20150619_120645a_cell_212.png',\n",
       " '-rwxrwxrwx 1 brandon brandon  12K Jul 13  2016 C33P1thinF_IMG_20150619_120645a_cell_189.png',\n",
       " '-rwxrwxrwx 1 brandon brandon  12K Jul 13  2016 C33P1thinF_IMG_20150619_120645a_cell_153.png',\n",
       " '-rwxrwxrwx 1 brandon brandon  11K Jul 13  2016 C133P94ThinF_IMG_20151004_154351_cell_81.png',\n",
       " '-rwxrwxrwx 1 brandon brandon  11K Jul 13  2016 C133P94ThinF_IMG_20151004_154351_cell_80.png',\n",
       " '-rwxrwxrwx 1 brandon brandon 8.8K Jul 13  2016 C133P94ThinF_IMG_20151004_154351_cell_69.png',\n",
       " '-rwxrwxrwx 1 brandon brandon  13K Jul 13  2016 C133P94ThinF_IMG_20151004_154351_cell_58.png',\n",
       " '-rwxrwxrwx 1 brandon brandon 8.8K Jul 13  2016 C133P94ThinF_IMG_20151004_154351_cell_44.png',\n",
       " '-rwxrwxrwx 1 brandon brandon  11K Jul 13  2016 C133P94ThinF_IMG_20151004_154351_cell_26.png',\n",
       " '-rwxrwxrwx 1 brandon brandon 8.5K Jul 13  2016 C133P94ThinF_IMG_20151004_154351_cell_25.png',\n",
       " '-rwxrwxrwx 1 brandon brandon  13K Jul 13  2016 C99P60ThinF_IMG_20150918_141129_cell_84.png',\n",
       " '-rwxrwxrwx 1 brandon brandon  11K Jul 13  2016 C99P60ThinF_IMG_20150918_141129_cell_8.png',\n",
       " '-rwxrwxrwx 1 brandon brandon  11K Jul 13  2016 C99P60ThinF_IMG_20150918_141129_cell_77.png',\n",
       " '-rwxrwxrwx 1 brandon brandon 9.9K Jul 13  2016 C99P60ThinF_IMG_20150918_141129_cell_75.png',\n",
       " '-rwxrwxrwx 1 brandon brandon  14K Jul 13  2016 C99P60ThinF_IMG_20150918_141129_cell_38.png',\n",
       " '-rwxrwxrwx 1 brandon brandon  13K Jul 13  2016 C99P60ThinF_IMG_20150918_141129_cell_3.png',\n",
       " '-rwxrwxrwx 1 brandon brandon  12K Jul 13  2016 C99P60ThinF_IMG_20150918_141129_cell_21.png',\n",
       " '-rwxrwxrwx 1 brandon brandon  16K Jul 13  2016 C99P60ThinF_IMG_20150918_141129_cell_20.png',\n",
       " '-rwxrwxrwx 1 brandon brandon 8.8K Jul 13  2016 C99P60ThinF_IMG_20150918_141129_cell_15.png',\n",
       " '-rwxrwxrwx 1 brandon brandon  12K Jul 13  2016 C99P60ThinF_IMG_20150918_141129_cell_86.png',\n",
       " '-rwxrwxrwx 1 brandon brandon  13K Jul 13  2016 C33P1thinF_IMG_20150619_120742a_cell_62.png',\n",
       " '-rwxrwxrwx 1 brandon brandon  14K Jul 13  2016 C33P1thinF_IMG_20150619_120742a_cell_123.png',\n",
       " '-rwxrwxrwx 1 brandon brandon  14K Jul 13  2016 C33P1thinF_IMG_20150619_120742a_cell_120.png',\n",
       " '-rwxrwxrwx 1 brandon brandon  12K Jul 13  2016 C33P1thinF_IMG_20150619_120742a_cell_191.png',\n",
       " '-rwxrwxrwx 1 brandon brandon  11K Jul 13  2016 C33P1thinF_IMG_20150619_120742a_cell_182.png',\n",
       " '-rwxrwxrwx 1 brandon brandon  16K Jul 13  2016 C33P1thinF_IMG_20150619_120742a_cell_155.png',\n",
       " '-rwxrwxrwx 1 brandon brandon 7.8K Jul 13  2016 C72P33_ThinF_IMG_20150815_104843_cell_71.png',\n",
       " '-rwxrwxrwx 1 brandon brandon  11K Jul 13  2016 C72P33_ThinF_IMG_20150815_104843_cell_66.png',\n",
       " '-rwxrwxrwx 1 brandon brandon 9.5K Jul 13  2016 C72P33_ThinF_IMG_20150815_104843_cell_59.png',\n",
       " '-rwxrwxrwx 1 brandon brandon  12K Jul 13  2016 C72P33_ThinF_IMG_20150815_104843_cell_91.png',\n",
       " '-rwxrwxrwx 1 brandon brandon 9.3K Jul 13  2016 C72P33_ThinF_IMG_20150815_104843_cell_194.png',\n",
       " '-rwxrwxrwx 1 brandon brandon 9.9K Jul 13  2016 C72P33_ThinF_IMG_20150815_104843_cell_189.png',\n",
       " '-rwxrwxrwx 1 brandon brandon  11K Jul 13  2016 C72P33_ThinF_IMG_20150815_104843_cell_187.png',\n",
       " '-rwxrwxrwx 1 brandon brandon  12K Jul 13  2016 C72P33_ThinF_IMG_20150815_104843_cell_173.png',\n",
       " '-rwxrwxrwx 1 brandon brandon 8.7K Jul 13  2016 C72P33_ThinF_IMG_20150815_104843_cell_155.png',\n",
       " '-rwxrwxrwx 1 brandon brandon  11K Jul 13  2016 C72P33_ThinF_IMG_20150815_104843_cell_145.png',\n",
       " '-rwxrwxrwx 1 brandon brandon  11K Jul 13  2016 C72P33_ThinF_IMG_20150815_104843_cell_138.png',\n",
       " '-rwxrwxrwx 1 brandon brandon  11K Jul 13  2016 C133P94ThinF_IMG_20151004_154512_cell_72.png',\n",
       " '-rwxrwxrwx 1 brandon brandon  12K Jul 13  2016 C133P94ThinF_IMG_20151004_154512_cell_63.png',\n",
       " '-rwxrwxrwx 1 brandon brandon 9.6K Jul 13  2016 C133P94ThinF_IMG_20151004_154512_cell_4.png',\n",
       " '-rwxrwxrwx 1 brandon brandon 7.9K Jul 13  2016 C133P94ThinF_IMG_20151004_154512_cell_29.png',\n",
       " '-rwxrwxrwx 1 brandon brandon  11K Jul 13  2016 C133P94ThinF_IMG_20151004_154512_cell_16.png',\n",
       " '-rwxrwxrwx 1 brandon brandon 7.8K Jul 13  2016 C133P94ThinF_IMG_20151004_154512_cell_92.png',\n",
       " '-rwxrwxrwx 1 brandon brandon 9.1K Jul 13  2016 C133P94ThinF_IMG_20151004_154512_cell_84.png',\n",
       " '-rwxrwxrwx 1 brandon brandon  15K Jul 13  2016 C99P60ThinF_IMG_20150918_141314_cell_16.png',\n",
       " '-rwxrwxrwx 1 brandon brandon  14K Jul 13  2016 C99P60ThinF_IMG_20150918_141314_cell_11.png',\n",
       " '-rwxrwxrwx 1 brandon brandon 9.7K Jul 13  2016 C99P60ThinF_IMG_20150918_141314_cell_81.png',\n",
       " '-rwxrwxrwx 1 brandon brandon 8.4K Jul 13  2016 C99P60ThinF_IMG_20150918_141314_cell_79.png',\n",
       " '-rwxrwxrwx 1 brandon brandon  13K Jul 13  2016 C99P60ThinF_IMG_20150918_141314_cell_77.png',\n",
       " '-rwxrwxrwx 1 brandon brandon  12K Jul 13  2016 C99P60ThinF_IMG_20150918_141314_cell_65.png',\n",
       " '-rwxrwxrwx 1 brandon brandon 6.5K Jul 13  2016 C99P60ThinF_IMG_20150918_141314_cell_57.png',\n",
       " '-rwxrwxrwx 1 brandon brandon 9.0K Jul 13  2016 C99P60ThinF_IMG_20150918_141314_cell_46.png',\n",
       " '-rwxrwxrwx 1 brandon brandon 9.1K Jul 13  2016 C99P60ThinF_IMG_20150918_141314_cell_39.png',\n",
       " '-rwxrwxrwx 1 brandon brandon  13K Jul 13  2016 C99P60ThinF_IMG_20150918_141314_cell_31.png',\n",
       " '-rwxrwxrwx 1 brandon brandon  12K Jul 13  2016 C33P1thinF_IMG_20150619_120804a_cell_3.png',\n",
       " '-rwxrwxrwx 1 brandon brandon  12K Jul 13  2016 C33P1thinF_IMG_20150619_120804a_cell_74.png',\n",
       " '-rwxrwxrwx 1 brandon brandon  11K Jul 13  2016 C33P1thinF_IMG_20150619_120804a_cell_73.png',\n",
       " '-rwxrwxrwx 1 brandon brandon  11K Jul 13  2016 C33P1thinF_IMG_20150619_120804a_cell_65.png',\n",
       " '-rwxrwxrwx 1 brandon brandon 9.4K Jul 13  2016 C33P1thinF_IMG_20150619_120804a_cell_55.png',\n",
       " '-rwxrwxrwx 1 brandon brandon  11K Jul 13  2016 C33P1thinF_IMG_20150619_120804a_cell_166.png',\n",
       " '-rwxrwxrwx 1 brandon brandon 8.7K Jul 13  2016 C133P94ThinF_IMG_20151004_154717_cell_5.png',\n",
       " '-rwxrwxrwx 1 brandon brandon 7.3K Jul 13  2016 C133P94ThinF_IMG_20151004_154717_cell_43.png',\n",
       " '-rwxrwxrwx 1 brandon brandon 9.0K Jul 13  2016 C133P94ThinF_IMG_20151004_154717_cell_25.png',\n",
       " '-rwxrwxrwx 1 brandon brandon 9.1K Jul 13  2016 C133P94ThinF_IMG_20151004_154717_cell_90.png',\n",
       " '-rwxrwxrwx 1 brandon brandon  14K Jul 13  2016 C133P94ThinF_IMG_20151004_154717_cell_75.png',\n",
       " '-rwxrwxrwx 1 brandon brandon 8.3K Jul 13  2016 C133P94ThinF_IMG_20151004_154717_cell_57.png',\n",
       " '-rwxrwxrwx 1 brandon brandon 8.6K Jul 13  2016 C72P33_ThinF_IMG_20150815_104923_cell_27.png',\n",
       " '-rwxrwxrwx 1 brandon brandon  13K Jul 13  2016 C72P33_ThinF_IMG_20150815_104923_cell_94.png',\n",
       " '-rwxrwxrwx 1 brandon brandon  11K Jul 13  2016 C72P33_ThinF_IMG_20150815_104923_cell_216.png',\n",
       " '-rwxrwxrwx 1 brandon brandon 8.9K Jul 13  2016 C72P33_ThinF_IMG_20150815_104923_cell_208.png',\n",
       " '-rwxrwxrwx 1 brandon brandon 9.6K Jul 13  2016 C72P33_ThinF_IMG_20150815_104923_cell_202.png',\n",
       " '-rwxrwxrwx 1 brandon brandon 6.5K Jul 13  2016 C72P33_ThinF_IMG_20150815_104923_cell_199.png',\n",
       " '-rwxrwxrwx 1 brandon brandon 7.9K Jul 13  2016 C72P33_ThinF_IMG_20150815_104923_cell_178.png',\n",
       " '-rwxrwxrwx 1 brandon brandon  11K Jul 13  2016 C72P33_ThinF_IMG_20150815_104923_cell_170.png',\n",
       " '-rwxrwxrwx 1 brandon brandon 8.4K Jul 13  2016 C72P33_ThinF_IMG_20150815_104923_cell_166.png',\n",
       " '-rwxrwxrwx 1 brandon brandon  12K Jul 13  2016 C72P33_ThinF_IMG_20150815_104923_cell_156.png',\n",
       " '-rwxrwxrwx 1 brandon brandon 8.1K Jul 13  2016 C72P33_ThinF_IMG_20150815_104923_cell_110.png',\n",
       " '-rwxrwxrwx 1 brandon brandon  12K Jul 13  2016 C72P33_ThinF_IMG_20150815_104923_cell_229.png',\n",
       " '-rwxrwxrwx 1 brandon brandon 9.4K Jul 13  2016 C33P1thinF_IMG_20150619_120838a_cell_94.png',\n",
       " '-rwxrwxrwx 1 brandon brandon 9.3K Jul 13  2016 C33P1thinF_IMG_20150619_120838a_cell_91.png',\n",
       " '-rwxrwxrwx 1 brandon brandon 7.2K Jul 13  2016 C33P1thinF_IMG_20150619_120838a_cell_42.png',\n",
       " '-rwxrwxrwx 1 brandon brandon  14K Jul 13  2016 C33P1thinF_IMG_20150619_120838a_cell_28.png',\n",
       " '-rwxrwxrwx 1 brandon brandon  13K Jul 13  2016 C33P1thinF_IMG_20150619_120838a_cell_105.png',\n",
       " '-rwxrwxrwx 1 brandon brandon  13K Jul 13  2016 C33P1thinF_IMG_20150619_120838a_cell_134.png',\n",
       " '-rwxrwxrwx 1 brandon brandon  13K Jul 13  2016 C99P60ThinF_IMG_20150918_141351_cell_26.png',\n",
       " '-rwxrwxrwx 1 brandon brandon 5.2K Jul 13  2016 C99P60ThinF_IMG_20150918_141351_cell_22.png',\n",
       " '-rwxrwxrwx 1 brandon brandon  11K Jul 13  2016 C99P60ThinF_IMG_20150918_141351_cell_92.png',\n",
       " '-rwxrwxrwx 1 brandon brandon 5.6K Jul 13  2016 C99P60ThinF_IMG_20150918_141351_cell_83.png',\n",
       " '-rwxrwxrwx 1 brandon brandon  13K Jul 13  2016 C99P60ThinF_IMG_20150918_141351_cell_75.png',\n",
       " '-rwxrwxrwx 1 brandon brandon  14K Jul 13  2016 C99P60ThinF_IMG_20150918_141351_cell_56.png',\n",
       " '-rwxrwxrwx 1 brandon brandon  12K Jul 13  2016 C99P60ThinF_IMG_20150918_141351_cell_53.png',\n",
       " '-rwxrwxrwx 1 brandon brandon  12K Jul 13  2016 C33P1thinF_IMG_20150619_121102a_cell_7.png',\n",
       " '-rwxrwxrwx 1 brandon brandon  11K Jul 13  2016 C33P1thinF_IMG_20150619_121102a_cell_62.png',\n",
       " '-rwxrwxrwx 1 brandon brandon  12K Jul 13  2016 C33P1thinF_IMG_20150619_121102a_cell_60.png',\n",
       " '-rwxrwxrwx 1 brandon brandon  14K Jul 13  2016 C33P1thinF_IMG_20150619_121102a_cell_176.png',\n",
       " '-rwxrwxrwx 1 brandon brandon  15K Jul 13  2016 C33P1thinF_IMG_20150619_121102a_cell_159.png',\n",
       " '-rwxrwxrwx 1 brandon brandon  12K Jul 13  2016 C33P1thinF_IMG_20150619_121102a_cell_156.png',\n",
       " '-rwxrwxrwx 1 brandon brandon 9.0K Jul 13  2016 C133P94ThinF_IMG_20151004_154919_cell_68.png',\n",
       " '-rwxrwxrwx 1 brandon brandon 6.9K Jul 13  2016 C133P94ThinF_IMG_20151004_154919_cell_60.png',\n",
       " '-rwxrwxrwx 1 brandon brandon 6.5K Jul 13  2016 C133P94ThinF_IMG_20151004_154919_cell_57.png',\n",
       " '-rwxrwxrwx 1 brandon brandon  12K Jul 13  2016 C133P94ThinF_IMG_20151004_154919_cell_4.png',\n",
       " '-rwxrwxrwx 1 brandon brandon 8.4K Jul 13  2016 C133P94ThinF_IMG_20151004_154919_cell_30.png',\n",
       " '-rwxrwxrwx 1 brandon brandon  11K Jul 13  2016 C133P94ThinF_IMG_20151004_154919_cell_27.png',\n",
       " '-rwxrwxrwx 1 brandon brandon  12K Jul 13  2016 C133P94ThinF_IMG_20151004_154919_cell_25.png',\n",
       " '-rwxrwxrwx 1 brandon brandon  12K Jul 13  2016 C133P94ThinF_IMG_20151004_154919_cell_1.png',\n",
       " '-rwxrwxrwx 1 brandon brandon 8.2K Jul 13  2016 C72P33_ThinF_IMG_20150815_105033_cell_93.png',\n",
       " '-rwxrwxrwx 1 brandon brandon 6.6K Jul 13  2016 C72P33_ThinF_IMG_20150815_105033_cell_4.png',\n",
       " '-rwxrwxrwx 1 brandon brandon  12K Jul 13  2016 C72P33_ThinF_IMG_20150815_105033_cell_39.png',\n",
       " '-rwxrwxrwx 1 brandon brandon  11K Jul 13  2016 C72P33_ThinF_IMG_20150815_105033_cell_30.png',\n",
       " '-rwxrwxrwx 1 brandon brandon  12K Jul 13  2016 C72P33_ThinF_IMG_20150815_105033_cell_101.png',\n",
       " '-rwxrwxrwx 1 brandon brandon 8.6K Jul 13  2016 C72P33_ThinF_IMG_20150815_105033_cell_175.png',\n",
       " '-rwxrwxrwx 1 brandon brandon 9.8K Jul 13  2016 C72P33_ThinF_IMG_20150815_105033_cell_157.png',\n",
       " '-rwxrwxrwx 1 brandon brandon 8.9K Jul 13  2016 C72P33_ThinF_IMG_20150815_105033_cell_151.png',\n",
       " '-rwxrwxrwx 1 brandon brandon  11K Jul 13  2016 C72P33_ThinF_IMG_20150815_105033_cell_140.png',\n",
       " '-rwxrwxrwx 1 brandon brandon 9.2K Jul 13  2016 C72P33_ThinF_IMG_20150815_105033_cell_136.png',\n",
       " '-rwxrwxrwx 1 brandon brandon  12K Jul 13  2016 C72P33_ThinF_IMG_20150815_105033_cell_133.png',\n",
       " '-rwxrwxrwx 1 brandon brandon 8.9K Jul 13  2016 C72P33_ThinF_IMG_20150815_105033_cell_115.png',\n",
       " '-rwxrwxrwx 1 brandon brandon  13K Jul 13  2016 C99P60ThinF_IMG_20150918_141520_cell_9.png',\n",
       " '-rwxrwxrwx 1 brandon brandon  14K Jul 13  2016 C99P60ThinF_IMG_20150918_141520_cell_1.png',\n",
       " '-rwxrwxrwx 1 brandon brandon  14K Jul 13  2016 C99P60ThinF_IMG_20150918_141520_cell_22.png',\n",
       " '-rwxrwxrwx 1 brandon brandon 8.8K Jul 13  2016 C99P60ThinF_IMG_20150918_141520_cell_17.png',\n",
       " '-rwxrwxrwx 1 brandon brandon  12K Jul 13  2016 C99P60ThinF_IMG_20150918_141520_cell_16.png',\n",
       " '-rwxrwxrwx 1 brandon brandon  15K Jul 13  2016 C99P60ThinF_IMG_20150918_141520_cell_73.png',\n",
       " '-rwxrwxrwx 1 brandon brandon  13K Jul 13  2016 C99P60ThinF_IMG_20150918_141520_cell_64.png',\n",
       " '-rwxrwxrwx 1 brandon brandon  14K Jul 13  2016 C99P60ThinF_IMG_20150918_141520_cell_45.png',\n",
       " '-rwxrwxrwx 1 brandon brandon 9.9K Jul 13  2016 C99P60ThinF_IMG_20150918_141520_cell_42.png',\n",
       " '-rwxrwxrwx 1 brandon brandon  14K Jul 13  2016 C99P60ThinF_IMG_20150918_141520_cell_38.png',\n",
       " '-rwxrwxrwx 1 brandon brandon  12K Jul 13  2016 C99P60ThinF_IMG_20150918_141520_cell_31.png',\n",
       " '-rwxrwxrwx 1 brandon brandon  11K Jul 13  2016 C33P1thinF_IMG_20150619_121229a_cell_97.png',\n",
       " '-rwxrwxrwx 1 brandon brandon 5.7K Jul 13  2016 C33P1thinF_IMG_20150619_121229a_cell_46.png',\n",
       " '-rwxrwxrwx 1 brandon brandon  13K Jul 13  2016 C33P1thinF_IMG_20150619_121229a_cell_42.png',\n",
       " '-rwxrwxrwx 1 brandon brandon  12K Jul 13  2016 C33P1thinF_IMG_20150619_121229a_cell_144.png',\n",
       " '-rwxrwxrwx 1 brandon brandon  14K Jul 13  2016 C33P1thinF_IMG_20150619_121229a_cell_127.png',\n",
       " '-rwxrwxrwx 1 brandon brandon 8.7K Jul 13  2016 C33P1thinF_IMG_20150619_121229a_cell_120.png',\n",
       " '-rwxrwxrwx 1 brandon brandon  12K Jul 13  2016 C33P1thinF_IMG_20150619_121300a_cell_46.png',\n",
       " '-rwxrwxrwx 1 brandon brandon  12K Jul 13  2016 C33P1thinF_IMG_20150619_121300a_cell_29.png',\n",
       " '-rwxrwxrwx 1 brandon brandon 8.9K Jul 13  2016 C33P1thinF_IMG_20150619_121300a_cell_67.png',\n",
       " '-rwxrwxrwx 1 brandon brandon  14K Jul 13  2016 C33P1thinF_IMG_20150619_121300a_cell_151.png',\n",
       " '-rwxrwxrwx 1 brandon brandon  14K Jul 13  2016 C33P1thinF_IMG_20150619_121300a_cell_135.png',\n",
       " '-rwxrwxrwx 1 brandon brandon 8.7K Jul 13  2016 C33P1thinF_IMG_20150619_121300a_cell_129.png',\n",
       " '-rwxrwxrwx 1 brandon brandon 9.0K Jul 13  2016 C72P33_ThinF_IMG_20150815_105823_cell_87.png',\n",
       " '-rwxrwxrwx 1 brandon brandon 8.1K Jul 13  2016 C72P33_ThinF_IMG_20150815_105823_cell_5.png',\n",
       " '-rwxrwxrwx 1 brandon brandon  14K Jul 13  2016 C72P33_ThinF_IMG_20150815_105823_cell_40.png',\n",
       " '-rwxrwxrwx 1 brandon brandon 8.5K Jul 13  2016 C72P33_ThinF_IMG_20150815_105823_cell_35.png',\n",
       " '-rwxrwxrwx 1 brandon brandon  10K Jul 13  2016 C72P33_ThinF_IMG_20150815_105823_cell_23.png',\n",
       " '-rwxrwxrwx 1 brandon brandon 9.7K Jul 13  2016 C72P33_ThinF_IMG_20150815_105823_cell_137.png',\n",
       " '-rwxrwxrwx 1 brandon brandon 7.7K Jul 13  2016 C72P33_ThinF_IMG_20150815_105823_cell_127.png',\n",
       " '-rwxrwxrwx 1 brandon brandon 9.6K Jul 13  2016 C72P33_ThinF_IMG_20150815_105823_cell_113.png',\n",
       " '-rwxrwxrwx 1 brandon brandon  12K Jul 13  2016 C72P33_ThinF_IMG_20150815_105823_cell_110.png',\n",
       " '-rwxrwxrwx 1 brandon brandon  14K Jul 13  2016 C72P33_ThinF_IMG_20150815_105823_cell_223.png',\n",
       " '-rwxrwxrwx 1 brandon brandon  12K Jul 13  2016 C72P33_ThinF_IMG_20150815_105823_cell_175.png',\n",
       " '-rwxrwxrwx 1 brandon brandon  12K Jul 13  2016 C72P33_ThinF_IMG_20150815_105823_cell_155.png',\n",
       " '-rwxrwxrwx 1 brandon brandon  12K Jul 13  2016 C33P1thinF_IMG_20150619_121411a_cell_79.png',\n",
       " '-rwxrwxrwx 1 brandon brandon  11K Jul 13  2016 C33P1thinF_IMG_20150619_121411a_cell_78.png',\n",
       " '-rwxrwxrwx 1 brandon brandon  14K Jul 13  2016 C33P1thinF_IMG_20150619_121411a_cell_43.png',\n",
       " '-rwxrwxrwx 1 brandon brandon  13K Jul 13  2016 C33P1thinF_IMG_20150619_121411a_cell_139.png',\n",
       " '-rwxrwxrwx 1 brandon brandon  12K Jul 13  2016 C33P1thinF_IMG_20150619_121411a_cell_114.png',\n",
       " '-rwxrwxrwx 1 brandon brandon  18K Jul 13  2016 C33P1thinF_IMG_20150619_121411a_cell_102.png',\n",
       " '-rwxrwxrwx 1 brandon brandon 7.2K Jul 13  2016 C133P94ThinF_IMG_20151004_155144_cell_23.png',\n",
       " '-rwxrwxrwx 1 brandon brandon  11K Jul 13  2016 C133P94ThinF_IMG_20151004_155144_cell_86.png',\n",
       " '-rwxrwxrwx 1 brandon brandon 9.2K Jul 13  2016 C133P94ThinF_IMG_20151004_155144_cell_74.png',\n",
       " '-rwxrwxrwx 1 brandon brandon  12K Jul 13  2016 C133P94ThinF_IMG_20151004_155144_cell_37.png',\n",
       " '-rwxrwxrwx 1 brandon brandon 8.8K Jul 13  2016 C133P94ThinF_IMG_20151004_155144_cell_112.png',\n",
       " '-rwxrwxrwx 1 brandon brandon 6.7K Jul 13  2016 C133P94ThinF_IMG_20151004_155144_cell_101.png',\n",
       " '-rwxrwxrwx 1 brandon brandon  11K Jul 13  2016 C33P1thinF_IMG_20150619_121435a_cell_98.png',\n",
       " '-rwxrwxrwx 1 brandon brandon  12K Jul 13  2016 C33P1thinF_IMG_20150619_121435a_cell_41.png',\n",
       " '-rwxrwxrwx 1 brandon brandon 8.9K Jul 13  2016 C33P1thinF_IMG_20150619_121435a_cell_35.png',\n",
       " '-rwxrwxrwx 1 brandon brandon  10K Jul 13  2016 C33P1thinF_IMG_20150619_121435a_cell_147.png',\n",
       " '-rwxrwxrwx 1 brandon brandon  12K Jul 13  2016 C33P1thinF_IMG_20150619_121435a_cell_138.png',\n",
       " '-rwxrwxrwx 1 brandon brandon  11K Jul 13  2016 C73P34_ThinF_IMG_20150815_111114_cell_25.png',\n",
       " '-rwxrwxrwx 1 brandon brandon  11K Jul 13  2016 C73P34_ThinF_IMG_20150815_111114_cell_97.png',\n",
       " '-rwxrwxrwx 1 brandon brandon  12K Jul 13  2016 C73P34_ThinF_IMG_20150815_111114_cell_78.png',\n",
       " '-rwxrwxrwx 1 brandon brandon  14K Jul 13  2016 C73P34_ThinF_IMG_20150815_111114_cell_77.png',\n",
       " '-rwxrwxrwx 1 brandon brandon  11K Jul 13  2016 C73P34_ThinF_IMG_20150815_111114_cell_60.png',\n",
       " '-rwxrwxrwx 1 brandon brandon  10K Jul 13  2016 C73P34_ThinF_IMG_20150815_111114_cell_41.png',\n",
       " '-rwxrwxrwx 1 brandon brandon  13K Jul 13  2016 C73P34_ThinF_IMG_20150815_111114_cell_145.png',\n",
       " '-rwxrwxrwx 1 brandon brandon  13K Jul 13  2016 C73P34_ThinF_IMG_20150815_111114_cell_144.png',\n",
       " '-rwxrwxrwx 1 brandon brandon  12K Jul 13  2016 C73P34_ThinF_IMG_20150815_111114_cell_100.png',\n",
       " '-rwxrwxrwx 1 brandon brandon 8.3K Jul 13  2016 C73P34_ThinF_IMG_20150815_111114_cell_203.png',\n",
       " '-rwxrwxrwx 1 brandon brandon 9.6K Jul 13  2016 C73P34_ThinF_IMG_20150815_111114_cell_199.png',\n",
       " '-rwxrwxrwx 1 brandon brandon 8.2K Jul 13  2016 C73P34_ThinF_IMG_20150815_111114_cell_196.png',\n",
       " '-rwxrwxrwx 1 brandon brandon 8.0K Jul 13  2016 C133P94ThinF_IMG_20151004_155331_cell_27.png',\n",
       " '-rwxrwxrwx 1 brandon brandon 7.7K Jul 13  2016 C133P94ThinF_IMG_20151004_155331_cell_21.png',\n",
       " '-rwxrwxrwx 1 brandon brandon  13K Jul 13  2016 C133P94ThinF_IMG_20151004_155331_cell_65.png',\n",
       " '-rwxrwxrwx 1 brandon brandon  10K Jul 13  2016 C133P94ThinF_IMG_20151004_155331_cell_61.png',\n",
       " '-rwxrwxrwx 1 brandon brandon  12K Jul 13  2016 C133P94ThinF_IMG_20151004_155331_cell_53.png',\n",
       " '-rwxrwxrwx 1 brandon brandon  13K Jul 13  2016 C133P94ThinF_IMG_20151004_155331_cell_50.png',\n",
       " '-rwxrwxrwx 1 brandon brandon  11K Jul 13  2016 C33P1thinF_IMG_20150619_121503a_cell_99.png',\n",
       " '-rwxrwxrwx 1 brandon brandon  13K Jul 13  2016 C33P1thinF_IMG_20150619_121503a_cell_76.png',\n",
       " '-rwxrwxrwx 1 brandon brandon 9.7K Jul 13  2016 C33P1thinF_IMG_20150619_121503a_cell_73.png',\n",
       " '-rwxrwxrwx 1 brandon brandon  13K Jul 13  2016 C33P1thinF_IMG_20150619_121503a_cell_72.png',\n",
       " '-rwxrwxrwx 1 brandon brandon  13K Jul 13  2016 C33P1thinF_IMG_20150619_121503a_cell_143.png',\n",
       " '-rwxrwxrwx 1 brandon brandon  12K Jul 13  2016 C33P1thinF_IMG_20150619_121503a_cell_105.png',\n",
       " '-rwxrwxrwx 1 brandon brandon  16K Jul 13  2016 C99P60ThinF_IMG_20150918_142128_cell_56.png',\n",
       " '-rwxrwxrwx 1 brandon brandon  15K Jul 13  2016 C99P60ThinF_IMG_20150918_142128_cell_55.png',\n",
       " '-rwxrwxrwx 1 brandon brandon  13K Jul 13  2016 C99P60ThinF_IMG_20150918_142128_cell_53.png',\n",
       " '-rwxrwxrwx 1 brandon brandon 9.8K Jul 13  2016 C99P60ThinF_IMG_20150918_142128_cell_52.png',\n",
       " '-rwxrwxrwx 1 brandon brandon  11K Jul 13  2016 C99P60ThinF_IMG_20150918_142128_cell_47.png',\n",
       " '-rwxrwxrwx 1 brandon brandon  13K Jul 13  2016 C99P60ThinF_IMG_20150918_142128_cell_45.png',\n",
       " '-rwxrwxrwx 1 brandon brandon  13K Jul 13  2016 C99P60ThinF_IMG_20150918_142128_cell_3.png',\n",
       " '-rwxrwxrwx 1 brandon brandon  11K Jul 13  2016 C99P60ThinF_IMG_20150918_142128_cell_15.png',\n",
       " '-rwxrwxrwx 1 brandon brandon  12K Jul 13  2016 C99P60ThinF_IMG_20150918_142128_cell_14.png',\n",
       " '-rwxrwxrwx 1 brandon brandon  14K Jul 13  2016 C99P60ThinF_IMG_20150918_142128_cell_11.png',\n",
       " '-rwxrwxrwx 1 brandon brandon  19K Jul 13  2016 C37BP2_thinF_IMG_20150620_131423a_cell_87.png',\n",
       " '-rwxrwxrwx 1 brandon brandon  12K Jul 13  2016 C37BP2_thinF_IMG_20150620_131423a_cell_67.png',\n",
       " '-rwxrwxrwx 1 brandon brandon  12K Jul 13  2016 C37BP2_thinF_IMG_20150620_131423a_cell_63.png',\n",
       " '-rwxrwxrwx 1 brandon brandon  14K Jul 13  2016 C37BP2_thinF_IMG_20150620_131423a_cell_51.png',\n",
       " '-rwxrwxrwx 1 brandon brandon  17K Jul 13  2016 C37BP2_thinF_IMG_20150620_131423a_cell_47.png',\n",
       " '-rwxrwxrwx 1 brandon brandon  16K Jul 13  2016 C37BP2_thinF_IMG_20150620_131423a_cell_41.png',\n",
       " '-rwxrwxrwx 1 brandon brandon  16K Jul 13  2016 C37BP2_thinF_IMG_20150620_131423a_cell_38.png',\n",
       " '-rwxrwxrwx 1 brandon brandon  14K Jul 13  2016 C37BP2_thinF_IMG_20150620_131423a_cell_16.png',\n",
       " '-rwxrwxrwx 1 brandon brandon  17K Jul 13  2016 C37BP2_thinF_IMG_20150620_131423a_cell_10.png',\n",
       " '-rwxrwxrwx 1 brandon brandon 7.6K Jul 13  2016 C73P34_ThinF_IMG_20150815_111302_cell_84.png',\n",
       " '-rwxrwxrwx 1 brandon brandon 8.7K Jul 13  2016 C73P34_ThinF_IMG_20150815_111302_cell_8.png',\n",
       " '-rwxrwxrwx 1 brandon brandon  11K Jul 13  2016 C73P34_ThinF_IMG_20150815_111302_cell_79.png',\n",
       " '-rwxrwxrwx 1 brandon brandon 7.8K Jul 13  2016 C73P34_ThinF_IMG_20150815_111302_cell_72.png',\n",
       " '-rwxrwxrwx 1 brandon brandon 9.2K Jul 13  2016 C73P34_ThinF_IMG_20150815_111302_cell_6.png',\n",
       " '-rwxrwxrwx 1 brandon brandon 9.8K Jul 13  2016 C73P34_ThinF_IMG_20150815_111302_cell_30.png',\n",
       " '-rwxrwxrwx 1 brandon brandon  11K Jul 13  2016 C73P34_ThinF_IMG_20150815_111302_cell_19.png',\n",
       " '-rwxrwxrwx 1 brandon brandon  11K Jul 13  2016 C73P34_ThinF_IMG_20150815_111302_cell_98.png',\n",
       " '-rwxrwxrwx 1 brandon brandon 8.6K Jul 13  2016 C73P34_ThinF_IMG_20150815_111302_cell_95.png',\n",
       " '-rwxrwxrwx 1 brandon brandon  11K Jul 13  2016 C73P34_ThinF_IMG_20150815_111302_cell_135.png',\n",
       " '-rwxrwxrwx 1 brandon brandon 9.5K Jul 13  2016 C73P34_ThinF_IMG_20150815_111302_cell_127.png',\n",
       " '-rwxrwxrwx 1 brandon brandon 7.4K Jul 13  2016 C73P34_ThinF_IMG_20150815_111302_cell_100.png',\n",
       " '-rwxrwxrwx 1 brandon brandon 9.4K Jul 13  2016 C133P94ThinF_IMG_20151004_155518_cell_86.png',\n",
       " '-rwxrwxrwx 1 brandon brandon 9.7K Jul 13  2016 C133P94ThinF_IMG_20151004_155518_cell_85.png',\n",
       " '-rwxrwxrwx 1 brandon brandon 8.0K Jul 13  2016 C133P94ThinF_IMG_20151004_155518_cell_83.png',\n",
       " '-rwxrwxrwx 1 brandon brandon  11K Jul 13  2016 C133P94ThinF_IMG_20151004_155518_cell_52.png',\n",
       " '-rwxrwxrwx 1 brandon brandon 8.9K Jul 13  2016 C133P94ThinF_IMG_20151004_155518_cell_14.png',\n",
       " '-rwxrwxrwx 1 brandon brandon 9.0K Jul 13  2016 C133P94ThinF_IMG_20151004_155518_cell_92.png',\n",
       " '-rwxrwxrwx 1 brandon brandon  13K Jul 13  2016 C37BP2_thinF_IMG_20150620_132440a_cell_1.png',\n",
       " '-rwxrwxrwx 1 brandon brandon  14K Jul 13  2016 C37BP2_thinF_IMG_20150620_132440a_cell_89.png',\n",
       " '-rwxrwxrwx 1 brandon brandon  14K Jul 13  2016 C37BP2_thinF_IMG_20150620_132440a_cell_82.png',\n",
       " '-rwxrwxrwx 1 brandon brandon  17K Jul 13  2016 C37BP2_thinF_IMG_20150620_132440a_cell_62.png',\n",
       " '-rwxrwxrwx 1 brandon brandon  12K Jul 13  2016 C37BP2_thinF_IMG_20150620_132440a_cell_61.png',\n",
       " '-rwxrwxrwx 1 brandon brandon  14K Jul 13  2016 C37BP2_thinF_IMG_20150620_132440a_cell_54.png',\n",
       " '-rwxrwxrwx 1 brandon brandon  15K Jul 13  2016 C37BP2_thinF_IMG_20150620_132440a_cell_50.png',\n",
       " '-rwxrwxrwx 1 brandon brandon  12K Jul 13  2016 C37BP2_thinF_IMG_20150620_132440a_cell_44.png',\n",
       " '-rwxrwxrwx 1 brandon brandon  12K Jul 13  2016 C37BP2_thinF_IMG_20150620_132440a_cell_41.png',\n",
       " '-rwxrwxrwx 1 brandon brandon  15K Jul 13  2016 C37BP2_thinF_IMG_20150620_132440a_cell_25.png',\n",
       " '-rwxrwxrwx 1 brandon brandon  16K Jul 13  2016 C37BP2_thinF_IMG_20150620_132847a_cell_7.png',\n",
       " '-rwxrwxrwx 1 brandon brandon  12K Jul 13  2016 C37BP2_thinF_IMG_20150620_132847a_cell_38.png',\n",
       " '-rwxrwxrwx 1 brandon brandon  17K Jul 13  2016 C37BP2_thinF_IMG_20150620_132847a_cell_37.png',\n",
       " '-rwxrwxrwx 1 brandon brandon  13K Jul 13  2016 C37BP2_thinF_IMG_20150620_132847a_cell_18.png',\n",
       " '-rwxrwxrwx 1 brandon brandon  17K Jul 13  2016 C37BP2_thinF_IMG_20150620_132847a_cell_1.png',\n",
       " '-rwxrwxrwx 1 brandon brandon 9.8K Jul 13  2016 C133P94ThinF_IMG_20151004_155721_cell_96.png',\n",
       " '-rwxrwxrwx 1 brandon brandon  13K Jul 13  2016 C133P94ThinF_IMG_20151004_155721_cell_73.png',\n",
       " '-rwxrwxrwx 1 brandon brandon 9.5K Jul 13  2016 C133P94ThinF_IMG_20151004_155721_cell_53.png',\n",
       " '-rwxrwxrwx 1 brandon brandon 9.4K Jul 13  2016 C133P94ThinF_IMG_20151004_155721_cell_49.png',\n",
       " '-rwxrwxrwx 1 brandon brandon  14K Jul 13  2016 C133P94ThinF_IMG_20151004_155721_cell_21.png',\n",
       " '-rwxrwxrwx 1 brandon brandon  11K Jul 13  2016 C73P34_ThinF_IMG_20150815_111422_cell_15.png',\n",
       " '-rwxrwxrwx 1 brandon brandon  10K Jul 13  2016 C73P34_ThinF_IMG_20150815_111422_cell_13.png',\n",
       " '-rwxrwxrwx 1 brandon brandon 8.8K Jul 13  2016 C73P34_ThinF_IMG_20150815_111422_cell_12.png',\n",
       " '-rwxrwxrwx 1 brandon brandon  12K Jul 13  2016 C37BP2_thinF_IMG_20150620_132847a_cell_75.png',\n",
       " '-rwxrwxrwx 1 brandon brandon  23K Jul 13  2016 C37BP2_thinF_IMG_20150620_132847a_cell_60.png',\n",
       " '-rwxrwxrwx 1 brandon brandon  13K Jul 13  2016 C37BP2_thinF_IMG_20150620_132847a_cell_51.png',\n",
       " '-rwxrwxrwx 1 brandon brandon  14K Jul 13  2016 C37BP2_thinF_IMG_20150620_132847a_cell_50.png',\n",
       " '-rwxrwxrwx 1 brandon brandon  15K Jul 13  2016 C37BP2_thinF_IMG_20150620_132847a_cell_42.png',\n",
       " '-rwxrwxrwx 1 brandon brandon 7.7K Jul 13  2016 C133P94ThinF_IMG_20151004_155721_cell_107.png',\n",
       " '-rwxrwxrwx 1 brandon brandon 9.3K Jul 13  2016 C133P94ThinF_IMG_20151004_155721_cell_103.png',\n",
       " '-rwxrwxrwx 1 brandon brandon  12K Jul 13  2016 C73P34_ThinF_IMG_20150815_111422_cell_91.png',\n",
       " '-rwxrwxrwx 1 brandon brandon 9.0K Jul 13  2016 C73P34_ThinF_IMG_20150815_111422_cell_63.png',\n",
       " '-rwxrwxrwx 1 brandon brandon  13K Jul 13  2016 C73P34_ThinF_IMG_20150815_111422_cell_51.png',\n",
       " '-rwxrwxrwx 1 brandon brandon  12K Jul 13  2016 C73P34_ThinF_IMG_20150815_111422_cell_22.png',\n",
       " '-rwxrwxrwx 1 brandon brandon  12K Jul 13  2016 C73P34_ThinF_IMG_20150815_111422_cell_134.png',\n",
       " '-rwxrwxrwx 1 brandon brandon  11K Jul 13  2016 C73P34_ThinF_IMG_20150815_111422_cell_126.png',\n",
       " '-rwxrwxrwx 1 brandon brandon  12K Jul 13  2016 C73P34_ThinF_IMG_20150815_111422_cell_175.png',\n",
       " '-rwxrwxrwx 1 brandon brandon 9.6K Jul 13  2016 C73P34_ThinF_IMG_20150815_111422_cell_163.png',\n",
       " '-rwxrwxrwx 1 brandon brandon 9.4K Jul 13  2016 C73P34_ThinF_IMG_20150815_111422_cell_157.png',\n",
       " '-rwxrwxrwx 1 brandon brandon  11K Jul 13  2016 C37BP2_thinF_IMG_20150620_133001a_cell_7.png',\n",
       " '-rwxrwxrwx 1 brandon brandon  15K Jul 13  2016 C37BP2_thinF_IMG_20150620_133001a_cell_68.png',\n",
       " '-rwxrwxrwx 1 brandon brandon  16K Jul 13  2016 C37BP2_thinF_IMG_20150620_133001a_cell_67.png',\n",
       " '-rwxrwxrwx 1 brandon brandon  14K Jul 13  2016 C37BP2_thinF_IMG_20150620_133001a_cell_66.png',\n",
       " '-rwxrwxrwx 1 brandon brandon  17K Jul 13  2016 C37BP2_thinF_IMG_20150620_133001a_cell_64.png',\n",
       " '-rwxrwxrwx 1 brandon brandon  14K Jul 13  2016 C37BP2_thinF_IMG_20150620_133001a_cell_45.png',\n",
       " '-rwxrwxrwx 1 brandon brandon  14K Jul 13  2016 C37BP2_thinF_IMG_20150620_133001a_cell_44.png',\n",
       " '-rwxrwxrwx 1 brandon brandon  16K Jul 13  2016 C37BP2_thinF_IMG_20150620_133001a_cell_20.png',\n",
       " '-rwxrwxrwx 1 brandon brandon  15K Jul 13  2016 C37BP2_thinF_IMG_20150620_133001a_cell_2.png',\n",
       " '-rwxrwxrwx 1 brandon brandon  13K Jul 13  2016 C37BP2_thinF_IMG_20150620_133001a_cell_12.png',\n",
       " '-rwxrwxrwx 1 brandon brandon 9.7K Jul 13  2016 C100P61ThinF_IMG_20150918_144104_cell_65.png',\n",
       " '-rwxrwxrwx 1 brandon brandon  11K Jul 13  2016 C100P61ThinF_IMG_20150918_144104_cell_48.png',\n",
       " '-rwxrwxrwx 1 brandon brandon 7.6K Jul 13  2016 C100P61ThinF_IMG_20150918_144104_cell_34.png',\n",
       " '-rwxrwxrwx 1 brandon brandon 9.5K Jul 13  2016 C100P61ThinF_IMG_20150918_144104_cell_25.png',\n",
       " '-rwxrwxrwx 1 brandon brandon 5.9K Jul 13  2016 C100P61ThinF_IMG_20150918_144104_cell_21.png',\n",
       " '-rwxrwxrwx 1 brandon brandon 9.8K Jul 13  2016 C100P61ThinF_IMG_20150918_144104_cell_144.png',\n",
       " '-rwxrwxrwx 1 brandon brandon  12K Jul 13  2016 C100P61ThinF_IMG_20150918_144104_cell_131.png',\n",
       " '-rwxrwxrwx 1 brandon brandon  11K Jul 13  2016 C100P61ThinF_IMG_20150918_144104_cell_128.png',\n",
       " '-rwxrwxrwx 1 brandon brandon  11K Jul 13  2016 C73P34_ThinF_IMG_20150815_111501_cell_81.png',\n",
       " '-rwxrwxrwx 1 brandon brandon  10K Jul 13  2016 C73P34_ThinF_IMG_20150815_111501_cell_72.png',\n",
       " '-rwxrwxrwx 1 brandon brandon 8.5K Jul 13  2016 C73P34_ThinF_IMG_20150815_111501_cell_66.png',\n",
       " '-rwxrwxrwx 1 brandon brandon 8.1K Jul 13  2016 C73P34_ThinF_IMG_20150815_111501_cell_58.png',\n",
       " '-rwxrwxrwx 1 brandon brandon 8.8K Jul 13  2016 C73P34_ThinF_IMG_20150815_111501_cell_54.png',\n",
       " '-rwxrwxrwx 1 brandon brandon 8.2K Jul 13  2016 C73P34_ThinF_IMG_20150815_111501_cell_34.png',\n",
       " '-rwxrwxrwx 1 brandon brandon  11K Jul 13  2016 C73P34_ThinF_IMG_20150815_111501_cell_19.png',\n",
       " '-rwxrwxrwx 1 brandon brandon  17K Jul 13  2016 C37BP2_thinF_IMG_20150620_133111a_cell_4.png',\n",
       " '-rwxrwxrwx 1 brandon brandon  11K Jul 13  2016 C73P34_ThinF_IMG_20150815_111501_cell_164.png',\n",
       " '-rwxrwxrwx 1 brandon brandon 9.2K Jul 13  2016 C73P34_ThinF_IMG_20150815_111501_cell_137.png',\n",
       " '-rwxrwxrwx 1 brandon brandon 8.6K Jul 13  2016 C73P34_ThinF_IMG_20150815_111501_cell_119.png',\n",
       " '-rwxrwxrwx 1 brandon brandon 8.2K Jul 13  2016 C73P34_ThinF_IMG_20150815_111501_cell_106.png',\n",
       " '-rwxrwxrwx 1 brandon brandon  15K Jul 13  2016 C37BP2_thinF_IMG_20150620_133111a_cell_81.png',\n",
       " '-rwxrwxrwx 1 brandon brandon  16K Jul 13  2016 C37BP2_thinF_IMG_20150620_133111a_cell_75.png',\n",
       " '-rwxrwxrwx 1 brandon brandon  16K Jul 13  2016 C37BP2_thinF_IMG_20150620_133111a_cell_69.png',\n",
       " '-rwxrwxrwx 1 brandon brandon  17K Jul 13  2016 C37BP2_thinF_IMG_20150620_133111a_cell_64.png',\n",
       " '-rwxrwxrwx 1 brandon brandon  14K Jul 13  2016 C37BP2_thinF_IMG_20150620_133111a_cell_59.png',\n",
       " '-rwxrwxrwx 1 brandon brandon  18K Jul 13  2016 C37BP2_thinF_IMG_20150620_133111a_cell_46.png',\n",
       " '-rwxrwxrwx 1 brandon brandon 9.8K Jul 13  2016 C37BP2_thinF_IMG_20150620_133111a_cell_40.png',\n",
       " '-rwxrwxrwx 1 brandon brandon  18K Jul 13  2016 C37BP2_thinF_IMG_20150620_133111a_cell_31.png',\n",
       " '-rwxrwxrwx 1 brandon brandon  15K Jul 13  2016 C37BP2_thinF_IMG_20150620_133111a_cell_16.png',\n",
       " '-rwxrwxrwx 1 brandon brandon 8.9K Jul 13  2016 C100P61ThinF_IMG_20150918_144348_cell_71.png',\n",
       " '-rwxrwxrwx 1 brandon brandon 8.9K Jul 13  2016 C100P61ThinF_IMG_20150918_144348_cell_40.png',\n",
       " '-rwxrwxrwx 1 brandon brandon 9.1K Jul 13  2016 C100P61ThinF_IMG_20150918_144348_cell_25.png',\n",
       " '-rwxrwxrwx 1 brandon brandon 8.5K Jul 13  2016 C100P61ThinF_IMG_20150918_144348_cell_2.png',\n",
       " '-rwxrwxrwx 1 brandon brandon 9.4K Jul 13  2016 C100P61ThinF_IMG_20150918_144348_cell_131.png',\n",
       " '-rwxrwxrwx 1 brandon brandon  11K Jul 13  2016 C100P61ThinF_IMG_20150918_144348_cell_125.png',\n",
       " '-rwxrwxrwx 1 brandon brandon  11K Jul 13  2016 C100P61ThinF_IMG_20150918_144348_cell_120.png',\n",
       " '-rwxrwxrwx 1 brandon brandon  12K Jul 13  2016 C100P61ThinF_IMG_20150918_144348_cell_108.png',\n",
       " '-rwxrwxrwx 1 brandon brandon  19K Jul 13  2016 C37BP2_thinF_IMG_20150620_133205a_cell_9.png',\n",
       " '-rwxrwxrwx 1 brandon brandon  16K Jul 13  2016 C37BP2_thinF_IMG_20150620_133205a_cell_63.png',\n",
       " '-rwxrwxrwx 1 brandon brandon  18K Jul 13  2016 C37BP2_thinF_IMG_20150620_133205a_cell_58.png',\n",
       " '-rwxrwxrwx 1 brandon brandon  13K Jul 13  2016 C37BP2_thinF_IMG_20150620_133205a_cell_41.png',\n",
       " '-rwxrwxrwx 1 brandon brandon  14K Jul 13  2016 C37BP2_thinF_IMG_20150620_133205a_cell_38.png',\n",
       " '-rwxrwxrwx 1 brandon brandon  14K Jul 13  2016 C37BP2_thinF_IMG_20150620_133205a_cell_18.png',\n",
       " '-rwxrwxrwx 1 brandon brandon  19K Jul 13  2016 C37BP2_thinF_IMG_20150620_133205a_cell_83.png',\n",
       " '-rwxrwxrwx 1 brandon brandon  15K Jul 13  2016 C37BP2_thinF_IMG_20150620_133205a_cell_74.png',\n",
       " '-rwxrwxrwx 1 brandon brandon  18K Jul 13  2016 C37BP2_thinF_IMG_20150620_133205a_cell_71.png',\n",
       " '-rwxrwxrwx 1 brandon brandon 6.9K Jul 13  2016 C134P95ThinF_IMG_20151005_121048_cell_9.png',\n",
       " '-rwxrwxrwx 1 brandon brandon  11K Jul 13  2016 C134P95ThinF_IMG_20151005_121048_cell_65.png',\n",
       " '-rwxrwxrwx 1 brandon brandon  11K Jul 13  2016 C134P95ThinF_IMG_20151005_121048_cell_28.png',\n",
       " '-rwxrwxrwx 1 brandon brandon 8.3K Jul 13  2016 C134P95ThinF_IMG_20151005_121048_cell_99.png',\n",
       " '-rwxrwxrwx 1 brandon brandon 7.8K Jul 13  2016 C134P95ThinF_IMG_20151005_121048_cell_95.png',\n",
       " '-rwxrwxrwx 1 brandon brandon 9.8K Jul 13  2016 C134P95ThinF_IMG_20151005_121048_cell_93.png',\n",
       " '-rwxrwxrwx 1 brandon brandon 7.3K Jul 13  2016 C134P95ThinF_IMG_20151005_121048_cell_109.png',\n",
       " '-rwxrwxrwx 1 brandon brandon 8.8K Jul 13  2016 C73P34_ThinF_IMG_20150815_111653_cell_90.png',\n",
       " '-rwxrwxrwx 1 brandon brandon 8.9K Jul 13  2016 C73P34_ThinF_IMG_20150815_111653_cell_84.png',\n",
       " '-rwxrwxrwx 1 brandon brandon 9.2K Jul 13  2016 C73P34_ThinF_IMG_20150815_111653_cell_80.png',\n",
       " '-rwxrwxrwx 1 brandon brandon 9.9K Jul 13  2016 C73P34_ThinF_IMG_20150815_111653_cell_56.png',\n",
       " '-rwxrwxrwx 1 brandon brandon 8.9K Jul 13  2016 C73P34_ThinF_IMG_20150815_111653_cell_53.png',\n",
       " '-rwxrwxrwx 1 brandon brandon 8.2K Jul 13  2016 C73P34_ThinF_IMG_20150815_111653_cell_36.png',\n",
       " '-rwxrwxrwx 1 brandon brandon 8.7K Jul 13  2016 C73P34_ThinF_IMG_20150815_111653_cell_32.png',\n",
       " '-rwxrwxrwx 1 brandon brandon 9.4K Jul 13  2016 C73P34_ThinF_IMG_20150815_111653_cell_24.png',\n",
       " '-rwxrwxrwx 1 brandon brandon 8.0K Jul 13  2016 C73P34_ThinF_IMG_20150815_111653_cell_20.png',\n",
       " '-rwxrwxrwx 1 brandon brandon 8.4K Jul 13  2016 C73P34_ThinF_IMG_20150815_111653_cell_166.png',\n",
       " '-rwxrwxrwx 1 brandon brandon 7.1K Jul 13  2016 C73P34_ThinF_IMG_20150815_111653_cell_137.png',\n",
       " '-rwxrwxrwx 1 brandon brandon  15K Jul 13  2016 C37BP2_thinF_IMG_20150620_133238a_cell_90.png',\n",
       " '-rwxrwxrwx 1 brandon brandon  15K Jul 13  2016 C37BP2_thinF_IMG_20150620_133238a_cell_83.png',\n",
       " '-rwxrwxrwx 1 brandon brandon  16K Jul 13  2016 C37BP2_thinF_IMG_20150620_133238a_cell_82.png',\n",
       " '-rwxrwxrwx 1 brandon brandon  14K Jul 13  2016 C37BP2_thinF_IMG_20150620_133238a_cell_64.png',\n",
       " '-rwxrwxrwx 1 brandon brandon  15K Jul 13  2016 C37BP2_thinF_IMG_20150620_133238a_cell_50.png',\n",
       " '-rwxrwxrwx 1 brandon brandon  12K Jul 13  2016 C37BP2_thinF_IMG_20150620_133238a_cell_44.png',\n",
       " '-rwxrwxrwx 1 brandon brandon  18K Jul 13  2016 C37BP2_thinF_IMG_20150620_133238a_cell_41.png',\n",
       " '-rwxrwxrwx 1 brandon brandon  17K Jul 13  2016 C37BP2_thinF_IMG_20150620_133238a_cell_36.png',\n",
       " '-rwxrwxrwx 1 brandon brandon  14K Jul 13  2016 C37BP2_thinF_IMG_20150620_133238a_cell_32.png',\n",
       " '-rwxrwxrwx 1 brandon brandon  11K Jul 13  2016 C37BP2_thinF_IMG_20150620_133238a_cell_22.png',\n",
       " '-rwxrwxrwx 1 brandon brandon 6.5K Jul 13  2016 C100P61ThinF_IMG_20150918_144823_cell_71.png',\n",
       " '-rwxrwxrwx 1 brandon brandon  12K Jul 13  2016 C100P61ThinF_IMG_20150918_144823_cell_34.png',\n",
       " '-rwxrwxrwx 1 brandon brandon 9.1K Jul 13  2016 C100P61ThinF_IMG_20150918_144823_cell_21.png',\n",
       " '-rwxrwxrwx 1 brandon brandon  14K Jul 13  2016 C100P61ThinF_IMG_20150918_144823_cell_127.png',\n",
       " '-rwxrwxrwx 1 brandon brandon  11K Jul 13  2016 C100P61ThinF_IMG_20150918_144823_cell_126.png',\n",
       " '-rwxrwxrwx 1 brandon brandon  11K Jul 13  2016 C100P61ThinF_IMG_20150918_144823_cell_151.png',\n",
       " '-rwxrwxrwx 1 brandon brandon  11K Jul 13  2016 C100P61ThinF_IMG_20150918_144823_cell_142.png',\n",
       " '-rwxrwxrwx 1 brandon brandon 8.6K Jul 13  2016 C100P61ThinF_IMG_20150918_144823_cell_139.png',\n",
       " '-rwxrwxrwx 1 brandon brandon 8.5K Jul 13  2016 C134P95ThinF_IMG_20151005_121343_cell_86.png',\n",
       " '-rwxrwxrwx 1 brandon brandon  11K Jul 13  2016 C134P95ThinF_IMG_20151005_121343_cell_83.png',\n",
       " '-rwxrwxrwx 1 brandon brandon 9.8K Jul 13  2016 C134P95ThinF_IMG_20151005_121343_cell_79.png',\n",
       " '-rwxrwxrwx 1 brandon brandon 8.9K Jul 13  2016 C134P95ThinF_IMG_20151005_121343_cell_68.png',\n",
       " '-rwxrwxrwx 1 brandon brandon 8.4K Jul 13  2016 C134P95ThinF_IMG_20151005_121343_cell_64.png',\n",
       " '-rwxrwxrwx 1 brandon brandon 9.5K Jul 13  2016 C134P95ThinF_IMG_20151005_121343_cell_119.png',\n",
       " '-rwxrwxrwx 1 brandon brandon  11K Jul 13  2016 C134P95ThinF_IMG_20151005_121343_cell_106.png',\n",
       " '-rwxrwxrwx 1 brandon brandon  11K Jul 13  2016 C73P34_ThinF_IMG_20150815_112246_cell_60.png',\n",
       " '-rwxrwxrwx 1 brandon brandon  11K Jul 13  2016 C73P34_ThinF_IMG_20150815_112246_cell_49.png',\n",
       " '-rwxrwxrwx 1 brandon brandon 8.7K Jul 13  2016 C73P34_ThinF_IMG_20150815_112246_cell_12.png',\n",
       " '-rwxrwxrwx 1 brandon brandon 9.3K Jul 13  2016 C73P34_ThinF_IMG_20150815_112246_cell_99.png',\n",
       " '-rwxrwxrwx 1 brandon brandon  11K Jul 13  2016 C73P34_ThinF_IMG_20150815_112246_cell_92.png',\n",
       " '-rwxrwxrwx 1 brandon brandon 9.3K Jul 13  2016 C73P34_ThinF_IMG_20150815_112246_cell_90.png',\n",
       " '-rwxrwxrwx 1 brandon brandon  10K Jul 13  2016 C73P34_ThinF_IMG_20150815_112246_cell_83.png',\n",
       " '-rwxrwxrwx 1 brandon brandon 8.0K Jul 13  2016 C73P34_ThinF_IMG_20150815_112246_cell_76.png',\n",
       " '-rwxrwxrwx 1 brandon brandon 8.4K Jul 13  2016 C73P34_ThinF_IMG_20150815_112246_cell_74.png',\n",
       " '-rwxrwxrwx 1 brandon brandon 8.6K Jul 13  2016 C73P34_ThinF_IMG_20150815_112246_cell_73.png',\n",
       " '-rwxrwxrwx 1 brandon brandon 9.0K Jul 13  2016 C73P34_ThinF_IMG_20150815_112246_cell_180.png',\n",
       " '-rwxrwxrwx 1 brandon brandon  12K Jul 13  2016 C73P34_ThinF_IMG_20150815_112246_cell_160.png',\n",
       " '-rwxrwxrwx 1 brandon brandon  13K Jul 13  2016 C38P3thinF_original_IMG_20150621_112023_cell_9.png',\n",
       " '-rwxrwxrwx 1 brandon brandon  19K Jul 13  2016 C38P3thinF_original_IMG_20150621_112023_cell_69.png',\n",
       " '-rwxrwxrwx 1 brandon brandon  19K Jul 13  2016 C38P3thinF_original_IMG_20150621_112023_cell_59.png',\n",
       " '-rwxrwxrwx 1 brandon brandon  17K Jul 13  2016 C38P3thinF_original_IMG_20150621_112023_cell_56.png',\n",
       " '-rwxrwxrwx 1 brandon brandon  13K Jul 13  2016 C38P3thinF_original_IMG_20150621_112023_cell_54.png',\n",
       " '-rwxrwxrwx 1 brandon brandon  16K Jul 13  2016 C38P3thinF_original_IMG_20150621_112023_cell_24.png',\n",
       " '-rwxrwxrwx 1 brandon brandon  20K Jul 13  2016 C38P3thinF_original_IMG_20150621_112023_cell_106.png',\n",
       " '-rwxrwxrwx 1 brandon brandon  18K Jul 13  2016 C38P3thinF_original_IMG_20150621_112023_cell_177.png',\n",
       " '-rwxrwxrwx 1 brandon brandon  14K Jul 13  2016 C38P3thinF_original_IMG_20150621_112023_cell_170.png',\n",
       " '-rwxrwxrwx 1 brandon brandon  17K Jul 13  2016 C38P3thinF_original_IMG_20150621_112023_cell_150.png',\n",
       " '-rwxrwxrwx 1 brandon brandon  21K Jul 13  2016 C38P3thinF_original_IMG_20150621_112023_cell_139.png',\n",
       " '-rwxrwxrwx 1 brandon brandon  15K Jul 13  2016 C38P3thinF_original_IMG_20150621_112023_cell_130.png',\n",
       " '-rwxrwxrwx 1 brandon brandon 8.2K Jul 13  2016 C100P61ThinF_IMG_20150918_145042_cell_7.png',\n",
       " '-rwxrwxrwx 1 brandon brandon 9.2K Jul 13  2016 C100P61ThinF_IMG_20150918_145042_cell_59.png',\n",
       " '-rwxrwxrwx 1 brandon brandon 4.1K Jul 13  2016 C100P61ThinF_IMG_20150918_145042_cell_5.png',\n",
       " '-rwxrwxrwx 1 brandon brandon  12K Jul 13  2016 C100P61ThinF_IMG_20150918_145042_cell_33.png',\n",
       " '-rwxrwxrwx 1 brandon brandon  14K Jul 13  2016 C100P61ThinF_IMG_20150918_145042_cell_27.png',\n",
       " '-rwxrwxrwx 1 brandon brandon  12K Jul 13  2016 C100P61ThinF_IMG_20150918_145042_cell_94.png',\n",
       " '-rwxrwxrwx 1 brandon brandon 5.0K Jul 13  2016 C100P61ThinF_IMG_20150918_145042_cell_81.png',\n",
       " '-rwxrwxrwx 1 brandon brandon  11K Jul 13  2016 C100P61ThinF_IMG_20150918_145042_cell_161.png',\n",
       " '-rwxrwxrwx 1 brandon brandon  11K Jul 13  2016 C134P95ThinF_IMG_20151005_121425_cell_6.png',\n",
       " '-rwxrwxrwx 1 brandon brandon  11K Jul 13  2016 C134P95ThinF_IMG_20151005_121425_cell_53.png',\n",
       " '-rwxrwxrwx 1 brandon brandon  11K Jul 13  2016 C134P95ThinF_IMG_20151005_121425_cell_5.png',\n",
       " '-rwxrwxrwx 1 brandon brandon 5.4K Jul 13  2016 C134P95ThinF_IMG_20151005_121425_cell_47.png',\n",
       " '-rwxrwxrwx 1 brandon brandon 9.7K Jul 13  2016 C134P95ThinF_IMG_20151005_121425_cell_30.png',\n",
       " '-rwxrwxrwx 1 brandon brandon  12K Jul 13  2016 C134P95ThinF_IMG_20151005_121425_cell_70.png',\n",
       " '-rwxrwxrwx 1 brandon brandon 6.2K Jul 13  2016 C134P95ThinF_IMG_20151005_121425_cell_118.png',\n",
       " '-rwxrwxrwx 1 brandon brandon  10K Jul 13  2016 C74P35_ThinF_IMG_20150815_113951_cell_45.png',\n",
       " '-rwxrwxrwx 1 brandon brandon 9.5K Jul 13  2016 C74P35_ThinF_IMG_20150815_113951_cell_44.png',\n",
       " '-rwxrwxrwx 1 brandon brandon  12K Jul 13  2016 C74P35_ThinF_IMG_20150815_113951_cell_14.png',\n",
       " '-rwxrwxrwx 1 brandon brandon  11K Jul 13  2016 C74P35_ThinF_IMG_20150815_113951_cell_98.png',\n",
       " '-rwxrwxrwx 1 brandon brandon  12K Jul 13  2016 C74P35_ThinF_IMG_20150815_113951_cell_91.png',\n",
       " '-rwxrwxrwx 1 brandon brandon 8.9K Jul 13  2016 C74P35_ThinF_IMG_20150815_113951_cell_85.png',\n",
       " '-rwxrwxrwx 1 brandon brandon  12K Jul 13  2016 C74P35_ThinF_IMG_20150815_113951_cell_61.png',\n",
       " '-rwxrwxrwx 1 brandon brandon  12K Jul 13  2016 C74P35_ThinF_IMG_20150815_113951_cell_109.png',\n",
       " '-rwxrwxrwx 1 brandon brandon  12K Jul 13  2016 C74P35_ThinF_IMG_20150815_113951_cell_104.png',\n",
       " '-rwxrwxrwx 1 brandon brandon  17K Jul 13  2016 C38P3thinF_original_IMG_20150621_112043_cell_21.png',\n",
       " '-rwxrwxrwx 1 brandon brandon  13K Jul 13  2016 C38P3thinF_original_IMG_20150621_112043_cell_81.png',\n",
       " '-rwxrwxrwx 1 brandon brandon  15K Jul 13  2016 C38P3thinF_original_IMG_20150621_112043_cell_75.png',\n",
       " '-rwxrwxrwx 1 brandon brandon  14K Jul 13  2016 C38P3thinF_original_IMG_20150621_112043_cell_66.png',\n",
       " '-rwxrwxrwx 1 brandon brandon  14K Jul 13  2016 C38P3thinF_original_IMG_20150621_112043_cell_162.png',\n",
       " '-rwxrwxrwx 1 brandon brandon  13K Jul 13  2016 C38P3thinF_original_IMG_20150621_112043_cell_154.png',\n",
       " '-rwxrwxrwx 1 brandon brandon  16K Jul 13  2016 C38P3thinF_original_IMG_20150621_112043_cell_152.png',\n",
       " '-rwxrwxrwx 1 brandon brandon  14K Jul 13  2016 C38P3thinF_original_IMG_20150621_112043_cell_151.png',\n",
       " '-rwxrwxrwx 1 brandon brandon  17K Jul 13  2016 C38P3thinF_original_IMG_20150621_112043_cell_136.png',\n",
       " '-rwxrwxrwx 1 brandon brandon  19K Jul 13  2016 C38P3thinF_original_IMG_20150621_112043_cell_132.png',\n",
       " '-rwxrwxrwx 1 brandon brandon  19K Jul 13  2016 C38P3thinF_original_IMG_20150621_112043_cell_128.png',\n",
       " '-rwxrwxrwx 1 brandon brandon  14K Jul 13  2016 C38P3thinF_original_IMG_20150621_112043_cell_101.png',\n",
       " '-rwxrwxrwx 1 brandon brandon 9.5K Jul 13  2016 C100P61ThinF_IMG_20150918_145422_cell_3.png',\n",
       " '-rwxrwxrwx 1 brandon brandon  11K Jul 13  2016 C134P95ThinF_IMG_20151005_121554_cell_92.png',\n",
       " '-rwxrwxrwx 1 brandon brandon  13K Jul 13  2016 C134P95ThinF_IMG_20151005_121554_cell_90.png',\n",
       " '-rwxrwxrwx 1 brandon brandon  11K Jul 13  2016 C134P95ThinF_IMG_20151005_121554_cell_60.png',\n",
       " '-rwxrwxrwx 1 brandon brandon  11K Jul 13  2016 C134P95ThinF_IMG_20151005_121554_cell_38.png',\n",
       " '-rwxrwxrwx 1 brandon brandon 8.3K Jul 13  2016 C134P95ThinF_IMG_20151005_121554_cell_21.png',\n",
       " '-rwxrwxrwx 1 brandon brandon 5.8K Jul 13  2016 C134P95ThinF_IMG_20151005_121554_cell_16.png',\n",
       " '-rwxrwxrwx 1 brandon brandon  11K Jul 13  2016 C134P95ThinF_IMG_20151005_121554_cell_106.png',\n",
       " '-rwxrwxrwx 1 brandon brandon 8.1K Jul 13  2016 C100P61ThinF_IMG_20150918_145422_cell_86.png',\n",
       " '-rwxrwxrwx 1 brandon brandon  12K Jul 13  2016 C100P61ThinF_IMG_20150918_145422_cell_85.png',\n",
       " '-rwxrwxrwx 1 brandon brandon 9.6K Jul 13  2016 C100P61ThinF_IMG_20150918_145422_cell_37.png',\n",
       " '-rwxrwxrwx 1 brandon brandon  12K Jul 13  2016 C100P61ThinF_IMG_20150918_145422_cell_21.png',\n",
       " '-rwxrwxrwx 1 brandon brandon 7.1K Jul 13  2016 C100P61ThinF_IMG_20150918_145422_cell_157.png',\n",
       " '-rwxrwxrwx 1 brandon brandon  11K Jul 13  2016 C100P61ThinF_IMG_20150918_145422_cell_138.png',\n",
       " '-rwxrwxrwx 1 brandon brandon  11K Jul 13  2016 C100P61ThinF_IMG_20150918_145422_cell_136.png',\n",
       " '-rwxrwxrwx 1 brandon brandon 9.3K Jul 13  2016 C100P61ThinF_IMG_20150918_145422_cell_12.png',\n",
       " '-rwxrwxrwx 1 brandon brandon  12K Jul 13  2016 C74P35_ThinF_IMG_20150815_114153_cell_72.png',\n",
       " '-rwxrwxrwx 1 brandon brandon  11K Jul 13  2016 C74P35_ThinF_IMG_20150815_114153_cell_63.png',\n",
       " '-rwxrwxrwx 1 brandon brandon  13K Jul 13  2016 C74P35_ThinF_IMG_20150815_114153_cell_31.png',\n",
       " '-rwxrwxrwx 1 brandon brandon 7.6K Jul 13  2016 C74P35_ThinF_IMG_20150815_114153_cell_23.png',\n",
       " '-rwxrwxrwx 1 brandon brandon 4.8K Jul 13  2016 C74P35_ThinF_IMG_20150815_114153_cell_19.png',\n",
       " '-rwxrwxrwx 1 brandon brandon  13K Jul 13  2016 C74P35_ThinF_IMG_20150815_114153_cell_125.png',\n",
       " '-rwxrwxrwx 1 brandon brandon  12K Jul 13  2016 C74P35_ThinF_IMG_20150815_114153_cell_107.png',\n",
       " '-rwxrwxrwx 1 brandon brandon  13K Jul 13  2016 C74P35_ThinF_IMG_20150815_114153_cell_100.png',\n",
       " '-rwxrwxrwx 1 brandon brandon  15K Jul 13  2016 C38P3thinF_original_IMG_20150621_112116_cell_67.png',\n",
       " '-rwxrwxrwx 1 brandon brandon  23K Jul 13  2016 C38P3thinF_original_IMG_20150621_112116_cell_65.png',\n",
       " '-rwxrwxrwx 1 brandon brandon  16K Jul 13  2016 C38P3thinF_original_IMG_20150621_112116_cell_63.png',\n",
       " '-rwxrwxrwx 1 brandon brandon  17K Jul 13  2016 C38P3thinF_original_IMG_20150621_112116_cell_60.png',\n",
       " '-rwxrwxrwx 1 brandon brandon  13K Jul 13  2016 C38P3thinF_original_IMG_20150621_112116_cell_48.png',\n",
       " '-rwxrwxrwx 1 brandon brandon  14K Jul 13  2016 C38P3thinF_original_IMG_20150621_112116_cell_1.png',\n",
       " '-rwxrwxrwx 1 brandon brandon 8.2K Jul 13  2016 C134P95ThinF_IMG_20151005_121656_cell_25.png',\n",
       " '-rwxrwxrwx 1 brandon brandon  11K Jul 13  2016 C134P95ThinF_IMG_20151005_121656_cell_18.png',\n",
       " '-rwxrwxrwx 1 brandon brandon 8.0K Jul 13  2016 C134P95ThinF_IMG_20151005_121656_cell_12.png',\n",
       " '-rwxrwxrwx 1 brandon brandon  16K Jul 13  2016 C38P3thinF_original_IMG_20150621_112116_cell_197.png',\n",
       " '-rwxrwxrwx 1 brandon brandon  16K Jul 13  2016 C38P3thinF_original_IMG_20150621_112116_cell_194.png',\n",
       " '-rwxrwxrwx 1 brandon brandon  14K Jul 13  2016 C38P3thinF_original_IMG_20150621_112116_cell_192.png',\n",
       " '-rwxrwxrwx 1 brandon brandon  17K Jul 13  2016 C38P3thinF_original_IMG_20150621_112116_cell_189.png',\n",
       " '-rwxrwxrwx 1 brandon brandon  15K Jul 13  2016 C38P3thinF_original_IMG_20150621_112116_cell_129.png',\n",
       " '-rwxrwxrwx 1 brandon brandon 8.5K Jul 13  2016 C134P95ThinF_IMG_20151005_121656_cell_95.png',\n",
       " '-rwxrwxrwx 1 brandon brandon 6.7K Jul 13  2016 C134P95ThinF_IMG_20151005_121656_cell_75.png',\n",
       " '-rwxrwxrwx 1 brandon brandon  11K Jul 13  2016 C134P95ThinF_IMG_20151005_121656_cell_60.png',\n",
       " '-rwxrwxrwx 1 brandon brandon 7.4K Jul 13  2016 C134P95ThinF_IMG_20151005_121656_cell_59.png',\n",
       " '-rwxrwxrwx 1 brandon brandon 9.0K Jul 13  2016 C100P61ThinF_IMG_20150918_145609_cell_48.png',\n",
       " '-rwxrwxrwx 1 brandon brandon  13K Jul 13  2016 C100P61ThinF_IMG_20150918_145609_cell_46.png',\n",
       " '-rwxrwxrwx 1 brandon brandon 9.7K Jul 13  2016 C100P61ThinF_IMG_20150918_145609_cell_30.png',\n",
       " '-rwxrwxrwx 1 brandon brandon 9.1K Jul 13  2016 C100P61ThinF_IMG_20150918_145609_cell_99.png',\n",
       " '-rwxrwxrwx 1 brandon brandon  11K Jul 13  2016 C100P61ThinF_IMG_20150918_145609_cell_91.png',\n",
       " '-rwxrwxrwx 1 brandon brandon  11K Jul 13  2016 C100P61ThinF_IMG_20150918_145609_cell_75.png',\n",
       " '-rwxrwxrwx 1 brandon brandon 5.4K Jul 13  2016 C100P61ThinF_IMG_20150918_145609_cell_121.png',\n",
       " '-rwxrwxrwx 1 brandon brandon 9.7K Jul 13  2016 C100P61ThinF_IMG_20150918_145609_cell_113.png',\n",
       " '-rwxrwxrwx 1 brandon brandon 9.6K Jul 13  2016 C100P61ThinF_IMG_20150918_145609_cell_101.png',\n",
       " '-rwxrwxrwx 1 brandon brandon 6.7K Jul 13  2016 C74P35_ThinF_IMG_20150815_114401_cell_85.png',\n",
       " '-rwxrwxrwx 1 brandon brandon  11K Jul 13  2016 C74P35_ThinF_IMG_20150815_114401_cell_80.png',\n",
       " '-rwxrwxrwx 1 brandon brandon  11K Jul 13  2016 C74P35_ThinF_IMG_20150815_114401_cell_65.png',\n",
       " '-rwxrwxrwx 1 brandon brandon  14K Jul 13  2016 C74P35_ThinF_IMG_20150815_114401_cell_40.png',\n",
       " '-rwxrwxrwx 1 brandon brandon 9.5K Jul 13  2016 C74P35_ThinF_IMG_20150815_114401_cell_35.png',\n",
       " '-rwxrwxrwx 1 brandon brandon  11K Jul 13  2016 C74P35_ThinF_IMG_20150815_114401_cell_15.png',\n",
       " '-rwxrwxrwx 1 brandon brandon  11K Jul 13  2016 C74P35_ThinF_IMG_20150815_114401_cell_14.png',\n",
       " '-rwxrwxrwx 1 brandon brandon 9.7K Jul 13  2016 C74P35_ThinF_IMG_20150815_114401_cell_136.png',\n",
       " '-rwxrwxrwx 1 brandon brandon 8.9K Jul 13  2016 C74P35_ThinF_IMG_20150815_114401_cell_110.png',\n",
       " '-rwxrwxrwx 1 brandon brandon  11K Jul 13  2016 C134P95ThinF_IMG_20151005_121834_cell_7.png',\n",
       " '-rwxrwxrwx 1 brandon brandon  13K Jul 13  2016 C134P95ThinF_IMG_20151005_121834_cell_65.png',\n",
       " '-rwxrwxrwx 1 brandon brandon 8.2K Jul 13  2016 C134P95ThinF_IMG_20151005_121834_cell_60.png',\n",
       " '-rwxrwxrwx 1 brandon brandon  11K Jul 13  2016 C134P95ThinF_IMG_20151005_121834_cell_55.png',\n",
       " '-rwxrwxrwx 1 brandon brandon 8.9K Jul 13  2016 C134P95ThinF_IMG_20151005_121834_cell_42.png',\n",
       " '-rwxrwxrwx 1 brandon brandon  12K Jul 13  2016 C134P95ThinF_IMG_20151005_121834_cell_37.png',\n",
       " '-rwxrwxrwx 1 brandon brandon  11K Jul 13  2016 C134P95ThinF_IMG_20151005_121834_cell_108.png',\n",
       " '-rwxrwxrwx 1 brandon brandon  12K Jul 13  2016 C38P3thinF_original_IMG_20150621_112138_cell_87.png',\n",
       " '-rwxrwxrwx 1 brandon brandon  15K Jul 13  2016 C38P3thinF_original_IMG_20150621_112138_cell_8.png',\n",
       " '-rwxrwxrwx 1 brandon brandon  16K Jul 13  2016 C38P3thinF_original_IMG_20150621_112138_cell_68.png',\n",
       " '-rwxrwxrwx 1 brandon brandon  17K Jul 13  2016 C38P3thinF_original_IMG_20150621_112138_cell_40.png',\n",
       " '-rwxrwxrwx 1 brandon brandon  14K Jul 13  2016 C38P3thinF_original_IMG_20150621_112138_cell_17.png',\n",
       " '-rwxrwxrwx 1 brandon brandon  15K Jul 13  2016 C38P3thinF_original_IMG_20150621_112138_cell_135.png',\n",
       " '-rwxrwxrwx 1 brandon brandon  13K Jul 13  2016 C38P3thinF_original_IMG_20150621_112138_cell_113.png',\n",
       " '-rwxrwxrwx 1 brandon brandon  16K Jul 13  2016 C38P3thinF_original_IMG_20150621_112138_cell_111.png',\n",
       " '-rwxrwxrwx 1 brandon brandon 7.3K Jul 13  2016 C38P3thinF_original_IMG_20150621_112138_cell_110.png',\n",
       " '-rwxrwxrwx 1 brandon brandon  17K Jul 13  2016 C38P3thinF_original_IMG_20150621_112138_cell_1.png',\n",
       " '-rwxrwxrwx 1 brandon brandon  15K Jul 13  2016 C38P3thinF_original_IMG_20150621_112138_cell_159.png',\n",
       " '-rwxrwxrwx 1 brandon brandon 9.2K Jul 13  2016 C100P61ThinF_IMG_20150918_145938_cell_67.png',\n",
       " '-rwxrwxrwx 1 brandon brandon  11K Jul 13  2016 C100P61ThinF_IMG_20150918_145938_cell_64.png',\n",
       " '-rwxrwxrwx 1 brandon brandon 9.1K Jul 13  2016 C100P61ThinF_IMG_20150918_145938_cell_63.png',\n",
       " '-rwxrwxrwx 1 brandon brandon 8.7K Jul 13  2016 C100P61ThinF_IMG_20150918_145938_cell_83.png',\n",
       " '-rwxrwxrwx 1 brandon brandon 9.0K Jul 13  2016 C100P61ThinF_IMG_20150918_145938_cell_75.png',\n",
       " '-rwxrwxrwx 1 brandon brandon  12K Jul 13  2016 C100P61ThinF_IMG_20150918_145938_cell_72.png',\n",
       " '-rwxrwxrwx 1 brandon brandon 7.6K Jul 13  2016 C100P61ThinF_IMG_20150918_145938_cell_154.png',\n",
       " '-rwxrwxrwx 1 brandon brandon 9.8K Jul 13  2016 C100P61ThinF_IMG_20150918_145938_cell_145.png',\n",
       " '-rwxrwxrwx 1 brandon brandon 9.3K Jul 13  2016 C100P61ThinF_IMG_20150918_145938_cell_138.png',\n",
       " '-rwxrwxrwx 1 brandon brandon  11K Jul 13  2016 C74P35_ThinF_IMG_20150815_114555_cell_53.png',\n",
       " '-rwxrwxrwx 1 brandon brandon 9.7K Jul 13  2016 C74P35_ThinF_IMG_20150815_114555_cell_4.png',\n",
       " '-rwxrwxrwx 1 brandon brandon 9.5K Jul 13  2016 C74P35_ThinF_IMG_20150815_114555_cell_37.png',\n",
       " '-rwxrwxrwx 1 brandon brandon 8.9K Jul 13  2016 C74P35_ThinF_IMG_20150815_114555_cell_30.png',\n",
       " '-rwxrwxrwx 1 brandon brandon  13K Jul 13  2016 C74P35_ThinF_IMG_20150815_114555_cell_27.png',\n",
       " '-rwxrwxrwx 1 brandon brandon  11K Jul 13  2016 C74P35_ThinF_IMG_20150815_114555_cell_25.png',\n",
       " '-rwxrwxrwx 1 brandon brandon 9.6K Jul 13  2016 C74P35_ThinF_IMG_20150815_114555_cell_89.png',\n",
       " '-rwxrwxrwx 1 brandon brandon  12K Jul 13  2016 C74P35_ThinF_IMG_20150815_114555_cell_86.png',\n",
       " '-rwxrwxrwx 1 brandon brandon  13K Jul 13  2016 C74P35_ThinF_IMG_20150815_114555_cell_71.png',\n",
       " '-rwxrwxrwx 1 brandon brandon  10K Jul 13  2016 C134P95ThinF_IMG_20151005_121952_cell_7.png',\n",
       " '-rwxrwxrwx 1 brandon brandon 9.1K Jul 13  2016 C134P95ThinF_IMG_20151005_121952_cell_48.png',\n",
       " '-rwxrwxrwx 1 brandon brandon  12K Jul 13  2016 C134P95ThinF_IMG_20151005_121952_cell_91.png',\n",
       " '-rwxrwxrwx 1 brandon brandon 9.0K Jul 13  2016 C134P95ThinF_IMG_20151005_121952_cell_60.png',\n",
       " '-rwxrwxrwx 1 brandon brandon 9.5K Jul 13  2016 C134P95ThinF_IMG_20151005_121952_cell_53.png',\n",
       " '-rwxrwxrwx 1 brandon brandon  13K Jul 13  2016 C134P95ThinF_IMG_20151005_121952_cell_111.png',\n",
       " '-rwxrwxrwx 1 brandon brandon  11K Jul 13  2016 C134P95ThinF_IMG_20151005_121952_cell_104.png',\n",
       " '-rwxrwxrwx 1 brandon brandon  15K Jul 13  2016 C38P3thinF_original_IMG_20150621_112227_cell_3.png',\n",
       " '-rwxrwxrwx 1 brandon brandon  16K Jul 13  2016 C38P3thinF_original_IMG_20150621_112227_cell_26.png',\n",
       " '-rwxrwxrwx 1 brandon brandon  14K Jul 13  2016 C38P3thinF_original_IMG_20150621_112227_cell_11.png',\n",
       " '-rwxrwxrwx 1 brandon brandon  16K Jul 13  2016 C38P3thinF_original_IMG_20150621_112227_cell_1.png',\n",
       " '-rwxrwxrwx 1 brandon brandon  15K Jul 13  2016 C38P3thinF_original_IMG_20150621_112227_cell_92.png',\n",
       " '-rwxrwxrwx 1 brandon brandon  12K Jul 13  2016 C38P3thinF_original_IMG_20150621_112227_cell_88.png',\n",
       " '-rwxrwxrwx 1 brandon brandon 8.1K Jul 13  2016 C38P3thinF_original_IMG_20150621_112227_cell_116.png',\n",
       " '-rwxrwxrwx 1 brandon brandon  15K Jul 13  2016 C38P3thinF_original_IMG_20150621_112227_cell_100.png',\n",
       " '-rwxrwxrwx 1 brandon brandon 8.2K Jul 13  2016 C100P61ThinF_IMG_20150918_150041_cell_76.png',\n",
       " '-rwxrwxrwx 1 brandon brandon  11K Jul 13  2016 C100P61ThinF_IMG_20150918_150041_cell_67.png',\n",
       " '-rwxrwxrwx 1 brandon brandon  11K Jul 13  2016 C100P61ThinF_IMG_20150918_150041_cell_47.png',\n",
       " '-rwxrwxrwx 1 brandon brandon 9.7K Jul 13  2016 C100P61ThinF_IMG_20150918_150041_cell_4.png',\n",
       " '-rwxrwxrwx 1 brandon brandon 8.2K Jul 13  2016 C100P61ThinF_IMG_20150918_150041_cell_15.png',\n",
       " '-rwxrwxrwx 1 brandon brandon 8.4K Jul 13  2016 C100P61ThinF_IMG_20150918_150041_cell_127.png',\n",
       " '-rwxrwxrwx 1 brandon brandon  12K Jul 13  2016 C100P61ThinF_IMG_20150918_150041_cell_125.png',\n",
       " '-rwxrwxrwx 1 brandon brandon 9.6K Jul 13  2016 C100P61ThinF_IMG_20150918_150041_cell_12.png',\n",
       " '-rwxrwxrwx 1 brandon brandon  15K Jul 13  2016 C100P61ThinF_IMG_20150918_150041_cell_108.png',\n",
       " '-rwxrwxrwx 1 brandon brandon  13K Jul 13  2016 C38P3thinF_original_IMG_20150621_112227_cell_187.png',\n",
       " '-rwxrwxrwx 1 brandon brandon  15K Jul 13  2016 C38P3thinF_original_IMG_20150621_112227_cell_186.png',\n",
       " '-rwxrwxrwx 1 brandon brandon  16K Jul 13  2016 C38P3thinF_original_IMG_20150621_112227_cell_182.png',\n",
       " '-rwxrwxrwx 1 brandon brandon  16K Jul 13  2016 C38P3thinF_original_IMG_20150621_112227_cell_173.png',\n",
       " '-rwxrwxrwx 1 brandon brandon 9.6K Jul 13  2016 C74P35_ThinF_IMG_20150815_114819_cell_85.png',\n",
       " '-rwxrwxrwx 1 brandon brandon 9.6K Jul 13  2016 C74P35_ThinF_IMG_20150815_114819_cell_78.png',\n",
       " '-rwxrwxrwx 1 brandon brandon 8.4K Jul 13  2016 C74P35_ThinF_IMG_20150815_114819_cell_58.png',\n",
       " '-rwxrwxrwx 1 brandon brandon 8.9K Jul 13  2016 C74P35_ThinF_IMG_20150815_114819_cell_42.png',\n",
       " '-rwxrwxrwx 1 brandon brandon 8.9K Jul 13  2016 C74P35_ThinF_IMG_20150815_114819_cell_29.png',\n",
       " '-rwxrwxrwx 1 brandon brandon 9.3K Jul 13  2016 C74P35_ThinF_IMG_20150815_114819_cell_24.png',\n",
       " '-rwxrwxrwx 1 brandon brandon  13K Jul 13  2016 C74P35_ThinF_IMG_20150815_114819_cell_13.png',\n",
       " '-rwxrwxrwx 1 brandon brandon  10K Jul 13  2016 C74P35_ThinF_IMG_20150815_114819_cell_126.png',\n",
       " '-rwxrwxrwx 1 brandon brandon 9.4K Jul 13  2016 C74P35_ThinF_IMG_20150815_114819_cell_114.png',\n",
       " '-rwxrwxrwx 1 brandon brandon  11K Jul 13  2016 C134P95ThinF_IMG_20151005_122331_cell_6.png',\n",
       " '-rwxrwxrwx 1 brandon brandon 9.4K Jul 13  2016 C134P95ThinF_IMG_20151005_122331_cell_39.png',\n",
       " '-rwxrwxrwx 1 brandon brandon  11K Jul 13  2016 C134P95ThinF_IMG_20151005_122331_cell_26.png',\n",
       " '-rwxrwxrwx 1 brandon brandon  12K Jul 13  2016 C134P95ThinF_IMG_20151005_122331_cell_20.png',\n",
       " '-rwxrwxrwx 1 brandon brandon 9.8K Jul 13  2016 C134P95ThinF_IMG_20151005_122331_cell_19.png',\n",
       " '-rwxrwxrwx 1 brandon brandon 9.3K Jul 13  2016 C134P95ThinF_IMG_20151005_122331_cell_94.png',\n",
       " '-rwxrwxrwx 1 brandon brandon 9.2K Jul 13  2016 C134P95ThinF_IMG_20151005_122331_cell_76.png',\n",
       " '-rwxrwxrwx 1 brandon brandon  13K Jul 13  2016 C38P3thinF_original_IMG_20150621_112246_cell_72.png',\n",
       " '-rwxrwxrwx 1 brandon brandon  12K Jul 13  2016 C38P3thinF_original_IMG_20150621_112246_cell_70.png',\n",
       " '-rwxrwxrwx 1 brandon brandon  14K Jul 13  2016 C38P3thinF_original_IMG_20150621_112246_cell_54.png',\n",
       " '-rwxrwxrwx 1 brandon brandon  17K Jul 13  2016 C38P3thinF_original_IMG_20150621_112246_cell_45.png',\n",
       " '-rwxrwxrwx 1 brandon brandon  16K Jul 13  2016 C38P3thinF_original_IMG_20150621_112246_cell_35.png',\n",
       " '-rwxrwxrwx 1 brandon brandon  17K Jul 13  2016 C38P3thinF_original_IMG_20150621_112246_cell_123.png',\n",
       " '-rwxrwxrwx 1 brandon brandon  13K Jul 13  2016 C38P3thinF_original_IMG_20150621_112246_cell_218.png',\n",
       " '-rwxrwxrwx 1 brandon brandon  11K Jul 13  2016 C38P3thinF_original_IMG_20150621_112246_cell_197.png',\n",
       " '-rwxrwxrwx 1 brandon brandon 9.1K Jul 13  2016 C38P3thinF_original_IMG_20150621_112246_cell_192.png',\n",
       " '-rwxrwxrwx 1 brandon brandon  16K Jul 13  2016 C38P3thinF_original_IMG_20150621_112246_cell_187.png',\n",
       " '-rwxrwxrwx 1 brandon brandon 9.1K Jul 13  2016 C38P3thinF_original_IMG_20150621_112246_cell_166.png',\n",
       " '-rwxrwxrwx 1 brandon brandon  12K Jul 13  2016 C74P35_ThinF_IMG_20150815_120712_cell_37.png',\n",
       " '-rwxrwxrwx 1 brandon brandon  11K Jul 13  2016 C74P35_ThinF_IMG_20150815_120712_cell_33.png',\n",
       " '-rwxrwxrwx 1 brandon brandon  12K Jul 13  2016 C74P35_ThinF_IMG_20150815_120712_cell_26.png',\n",
       " '-rwxrwxrwx 1 brandon brandon  13K Jul 13  2016 C74P35_ThinF_IMG_20150815_120712_cell_15.png',\n",
       " '-rwxrwxrwx 1 brandon brandon 5.5K Jul 13  2016 C74P35_ThinF_IMG_20150815_120712_cell_83.png',\n",
       " '-rwxrwxrwx 1 brandon brandon  14K Jul 13  2016 C74P35_ThinF_IMG_20150815_120712_cell_113.png',\n",
       " '-rwxrwxrwx 1 brandon brandon  11K Jul 13  2016 C74P35_ThinF_IMG_20150815_120712_cell_108.png',\n",
       " '-rwxrwxrwx 1 brandon brandon 5.8K Jul 13  2016 C74P35_ThinF_IMG_20150815_120712_cell_104.png',\n",
       " '-rwxrwxrwx 1 brandon brandon  11K Jul 13  2016 C134P95ThinF_IMG_20151005_122449_cell_3.png',\n",
       " '-rwxrwxrwx 1 brandon brandon  12K Jul 13  2016 C134P95ThinF_IMG_20151005_122449_cell_13.png',\n",
       " '-rwxrwxrwx 1 brandon brandon  11K Jul 13  2016 C134P95ThinF_IMG_20151005_122449_cell_98.png',\n",
       " '-rwxrwxrwx 1 brandon brandon 9.5K Jul 13  2016 C134P95ThinF_IMG_20151005_122449_cell_66.png',\n",
       " '-rwxrwxrwx 1 brandon brandon  13K Jul 13  2016 C134P95ThinF_IMG_20151005_122449_cell_55.png',\n",
       " '-rwxrwxrwx 1 brandon brandon  14K Jul 13  2016 C134P95ThinF_IMG_20151005_122449_cell_44.png',\n",
       " '-rwxrwxrwx 1 brandon brandon  12K Jul 13  2016 C134P95ThinF_IMG_20151005_122449_cell_24.png',\n",
       " '-rwxrwxrwx 1 brandon brandon 9.4K Jul 13  2016 C101P62ThinF_IMG_20150918_151006_cell_8.png',\n",
       " '-rwxrwxrwx 1 brandon brandon 9.8K Jul 13  2016 C101P62ThinF_IMG_20150918_151006_cell_32.png',\n",
       " '-rwxrwxrwx 1 brandon brandon 8.0K Jul 13  2016 C101P62ThinF_IMG_20150918_151006_cell_29.png',\n",
       " '-rwxrwxrwx 1 brandon brandon  11K Jul 13  2016 C101P62ThinF_IMG_20150918_151006_cell_17.png',\n",
       " '-rwxrwxrwx 1 brandon brandon 6.4K Jul 13  2016 C101P62ThinF_IMG_20150918_151006_cell_59.png',\n",
       " '-rwxrwxrwx 1 brandon brandon 8.6K Jul 13  2016 C101P62ThinF_IMG_20150918_151006_cell_56.png',\n",
       " '-rwxrwxrwx 1 brandon brandon 8.1K Jul 13  2016 C101P62ThinF_IMG_20150918_151006_cell_53.png',\n",
       " '-rwxrwxrwx 1 brandon brandon  11K Jul 13  2016 C39P4thinF_original_IMG_20150622_105102_cell_73.png',\n",
       " '-rwxrwxrwx 1 brandon brandon  20K Jul 13  2016 C39P4thinF_original_IMG_20150622_105102_cell_59.png',\n",
       " '-rwxrwxrwx 1 brandon brandon 8.5K Jul 13  2016 C39P4thinF_original_IMG_20150622_105102_cell_43.png',\n",
       " '-rwxrwxrwx 1 brandon brandon  13K Jul 13  2016 C39P4thinF_original_IMG_20150622_105102_cell_33.png',\n",
       " '-rwxrwxrwx 1 brandon brandon 5.6K Jul 13  2016 C39P4thinF_original_IMG_20150622_105102_cell_2.png',\n",
       " '-rwxrwxrwx 1 brandon brandon  13K Jul 13  2016 C39P4thinF_original_IMG_20150622_105102_cell_17.png',\n",
       " '-rwxrwxrwx 1 brandon brandon  17K Jul 13  2016 C39P4thinF_original_IMG_20150622_105102_cell_14.png',\n",
       " '-rwxrwxrwx 1 brandon brandon  14K Jul 13  2016 C39P4thinF_original_IMG_20150622_105102_cell_12.png',\n",
       " '-rwxrwxrwx 1 brandon brandon  15K Jul 13  2016 C74P35_ThinF_IMG_20150815_120957_cell_11.png',\n",
       " '-rwxrwxrwx 1 brandon brandon 9.5K Jul 13  2016 C74P35_ThinF_IMG_20150815_120957_cell_64.png',\n",
       " '-rwxrwxrwx 1 brandon brandon  11K Jul 13  2016 C74P35_ThinF_IMG_20150815_120957_cell_47.png',\n",
       " '-rwxrwxrwx 1 brandon brandon 9.3K Jul 13  2016 C74P35_ThinF_IMG_20150815_120957_cell_40.png',\n",
       " '-rwxrwxrwx 1 brandon brandon  11K Jul 13  2016 C74P35_ThinF_IMG_20150815_120957_cell_36.png',\n",
       " '-rwxrwxrwx 1 brandon brandon  10K Jul 13  2016 C74P35_ThinF_IMG_20150815_120957_cell_32.png',\n",
       " '-rwxrwxrwx 1 brandon brandon  11K Jul 13  2016 C74P35_ThinF_IMG_20150815_120957_cell_22.png',\n",
       " '-rwxrwxrwx 1 brandon brandon  12K Jul 13  2016 C74P35_ThinF_IMG_20150815_120957_cell_112.png',\n",
       " '-rwxrwxrwx 1 brandon brandon 8.5K Jul 13  2016 C74P35_ThinF_IMG_20150815_120957_cell_109.png',\n",
       " '-rwxrwxrwx 1 brandon brandon  13K Jul 13  2016 C134P95ThinF_IMG_20151005_122552_cell_25.png',\n",
       " '-rwxrwxrwx 1 brandon brandon  11K Jul 13  2016 C134P95ThinF_IMG_20151005_122552_cell_22.png',\n",
       " '-rwxrwxrwx 1 brandon brandon  11K Jul 13  2016 C134P95ThinF_IMG_20151005_122552_cell_15.png',\n",
       " '-rwxrwxrwx 1 brandon brandon 5.7K Jul 13  2016 C101P62ThinF_IMG_20150918_151149_cell_63.png',\n",
       " '-rwxrwxrwx 1 brandon brandon 9.0K Jul 13  2016 C101P62ThinF_IMG_20150918_151149_cell_61.png',\n",
       " '-rwxrwxrwx 1 brandon brandon  11K Jul 13  2016 C101P62ThinF_IMG_20150918_151149_cell_43.png',\n",
       " '-rwxrwxrwx 1 brandon brandon 8.4K Jul 13  2016 C101P62ThinF_IMG_20150918_151149_cell_34.png',\n",
       " '-rwxrwxrwx 1 brandon brandon 9.6K Jul 13  2016 C101P62ThinF_IMG_20150918_151149_cell_32.png',\n",
       " '-rwxrwxrwx 1 brandon brandon 4.7K Jul 13  2016 C101P62ThinF_IMG_20150918_151149_cell_29.png',\n",
       " '-rwxrwxrwx 1 brandon brandon 8.8K Jul 13  2016 C101P62ThinF_IMG_20150918_151149_cell_28.png',\n",
       " '-rwxrwxrwx 1 brandon brandon 9.5K Jul 13  2016 C101P62ThinF_IMG_20150918_151149_cell_23.png',\n",
       " '-rwxrwxrwx 1 brandon brandon 9.7K Jul 13  2016 C134P95ThinF_IMG_20151005_122552_cell_99.png',\n",
       " '-rwxrwxrwx 1 brandon brandon 9.9K Jul 13  2016 C134P95ThinF_IMG_20151005_122552_cell_95.png',\n",
       " '-rwxrwxrwx 1 brandon brandon 8.8K Jul 13  2016 C134P95ThinF_IMG_20151005_122552_cell_83.png',\n",
       " '-rwxrwxrwx 1 brandon brandon 9.9K Jul 13  2016 C134P95ThinF_IMG_20151005_122552_cell_103.png',\n",
       " '-rwxrwxrwx 1 brandon brandon 8.5K Jul 13  2016 C39P4thinF_original_IMG_20150622_105253_cell_89.png',\n",
       " '-rwxrwxrwx 1 brandon brandon  11K Jul 13  2016 C39P4thinF_original_IMG_20150622_105253_cell_76.png',\n",
       " '-rwxrwxrwx 1 brandon brandon  11K Jul 13  2016 C39P4thinF_original_IMG_20150622_105253_cell_69.png',\n",
       " '-rwxrwxrwx 1 brandon brandon  11K Jul 13  2016 C39P4thinF_original_IMG_20150622_105253_cell_65.png',\n",
       " '-rwxrwxrwx 1 brandon brandon  11K Jul 13  2016 C39P4thinF_original_IMG_20150622_105253_cell_61.png',\n",
       " '-rwxrwxrwx 1 brandon brandon  11K Jul 13  2016 C39P4thinF_original_IMG_20150622_105253_cell_5.png',\n",
       " '-rwxrwxrwx 1 brandon brandon  12K Jul 13  2016 C39P4thinF_original_IMG_20150622_105253_cell_48.png',\n",
       " '-rwxrwxrwx 1 brandon brandon  12K Jul 13  2016 C39P4thinF_original_IMG_20150622_105253_cell_18.png',\n",
       " '-rwxrwxrwx 1 brandon brandon  11K Jul 13  2016 C39P4thinF_original_IMG_20150622_105253_cell_10.png',\n",
       " '-rwxrwxrwx 1 brandon brandon  11K Jul 13  2016 C39P4thinF_original_IMG_20150622_105253_cell_1.png',\n",
       " '-rwxrwxrwx 1 brandon brandon  13K Jul 13  2016 C101P62ThinF_IMG_20150918_151239_cell_69.png',\n",
       " '-rwxrwxrwx 1 brandon brandon  12K Jul 13  2016 C101P62ThinF_IMG_20150918_151239_cell_59.png',\n",
       " '-rwxrwxrwx 1 brandon brandon 7.4K Jul 13  2016 C101P62ThinF_IMG_20150918_151239_cell_51.png',\n",
       " '-rwxrwxrwx 1 brandon brandon 7.5K Jul 13  2016 C101P62ThinF_IMG_20150918_151239_cell_41.png',\n",
       " '-rwxrwxrwx 1 brandon brandon 8.9K Jul 13  2016 C101P62ThinF_IMG_20150918_151239_cell_29.png',\n",
       " '-rwxrwxrwx 1 brandon brandon 5.9K Jul 13  2016 C101P62ThinF_IMG_20150918_151239_cell_25.png',\n",
       " '-rwxrwxrwx 1 brandon brandon 5.3K Jul 13  2016 C101P62ThinF_IMG_20150918_151239_cell_17.png',\n",
       " '-rwxrwxrwx 1 brandon brandon 8.1K Jul 13  2016 C101P62ThinF_IMG_20150918_151239_cell_14.png',\n",
       " '-rwxrwxrwx 1 brandon brandon  10K Jul 13  2016 C74P35_ThinF_IMG_20150815_121324_cell_49.png',\n",
       " '-rwxrwxrwx 1 brandon brandon  11K Jul 13  2016 C74P35_ThinF_IMG_20150815_121324_cell_24.png',\n",
       " '-rwxrwxrwx 1 brandon brandon 9.2K Jul 13  2016 C74P35_ThinF_IMG_20150815_121324_cell_15.png',\n",
       " '-rwxrwxrwx 1 brandon brandon  13K Jul 13  2016 C74P35_ThinF_IMG_20150815_121324_cell_74.png',\n",
       " '-rwxrwxrwx 1 brandon brandon  11K Jul 13  2016 C74P35_ThinF_IMG_20150815_121324_cell_73.png',\n",
       " '-rwxrwxrwx 1 brandon brandon 8.1K Jul 13  2016 C74P35_ThinF_IMG_20150815_121324_cell_67.png',\n",
       " '-rwxrwxrwx 1 brandon brandon  11K Jul 13  2016 C74P35_ThinF_IMG_20150815_121324_cell_114.png',\n",
       " '-rwxrwxrwx 1 brandon brandon  11K Jul 13  2016 C74P35_ThinF_IMG_20150815_121324_cell_112.png',\n",
       " '-rwxrwxrwx 1 brandon brandon  12K Jul 13  2016 C74P35_ThinF_IMG_20150815_121324_cell_104.png',\n",
       " '-rwxrwxrwx 1 brandon brandon  13K Jul 13  2016 C135P96ThinF_IMG_20151005_123441_cell_95.png',\n",
       " '-rwxrwxrwx 1 brandon brandon 9.5K Jul 13  2016 C135P96ThinF_IMG_20151005_123441_cell_82.png',\n",
       " '-rwxrwxrwx 1 brandon brandon 9.4K Jul 13  2016 C135P96ThinF_IMG_20151005_123441_cell_24.png',\n",
       " '-rwxrwxrwx 1 brandon brandon  15K Jul 13  2016 C135P96ThinF_IMG_20151005_123441_cell_167.png',\n",
       " '-rwxrwxrwx 1 brandon brandon  12K Jul 13  2016 C135P96ThinF_IMG_20151005_123441_cell_147.png',\n",
       " '-rwxrwxrwx 1 brandon brandon  13K Jul 13  2016 C135P96ThinF_IMG_20151005_123441_cell_131.png',\n",
       " '-rwxrwxrwx 1 brandon brandon  11K Jul 13  2016 C135P96ThinF_IMG_20151005_123441_cell_116.png',\n",
       " '-rwxrwxrwx 1 brandon brandon  11K Jul 13  2016 C135P96ThinF_IMG_20151005_123441_cell_106.png',\n",
       " '-rwxrwxrwx 1 brandon brandon  12K Jul 13  2016 C135P96ThinF_IMG_20151005_123441_cell_174.png',\n",
       " '-rwxrwxrwx 1 brandon brandon  11K Jul 13  2016 C101P62ThinF_IMG_20150918_151335_cell_49.png',\n",
       " '-rwxrwxrwx 1 brandon brandon  17K Jul 13  2016 C101P62ThinF_IMG_20150918_151335_cell_44.png',\n",
       " '-rwxrwxrwx 1 brandon brandon 7.1K Jul 13  2016 C101P62ThinF_IMG_20150918_151335_cell_38.png',\n",
       " '-rwxrwxrwx 1 brandon brandon 8.1K Jul 13  2016 C101P62ThinF_IMG_20150918_151335_cell_26.png',\n",
       " '-rwxrwxrwx 1 brandon brandon 9.5K Jul 13  2016 C101P62ThinF_IMG_20150918_151335_cell_24.png',\n",
       " '-rwxrwxrwx 1 brandon brandon 5.2K Jul 13  2016 C101P62ThinF_IMG_20150918_151335_cell_22.png',\n",
       " '-rwxrwxrwx 1 brandon brandon  13K Jul 13  2016 C101P62ThinF_IMG_20150918_151335_cell_16.png',\n",
       " '-rwxrwxrwx 1 brandon brandon 8.3K Jul 13  2016 C101P62ThinF_IMG_20150918_151335_cell_13.png',\n",
       " '-rwxrwxrwx 1 brandon brandon 8.7K Jul 13  2016 C75P36_ThinF_IMG_20150815_162935_cell_99.png',\n",
       " '-rwxrwxrwx 1 brandon brandon  12K Jul 13  2016 C75P36_ThinF_IMG_20150815_162935_cell_9.png',\n",
       " '-rwxrwxrwx 1 brandon brandon 6.8K Jul 13  2016 C75P36_ThinF_IMG_20150815_162935_cell_82.png',\n",
       " '-rwxrwxrwx 1 brandon brandon  13K Jul 13  2016 C75P36_ThinF_IMG_20150815_162935_cell_67.png',\n",
       " '-rwxrwxrwx 1 brandon brandon 9.7K Jul 13  2016 C75P36_ThinF_IMG_20150815_162935_cell_51.png',\n",
       " '-rwxrwxrwx 1 brandon brandon 8.0K Jul 13  2016 C75P36_ThinF_IMG_20150815_162935_cell_36.png',\n",
       " '-rwxrwxrwx 1 brandon brandon 6.9K Jul 13  2016 C75P36_ThinF_IMG_20150815_162935_cell_103.png',\n",
       " '-rwxrwxrwx 1 brandon brandon 9.4K Jul 13  2016 C75P36_ThinF_IMG_20150815_162935_cell_143.png',\n",
       " '-rwxrwxrwx 1 brandon brandon 9.2K Jul 13  2016 C75P36_ThinF_IMG_20150815_162935_cell_117.png',\n",
       " '-rwxrwxrwx 1 brandon brandon 9.9K Jul 13  2016 C135P96ThinF_IMG_20151005_123715_cell_86.png',\n",
       " '-rwxrwxrwx 1 brandon brandon  11K Jul 13  2016 C135P96ThinF_IMG_20151005_123715_cell_81.png',\n",
       " '-rwxrwxrwx 1 brandon brandon 9.9K Jul 13  2016 C135P96ThinF_IMG_20151005_123715_cell_53.png',\n",
       " '-rwxrwxrwx 1 brandon brandon  13K Jul 13  2016 C135P96ThinF_IMG_20151005_123715_cell_5.png',\n",
       " '-rwxrwxrwx 1 brandon brandon 9.6K Jul 13  2016 C135P96ThinF_IMG_20151005_123715_cell_2.png',\n",
       " '-rwxrwxrwx 1 brandon brandon 6.1K Jul 13  2016 C135P96ThinF_IMG_20151005_123715_cell_17.png',\n",
       " '-rwxrwxrwx 1 brandon brandon  11K Jul 13  2016 C135P96ThinF_IMG_20151005_123715_cell_128.png',\n",
       " '-rwxrwxrwx 1 brandon brandon  11K Jul 13  2016 C135P96ThinF_IMG_20151005_123715_cell_121.png',\n",
       " '-rwxrwxrwx 1 brandon brandon 8.9K Jul 13  2016 C135P96ThinF_IMG_20151005_123715_cell_146.png',\n",
       " '-rwxrwxrwx 1 brandon brandon 9.4K Jul 13  2016 C135P96ThinF_IMG_20151005_123715_cell_139.png',\n",
       " '-rwxrwxrwx 1 brandon brandon 8.8K Jul 13  2016 C101P62ThinF_IMG_20150918_151507_cell_48.png',\n",
       " '-rwxrwxrwx 1 brandon brandon 7.3K Jul 13  2016 C101P62ThinF_IMG_20150918_151507_cell_40.png',\n",
       " '-rwxrwxrwx 1 brandon brandon 7.6K Jul 13  2016 C101P62ThinF_IMG_20150918_151507_cell_32.png',\n",
       " '-rwxrwxrwx 1 brandon brandon 6.4K Jul 13  2016 C101P62ThinF_IMG_20150918_151507_cell_27.png',\n",
       " '-rwxrwxrwx 1 brandon brandon 6.4K Jul 13  2016 C101P62ThinF_IMG_20150918_151507_cell_21.png',\n",
       " '-rwxrwxrwx 1 brandon brandon 7.2K Jul 13  2016 C101P62ThinF_IMG_20150918_151507_cell_15.png',\n",
       " '-rwxrwxrwx 1 brandon brandon 5.2K Jul 13  2016 C101P62ThinF_IMG_20150918_151507_cell_11.png',\n",
       " '-rwxrwxrwx 1 brandon brandon  11K Jul 13  2016 C101P62ThinF_IMG_20150918_151507_cell_10.png',\n",
       " '-rwxrwxrwx 1 brandon brandon  11K Jul 13  2016 C75P36_ThinF_IMG_20150815_163015_cell_40.png',\n",
       " '-rwxrwxrwx 1 brandon brandon  13K Jul 13  2016 C75P36_ThinF_IMG_20150815_163015_cell_22.png',\n",
       " '-rwxrwxrwx 1 brandon brandon  14K Jul 13  2016 C75P36_ThinF_IMG_20150815_163015_cell_14.png',\n",
       " '-rwxrwxrwx 1 brandon brandon 5.9K Jul 13  2016 C75P36_ThinF_IMG_20150815_163015_cell_93.png',\n",
       " '-rwxrwxrwx 1 brandon brandon  13K Jul 13  2016 C75P36_ThinF_IMG_20150815_163015_cell_68.png',\n",
       " '-rwxrwxrwx 1 brandon brandon  14K Jul 13  2016 C75P36_ThinF_IMG_20150815_163015_cell_58.png',\n",
       " '-rwxrwxrwx 1 brandon brandon 9.1K Jul 13  2016 C75P36_ThinF_IMG_20150815_163015_cell_149.png',\n",
       " '-rwxrwxrwx 1 brandon brandon 9.8K Jul 13  2016 C75P36_ThinF_IMG_20150815_163015_cell_132.png',\n",
       " '-rwxrwxrwx 1 brandon brandon 8.2K Jul 13  2016 C75P36_ThinF_IMG_20150815_163015_cell_122.png',\n",
       " '-rwxrwxrwx 1 brandon brandon 9.4K Jul 13  2016 C75P36_ThinF_IMG_20150815_163015_cell_101.png',\n",
       " '-rwxrwxrwx 1 brandon brandon 8.7K Jul 13  2016 C135P96ThinF_IMG_20151005_123857_cell_94.png',\n",
       " '-rwxrwxrwx 1 brandon brandon  11K Jul 13  2016 C135P96ThinF_IMG_20151005_123857_cell_89.png',\n",
       " '-rwxrwxrwx 1 brandon brandon  12K Jul 13  2016 C135P96ThinF_IMG_20151005_123857_cell_79.png',\n",
       " '-rwxrwxrwx 1 brandon brandon 9.9K Jul 13  2016 C135P96ThinF_IMG_20151005_123857_cell_22.png',\n",
       " '-rwxrwxrwx 1 brandon brandon 8.9K Jul 13  2016 C135P96ThinF_IMG_20151005_123857_cell_144.png',\n",
       " '-rwxrwxrwx 1 brandon brandon 7.6K Jul 13  2016 C135P96ThinF_IMG_20151005_123857_cell_129.png',\n",
       " '-rwxrwxrwx 1 brandon brandon 9.8K Jul 13  2016 C135P96ThinF_IMG_20151005_123857_cell_12.png',\n",
       " '-rwxrwxrwx 1 brandon brandon  12K Jul 13  2016 C135P96ThinF_IMG_20151005_123857_cell_101.png',\n",
       " '-rwxrwxrwx 1 brandon brandon  11K Jul 13  2016 C135P96ThinF_IMG_20151005_123857_cell_158.png',\n",
       " '-rwxrwxrwx 1 brandon brandon  12K Jul 13  2016 C39P4thinF_original_IMG_20150622_105803_cell_64.png',\n",
       " '-rwxrwxrwx 1 brandon brandon  12K Jul 13  2016 C39P4thinF_original_IMG_20150622_105803_cell_63.png',\n",
       " '-rwxrwxrwx 1 brandon brandon  11K Jul 13  2016 C39P4thinF_original_IMG_20150622_105803_cell_58.png',\n",
       " '-rwxrwxrwx 1 brandon brandon  11K Jul 13  2016 C39P4thinF_original_IMG_20150622_105803_cell_53.png',\n",
       " '-rwxrwxrwx 1 brandon brandon 8.6K Jul 13  2016 C39P4thinF_original_IMG_20150622_105803_cell_50.png',\n",
       " '-rwxrwxrwx 1 brandon brandon  10K Jul 13  2016 C39P4thinF_original_IMG_20150622_105803_cell_31.png',\n",
       " '-rwxrwxrwx 1 brandon brandon 9.0K Jul 13  2016 C39P4thinF_original_IMG_20150622_105803_cell_16.png',\n",
       " '-rwxrwxrwx 1 brandon brandon  13K Jul 13  2016 C39P4thinF_original_IMG_20150622_105803_cell_73.png',\n",
       " '-rwxrwxrwx 1 brandon brandon 8.4K Jul 13  2016 C101P62ThinF_IMG_20150918_151942_cell_4.png',\n",
       " '-rwxrwxrwx 1 brandon brandon  12K Jul 13  2016 C101P62ThinF_IMG_20150918_151942_cell_57.png',\n",
       " '-rwxrwxrwx 1 brandon brandon  11K Jul 13  2016 C101P62ThinF_IMG_20150918_151942_cell_56.png',\n",
       " '-rwxrwxrwx 1 brandon brandon 9.1K Jul 13  2016 C101P62ThinF_IMG_20150918_151942_cell_53.png',\n",
       " '-rwxrwxrwx 1 brandon brandon  14K Jul 13  2016 C101P62ThinF_IMG_20150918_151942_cell_52.png',\n",
       " '-rwxrwxrwx 1 brandon brandon 4.6K Jul 13  2016 C101P62ThinF_IMG_20150918_151942_cell_39.png',\n",
       " '-rwxrwxrwx 1 brandon brandon 8.6K Jul 13  2016 C101P62ThinF_IMG_20150918_151942_cell_28.png',\n",
       " '-rwxrwxrwx 1 brandon brandon 6.0K Jul 13  2016 C101P62ThinF_IMG_20150918_151942_cell_18.png',\n",
       " '-rwxrwxrwx 1 brandon brandon 7.4K Jul 13  2016 C75P36_ThinF_IMG_20150815_163059_cell_99.png',\n",
       " '-rwxrwxrwx 1 brandon brandon  13K Jul 13  2016 C75P36_ThinF_IMG_20150815_163059_cell_84.png',\n",
       " '-rwxrwxrwx 1 brandon brandon 6.6K Jul 13  2016 C75P36_ThinF_IMG_20150815_163059_cell_66.png',\n",
       " '-rwxrwxrwx 1 brandon brandon 7.1K Jul 13  2016 C75P36_ThinF_IMG_20150815_163059_cell_49.png',\n",
       " '-rwxrwxrwx 1 brandon brandon  11K Jul 13  2016 C75P36_ThinF_IMG_20150815_163059_cell_3.png',\n",
       " '-rwxrwxrwx 1 brandon brandon  11K Jul 13  2016 C75P36_ThinF_IMG_20150815_163059_cell_131.png',\n",
       " '-rwxrwxrwx 1 brandon brandon 8.3K Jul 13  2016 C75P36_ThinF_IMG_20150815_163059_cell_128.png',\n",
       " '-rwxrwxrwx 1 brandon brandon  13K Jul 13  2016 C75P36_ThinF_IMG_20150815_163059_cell_116.png',\n",
       " '-rwxrwxrwx 1 brandon brandon 7.6K Jul 13  2016 C75P36_ThinF_IMG_20150815_163059_cell_1.png',\n",
       " '-rwxrwxrwx 1 brandon brandon 9.9K Jul 13  2016 C135P96ThinF_IMG_20151005_124031_cell_70.png',\n",
       " '-rwxrwxrwx 1 brandon brandon  11K Jul 13  2016 C135P96ThinF_IMG_20151005_124031_cell_54.png',\n",
       " '-rwxrwxrwx 1 brandon brandon 9.4K Jul 13  2016 C135P96ThinF_IMG_20151005_124031_cell_49.png',\n",
       " '-rwxrwxrwx 1 brandon brandon  10K Jul 13  2016 C135P96ThinF_IMG_20151005_124031_cell_1.png',\n",
       " '-rwxrwxrwx 1 brandon brandon 9.6K Jul 13  2016 C135P96ThinF_IMG_20151005_124031_cell_78.png',\n",
       " '-rwxrwxrwx 1 brandon brandon  11K Jul 13  2016 C135P96ThinF_IMG_20151005_124031_cell_75.png',\n",
       " '-rwxrwxrwx 1 brandon brandon 9.2K Jul 13  2016 C135P96ThinF_IMG_20151005_124031_cell_72.png',\n",
       " '-rwxrwxrwx 1 brandon brandon  11K Jul 13  2016 C135P96ThinF_IMG_20151005_124031_cell_156.png',\n",
       " '-rwxrwxrwx 1 brandon brandon 9.9K Jul 13  2016 C135P96ThinF_IMG_20151005_124031_cell_144.png',\n",
       " '-rwxrwxrwx 1 brandon brandon 9.6K Jul 13  2016 C135P96ThinF_IMG_20151005_124031_cell_140.png',\n",
       " '-rwxrwxrwx 1 brandon brandon 9.7K Jul 13  2016 C135P96ThinF_IMG_20151005_124031_cell_115.png',\n",
       " '-rwxrwxrwx 1 brandon brandon  11K Jul 13  2016 C39P4thinF_original_IMG_20150622_110115_cell_82.png',\n",
       " '-rwxrwxrwx 1 brandon brandon  13K Jul 13  2016 C39P4thinF_original_IMG_20150622_110115_cell_67.png',\n",
       " '-rwxrwxrwx 1 brandon brandon  13K Jul 13  2016 C39P4thinF_original_IMG_20150622_110115_cell_60.png',\n",
       " '-rwxrwxrwx 1 brandon brandon  12K Jul 13  2016 C39P4thinF_original_IMG_20150622_110115_cell_5.png',\n",
       " '-rwxrwxrwx 1 brandon brandon  11K Jul 13  2016 C39P4thinF_original_IMG_20150622_110115_cell_41.png',\n",
       " '-rwxrwxrwx 1 brandon brandon  16K Jul 13  2016 C39P4thinF_original_IMG_20150622_110115_cell_19.png',\n",
       " '-rwxrwxrwx 1 brandon brandon  11K Jul 13  2016 C39P4thinF_original_IMG_20150622_110115_cell_14.png',\n",
       " '-rwxrwxrwx 1 brandon brandon 9.9K Jul 13  2016 C39P4thinF_original_IMG_20150622_110115_cell_98.png',\n",
       " '-rwxrwxrwx 1 brandon brandon 9.9K Jul 13  2016 C39P4thinF_original_IMG_20150622_110115_cell_100.png',\n",
       " '-rwxrwxrwx 1 brandon brandon  13K Jul 13  2016 C75P36_ThinF_IMG_20150815_163147_cell_86.png',\n",
       " '-rwxrwxrwx 1 brandon brandon  11K Jul 13  2016 C75P36_ThinF_IMG_20150815_163147_cell_47.png',\n",
       " '-rwxrwxrwx 1 brandon brandon 7.9K Jul 13  2016 C75P36_ThinF_IMG_20150815_163147_cell_42.png',\n",
       " '-rwxrwxrwx 1 brandon brandon  13K Jul 13  2016 C75P36_ThinF_IMG_20150815_163147_cell_39.png',\n",
       " '-rwxrwxrwx 1 brandon brandon 7.1K Jul 13  2016 C75P36_ThinF_IMG_20150815_163147_cell_21.png',\n",
       " '-rwxrwxrwx 1 brandon brandon 7.2K Jul 13  2016 C75P36_ThinF_IMG_20150815_163147_cell_2.png',\n",
       " '-rwxrwxrwx 1 brandon brandon 7.1K Jul 13  2016 C75P36_ThinF_IMG_20150815_163147_cell_1.png',\n",
       " '-rwxrwxrwx 1 brandon brandon 9.5K Jul 13  2016 C135P96ThinF_IMG_20151005_124204_cell_5.png',\n",
       " '-rwxrwxrwx 1 brandon brandon 9.5K Jul 13  2016 C75P36_ThinF_IMG_20150815_163147_cell_159.png',\n",
       " '-rwxrwxrwx 1 brandon brandon 8.9K Jul 13  2016 C75P36_ThinF_IMG_20150815_163147_cell_131.png',\n",
       " '-rwxrwxrwx 1 brandon brandon  12K Jul 13  2016 C75P36_ThinF_IMG_20150815_163147_cell_128.png',\n",
       " '-rwxrwxrwx 1 brandon brandon 9.5K Jul 13  2016 C135P96ThinF_IMG_20151005_124204_cell_82.png',\n",
       " '-rwxrwxrwx 1 brandon brandon 9.9K Jul 13  2016 C135P96ThinF_IMG_20151005_124204_cell_68.png',\n",
       " '-rwxrwxrwx 1 brandon brandon 9.4K Jul 13  2016 C135P96ThinF_IMG_20151005_124204_cell_40.png',\n",
       " '-rwxrwxrwx 1 brandon brandon  11K Jul 13  2016 C135P96ThinF_IMG_20151005_124204_cell_122.png',\n",
       " '-rwxrwxrwx 1 brandon brandon  11K Jul 13  2016 C135P96ThinF_IMG_20151005_124204_cell_121.png',\n",
       " '-rwxrwxrwx 1 brandon brandon 9.4K Jul 13  2016 C135P96ThinF_IMG_20151005_124204_cell_118.png',\n",
       " '-rwxrwxrwx 1 brandon brandon  11K Jul 13  2016 C135P96ThinF_IMG_20151005_124204_cell_101.png',\n",
       " '-rwxrwxrwx 1 brandon brandon  11K Jul 13  2016 C39P4thinF_original_IMG_20150622_110352_cell_61.png',\n",
       " '-rwxrwxrwx 1 brandon brandon 9.3K Jul 13  2016 C39P4thinF_original_IMG_20150622_110352_cell_47.png',\n",
       " '-rwxrwxrwx 1 brandon brandon 9.3K Jul 13  2016 C39P4thinF_original_IMG_20150622_110352_cell_42.png',\n",
       " '-rwxrwxrwx 1 brandon brandon 8.6K Jul 13  2016 C39P4thinF_original_IMG_20150622_110352_cell_37.png',\n",
       " '-rwxrwxrwx 1 brandon brandon 9.7K Jul 13  2016 C39P4thinF_original_IMG_20150622_110352_cell_3.png',\n",
       " '-rwxrwxrwx 1 brandon brandon 7.0K Jul 13  2016 C39P4thinF_original_IMG_20150622_110352_cell_28.png',\n",
       " '-rwxrwxrwx 1 brandon brandon  12K Jul 13  2016 C39P4thinF_original_IMG_20150622_110352_cell_24.png',\n",
       " '-rwxrwxrwx 1 brandon brandon 9.8K Jul 13  2016 C39P4thinF_original_IMG_20150622_110352_cell_15.png',\n",
       " '-rwxrwxrwx 1 brandon brandon 8.9K Jul 13  2016 C101P62ThinF_IMG_20150918_155731_cell_57.png',\n",
       " '-rwxrwxrwx 1 brandon brandon 9.9K Jul 13  2016 C101P62ThinF_IMG_20150918_155731_cell_56.png',\n",
       " '-rwxrwxrwx 1 brandon brandon  10K Jul 13  2016 C101P62ThinF_IMG_20150918_155731_cell_37.png',\n",
       " '-rwxrwxrwx 1 brandon brandon  12K Jul 13  2016 C101P62ThinF_IMG_20150918_155731_cell_25.png',\n",
       " '-rwxrwxrwx 1 brandon brandon  11K Jul 13  2016 C101P62ThinF_IMG_20150918_155731_cell_24.png',\n",
       " '-rwxrwxrwx 1 brandon brandon 7.6K Jul 13  2016 C101P62ThinF_IMG_20150918_155731_cell_19.png',\n",
       " '-rwxrwxrwx 1 brandon brandon 9.0K Jul 13  2016 C101P62ThinF_IMG_20150918_155731_cell_12.png',\n",
       " '-rwxrwxrwx 1 brandon brandon 9.9K Jul 13  2016 C135P96ThinF_IMG_20151005_124359_cell_44.png',\n",
       " '-rwxrwxrwx 1 brandon brandon 8.7K Jul 13  2016 C135P96ThinF_IMG_20151005_124359_cell_21.png',\n",
       " '-rwxrwxrwx 1 brandon brandon  11K Jul 13  2016 C135P96ThinF_IMG_20151005_124359_cell_11.png',\n",
       " '-rwxrwxrwx 1 brandon brandon  12K Jul 13  2016 C75P36_ThinF_IMG_20150815_163225_cell_6.png',\n",
       " '-rwxrwxrwx 1 brandon brandon  11K Jul 13  2016 C75P36_ThinF_IMG_20150815_163225_cell_21.png',\n",
       " '-rwxrwxrwx 1 brandon brandon 8.9K Jul 13  2016 C75P36_ThinF_IMG_20150815_163225_cell_1.png',\n",
       " '-rwxrwxrwx 1 brandon brandon 9.1K Jul 13  2016 C135P96ThinF_IMG_20151005_124359_cell_91.png',\n",
       " '-rwxrwxrwx 1 brandon brandon  11K Jul 13  2016 C135P96ThinF_IMG_20151005_124359_cell_80.png',\n",
       " '-rwxrwxrwx 1 brandon brandon  13K Jul 13  2016 C135P96ThinF_IMG_20151005_124359_cell_133.png',\n",
       " '-rwxrwxrwx 1 brandon brandon  12K Jul 13  2016 C135P96ThinF_IMG_20151005_124359_cell_113.png',\n",
       " '-rwxrwxrwx 1 brandon brandon 9.6K Jul 13  2016 C135P96ThinF_IMG_20151005_124359_cell_111.png',\n",
       " '-rwxrwxrwx 1 brandon brandon  11K Jul 13  2016 C75P36_ThinF_IMG_20150815_163225_cell_62.png',\n",
       " '-rwxrwxrwx 1 brandon brandon  12K Jul 13  2016 C75P36_ThinF_IMG_20150815_163225_cell_164.png',\n",
       " '-rwxrwxrwx 1 brandon brandon 9.2K Jul 13  2016 C75P36_ThinF_IMG_20150815_163225_cell_126.png',\n",
       " '-rwxrwxrwx 1 brandon brandon  11K Jul 13  2016 C75P36_ThinF_IMG_20150815_163225_cell_108.png',\n",
       " '-rwxrwxrwx 1 brandon brandon  13K Jul 13  2016 C75P36_ThinF_IMG_20150815_163225_cell_106.png',\n",
       " '-rwxrwxrwx 1 brandon brandon  10K Jul 13  2016 C39P4thinF_original_IMG_20150622_110435_cell_5.png',\n",
       " '-rwxrwxrwx 1 brandon brandon  14K Jul 13  2016 C39P4thinF_original_IMG_20150622_110435_cell_1.png',\n",
       " '-rwxrwxrwx 1 brandon brandon 9.7K Jul 13  2016 C39P4thinF_original_IMG_20150622_110435_cell_76.png',\n",
       " '-rwxrwxrwx 1 brandon brandon 9.5K Jul 13  2016 C39P4thinF_original_IMG_20150622_110435_cell_71.png',\n",
       " '-rwxrwxrwx 1 brandon brandon 9.9K Jul 13  2016 C39P4thinF_original_IMG_20150622_110435_cell_50.png',\n",
       " '-rwxrwxrwx 1 brandon brandon  10K Jul 13  2016 C39P4thinF_original_IMG_20150622_110435_cell_43.png',\n",
       " '-rwxrwxrwx 1 brandon brandon  12K Jul 13  2016 C39P4thinF_original_IMG_20150622_110435_cell_41.png',\n",
       " '-rwxrwxrwx 1 brandon brandon  11K Jul 13  2016 C39P4thinF_original_IMG_20150622_110435_cell_32.png',\n",
       " '-rwxrwxrwx 1 brandon brandon  12K Jul 13  2016 C39P4thinF_original_IMG_20150622_110435_cell_28.png',\n",
       " '-rwxrwxrwx 1 brandon brandon  11K Jul 13  2016 C135P96ThinF_IMG_20151005_124444_cell_78.png',\n",
       " '-rwxrwxrwx 1 brandon brandon  11K Jul 13  2016 C135P96ThinF_IMG_20151005_124444_cell_60.png',\n",
       " '-rwxrwxrwx 1 brandon brandon 8.4K Jul 13  2016 C135P96ThinF_IMG_20151005_124444_cell_40.png',\n",
       " '-rwxrwxrwx 1 brandon brandon  12K Jul 13  2016 C135P96ThinF_IMG_20151005_124444_cell_4.png',\n",
       " '-rwxrwxrwx 1 brandon brandon 9.3K Jul 13  2016 C135P96ThinF_IMG_20151005_124444_cell_27.png',\n",
       " '-rwxrwxrwx 1 brandon brandon 8.4K Jul 13  2016 C135P96ThinF_IMG_20151005_124444_cell_91.png',\n",
       " '-rwxrwxrwx 1 brandon brandon 9.0K Jul 13  2016 C135P96ThinF_IMG_20151005_124444_cell_114.png',\n",
       " '-rwxrwxrwx 1 brandon brandon  10K Jul 13  2016 C135P96ThinF_IMG_20151005_124444_cell_108.png',\n",
       " '-rwxrwxrwx 1 brandon brandon 9.8K Jul 13  2016 C135P96ThinF_IMG_20151005_124444_cell_107.png',\n",
       " '-rwxrwxrwx 1 brandon brandon  12K Jul 13  2016 C75P36_ThinF_IMG_20150815_163707_cell_86.png',\n",
       " '-rwxrwxrwx 1 brandon brandon  10K Jul 13  2016 C75P36_ThinF_IMG_20150815_163707_cell_81.png',\n",
       " '-rwxrwxrwx 1 brandon brandon  13K Jul 13  2016 C75P36_ThinF_IMG_20150815_163707_cell_67.png',\n",
       " '-rwxrwxrwx 1 brandon brandon 8.9K Jul 13  2016 C75P36_ThinF_IMG_20150815_163707_cell_51.png',\n",
       " '-rwxrwxrwx 1 brandon brandon 9.6K Jul 13  2016 C75P36_ThinF_IMG_20150815_163707_cell_44.png',\n",
       " '-rwxrwxrwx 1 brandon brandon  12K Jul 13  2016 C75P36_ThinF_IMG_20150815_163707_cell_33.png',\n",
       " '-rwxrwxrwx 1 brandon brandon  11K Jul 13  2016 C75P36_ThinF_IMG_20150815_163707_cell_155.png',\n",
       " '-rwxrwxrwx 1 brandon brandon  11K Jul 13  2016 C75P36_ThinF_IMG_20150815_163707_cell_131.png',\n",
       " '-rwxrwxrwx 1 brandon brandon 9.5K Jul 13  2016 C75P36_ThinF_IMG_20150815_163707_cell_103.png',\n",
       " '-rwxrwxrwx 1 brandon brandon 7.8K Jul 13  2016 C136P97ThinF_IMG_20151005_140538_cell_65.png',\n",
       " '-rwxrwxrwx 1 brandon brandon 9.5K Jul 13  2016 C136P97ThinF_IMG_20151005_140538_cell_6.png',\n",
       " '-rwxrwxrwx 1 brandon brandon 9.7K Jul 13  2016 C136P97ThinF_IMG_20151005_140538_cell_59.png',\n",
       " '-rwxrwxrwx 1 brandon brandon 8.7K Jul 13  2016 C136P97ThinF_IMG_20151005_140538_cell_3.png',\n",
       " '-rwxrwxrwx 1 brandon brandon  11K Jul 13  2016 C136P97ThinF_IMG_20151005_140538_cell_18.png',\n",
       " '-rwxrwxrwx 1 brandon brandon 8.5K Jul 13  2016 C136P97ThinF_IMG_20151005_140538_cell_88.png',\n",
       " '-rwxrwxrwx 1 brandon brandon  12K Jul 13  2016 C136P97ThinF_IMG_20151005_140538_cell_73.png',\n",
       " '-rwxrwxrwx 1 brandon brandon  10K Jul 13  2016 C136P97ThinF_IMG_20151005_140538_cell_70.png',\n",
       " '-rwxrwxrwx 1 brandon brandon 8.0K Jul 13  2016 C75P36_ThinF_IMG_20150815_163742_cell_6.png',\n",
       " '-rwxrwxrwx 1 brandon brandon 9.7K Jul 13  2016 C75P36_ThinF_IMG_20150815_163742_cell_30.png',\n",
       " '-rwxrwxrwx 1 brandon brandon  11K Jul 13  2016 C75P36_ThinF_IMG_20150815_163742_cell_17.png',\n",
       " '-rwxrwxrwx 1 brandon brandon  13K Jul 13  2016 C39P4thinF_original_IMG_20150622_111206_cell_46.png',\n",
       " '-rwxrwxrwx 1 brandon brandon 8.3K Jul 13  2016 C39P4thinF_original_IMG_20150622_111206_cell_41.png',\n",
       " '-rwxrwxrwx 1 brandon brandon 8.6K Jul 13  2016 C39P4thinF_original_IMG_20150622_111206_cell_22.png',\n",
       " '-rwxrwxrwx 1 brandon brandon  11K Jul 13  2016 C39P4thinF_original_IMG_20150622_111206_cell_16.png',\n",
       " '-rwxrwxrwx 1 brandon brandon 6.7K Jul 13  2016 C39P4thinF_original_IMG_20150622_111206_cell_10.png',\n",
       " '-rwxrwxrwx 1 brandon brandon 7.8K Jul 13  2016 C39P4thinF_original_IMG_20150622_111206_cell_1.png',\n",
       " '-rwxrwxrwx 1 brandon brandon  11K Jul 13  2016 C75P36_ThinF_IMG_20150815_163742_cell_90.png',\n",
       " '-rwxrwxrwx 1 brandon brandon  11K Jul 13  2016 C75P36_ThinF_IMG_20150815_163742_cell_79.png',\n",
       " '-rwxrwxrwx 1 brandon brandon  11K Jul 13  2016 C75P36_ThinF_IMG_20150815_163742_cell_51.png',\n",
       " '-rwxrwxrwx 1 brandon brandon 8.3K Jul 13  2016 C75P36_ThinF_IMG_20150815_163742_cell_42.png',\n",
       " '-rwxrwxrwx 1 brandon brandon 9.0K Jul 13  2016 C75P36_ThinF_IMG_20150815_163742_cell_145.png',\n",
       " '-rwxrwxrwx 1 brandon brandon 7.4K Jul 13  2016 C75P36_ThinF_IMG_20150815_163742_cell_136.png',\n",
       " '-rwxrwxrwx 1 brandon brandon  12K Jul 13  2016 C75P36_ThinF_IMG_20150815_163742_cell_111.png',\n",
       " '-rwxrwxrwx 1 brandon brandon 8.1K Jul 13  2016 C39P4thinF_original_IMG_20150622_111206_cell_75.png',\n",
       " '-rwxrwxrwx 1 brandon brandon  11K Jul 13  2016 C39P4thinF_original_IMG_20150622_111206_cell_74.png',\n",
       " '-rwxrwxrwx 1 brandon brandon  12K Jul 13  2016 C39P4thinF_original_IMG_20150622_111206_cell_60.png',\n",
       " '-rwxrwxrwx 1 brandon brandon  12K Jul 13  2016 C101P62ThinF_IMG_20150923_170246_cell_7.png',\n",
       " '-rwxrwxrwx 1 brandon brandon 9.5K Jul 13  2016 C101P62ThinF_IMG_20150923_170246_cell_5.png',\n",
       " '-rwxrwxrwx 1 brandon brandon 9.2K Jul 13  2016 C101P62ThinF_IMG_20150923_170246_cell_44.png',\n",
       " '-rwxrwxrwx 1 brandon brandon  13K Jul 13  2016 C101P62ThinF_IMG_20150923_170246_cell_42.png',\n",
       " '-rwxrwxrwx 1 brandon brandon 6.4K Jul 13  2016 C101P62ThinF_IMG_20150923_170246_cell_30.png',\n",
       " '-rwxrwxrwx 1 brandon brandon 4.7K Jul 13  2016 C101P62ThinF_IMG_20150923_170246_cell_27.png',\n",
       " '-rwxrwxrwx 1 brandon brandon 9.4K Jul 13  2016 C101P62ThinF_IMG_20150923_170246_cell_19.png',\n",
       " '-rwxrwxrwx 1 brandon brandon 9.2K Jul 13  2016 C101P62ThinF_IMG_20150923_170246_cell_14.png',\n",
       " '-rwxrwxrwx 1 brandon brandon 7.3K Jul 13  2016 C101P62ThinF_IMG_20150923_170246_cell_1.png',\n",
       " '-rwxrwxrwx 1 brandon brandon 7.8K Jul 13  2016 C136P97ThinF_IMG_20151005_140646_cell_82.png',\n",
       " '-rwxrwxrwx 1 brandon brandon 8.9K Jul 13  2016 C136P97ThinF_IMG_20151005_140646_cell_52.png',\n",
       " '-rwxrwxrwx 1 brandon brandon 6.9K Jul 13  2016 C136P97ThinF_IMG_20151005_140646_cell_39.png',\n",
       " '-rwxrwxrwx 1 brandon brandon  13K Jul 13  2016 C136P97ThinF_IMG_20151005_140646_cell_3.png',\n",
       " '-rwxrwxrwx 1 brandon brandon 9.2K Jul 13  2016 C136P97ThinF_IMG_20151005_140646_cell_27.png',\n",
       " '-rwxrwxrwx 1 brandon brandon 8.5K Jul 13  2016 C136P97ThinF_IMG_20151005_140646_cell_2.png',\n",
       " '-rwxrwxrwx 1 brandon brandon 7.8K Jul 13  2016 C136P97ThinF_IMG_20151005_140646_cell_84.png',\n",
       " '-rwxrwxrwx 1 brandon brandon 8.4K Jul 13  2016 C1_thinF_IMG_20150604_104722_cell_9.png',\n",
       " '-rwxrwxrwx 1 brandon brandon 8.4K Jul 13  2016 C1_thinF_IMG_20150604_104722_cell_15.png',\n",
       " '-rwxrwxrwx 1 brandon brandon  13K Jul 13  2016 C1_thinF_IMG_20150604_104722_cell_81.png',\n",
       " '-rwxrwxrwx 1 brandon brandon  11K Jul 13  2016 C1_thinF_IMG_20150604_104722_cell_79.png',\n",
       " '-rwxrwxrwx 1 brandon brandon 8.2K Jul 13  2016 C1_thinF_IMG_20150604_104722_cell_73.png',\n",
       " '-rwxrwxrwx 1 brandon brandon 8.9K Jul 13  2016 C1_thinF_IMG_20150604_104722_cell_66.png',\n",
       " '-rwxrwxrwx 1 brandon brandon  12K Jul 13  2016 C1_thinF_IMG_20150604_104722_cell_60.png',\n",
       " '-rwxrwxrwx 1 brandon brandon  13K Jul 13  2016 C1_thinF_IMG_20150604_104722_cell_164.png',\n",
       " '-rwxrwxrwx 1 brandon brandon  13K Jul 13  2016 C1_thinF_IMG_20150604_104722_cell_143.png',\n",
       " '-rwxrwxrwx 1 brandon brandon 8.0K Jul 13  2016 C1_thinF_IMG_20150604_104722_cell_123.png',\n",
       " '-rwxrwxrwx 1 brandon brandon  11K Jul 13  2016 C1_thinF_IMG_20150604_104722_cell_115.png',\n",
       " '-rwxrwxrwx 1 brandon brandon  11K Jul 13  2016 C1_thinF_IMG_20150604_104722_cell_248.png',\n",
       " '-rwxrwxrwx 1 brandon brandon  11K Jul 13  2016 C1_thinF_IMG_20150604_104722_cell_242.png',\n",
       " '-rwxrwxrwx 1 brandon brandon  13K Jul 13  2016 C1_thinF_IMG_20150604_104722_cell_231.png',\n",
       " '-rwxrwxrwx 1 brandon brandon  12K Jul 13  2016 C1_thinF_IMG_20150604_104722_cell_216.png',\n",
       " '-rwxrwxrwx 1 brandon brandon 9.2K Jul 13  2016 C1_thinF_IMG_20150604_104722_cell_211.png',\n",
       " '-rwxrwxrwx 1 brandon brandon  12K Jul 13  2016 C1_thinF_IMG_20150604_104722_cell_191.png',\n",
       " '-rwxrwxrwx 1 brandon brandon 9.5K Jul 13  2016 C101P62ThinF_IMG_20150923_170344_cell_70.png',\n",
       " '-rwxrwxrwx 1 brandon brandon  10K Jul 13  2016 C101P62ThinF_IMG_20150923_170344_cell_69.png',\n",
       " '-rwxrwxrwx 1 brandon brandon  11K Jul 13  2016 C101P62ThinF_IMG_20150923_170344_cell_66.png',\n",
       " '-rwxrwxrwx 1 brandon brandon  12K Jul 13  2016 C101P62ThinF_IMG_20150923_170344_cell_61.png',\n",
       " '-rwxrwxrwx 1 brandon brandon  12K Jul 13  2016 C101P62ThinF_IMG_20150923_170344_cell_55.png',\n",
       " '-rwxrwxrwx 1 brandon brandon 9.5K Jul 13  2016 C101P62ThinF_IMG_20150923_170344_cell_41.png',\n",
       " '-rwxrwxrwx 1 brandon brandon 6.5K Jul 13  2016 C101P62ThinF_IMG_20150923_170344_cell_31.png',\n",
       " '-rwxrwxrwx 1 brandon brandon  11K Jul 13  2016 C101P62ThinF_IMG_20150923_170344_cell_27.png',\n",
       " '-rwxrwxrwx 1 brandon brandon 9.2K Jul 13  2016 C136P97ThinF_IMG_20151005_141321_cell_85.png',\n",
       " '-rwxrwxrwx 1 brandon brandon 8.9K Jul 13  2016 C136P97ThinF_IMG_20151005_141321_cell_83.png',\n",
       " '-rwxrwxrwx 1 brandon brandon  11K Jul 13  2016 C136P97ThinF_IMG_20151005_141321_cell_71.png',\n",
       " '-rwxrwxrwx 1 brandon brandon  11K Jul 13  2016 C136P97ThinF_IMG_20151005_141321_cell_57.png',\n",
       " '-rwxrwxrwx 1 brandon brandon  12K Jul 13  2016 C136P97ThinF_IMG_20151005_141321_cell_43.png',\n",
       " '-rwxrwxrwx 1 brandon brandon 9.7K Jul 13  2016 C136P97ThinF_IMG_20151005_141321_cell_34.png',\n",
       " '-rwxrwxrwx 1 brandon brandon  11K Jul 13  2016 C136P97ThinF_IMG_20151005_141321_cell_20.png',\n",
       " '-rwxrwxrwx 1 brandon brandon  12K Jul 13  2016 C136P97ThinF_IMG_20151005_141321_cell_15.png',\n",
       " '-rwxrwxrwx 1 brandon brandon 7.5K Jul 13  2016 C39P4thinF_original_IMG_20150622_111723_cell_9.png',\n",
       " '-rwxrwxrwx 1 brandon brandon 7.4K Jul 13  2016 C39P4thinF_original_IMG_20150622_111723_cell_73.png',\n",
       " ...]"
      ]
     },
     "execution_count": 7,
     "metadata": {},
     "output_type": "execute_result"
    }
   ],
   "source": [
    "c.run(\"ls -ltrh kaggle/cell_images/Uninfected\")"
   ]
  },
  {
   "cell_type": "code",
   "execution_count": 8,
   "metadata": {},
   "outputs": [],
   "source": [
    "#I have the location of the images"
   ]
  },
  {
   "cell_type": "code",
   "execution_count": 9,
   "metadata": {},
   "outputs": [
    {
     "data": {
      "text/plain": [
       "[\"b'total 208M\",\n",
       " '-rwxrwxrwx 1 brandon brandon  17K Jul 13  2016 C33P1thinF_IMG_20150619_114756a_cell_182.png',\n",
       " '-rwxrwxrwx 1 brandon brandon  17K Jul 13  2016 C33P1thinF_IMG_20150619_114756a_cell_181.png',\n",
       " '-rwxrwxrwx 1 brandon brandon  14K Jul 13  2016 C33P1thinF_IMG_20150619_114756a_cell_180.png',\n",
       " '-rwxrwxrwx 1 brandon brandon  19K Jul 13  2016 C33P1thinF_IMG_20150619_114756a_cell_179.png',\n",
       " '-rwxrwxrwx 1 brandon brandon  14K Jul 13  2016 C133P94ThinF_IMG_20151004_153930_cell_99.png',\n",
       " '-rwxrwxrwx 1 brandon brandon  14K Jul 13  2016 C133P94ThinF_IMG_20151004_153930_cell_114.png',\n",
       " '-rwxrwxrwx 1 brandon brandon  13K Jul 13  2016 C133P94ThinF_IMG_20151004_153930_cell_113.png',\n",
       " '-rwxrwxrwx 1 brandon brandon 9.0K Jul 13  2016 C133P94ThinF_IMG_20151004_153930_cell_112.png',\n",
       " '-rwxrwxrwx 1 brandon brandon  11K Jul 13  2016 C133P94ThinF_IMG_20151004_153930_cell_111.png',\n",
       " '-rwxrwxrwx 1 brandon brandon  11K Jul 13  2016 C133P94ThinF_IMG_20151004_153930_cell_110.png',\n",
       " '-rwxrwxrwx 1 brandon brandon  11K Jul 13  2016 C133P94ThinF_IMG_20151004_153930_cell_109.png',\n",
       " '-rwxrwxrwx 1 brandon brandon  13K Jul 13  2016 C133P94ThinF_IMG_20151004_153930_cell_108.png',\n",
       " '-rwxrwxrwx 1 brandon brandon  17K Jul 13  2016 C133P94ThinF_IMG_20151004_153930_cell_107.png',\n",
       " '-rwxrwxrwx 1 brandon brandon  12K Jul 13  2016 C133P94ThinF_IMG_20151004_153930_cell_106.png',\n",
       " '-rwxrwxrwx 1 brandon brandon  12K Jul 13  2016 C133P94ThinF_IMG_20151004_153930_cell_105.png',\n",
       " '-rwxrwxrwx 1 brandon brandon  15K Jul 13  2016 C133P94ThinF_IMG_20151004_153930_cell_104.png',\n",
       " '-rwxrwxrwx 1 brandon brandon 9.2K Jul 13  2016 C133P94ThinF_IMG_20151004_153930_cell_103.png',\n",
       " '-rwxrwxrwx 1 brandon brandon  11K Jul 13  2016 C133P94ThinF_IMG_20151004_153930_cell_102.png',\n",
       " '-rwxrwxrwx 1 brandon brandon  13K Jul 13  2016 C133P94ThinF_IMG_20151004_153930_cell_101.png',\n",
       " '-rwxrwxrwx 1 brandon brandon  13K Jul 13  2016 C133P94ThinF_IMG_20151004_153930_cell_100.png',\n",
       " '-rwxrwxrwx 1 brandon brandon  19K Jul 13  2016 C99P60ThinF_IMG_20150918_140900_cell_99.png',\n",
       " '-rwxrwxrwx 1 brandon brandon  11K Jul 13  2016 C99P60ThinF_IMG_20150918_140900_cell_98.png',\n",
       " '-rwxrwxrwx 1 brandon brandon  20K Jul 13  2016 C99P60ThinF_IMG_20150918_140900_cell_97.png',\n",
       " '-rwxrwxrwx 1 brandon brandon  15K Jul 13  2016 C99P60ThinF_IMG_20150918_140900_cell_147.png',\n",
       " '-rwxrwxrwx 1 brandon brandon  14K Jul 13  2016 C99P60ThinF_IMG_20150918_140900_cell_146.png',\n",
       " '-rwxrwxrwx 1 brandon brandon  20K Jul 13  2016 C99P60ThinF_IMG_20150918_140900_cell_145.png',\n",
       " '-rwxrwxrwx 1 brandon brandon  13K Jul 13  2016 C99P60ThinF_IMG_20150918_140900_cell_144.png',\n",
       " '-rwxrwxrwx 1 brandon brandon  15K Jul 13  2016 C99P60ThinF_IMG_20150918_140900_cell_143.png',\n",
       " '-rwxrwxrwx 1 brandon brandon  12K Jul 13  2016 C99P60ThinF_IMG_20150918_140900_cell_142.png',\n",
       " '-rwxrwxrwx 1 brandon brandon  13K Jul 13  2016 C99P60ThinF_IMG_20150918_140900_cell_141.png',\n",
       " '-rwxrwxrwx 1 brandon brandon  17K Jul 13  2016 C99P60ThinF_IMG_20150918_140900_cell_140.png',\n",
       " '-rwxrwxrwx 1 brandon brandon  11K Jul 13  2016 C99P60ThinF_IMG_20150918_140900_cell_139.png',\n",
       " '-rwxrwxrwx 1 brandon brandon  11K Jul 13  2016 C99P60ThinF_IMG_20150918_140900_cell_138.png',\n",
       " '-rwxrwxrwx 1 brandon brandon  14K Jul 13  2016 C99P60ThinF_IMG_20150918_140900_cell_137.png',\n",
       " '-rwxrwxrwx 1 brandon brandon  12K Jul 13  2016 C99P60ThinF_IMG_20150918_140900_cell_136.png',\n",
       " '-rwxrwxrwx 1 brandon brandon  17K Jul 13  2016 C99P60ThinF_IMG_20150918_140900_cell_135.png',\n",
       " '-rwxrwxrwx 1 brandon brandon  18K Jul 13  2016 C99P60ThinF_IMG_20150918_140900_cell_134.png',\n",
       " '-rwxrwxrwx 1 brandon brandon  14K Jul 13  2016 C99P60ThinF_IMG_20150918_140900_cell_133.png',\n",
       " '-rwxrwxrwx 1 brandon brandon  13K Jul 13  2016 C99P60ThinF_IMG_20150918_140900_cell_132.png',\n",
       " '-rwxrwxrwx 1 brandon brandon  20K Jul 13  2016 C99P60ThinF_IMG_20150918_140900_cell_131.png',\n",
       " '-rwxrwxrwx 1 brandon brandon  16K Jul 13  2016 C99P60ThinF_IMG_20150918_140900_cell_130.png',\n",
       " '-rwxrwxrwx 1 brandon brandon  15K Jul 13  2016 C99P60ThinF_IMG_20150918_140900_cell_129.png',\n",
       " '-rwxrwxrwx 1 brandon brandon  14K Jul 13  2016 C99P60ThinF_IMG_20150918_140900_cell_128.png',\n",
       " '-rwxrwxrwx 1 brandon brandon  15K Jul 13  2016 C99P60ThinF_IMG_20150918_140900_cell_127.png',\n",
       " '-rwxrwxrwx 1 brandon brandon  15K Jul 13  2016 C99P60ThinF_IMG_20150918_140900_cell_126.png',\n",
       " '-rwxrwxrwx 1 brandon brandon  23K Jul 13  2016 C99P60ThinF_IMG_20150918_140900_cell_125.png',\n",
       " '-rwxrwxrwx 1 brandon brandon  22K Jul 13  2016 C99P60ThinF_IMG_20150918_140900_cell_124.png',\n",
       " '-rwxrwxrwx 1 brandon brandon  16K Jul 13  2016 C99P60ThinF_IMG_20150918_140900_cell_123.png',\n",
       " '-rwxrwxrwx 1 brandon brandon  15K Jul 13  2016 C99P60ThinF_IMG_20150918_140900_cell_122.png',\n",
       " '-rwxrwxrwx 1 brandon brandon  14K Jul 13  2016 C99P60ThinF_IMG_20150918_140900_cell_121.png',\n",
       " '-rwxrwxrwx 1 brandon brandon  17K Jul 13  2016 C99P60ThinF_IMG_20150918_140900_cell_120.png',\n",
       " '-rwxrwxrwx 1 brandon brandon  14K Jul 13  2016 C99P60ThinF_IMG_20150918_140900_cell_119.png',\n",
       " '-rwxrwxrwx 1 brandon brandon  17K Jul 13  2016 C99P60ThinF_IMG_20150918_140900_cell_118.png',\n",
       " '-rwxrwxrwx 1 brandon brandon  14K Jul 13  2016 C99P60ThinF_IMG_20150918_140900_cell_117.png',\n",
       " '-rwxrwxrwx 1 brandon brandon  15K Jul 13  2016 C99P60ThinF_IMG_20150918_140900_cell_116.png',\n",
       " '-rwxrwxrwx 1 brandon brandon  15K Jul 13  2016 C99P60ThinF_IMG_20150918_140900_cell_115.png',\n",
       " '-rwxrwxrwx 1 brandon brandon  13K Jul 13  2016 C99P60ThinF_IMG_20150918_140900_cell_114.png',\n",
       " '-rwxrwxrwx 1 brandon brandon  18K Jul 13  2016 C99P60ThinF_IMG_20150918_140900_cell_113.png',\n",
       " '-rwxrwxrwx 1 brandon brandon  16K Jul 13  2016 C99P60ThinF_IMG_20150918_140900_cell_112.png',\n",
       " '-rwxrwxrwx 1 brandon brandon  17K Jul 13  2016 C99P60ThinF_IMG_20150918_140900_cell_111.png',\n",
       " '-rwxrwxrwx 1 brandon brandon  17K Jul 13  2016 C99P60ThinF_IMG_20150918_140900_cell_110.png',\n",
       " '-rwxrwxrwx 1 brandon brandon  16K Jul 13  2016 C99P60ThinF_IMG_20150918_140900_cell_109.png',\n",
       " '-rwxrwxrwx 1 brandon brandon  14K Jul 13  2016 C99P60ThinF_IMG_20150918_140900_cell_108.png',\n",
       " '-rwxrwxrwx 1 brandon brandon  15K Jul 13  2016 C99P60ThinF_IMG_20150918_140900_cell_107.png',\n",
       " '-rwxrwxrwx 1 brandon brandon  24K Jul 13  2016 C99P60ThinF_IMG_20150918_140900_cell_106.png',\n",
       " '-rwxrwxrwx 1 brandon brandon  20K Jul 13  2016 C99P60ThinF_IMG_20150918_140900_cell_105.png',\n",
       " '-rwxrwxrwx 1 brandon brandon  18K Jul 13  2016 C99P60ThinF_IMG_20150918_140900_cell_104.png',\n",
       " '-rwxrwxrwx 1 brandon brandon  15K Jul 13  2016 C99P60ThinF_IMG_20150918_140900_cell_103.png',\n",
       " '-rwxrwxrwx 1 brandon brandon  15K Jul 13  2016 C99P60ThinF_IMG_20150918_140900_cell_102.png',\n",
       " '-rwxrwxrwx 1 brandon brandon  17K Jul 13  2016 C99P60ThinF_IMG_20150918_140900_cell_101.png',\n",
       " '-rwxrwxrwx 1 brandon brandon  17K Jul 13  2016 C99P60ThinF_IMG_20150918_140900_cell_100.png',\n",
       " '-rwxrwxrwx 1 brandon brandon  13K Jul 13  2016 C72P33_ThinF_IMG_20150815_104045_cell_209.png',\n",
       " '-rwxrwxrwx 1 brandon brandon  14K Jul 13  2016 C72P33_ThinF_IMG_20150815_104045_cell_208.png',\n",
       " '-rwxrwxrwx 1 brandon brandon  14K Jul 13  2016 C33P1thinF_IMG_20150619_115740a_cell_163.png',\n",
       " '-rwxrwxrwx 1 brandon brandon  11K Jul 13  2016 C33P1thinF_IMG_20150619_115740a_cell_162.png',\n",
       " '-rwxrwxrwx 1 brandon brandon  13K Jul 13  2016 C33P1thinF_IMG_20150619_115740a_cell_161.png',\n",
       " '-rwxrwxrwx 1 brandon brandon 8.7K Jul 13  2016 C133P94ThinF_IMG_20151004_154158_cell_113.png',\n",
       " '-rwxrwxrwx 1 brandon brandon  15K Jul 13  2016 C133P94ThinF_IMG_20151004_154158_cell_112.png',\n",
       " '-rwxrwxrwx 1 brandon brandon 9.0K Jul 13  2016 C133P94ThinF_IMG_20151004_154158_cell_111.png',\n",
       " '-rwxrwxrwx 1 brandon brandon 9.5K Jul 13  2016 C133P94ThinF_IMG_20151004_154158_cell_110.png',\n",
       " '-rwxrwxrwx 1 brandon brandon  13K Jul 13  2016 C133P94ThinF_IMG_20151004_154158_cell_109.png',\n",
       " '-rwxrwxrwx 1 brandon brandon  12K Jul 13  2016 C133P94ThinF_IMG_20151004_154158_cell_108.png',\n",
       " '-rwxrwxrwx 1 brandon brandon  14K Jul 13  2016 C133P94ThinF_IMG_20151004_154158_cell_107.png',\n",
       " '-rwxrwxrwx 1 brandon brandon  14K Jul 13  2016 C133P94ThinF_IMG_20151004_154158_cell_125.png',\n",
       " '-rwxrwxrwx 1 brandon brandon  19K Jul 13  2016 C133P94ThinF_IMG_20151004_154158_cell_124.png',\n",
       " '-rwxrwxrwx 1 brandon brandon 7.4K Jul 13  2016 C133P94ThinF_IMG_20151004_154158_cell_123.png',\n",
       " '-rwxrwxrwx 1 brandon brandon  13K Jul 13  2016 C133P94ThinF_IMG_20151004_154158_cell_122.png',\n",
       " '-rwxrwxrwx 1 brandon brandon  15K Jul 13  2016 C133P94ThinF_IMG_20151004_154158_cell_121.png',\n",
       " '-rwxrwxrwx 1 brandon brandon  12K Jul 13  2016 C133P94ThinF_IMG_20151004_154158_cell_120.png',\n",
       " '-rwxrwxrwx 1 brandon brandon  11K Jul 13  2016 C133P94ThinF_IMG_20151004_154158_cell_119.png',\n",
       " '-rwxrwxrwx 1 brandon brandon  13K Jul 13  2016 C133P94ThinF_IMG_20151004_154158_cell_118.png',\n",
       " '-rwxrwxrwx 1 brandon brandon 8.6K Jul 13  2016 C133P94ThinF_IMG_20151004_154158_cell_117.png',\n",
       " '-rwxrwxrwx 1 brandon brandon  12K Jul 13  2016 C133P94ThinF_IMG_20151004_154158_cell_116.png',\n",
       " '-rwxrwxrwx 1 brandon brandon  12K Jul 13  2016 C133P94ThinF_IMG_20151004_154158_cell_115.png',\n",
       " '-rwxrwxrwx 1 brandon brandon  15K Jul 13  2016 C133P94ThinF_IMG_20151004_154158_cell_114.png',\n",
       " '-rwxrwxrwx 1 brandon brandon  18K Jul 13  2016 C99P60ThinF_IMG_20150918_141001_cell_99.png',\n",
       " '-rwxrwxrwx 1 brandon brandon  16K Jul 13  2016 C99P60ThinF_IMG_20150918_141001_cell_98.png',\n",
       " '-rwxrwxrwx 1 brandon brandon  17K Jul 13  2016 C99P60ThinF_IMG_20150918_141001_cell_97.png',\n",
       " '-rwxrwxrwx 1 brandon brandon  15K Jul 13  2016 C99P60ThinF_IMG_20150918_141001_cell_96.png',\n",
       " '-rwxrwxrwx 1 brandon brandon  15K Jul 13  2016 C99P60ThinF_IMG_20150918_141001_cell_95.png',\n",
       " '-rwxrwxrwx 1 brandon brandon  17K Jul 13  2016 C99P60ThinF_IMG_20150918_141001_cell_94.png',\n",
       " '-rwxrwxrwx 1 brandon brandon  13K Jul 13  2016 C99P60ThinF_IMG_20150918_141001_cell_93.png',\n",
       " '-rwxrwxrwx 1 brandon brandon  16K Jul 13  2016 C99P60ThinF_IMG_20150918_141001_cell_163.png',\n",
       " '-rwxrwxrwx 1 brandon brandon  14K Jul 13  2016 C99P60ThinF_IMG_20150918_141001_cell_162.png',\n",
       " '-rwxrwxrwx 1 brandon brandon  15K Jul 13  2016 C99P60ThinF_IMG_20150918_141001_cell_161.png',\n",
       " '-rwxrwxrwx 1 brandon brandon  16K Jul 13  2016 C99P60ThinF_IMG_20150918_141001_cell_160.png',\n",
       " '-rwxrwxrwx 1 brandon brandon  17K Jul 13  2016 C99P60ThinF_IMG_20150918_141001_cell_159.png',\n",
       " '-rwxrwxrwx 1 brandon brandon  15K Jul 13  2016 C99P60ThinF_IMG_20150918_141001_cell_158.png',\n",
       " '-rwxrwxrwx 1 brandon brandon  13K Jul 13  2016 C99P60ThinF_IMG_20150918_141001_cell_157.png',\n",
       " '-rwxrwxrwx 1 brandon brandon  14K Jul 13  2016 C99P60ThinF_IMG_20150918_141001_cell_156.png',\n",
       " '-rwxrwxrwx 1 brandon brandon  15K Jul 13  2016 C99P60ThinF_IMG_20150918_141001_cell_155.png',\n",
       " '-rwxrwxrwx 1 brandon brandon  14K Jul 13  2016 C99P60ThinF_IMG_20150918_141001_cell_154.png',\n",
       " '-rwxrwxrwx 1 brandon brandon  11K Jul 13  2016 C99P60ThinF_IMG_20150918_141001_cell_153.png',\n",
       " '-rwxrwxrwx 1 brandon brandon 8.5K Jul 13  2016 C99P60ThinF_IMG_20150918_141001_cell_152.png',\n",
       " '-rwxrwxrwx 1 brandon brandon  11K Jul 13  2016 C99P60ThinF_IMG_20150918_141001_cell_151.png',\n",
       " '-rwxrwxrwx 1 brandon brandon  14K Jul 13  2016 C99P60ThinF_IMG_20150918_141001_cell_150.png',\n",
       " '-rwxrwxrwx 1 brandon brandon  19K Jul 13  2016 C99P60ThinF_IMG_20150918_141001_cell_149.png',\n",
       " '-rwxrwxrwx 1 brandon brandon  16K Jul 13  2016 C99P60ThinF_IMG_20150918_141001_cell_148.png',\n",
       " '-rwxrwxrwx 1 brandon brandon  12K Jul 13  2016 C99P60ThinF_IMG_20150918_141001_cell_147.png',\n",
       " '-rwxrwxrwx 1 brandon brandon  19K Jul 13  2016 C99P60ThinF_IMG_20150918_141001_cell_146.png',\n",
       " '-rwxrwxrwx 1 brandon brandon  17K Jul 13  2016 C99P60ThinF_IMG_20150918_141001_cell_145.png',\n",
       " '-rwxrwxrwx 1 brandon brandon  19K Jul 13  2016 C99P60ThinF_IMG_20150918_141001_cell_144.png',\n",
       " '-rwxrwxrwx 1 brandon brandon  15K Jul 13  2016 C99P60ThinF_IMG_20150918_141001_cell_143.png',\n",
       " '-rwxrwxrwx 1 brandon brandon  17K Jul 13  2016 C99P60ThinF_IMG_20150918_141001_cell_142.png',\n",
       " '-rwxrwxrwx 1 brandon brandon  19K Jul 13  2016 C99P60ThinF_IMG_20150918_141001_cell_141.png',\n",
       " '-rwxrwxrwx 1 brandon brandon  18K Jul 13  2016 C99P60ThinF_IMG_20150918_141001_cell_140.png',\n",
       " '-rwxrwxrwx 1 brandon brandon  17K Jul 13  2016 C99P60ThinF_IMG_20150918_141001_cell_139.png',\n",
       " '-rwxrwxrwx 1 brandon brandon  13K Jul 13  2016 C99P60ThinF_IMG_20150918_141001_cell_138.png',\n",
       " '-rwxrwxrwx 1 brandon brandon  12K Jul 13  2016 C99P60ThinF_IMG_20150918_141001_cell_137.png',\n",
       " '-rwxrwxrwx 1 brandon brandon  17K Jul 13  2016 C99P60ThinF_IMG_20150918_141001_cell_136.png',\n",
       " '-rwxrwxrwx 1 brandon brandon  12K Jul 13  2016 C99P60ThinF_IMG_20150918_141001_cell_135.png',\n",
       " '-rwxrwxrwx 1 brandon brandon  12K Jul 13  2016 C99P60ThinF_IMG_20150918_141001_cell_134.png',\n",
       " '-rwxrwxrwx 1 brandon brandon  16K Jul 13  2016 C99P60ThinF_IMG_20150918_141001_cell_133.png',\n",
       " '-rwxrwxrwx 1 brandon brandon  13K Jul 13  2016 C99P60ThinF_IMG_20150918_141001_cell_132.png',\n",
       " '-rwxrwxrwx 1 brandon brandon  18K Jul 13  2016 C99P60ThinF_IMG_20150918_141001_cell_131.png',\n",
       " '-rwxrwxrwx 1 brandon brandon 9.9K Jul 13  2016 C99P60ThinF_IMG_20150918_141001_cell_130.png',\n",
       " '-rwxrwxrwx 1 brandon brandon  13K Jul 13  2016 C99P60ThinF_IMG_20150918_141001_cell_129.png',\n",
       " '-rwxrwxrwx 1 brandon brandon  14K Jul 13  2016 C99P60ThinF_IMG_20150918_141001_cell_128.png',\n",
       " '-rwxrwxrwx 1 brandon brandon  15K Jul 13  2016 C99P60ThinF_IMG_20150918_141001_cell_127.png',\n",
       " '-rwxrwxrwx 1 brandon brandon  21K Jul 13  2016 C99P60ThinF_IMG_20150918_141001_cell_126.png',\n",
       " '-rwxrwxrwx 1 brandon brandon  19K Jul 13  2016 C99P60ThinF_IMG_20150918_141001_cell_125.png',\n",
       " '-rwxrwxrwx 1 brandon brandon  16K Jul 13  2016 C99P60ThinF_IMG_20150918_141001_cell_124.png',\n",
       " '-rwxrwxrwx 1 brandon brandon  16K Jul 13  2016 C99P60ThinF_IMG_20150918_141001_cell_123.png',\n",
       " '-rwxrwxrwx 1 brandon brandon  16K Jul 13  2016 C99P60ThinF_IMG_20150918_141001_cell_122.png',\n",
       " '-rwxrwxrwx 1 brandon brandon  13K Jul 13  2016 C99P60ThinF_IMG_20150918_141001_cell_121.png',\n",
       " '-rwxrwxrwx 1 brandon brandon  16K Jul 13  2016 C99P60ThinF_IMG_20150918_141001_cell_120.png',\n",
       " '-rwxrwxrwx 1 brandon brandon  17K Jul 13  2016 C99P60ThinF_IMG_20150918_141001_cell_119.png',\n",
       " '-rwxrwxrwx 1 brandon brandon  18K Jul 13  2016 C99P60ThinF_IMG_20150918_141001_cell_118.png',\n",
       " '-rwxrwxrwx 1 brandon brandon  14K Jul 13  2016 C99P60ThinF_IMG_20150918_141001_cell_117.png',\n",
       " '-rwxrwxrwx 1 brandon brandon  15K Jul 13  2016 C99P60ThinF_IMG_20150918_141001_cell_116.png',\n",
       " '-rwxrwxrwx 1 brandon brandon  19K Jul 13  2016 C99P60ThinF_IMG_20150918_141001_cell_115.png',\n",
       " '-rwxrwxrwx 1 brandon brandon 9.5K Jul 13  2016 C99P60ThinF_IMG_20150918_141001_cell_114.png',\n",
       " '-rwxrwxrwx 1 brandon brandon 8.4K Jul 13  2016 C99P60ThinF_IMG_20150918_141001_cell_113.png',\n",
       " '-rwxrwxrwx 1 brandon brandon  12K Jul 13  2016 C99P60ThinF_IMG_20150918_141001_cell_112.png',\n",
       " '-rwxrwxrwx 1 brandon brandon 8.8K Jul 13  2016 C99P60ThinF_IMG_20150918_141001_cell_111.png',\n",
       " '-rwxrwxrwx 1 brandon brandon 7.8K Jul 13  2016 C99P60ThinF_IMG_20150918_141001_cell_110.png',\n",
       " '-rwxrwxrwx 1 brandon brandon  15K Jul 13  2016 C99P60ThinF_IMG_20150918_141001_cell_109.png',\n",
       " '-rwxrwxrwx 1 brandon brandon  17K Jul 13  2016 C99P60ThinF_IMG_20150918_141001_cell_108.png',\n",
       " '-rwxrwxrwx 1 brandon brandon  21K Jul 13  2016 C99P60ThinF_IMG_20150918_141001_cell_107.png',\n",
       " '-rwxrwxrwx 1 brandon brandon  15K Jul 13  2016 C99P60ThinF_IMG_20150918_141001_cell_106.png',\n",
       " '-rwxrwxrwx 1 brandon brandon  19K Jul 13  2016 C99P60ThinF_IMG_20150918_141001_cell_105.png',\n",
       " '-rwxrwxrwx 1 brandon brandon  16K Jul 13  2016 C99P60ThinF_IMG_20150918_141001_cell_104.png',\n",
       " '-rwxrwxrwx 1 brandon brandon  16K Jul 13  2016 C99P60ThinF_IMG_20150918_141001_cell_103.png',\n",
       " '-rwxrwxrwx 1 brandon brandon  15K Jul 13  2016 C99P60ThinF_IMG_20150918_141001_cell_102.png',\n",
       " '-rwxrwxrwx 1 brandon brandon  16K Jul 13  2016 C99P60ThinF_IMG_20150918_141001_cell_101.png',\n",
       " '-rwxrwxrwx 1 brandon brandon  11K Jul 13  2016 C99P60ThinF_IMG_20150918_141001_cell_100.png',\n",
       " '-rwxrwxrwx 1 brandon brandon  17K Jul 13  2016 C33P1thinF_IMG_20150619_115808a_cell_206.png',\n",
       " '-rwxrwxrwx 1 brandon brandon  14K Jul 13  2016 C33P1thinF_IMG_20150619_115808a_cell_205.png',\n",
       " '-rwxrwxrwx 1 brandon brandon 8.9K Jul 13  2016 C99P60ThinF_IMG_20150918_141001_cell_169.png',\n",
       " '-rwxrwxrwx 1 brandon brandon  17K Jul 13  2016 C99P60ThinF_IMG_20150918_141001_cell_168.png',\n",
       " '-rwxrwxrwx 1 brandon brandon  12K Jul 13  2016 C99P60ThinF_IMG_20150918_141001_cell_167.png',\n",
       " '-rwxrwxrwx 1 brandon brandon  19K Jul 13  2016 C99P60ThinF_IMG_20150918_141001_cell_166.png',\n",
       " '-rwxrwxrwx 1 brandon brandon  14K Jul 13  2016 C99P60ThinF_IMG_20150918_141001_cell_165.png',\n",
       " '-rwxrwxrwx 1 brandon brandon  16K Jul 13  2016 C99P60ThinF_IMG_20150918_141001_cell_164.png',\n",
       " '-rwxrwxrwx 1 brandon brandon  15K Jul 13  2016 C72P33_ThinF_IMG_20150815_104307_cell_223.png',\n",
       " '-rwxrwxrwx 1 brandon brandon  12K Jul 13  2016 C72P33_ThinF_IMG_20150815_104307_cell_222.png',\n",
       " '-rwxrwxrwx 1 brandon brandon  17K Jul 13  2016 C33P1thinF_IMG_20150619_120645a_cell_217.png',\n",
       " '-rwxrwxrwx 1 brandon brandon  13K Jul 13  2016 C33P1thinF_IMG_20150619_120645a_cell_216.png',\n",
       " '-rwxrwxrwx 1 brandon brandon  14K Jul 13  2016 C33P1thinF_IMG_20150619_120645a_cell_215.png',\n",
       " '-rwxrwxrwx 1 brandon brandon  13K Jul 13  2016 C133P94ThinF_IMG_20151004_154351_cell_97.png',\n",
       " '-rwxrwxrwx 1 brandon brandon  19K Jul 13  2016 C133P94ThinF_IMG_20151004_154351_cell_96.png',\n",
       " '-rwxrwxrwx 1 brandon brandon  13K Jul 13  2016 C133P94ThinF_IMG_20151004_154351_cell_95.png',\n",
       " '-rwxrwxrwx 1 brandon brandon  17K Jul 13  2016 C133P94ThinF_IMG_20151004_154351_cell_94.png',\n",
       " '-rwxrwxrwx 1 brandon brandon  18K Jul 13  2016 C133P94ThinF_IMG_20151004_154351_cell_93.png',\n",
       " '-rwxrwxrwx 1 brandon brandon 9.7K Jul 13  2016 C133P94ThinF_IMG_20151004_154351_cell_99.png',\n",
       " '-rwxrwxrwx 1 brandon brandon  11K Jul 13  2016 C133P94ThinF_IMG_20151004_154351_cell_98.png',\n",
       " '-rwxrwxrwx 1 brandon brandon  11K Jul 13  2016 C133P94ThinF_IMG_20151004_154351_cell_123.png',\n",
       " '-rwxrwxrwx 1 brandon brandon  11K Jul 13  2016 C133P94ThinF_IMG_20151004_154351_cell_122.png',\n",
       " '-rwxrwxrwx 1 brandon brandon  14K Jul 13  2016 C133P94ThinF_IMG_20151004_154351_cell_121.png',\n",
       " '-rwxrwxrwx 1 brandon brandon  12K Jul 13  2016 C133P94ThinF_IMG_20151004_154351_cell_120.png',\n",
       " '-rwxrwxrwx 1 brandon brandon  14K Jul 13  2016 C133P94ThinF_IMG_20151004_154351_cell_119.png',\n",
       " '-rwxrwxrwx 1 brandon brandon  17K Jul 13  2016 C133P94ThinF_IMG_20151004_154351_cell_118.png',\n",
       " '-rwxrwxrwx 1 brandon brandon 9.6K Jul 13  2016 C133P94ThinF_IMG_20151004_154351_cell_117.png',\n",
       " '-rwxrwxrwx 1 brandon brandon  15K Jul 13  2016 C133P94ThinF_IMG_20151004_154351_cell_116.png',\n",
       " '-rwxrwxrwx 1 brandon brandon  12K Jul 13  2016 C133P94ThinF_IMG_20151004_154351_cell_115.png',\n",
       " '-rwxrwxrwx 1 brandon brandon 7.0K Jul 13  2016 C133P94ThinF_IMG_20151004_154351_cell_114.png',\n",
       " '-rwxrwxrwx 1 brandon brandon  13K Jul 13  2016 C133P94ThinF_IMG_20151004_154351_cell_113.png',\n",
       " '-rwxrwxrwx 1 brandon brandon  11K Jul 13  2016 C133P94ThinF_IMG_20151004_154351_cell_112.png',\n",
       " '-rwxrwxrwx 1 brandon brandon  12K Jul 13  2016 C133P94ThinF_IMG_20151004_154351_cell_111.png',\n",
       " '-rwxrwxrwx 1 brandon brandon  13K Jul 13  2016 C133P94ThinF_IMG_20151004_154351_cell_110.png',\n",
       " '-rwxrwxrwx 1 brandon brandon 9.6K Jul 13  2016 C133P94ThinF_IMG_20151004_154351_cell_109.png',\n",
       " '-rwxrwxrwx 1 brandon brandon  16K Jul 13  2016 C133P94ThinF_IMG_20151004_154351_cell_108.png',\n",
       " '-rwxrwxrwx 1 brandon brandon  13K Jul 13  2016 C133P94ThinF_IMG_20151004_154351_cell_107.png',\n",
       " '-rwxrwxrwx 1 brandon brandon  13K Jul 13  2016 C133P94ThinF_IMG_20151004_154351_cell_106.png',\n",
       " '-rwxrwxrwx 1 brandon brandon 9.7K Jul 13  2016 C133P94ThinF_IMG_20151004_154351_cell_105.png',\n",
       " '-rwxrwxrwx 1 brandon brandon  13K Jul 13  2016 C133P94ThinF_IMG_20151004_154351_cell_104.png',\n",
       " '-rwxrwxrwx 1 brandon brandon 8.0K Jul 13  2016 C133P94ThinF_IMG_20151004_154351_cell_103.png',\n",
       " '-rwxrwxrwx 1 brandon brandon  11K Jul 13  2016 C133P94ThinF_IMG_20151004_154351_cell_102.png',\n",
       " '-rwxrwxrwx 1 brandon brandon  13K Jul 13  2016 C133P94ThinF_IMG_20151004_154351_cell_101.png',\n",
       " '-rwxrwxrwx 1 brandon brandon  11K Jul 13  2016 C133P94ThinF_IMG_20151004_154351_cell_100.png',\n",
       " '-rwxrwxrwx 1 brandon brandon  11K Jul 13  2016 C99P60ThinF_IMG_20150918_141129_cell_99.png',\n",
       " '-rwxrwxrwx 1 brandon brandon  12K Jul 13  2016 C99P60ThinF_IMG_20150918_141129_cell_98.png',\n",
       " '-rwxrwxrwx 1 brandon brandon  18K Jul 13  2016 C99P60ThinF_IMG_20150918_141129_cell_97.png',\n",
       " '-rwxrwxrwx 1 brandon brandon  12K Jul 13  2016 C99P60ThinF_IMG_20150918_141129_cell_96.png',\n",
       " '-rwxrwxrwx 1 brandon brandon  17K Jul 13  2016 C99P60ThinF_IMG_20150918_141129_cell_95.png',\n",
       " '-rwxrwxrwx 1 brandon brandon  15K Jul 13  2016 C99P60ThinF_IMG_20150918_141129_cell_94.png',\n",
       " '-rwxrwxrwx 1 brandon brandon  13K Jul 13  2016 C99P60ThinF_IMG_20150918_141129_cell_158.png',\n",
       " '-rwxrwxrwx 1 brandon brandon  14K Jul 13  2016 C99P60ThinF_IMG_20150918_141129_cell_157.png',\n",
       " '-rwxrwxrwx 1 brandon brandon  17K Jul 13  2016 C99P60ThinF_IMG_20150918_141129_cell_156.png',\n",
       " '-rwxrwxrwx 1 brandon brandon  15K Jul 13  2016 C99P60ThinF_IMG_20150918_141129_cell_155.png',\n",
       " '-rwxrwxrwx 1 brandon brandon  13K Jul 13  2016 C99P60ThinF_IMG_20150918_141129_cell_154.png',\n",
       " '-rwxrwxrwx 1 brandon brandon  14K Jul 13  2016 C99P60ThinF_IMG_20150918_141129_cell_153.png',\n",
       " '-rwxrwxrwx 1 brandon brandon  16K Jul 13  2016 C99P60ThinF_IMG_20150918_141129_cell_152.png',\n",
       " '-rwxrwxrwx 1 brandon brandon 5.1K Jul 13  2016 C99P60ThinF_IMG_20150918_141129_cell_151.png',\n",
       " '-rwxrwxrwx 1 brandon brandon  15K Jul 13  2016 C99P60ThinF_IMG_20150918_141129_cell_150.png',\n",
       " '-rwxrwxrwx 1 brandon brandon  12K Jul 13  2016 C99P60ThinF_IMG_20150918_141129_cell_149.png',\n",
       " '-rwxrwxrwx 1 brandon brandon  17K Jul 13  2016 C99P60ThinF_IMG_20150918_141129_cell_148.png',\n",
       " '-rwxrwxrwx 1 brandon brandon  14K Jul 13  2016 C99P60ThinF_IMG_20150918_141129_cell_147.png',\n",
       " '-rwxrwxrwx 1 brandon brandon  16K Jul 13  2016 C99P60ThinF_IMG_20150918_141129_cell_146.png',\n",
       " '-rwxrwxrwx 1 brandon brandon  16K Jul 13  2016 C99P60ThinF_IMG_20150918_141129_cell_145.png',\n",
       " '-rwxrwxrwx 1 brandon brandon  14K Jul 13  2016 C99P60ThinF_IMG_20150918_141129_cell_144.png',\n",
       " '-rwxrwxrwx 1 brandon brandon  16K Jul 13  2016 C99P60ThinF_IMG_20150918_141129_cell_143.png',\n",
       " '-rwxrwxrwx 1 brandon brandon  15K Jul 13  2016 C99P60ThinF_IMG_20150918_141129_cell_142.png',\n",
       " '-rwxrwxrwx 1 brandon brandon  12K Jul 13  2016 C99P60ThinF_IMG_20150918_141129_cell_141.png',\n",
       " '-rwxrwxrwx 1 brandon brandon  15K Jul 13  2016 C99P60ThinF_IMG_20150918_141129_cell_140.png',\n",
       " '-rwxrwxrwx 1 brandon brandon 5.6K Jul 13  2016 C99P60ThinF_IMG_20150918_141129_cell_139.png',\n",
       " '-rwxrwxrwx 1 brandon brandon  18K Jul 13  2016 C99P60ThinF_IMG_20150918_141129_cell_138.png',\n",
       " '-rwxrwxrwx 1 brandon brandon  14K Jul 13  2016 C99P60ThinF_IMG_20150918_141129_cell_137.png',\n",
       " '-rwxrwxrwx 1 brandon brandon  18K Jul 13  2016 C99P60ThinF_IMG_20150918_141129_cell_136.png',\n",
       " '-rwxrwxrwx 1 brandon brandon  16K Jul 13  2016 C99P60ThinF_IMG_20150918_141129_cell_135.png',\n",
       " '-rwxrwxrwx 1 brandon brandon  13K Jul 13  2016 C99P60ThinF_IMG_20150918_141129_cell_134.png',\n",
       " '-rwxrwxrwx 1 brandon brandon  13K Jul 13  2016 C99P60ThinF_IMG_20150918_141129_cell_133.png',\n",
       " '-rwxrwxrwx 1 brandon brandon  13K Jul 13  2016 C99P60ThinF_IMG_20150918_141129_cell_132.png',\n",
       " '-rwxrwxrwx 1 brandon brandon 7.9K Jul 13  2016 C99P60ThinF_IMG_20150918_141129_cell_131.png',\n",
       " '-rwxrwxrwx 1 brandon brandon  15K Jul 13  2016 C99P60ThinF_IMG_20150918_141129_cell_130.png',\n",
       " '-rwxrwxrwx 1 brandon brandon  13K Jul 13  2016 C99P60ThinF_IMG_20150918_141129_cell_129.png',\n",
       " '-rwxrwxrwx 1 brandon brandon  15K Jul 13  2016 C99P60ThinF_IMG_20150918_141129_cell_128.png',\n",
       " '-rwxrwxrwx 1 brandon brandon  13K Jul 13  2016 C99P60ThinF_IMG_20150918_141129_cell_127.png',\n",
       " '-rwxrwxrwx 1 brandon brandon  14K Jul 13  2016 C99P60ThinF_IMG_20150918_141129_cell_126.png',\n",
       " '-rwxrwxrwx 1 brandon brandon  12K Jul 13  2016 C99P60ThinF_IMG_20150918_141129_cell_125.png',\n",
       " '-rwxrwxrwx 1 brandon brandon  14K Jul 13  2016 C99P60ThinF_IMG_20150918_141129_cell_124.png',\n",
       " '-rwxrwxrwx 1 brandon brandon  12K Jul 13  2016 C99P60ThinF_IMG_20150918_141129_cell_123.png',\n",
       " '-rwxrwxrwx 1 brandon brandon  16K Jul 13  2016 C99P60ThinF_IMG_20150918_141129_cell_122.png',\n",
       " '-rwxrwxrwx 1 brandon brandon  20K Jul 13  2016 C99P60ThinF_IMG_20150918_141129_cell_121.png',\n",
       " '-rwxrwxrwx 1 brandon brandon  11K Jul 13  2016 C99P60ThinF_IMG_20150918_141129_cell_120.png',\n",
       " '-rwxrwxrwx 1 brandon brandon  11K Jul 13  2016 C99P60ThinF_IMG_20150918_141129_cell_119.png',\n",
       " '-rwxrwxrwx 1 brandon brandon  12K Jul 13  2016 C99P60ThinF_IMG_20150918_141129_cell_118.png',\n",
       " '-rwxrwxrwx 1 brandon brandon 9.8K Jul 13  2016 C99P60ThinF_IMG_20150918_141129_cell_117.png',\n",
       " '-rwxrwxrwx 1 brandon brandon  13K Jul 13  2016 C99P60ThinF_IMG_20150918_141129_cell_116.png',\n",
       " '-rwxrwxrwx 1 brandon brandon  16K Jul 13  2016 C99P60ThinF_IMG_20150918_141129_cell_115.png',\n",
       " '-rwxrwxrwx 1 brandon brandon  12K Jul 13  2016 C99P60ThinF_IMG_20150918_141129_cell_114.png',\n",
       " '-rwxrwxrwx 1 brandon brandon  19K Jul 13  2016 C99P60ThinF_IMG_20150918_141129_cell_113.png',\n",
       " '-rwxrwxrwx 1 brandon brandon  14K Jul 13  2016 C99P60ThinF_IMG_20150918_141129_cell_112.png',\n",
       " '-rwxrwxrwx 1 brandon brandon  16K Jul 13  2016 C99P60ThinF_IMG_20150918_141129_cell_111.png',\n",
       " '-rwxrwxrwx 1 brandon brandon  15K Jul 13  2016 C99P60ThinF_IMG_20150918_141129_cell_110.png',\n",
       " '-rwxrwxrwx 1 brandon brandon  14K Jul 13  2016 C99P60ThinF_IMG_20150918_141129_cell_109.png',\n",
       " '-rwxrwxrwx 1 brandon brandon  14K Jul 13  2016 C99P60ThinF_IMG_20150918_141129_cell_108.png',\n",
       " '-rwxrwxrwx 1 brandon brandon  11K Jul 13  2016 C99P60ThinF_IMG_20150918_141129_cell_107.png',\n",
       " '-rwxrwxrwx 1 brandon brandon  13K Jul 13  2016 C99P60ThinF_IMG_20150918_141129_cell_106.png',\n",
       " '-rwxrwxrwx 1 brandon brandon  12K Jul 13  2016 C99P60ThinF_IMG_20150918_141129_cell_105.png',\n",
       " '-rwxrwxrwx 1 brandon brandon  15K Jul 13  2016 C99P60ThinF_IMG_20150918_141129_cell_104.png',\n",
       " '-rwxrwxrwx 1 brandon brandon 9.4K Jul 13  2016 C99P60ThinF_IMG_20150918_141129_cell_103.png',\n",
       " '-rwxrwxrwx 1 brandon brandon 9.8K Jul 13  2016 C99P60ThinF_IMG_20150918_141129_cell_102.png',\n",
       " '-rwxrwxrwx 1 brandon brandon  21K Jul 13  2016 C99P60ThinF_IMG_20150918_141129_cell_101.png',\n",
       " '-rwxrwxrwx 1 brandon brandon 8.3K Jul 13  2016 C99P60ThinF_IMG_20150918_141129_cell_100.png',\n",
       " '-rwxrwxrwx 1 brandon brandon  14K Jul 13  2016 C33P1thinF_IMG_20150619_120742a_cell_210.png',\n",
       " '-rwxrwxrwx 1 brandon brandon  11K Jul 13  2016 C133P94ThinF_IMG_20151004_154512_cell_145.png',\n",
       " '-rwxrwxrwx 1 brandon brandon  13K Jul 13  2016 C133P94ThinF_IMG_20151004_154512_cell_144.png',\n",
       " '-rwxrwxrwx 1 brandon brandon  13K Jul 13  2016 C133P94ThinF_IMG_20151004_154512_cell_143.png',\n",
       " '-rwxrwxrwx 1 brandon brandon  14K Jul 13  2016 C133P94ThinF_IMG_20151004_154512_cell_142.png',\n",
       " '-rwxrwxrwx 1 brandon brandon  17K Jul 13  2016 C133P94ThinF_IMG_20151004_154512_cell_141.png',\n",
       " '-rwxrwxrwx 1 brandon brandon  11K Jul 13  2016 C133P94ThinF_IMG_20151004_154512_cell_140.png',\n",
       " '-rwxrwxrwx 1 brandon brandon  14K Jul 13  2016 C133P94ThinF_IMG_20151004_154512_cell_139.png',\n",
       " '-rwxrwxrwx 1 brandon brandon  15K Jul 13  2016 C133P94ThinF_IMG_20151004_154512_cell_138.png',\n",
       " '-rwxrwxrwx 1 brandon brandon  14K Jul 13  2016 C133P94ThinF_IMG_20151004_154512_cell_137.png',\n",
       " '-rwxrwxrwx 1 brandon brandon  15K Jul 13  2016 C133P94ThinF_IMG_20151004_154512_cell_136.png',\n",
       " '-rwxrwxrwx 1 brandon brandon  14K Jul 13  2016 C133P94ThinF_IMG_20151004_154512_cell_135.png',\n",
       " '-rwxrwxrwx 1 brandon brandon  14K Jul 13  2016 C133P94ThinF_IMG_20151004_154512_cell_134.png',\n",
       " '-rwxrwxrwx 1 brandon brandon  14K Jul 13  2016 C133P94ThinF_IMG_20151004_154512_cell_133.png',\n",
       " '-rwxrwxrwx 1 brandon brandon 9.6K Jul 13  2016 C133P94ThinF_IMG_20151004_154512_cell_132.png',\n",
       " '-rwxrwxrwx 1 brandon brandon  12K Jul 13  2016 C133P94ThinF_IMG_20151004_154512_cell_131.png',\n",
       " '-rwxrwxrwx 1 brandon brandon  18K Jul 13  2016 C133P94ThinF_IMG_20151004_154512_cell_130.png',\n",
       " '-rwxrwxrwx 1 brandon brandon  13K Jul 13  2016 C133P94ThinF_IMG_20151004_154512_cell_129.png',\n",
       " '-rwxrwxrwx 1 brandon brandon  16K Jul 13  2016 C133P94ThinF_IMG_20151004_154512_cell_128.png',\n",
       " '-rwxrwxrwx 1 brandon brandon  15K Jul 13  2016 C133P94ThinF_IMG_20151004_154512_cell_127.png',\n",
       " '-rwxrwxrwx 1 brandon brandon  10K Jul 13  2016 C133P94ThinF_IMG_20151004_154512_cell_126.png',\n",
       " '-rwxrwxrwx 1 brandon brandon  20K Jul 13  2016 C133P94ThinF_IMG_20151004_154512_cell_125.png',\n",
       " '-rwxrwxrwx 1 brandon brandon 8.7K Jul 13  2016 C133P94ThinF_IMG_20151004_154512_cell_124.png',\n",
       " '-rwxrwxrwx 1 brandon brandon  16K Jul 13  2016 C133P94ThinF_IMG_20151004_154512_cell_123.png',\n",
       " '-rwxrwxrwx 1 brandon brandon  20K Jul 13  2016 C133P94ThinF_IMG_20151004_154512_cell_122.png',\n",
       " '-rwxrwxrwx 1 brandon brandon  18K Jul 13  2016 C133P94ThinF_IMG_20151004_154512_cell_121.png',\n",
       " '-rwxrwxrwx 1 brandon brandon  15K Jul 13  2016 C133P94ThinF_IMG_20151004_154512_cell_120.png',\n",
       " '-rwxrwxrwx 1 brandon brandon  12K Jul 13  2016 C133P94ThinF_IMG_20151004_154512_cell_119.png',\n",
       " '-rwxrwxrwx 1 brandon brandon  13K Jul 13  2016 C133P94ThinF_IMG_20151004_154512_cell_118.png',\n",
       " '-rwxrwxrwx 1 brandon brandon  14K Jul 13  2016 C99P60ThinF_IMG_20150918_141314_cell_99.png',\n",
       " '-rwxrwxrwx 1 brandon brandon  12K Jul 13  2016 C99P60ThinF_IMG_20150918_141314_cell_98.png',\n",
       " '-rwxrwxrwx 1 brandon brandon  14K Jul 13  2016 C99P60ThinF_IMG_20150918_141314_cell_97.png',\n",
       " '-rwxrwxrwx 1 brandon brandon  17K Jul 13  2016 C99P60ThinF_IMG_20150918_141314_cell_96.png',\n",
       " '-rwxrwxrwx 1 brandon brandon  16K Jul 13  2016 C99P60ThinF_IMG_20150918_141314_cell_95.png',\n",
       " '-rwxrwxrwx 1 brandon brandon  14K Jul 13  2016 C99P60ThinF_IMG_20150918_141314_cell_94.png',\n",
       " '-rwxrwxrwx 1 brandon brandon  12K Jul 13  2016 C99P60ThinF_IMG_20150918_141314_cell_93.png',\n",
       " '-rwxrwxrwx 1 brandon brandon  15K Jul 13  2016 C99P60ThinF_IMG_20150918_141314_cell_147.png',\n",
       " '-rwxrwxrwx 1 brandon brandon  17K Jul 13  2016 C99P60ThinF_IMG_20150918_141314_cell_146.png',\n",
       " '-rwxrwxrwx 1 brandon brandon  15K Jul 13  2016 C99P60ThinF_IMG_20150918_141314_cell_145.png',\n",
       " '-rwxrwxrwx 1 brandon brandon  11K Jul 13  2016 C99P60ThinF_IMG_20150918_141314_cell_144.png',\n",
       " '-rwxrwxrwx 1 brandon brandon  11K Jul 13  2016 C99P60ThinF_IMG_20150918_141314_cell_143.png',\n",
       " '-rwxrwxrwx 1 brandon brandon 9.6K Jul 13  2016 C99P60ThinF_IMG_20150918_141314_cell_142.png',\n",
       " '-rwxrwxrwx 1 brandon brandon  16K Jul 13  2016 C99P60ThinF_IMG_20150918_141314_cell_141.png',\n",
       " '-rwxrwxrwx 1 brandon brandon  20K Jul 13  2016 C99P60ThinF_IMG_20150918_141314_cell_140.png',\n",
       " '-rwxrwxrwx 1 brandon brandon  13K Jul 13  2016 C99P60ThinF_IMG_20150918_141314_cell_139.png',\n",
       " '-rwxrwxrwx 1 brandon brandon  18K Jul 13  2016 C99P60ThinF_IMG_20150918_141314_cell_138.png',\n",
       " '-rwxrwxrwx 1 brandon brandon  14K Jul 13  2016 C99P60ThinF_IMG_20150918_141314_cell_137.png',\n",
       " '-rwxrwxrwx 1 brandon brandon  14K Jul 13  2016 C99P60ThinF_IMG_20150918_141314_cell_136.png',\n",
       " '-rwxrwxrwx 1 brandon brandon  15K Jul 13  2016 C99P60ThinF_IMG_20150918_141314_cell_135.png',\n",
       " '-rwxrwxrwx 1 brandon brandon  11K Jul 13  2016 C99P60ThinF_IMG_20150918_141314_cell_134.png',\n",
       " '-rwxrwxrwx 1 brandon brandon  14K Jul 13  2016 C99P60ThinF_IMG_20150918_141314_cell_133.png',\n",
       " '-rwxrwxrwx 1 brandon brandon  12K Jul 13  2016 C99P60ThinF_IMG_20150918_141314_cell_132.png',\n",
       " '-rwxrwxrwx 1 brandon brandon  14K Jul 13  2016 C99P60ThinF_IMG_20150918_141314_cell_131.png',\n",
       " '-rwxrwxrwx 1 brandon brandon  13K Jul 13  2016 C99P60ThinF_IMG_20150918_141314_cell_130.png',\n",
       " '-rwxrwxrwx 1 brandon brandon  13K Jul 13  2016 C99P60ThinF_IMG_20150918_141314_cell_129.png',\n",
       " '-rwxrwxrwx 1 brandon brandon  14K Jul 13  2016 C99P60ThinF_IMG_20150918_141314_cell_128.png',\n",
       " '-rwxrwxrwx 1 brandon brandon  15K Jul 13  2016 C99P60ThinF_IMG_20150918_141314_cell_127.png',\n",
       " '-rwxrwxrwx 1 brandon brandon  15K Jul 13  2016 C99P60ThinF_IMG_20150918_141314_cell_126.png',\n",
       " '-rwxrwxrwx 1 brandon brandon  14K Jul 13  2016 C99P60ThinF_IMG_20150918_141314_cell_125.png',\n",
       " '-rwxrwxrwx 1 brandon brandon  14K Jul 13  2016 C99P60ThinF_IMG_20150918_141314_cell_124.png',\n",
       " '-rwxrwxrwx 1 brandon brandon  15K Jul 13  2016 C99P60ThinF_IMG_20150918_141314_cell_123.png',\n",
       " '-rwxrwxrwx 1 brandon brandon  12K Jul 13  2016 C99P60ThinF_IMG_20150918_141314_cell_122.png',\n",
       " '-rwxrwxrwx 1 brandon brandon 9.3K Jul 13  2016 C99P60ThinF_IMG_20150918_141314_cell_121.png',\n",
       " '-rwxrwxrwx 1 brandon brandon  14K Jul 13  2016 C99P60ThinF_IMG_20150918_141314_cell_120.png',\n",
       " '-rwxrwxrwx 1 brandon brandon  12K Jul 13  2016 C99P60ThinF_IMG_20150918_141314_cell_119.png',\n",
       " '-rwxrwxrwx 1 brandon brandon  16K Jul 13  2016 C99P60ThinF_IMG_20150918_141314_cell_118.png',\n",
       " '-rwxrwxrwx 1 brandon brandon  14K Jul 13  2016 C99P60ThinF_IMG_20150918_141314_cell_117.png',\n",
       " '-rwxrwxrwx 1 brandon brandon 9.6K Jul 13  2016 C99P60ThinF_IMG_20150918_141314_cell_116.png',\n",
       " '-rwxrwxrwx 1 brandon brandon  11K Jul 13  2016 C99P60ThinF_IMG_20150918_141314_cell_115.png',\n",
       " '-rwxrwxrwx 1 brandon brandon  13K Jul 13  2016 C99P60ThinF_IMG_20150918_141314_cell_114.png',\n",
       " '-rwxrwxrwx 1 brandon brandon  12K Jul 13  2016 C99P60ThinF_IMG_20150918_141314_cell_113.png',\n",
       " '-rwxrwxrwx 1 brandon brandon 6.8K Jul 13  2016 C99P60ThinF_IMG_20150918_141314_cell_112.png',\n",
       " '-rwxrwxrwx 1 brandon brandon  23K Jul 13  2016 C99P60ThinF_IMG_20150918_141314_cell_111.png',\n",
       " '-rwxrwxrwx 1 brandon brandon  18K Jul 13  2016 C99P60ThinF_IMG_20150918_141314_cell_110.png',\n",
       " '-rwxrwxrwx 1 brandon brandon  16K Jul 13  2016 C99P60ThinF_IMG_20150918_141314_cell_109.png',\n",
       " '-rwxrwxrwx 1 brandon brandon  17K Jul 13  2016 C99P60ThinF_IMG_20150918_141314_cell_108.png',\n",
       " '-rwxrwxrwx 1 brandon brandon  12K Jul 13  2016 C99P60ThinF_IMG_20150918_141314_cell_107.png',\n",
       " '-rwxrwxrwx 1 brandon brandon  16K Jul 13  2016 C99P60ThinF_IMG_20150918_141314_cell_106.png',\n",
       " '-rwxrwxrwx 1 brandon brandon  13K Jul 13  2016 C99P60ThinF_IMG_20150918_141314_cell_105.png',\n",
       " '-rwxrwxrwx 1 brandon brandon  12K Jul 13  2016 C99P60ThinF_IMG_20150918_141314_cell_104.png',\n",
       " '-rwxrwxrwx 1 brandon brandon  12K Jul 13  2016 C99P60ThinF_IMG_20150918_141314_cell_103.png',\n",
       " '-rwxrwxrwx 1 brandon brandon  15K Jul 13  2016 C99P60ThinF_IMG_20150918_141314_cell_102.png',\n",
       " '-rwxrwxrwx 1 brandon brandon  11K Jul 13  2016 C99P60ThinF_IMG_20150918_141314_cell_101.png',\n",
       " '-rwxrwxrwx 1 brandon brandon  14K Jul 13  2016 C99P60ThinF_IMG_20150918_141314_cell_100.png',\n",
       " '-rwxrwxrwx 1 brandon brandon  12K Jul 13  2016 C33P1thinF_IMG_20150619_120804a_cell_224.png',\n",
       " '-rwxrwxrwx 1 brandon brandon  13K Jul 13  2016 C133P94ThinF_IMG_20151004_154717_cell_139.png',\n",
       " '-rwxrwxrwx 1 brandon brandon  11K Jul 13  2016 C133P94ThinF_IMG_20151004_154717_cell_138.png',\n",
       " '-rwxrwxrwx 1 brandon brandon  20K Jul 13  2016 C133P94ThinF_IMG_20151004_154717_cell_137.png',\n",
       " '-rwxrwxrwx 1 brandon brandon  14K Jul 13  2016 C133P94ThinF_IMG_20151004_154717_cell_136.png',\n",
       " '-rwxrwxrwx 1 brandon brandon  14K Jul 13  2016 C133P94ThinF_IMG_20151004_154717_cell_135.png',\n",
       " '-rwxrwxrwx 1 brandon brandon  13K Jul 13  2016 C133P94ThinF_IMG_20151004_154717_cell_134.png',\n",
       " '-rwxrwxrwx 1 brandon brandon  17K Jul 13  2016 C133P94ThinF_IMG_20151004_154717_cell_133.png',\n",
       " '-rwxrwxrwx 1 brandon brandon  12K Jul 13  2016 C133P94ThinF_IMG_20151004_154717_cell_132.png',\n",
       " '-rwxrwxrwx 1 brandon brandon  15K Jul 13  2016 C133P94ThinF_IMG_20151004_154717_cell_131.png',\n",
       " '-rwxrwxrwx 1 brandon brandon 8.3K Jul 13  2016 C133P94ThinF_IMG_20151004_154717_cell_130.png',\n",
       " '-rwxrwxrwx 1 brandon brandon 9.8K Jul 13  2016 C133P94ThinF_IMG_20151004_154717_cell_129.png',\n",
       " '-rwxrwxrwx 1 brandon brandon  12K Jul 13  2016 C133P94ThinF_IMG_20151004_154717_cell_128.png',\n",
       " '-rwxrwxrwx 1 brandon brandon 9.8K Jul 13  2016 C133P94ThinF_IMG_20151004_154717_cell_127.png',\n",
       " '-rwxrwxrwx 1 brandon brandon  12K Jul 13  2016 C133P94ThinF_IMG_20151004_154717_cell_126.png',\n",
       " '-rwxrwxrwx 1 brandon brandon  11K Jul 13  2016 C133P94ThinF_IMG_20151004_154717_cell_125.png',\n",
       " '-rwxrwxrwx 1 brandon brandon 8.8K Jul 13  2016 C133P94ThinF_IMG_20151004_154717_cell_124.png',\n",
       " '-rwxrwxrwx 1 brandon brandon  13K Jul 13  2016 C133P94ThinF_IMG_20151004_154717_cell_123.png',\n",
       " '-rwxrwxrwx 1 brandon brandon  12K Jul 13  2016 C133P94ThinF_IMG_20151004_154717_cell_122.png',\n",
       " '-rwxrwxrwx 1 brandon brandon  11K Jul 13  2016 C133P94ThinF_IMG_20151004_154717_cell_121.png',\n",
       " '-rwxrwxrwx 1 brandon brandon  14K Jul 13  2016 C133P94ThinF_IMG_20151004_154717_cell_120.png',\n",
       " '-rwxrwxrwx 1 brandon brandon  11K Jul 13  2016 C133P94ThinF_IMG_20151004_154717_cell_119.png',\n",
       " '-rwxrwxrwx 1 brandon brandon 6.7K Jul 13  2016 C133P94ThinF_IMG_20151004_154717_cell_118.png',\n",
       " '-rwxrwxrwx 1 brandon brandon 9.4K Jul 13  2016 C72P33_ThinF_IMG_20150815_104923_cell_232.png',\n",
       " '-rwxrwxrwx 1 brandon brandon  14K Jul 13  2016 C33P1thinF_IMG_20150619_120838a_cell_222.png',\n",
       " '-rwxrwxrwx 1 brandon brandon  16K Jul 13  2016 C99P60ThinF_IMG_20150918_141351_cell_99.png',\n",
       " '-rwxrwxrwx 1 brandon brandon  11K Jul 13  2016 C99P60ThinF_IMG_20150918_141351_cell_98.png',\n",
       " '-rwxrwxrwx 1 brandon brandon  12K Jul 13  2016 C99P60ThinF_IMG_20150918_141351_cell_97.png',\n",
       " '-rwxrwxrwx 1 brandon brandon  14K Jul 13  2016 C99P60ThinF_IMG_20150918_141351_cell_96.png',\n",
       " '-rwxrwxrwx 1 brandon brandon 8.3K Jul 13  2016 C99P60ThinF_IMG_20150918_141351_cell_95.png',\n",
       " '-rwxrwxrwx 1 brandon brandon  12K Jul 13  2016 C99P60ThinF_IMG_20150918_141351_cell_94.png',\n",
       " '-rwxrwxrwx 1 brandon brandon  12K Jul 13  2016 C99P60ThinF_IMG_20150918_141351_cell_142.png',\n",
       " '-rwxrwxrwx 1 brandon brandon  15K Jul 13  2016 C99P60ThinF_IMG_20150918_141351_cell_141.png',\n",
       " '-rwxrwxrwx 1 brandon brandon  14K Jul 13  2016 C99P60ThinF_IMG_20150918_141351_cell_140.png',\n",
       " '-rwxrwxrwx 1 brandon brandon 9.9K Jul 13  2016 C99P60ThinF_IMG_20150918_141351_cell_139.png',\n",
       " '-rwxrwxrwx 1 brandon brandon  17K Jul 13  2016 C99P60ThinF_IMG_20150918_141351_cell_138.png',\n",
       " '-rwxrwxrwx 1 brandon brandon  17K Jul 13  2016 C99P60ThinF_IMG_20150918_141351_cell_137.png',\n",
       " '-rwxrwxrwx 1 brandon brandon  22K Jul 13  2016 C99P60ThinF_IMG_20150918_141351_cell_136.png',\n",
       " '-rwxrwxrwx 1 brandon brandon  16K Jul 13  2016 C99P60ThinF_IMG_20150918_141351_cell_135.png',\n",
       " '-rwxrwxrwx 1 brandon brandon  14K Jul 13  2016 C99P60ThinF_IMG_20150918_141351_cell_134.png',\n",
       " '-rwxrwxrwx 1 brandon brandon  13K Jul 13  2016 C99P60ThinF_IMG_20150918_141351_cell_133.png',\n",
       " '-rwxrwxrwx 1 brandon brandon  14K Jul 13  2016 C99P60ThinF_IMG_20150918_141351_cell_132.png',\n",
       " '-rwxrwxrwx 1 brandon brandon  16K Jul 13  2016 C99P60ThinF_IMG_20150918_141351_cell_131.png',\n",
       " '-rwxrwxrwx 1 brandon brandon  13K Jul 13  2016 C99P60ThinF_IMG_20150918_141351_cell_130.png',\n",
       " '-rwxrwxrwx 1 brandon brandon  13K Jul 13  2016 C99P60ThinF_IMG_20150918_141351_cell_129.png',\n",
       " '-rwxrwxrwx 1 brandon brandon  10K Jul 13  2016 C99P60ThinF_IMG_20150918_141351_cell_128.png',\n",
       " '-rwxrwxrwx 1 brandon brandon  15K Jul 13  2016 C99P60ThinF_IMG_20150918_141351_cell_127.png',\n",
       " '-rwxrwxrwx 1 brandon brandon  17K Jul 13  2016 C99P60ThinF_IMG_20150918_141351_cell_126.png',\n",
       " '-rwxrwxrwx 1 brandon brandon  18K Jul 13  2016 C99P60ThinF_IMG_20150918_141351_cell_125.png',\n",
       " '-rwxrwxrwx 1 brandon brandon  15K Jul 13  2016 C99P60ThinF_IMG_20150918_141351_cell_124.png',\n",
       " '-rwxrwxrwx 1 brandon brandon  17K Jul 13  2016 C99P60ThinF_IMG_20150918_141351_cell_123.png',\n",
       " '-rwxrwxrwx 1 brandon brandon  16K Jul 13  2016 C99P60ThinF_IMG_20150918_141351_cell_122.png',\n",
       " '-rwxrwxrwx 1 brandon brandon  17K Jul 13  2016 C99P60ThinF_IMG_20150918_141351_cell_121.png',\n",
       " '-rwxrwxrwx 1 brandon brandon  15K Jul 13  2016 C99P60ThinF_IMG_20150918_141351_cell_120.png',\n",
       " '-rwxrwxrwx 1 brandon brandon  16K Jul 13  2016 C99P60ThinF_IMG_20150918_141351_cell_119.png',\n",
       " '-rwxrwxrwx 1 brandon brandon  15K Jul 13  2016 C99P60ThinF_IMG_20150918_141351_cell_118.png',\n",
       " '-rwxrwxrwx 1 brandon brandon  15K Jul 13  2016 C99P60ThinF_IMG_20150918_141351_cell_117.png',\n",
       " '-rwxrwxrwx 1 brandon brandon  14K Jul 13  2016 C99P60ThinF_IMG_20150918_141351_cell_116.png',\n",
       " '-rwxrwxrwx 1 brandon brandon  11K Jul 13  2016 C99P60ThinF_IMG_20150918_141351_cell_115.png',\n",
       " '-rwxrwxrwx 1 brandon brandon  13K Jul 13  2016 C99P60ThinF_IMG_20150918_141351_cell_114.png',\n",
       " '-rwxrwxrwx 1 brandon brandon  17K Jul 13  2016 C99P60ThinF_IMG_20150918_141351_cell_113.png',\n",
       " '-rwxrwxrwx 1 brandon brandon  17K Jul 13  2016 C99P60ThinF_IMG_20150918_141351_cell_112.png',\n",
       " '-rwxrwxrwx 1 brandon brandon  16K Jul 13  2016 C99P60ThinF_IMG_20150918_141351_cell_111.png',\n",
       " '-rwxrwxrwx 1 brandon brandon  12K Jul 13  2016 C99P60ThinF_IMG_20150918_141351_cell_110.png',\n",
       " '-rwxrwxrwx 1 brandon brandon  15K Jul 13  2016 C99P60ThinF_IMG_20150918_141351_cell_109.png',\n",
       " '-rwxrwxrwx 1 brandon brandon  20K Jul 13  2016 C99P60ThinF_IMG_20150918_141351_cell_108.png',\n",
       " '-rwxrwxrwx 1 brandon brandon  15K Jul 13  2016 C99P60ThinF_IMG_20150918_141351_cell_107.png',\n",
       " '-rwxrwxrwx 1 brandon brandon  15K Jul 13  2016 C99P60ThinF_IMG_20150918_141351_cell_106.png',\n",
       " '-rwxrwxrwx 1 brandon brandon  12K Jul 13  2016 C99P60ThinF_IMG_20150918_141351_cell_105.png',\n",
       " '-rwxrwxrwx 1 brandon brandon  15K Jul 13  2016 C99P60ThinF_IMG_20150918_141351_cell_104.png',\n",
       " '-rwxrwxrwx 1 brandon brandon  12K Jul 13  2016 C99P60ThinF_IMG_20150918_141351_cell_103.png',\n",
       " '-rwxrwxrwx 1 brandon brandon  14K Jul 13  2016 C99P60ThinF_IMG_20150918_141351_cell_102.png',\n",
       " '-rwxrwxrwx 1 brandon brandon  16K Jul 13  2016 C99P60ThinF_IMG_20150918_141351_cell_101.png',\n",
       " '-rwxrwxrwx 1 brandon brandon  18K Jul 13  2016 C99P60ThinF_IMG_20150918_141351_cell_100.png',\n",
       " '-rwxrwxrwx 1 brandon brandon  15K Jul 13  2016 C33P1thinF_IMG_20150619_121102a_cell_193.png',\n",
       " '-rwxrwxrwx 1 brandon brandon  15K Jul 13  2016 C133P94ThinF_IMG_20151004_154919_cell_146.png',\n",
       " '-rwxrwxrwx 1 brandon brandon  15K Jul 13  2016 C133P94ThinF_IMG_20151004_154919_cell_145.png',\n",
       " '-rwxrwxrwx 1 brandon brandon  12K Jul 13  2016 C133P94ThinF_IMG_20151004_154919_cell_144.png',\n",
       " '-rwxrwxrwx 1 brandon brandon  19K Jul 13  2016 C133P94ThinF_IMG_20151004_154919_cell_143.png',\n",
       " '-rwxrwxrwx 1 brandon brandon  13K Jul 13  2016 C133P94ThinF_IMG_20151004_154919_cell_142.png',\n",
       " '-rwxrwxrwx 1 brandon brandon  16K Jul 13  2016 C133P94ThinF_IMG_20151004_154919_cell_141.png',\n",
       " '-rwxrwxrwx 1 brandon brandon  18K Jul 13  2016 C133P94ThinF_IMG_20151004_154919_cell_140.png',\n",
       " '-rwxrwxrwx 1 brandon brandon  13K Jul 13  2016 C133P94ThinF_IMG_20151004_154919_cell_139.png',\n",
       " '-rwxrwxrwx 1 brandon brandon  14K Jul 13  2016 C133P94ThinF_IMG_20151004_154919_cell_138.png',\n",
       " '-rwxrwxrwx 1 brandon brandon  13K Jul 13  2016 C133P94ThinF_IMG_20151004_154919_cell_137.png',\n",
       " '-rwxrwxrwx 1 brandon brandon  11K Jul 13  2016 C133P94ThinF_IMG_20151004_154919_cell_136.png',\n",
       " '-rwxrwxrwx 1 brandon brandon  13K Jul 13  2016 C133P94ThinF_IMG_20151004_154919_cell_135.png',\n",
       " '-rwxrwxrwx 1 brandon brandon  12K Jul 13  2016 C133P94ThinF_IMG_20151004_154919_cell_134.png',\n",
       " '-rwxrwxrwx 1 brandon brandon  19K Jul 13  2016 C133P94ThinF_IMG_20151004_154919_cell_133.png',\n",
       " '-rwxrwxrwx 1 brandon brandon  10K Jul 13  2016 C133P94ThinF_IMG_20151004_154919_cell_132.png',\n",
       " '-rwxrwxrwx 1 brandon brandon  17K Jul 13  2016 C133P94ThinF_IMG_20151004_154919_cell_131.png',\n",
       " '-rwxrwxrwx 1 brandon brandon  13K Jul 13  2016 C133P94ThinF_IMG_20151004_154919_cell_130.png',\n",
       " '-rwxrwxrwx 1 brandon brandon  12K Jul 13  2016 C133P94ThinF_IMG_20151004_154919_cell_129.png',\n",
       " '-rwxrwxrwx 1 brandon brandon  18K Jul 13  2016 C133P94ThinF_IMG_20151004_154919_cell_128.png',\n",
       " '-rwxrwxrwx 1 brandon brandon  19K Jul 13  2016 C133P94ThinF_IMG_20151004_154919_cell_127.png',\n",
       " '-rwxrwxrwx 1 brandon brandon  14K Jul 13  2016 C133P94ThinF_IMG_20151004_154919_cell_126.png',\n",
       " '-rwxrwxrwx 1 brandon brandon  15K Jul 13  2016 C133P94ThinF_IMG_20151004_154919_cell_125.png',\n",
       " '-rwxrwxrwx 1 brandon brandon  15K Jul 13  2016 C133P94ThinF_IMG_20151004_154919_cell_124.png',\n",
       " '-rwxrwxrwx 1 brandon brandon  12K Jul 13  2016 C133P94ThinF_IMG_20151004_154919_cell_123.png',\n",
       " '-rwxrwxrwx 1 brandon brandon  12K Jul 13  2016 C133P94ThinF_IMG_20151004_154919_cell_122.png',\n",
       " '-rwxrwxrwx 1 brandon brandon  13K Jul 13  2016 C133P94ThinF_IMG_20151004_154919_cell_121.png',\n",
       " '-rwxrwxrwx 1 brandon brandon  11K Jul 13  2016 C133P94ThinF_IMG_20151004_154919_cell_120.png',\n",
       " '-rwxrwxrwx 1 brandon brandon 9.3K Jul 13  2016 C133P94ThinF_IMG_20151004_154919_cell_119.png',\n",
       " '-rwxrwxrwx 1 brandon brandon  19K Jul 13  2016 C133P94ThinF_IMG_20151004_154919_cell_118.png',\n",
       " '-rwxrwxrwx 1 brandon brandon  15K Jul 13  2016 C133P94ThinF_IMG_20151004_154919_cell_117.png',\n",
       " '-rwxrwxrwx 1 brandon brandon  15K Jul 13  2016 C133P94ThinF_IMG_20151004_154919_cell_116.png',\n",
       " '-rwxrwxrwx 1 brandon brandon  16K Jul 13  2016 C99P60ThinF_IMG_20150918_141520_cell_99.png',\n",
       " '-rwxrwxrwx 1 brandon brandon  15K Jul 13  2016 C99P60ThinF_IMG_20150918_141520_cell_98.png',\n",
       " '-rwxrwxrwx 1 brandon brandon  12K Jul 13  2016 C99P60ThinF_IMG_20150918_141520_cell_97.png',\n",
       " '-rwxrwxrwx 1 brandon brandon  13K Jul 13  2016 C99P60ThinF_IMG_20150918_141520_cell_96.png',\n",
       " '-rwxrwxrwx 1 brandon brandon  14K Jul 13  2016 C99P60ThinF_IMG_20150918_141520_cell_95.png',\n",
       " '-rwxrwxrwx 1 brandon brandon  16K Jul 13  2016 C99P60ThinF_IMG_20150918_141520_cell_94.png',\n",
       " '-rwxrwxrwx 1 brandon brandon  12K Jul 13  2016 C99P60ThinF_IMG_20150918_141520_cell_93.png',\n",
       " '-rwxrwxrwx 1 brandon brandon  22K Jul 13  2016 C99P60ThinF_IMG_20150918_141520_cell_92.png',\n",
       " '-rwxrwxrwx 1 brandon brandon  12K Jul 13  2016 C99P60ThinF_IMG_20150918_141520_cell_91.png',\n",
       " '-rwxrwxrwx 1 brandon brandon  17K Jul 13  2016 C99P60ThinF_IMG_20150918_141520_cell_90.png',\n",
       " '-rwxrwxrwx 1 brandon brandon  16K Jul 13  2016 C99P60ThinF_IMG_20150918_141520_cell_89.png',\n",
       " '-rwxrwxrwx 1 brandon brandon  13K Jul 13  2016 C99P60ThinF_IMG_20150918_141520_cell_88.png',\n",
       " '-rwxrwxrwx 1 brandon brandon  25K Jul 13  2016 C99P60ThinF_IMG_20150918_141520_cell_87.png',\n",
       " '-rwxrwxrwx 1 brandon brandon  12K Jul 13  2016 C99P60ThinF_IMG_20150918_141520_cell_86.png',\n",
       " '-rwxrwxrwx 1 brandon brandon  12K Jul 13  2016 C99P60ThinF_IMG_20150918_141520_cell_144.png',\n",
       " '-rwxrwxrwx 1 brandon brandon  14K Jul 13  2016 C99P60ThinF_IMG_20150918_141520_cell_143.png',\n",
       " '-rwxrwxrwx 1 brandon brandon  12K Jul 13  2016 C99P60ThinF_IMG_20150918_141520_cell_142.png',\n",
       " '-rwxrwxrwx 1 brandon brandon  18K Jul 13  2016 C99P60ThinF_IMG_20150918_141520_cell_141.png',\n",
       " '-rwxrwxrwx 1 brandon brandon 7.8K Jul 13  2016 C99P60ThinF_IMG_20150918_141520_cell_140.png',\n",
       " '-rwxrwxrwx 1 brandon brandon  17K Jul 13  2016 C99P60ThinF_IMG_20150918_141520_cell_139.png',\n",
       " '-rwxrwxrwx 1 brandon brandon  19K Jul 13  2016 C99P60ThinF_IMG_20150918_141520_cell_138.png',\n",
       " '-rwxrwxrwx 1 brandon brandon  15K Jul 13  2016 C99P60ThinF_IMG_20150918_141520_cell_137.png',\n",
       " '-rwxrwxrwx 1 brandon brandon  16K Jul 13  2016 C99P60ThinF_IMG_20150918_141520_cell_136.png',\n",
       " '-rwxrwxrwx 1 brandon brandon  14K Jul 13  2016 C99P60ThinF_IMG_20150918_141520_cell_135.png',\n",
       " '-rwxrwxrwx 1 brandon brandon  16K Jul 13  2016 C99P60ThinF_IMG_20150918_141520_cell_134.png',\n",
       " '-rwxrwxrwx 1 brandon brandon  12K Jul 13  2016 C99P60ThinF_IMG_20150918_141520_cell_133.png',\n",
       " '-rwxrwxrwx 1 brandon brandon  14K Jul 13  2016 C99P60ThinF_IMG_20150918_141520_cell_132.png',\n",
       " '-rwxrwxrwx 1 brandon brandon  14K Jul 13  2016 C99P60ThinF_IMG_20150918_141520_cell_131.png',\n",
       " '-rwxrwxrwx 1 brandon brandon  14K Jul 13  2016 C99P60ThinF_IMG_20150918_141520_cell_130.png',\n",
       " '-rwxrwxrwx 1 brandon brandon  14K Jul 13  2016 C99P60ThinF_IMG_20150918_141520_cell_129.png',\n",
       " '-rwxrwxrwx 1 brandon brandon  13K Jul 13  2016 C99P60ThinF_IMG_20150918_141520_cell_128.png',\n",
       " '-rwxrwxrwx 1 brandon brandon  16K Jul 13  2016 C99P60ThinF_IMG_20150918_141520_cell_127.png',\n",
       " '-rwxrwxrwx 1 brandon brandon  17K Jul 13  2016 C99P60ThinF_IMG_20150918_141520_cell_126.png',\n",
       " '-rwxrwxrwx 1 brandon brandon  15K Jul 13  2016 C99P60ThinF_IMG_20150918_141520_cell_125.png',\n",
       " '-rwxrwxrwx 1 brandon brandon  11K Jul 13  2016 C99P60ThinF_IMG_20150918_141520_cell_124.png',\n",
       " '-rwxrwxrwx 1 brandon brandon  14K Jul 13  2016 C99P60ThinF_IMG_20150918_141520_cell_123.png',\n",
       " '-rwxrwxrwx 1 brandon brandon  15K Jul 13  2016 C99P60ThinF_IMG_20150918_141520_cell_122.png',\n",
       " '-rwxrwxrwx 1 brandon brandon  11K Jul 13  2016 C99P60ThinF_IMG_20150918_141520_cell_121.png',\n",
       " '-rwxrwxrwx 1 brandon brandon  15K Jul 13  2016 C99P60ThinF_IMG_20150918_141520_cell_120.png',\n",
       " '-rwxrwxrwx 1 brandon brandon  17K Jul 13  2016 C99P60ThinF_IMG_20150918_141520_cell_119.png',\n",
       " '-rwxrwxrwx 1 brandon brandon  17K Jul 13  2016 C99P60ThinF_IMG_20150918_141520_cell_118.png',\n",
       " '-rwxrwxrwx 1 brandon brandon  16K Jul 13  2016 C99P60ThinF_IMG_20150918_141520_cell_117.png',\n",
       " '-rwxrwxrwx 1 brandon brandon  16K Jul 13  2016 C99P60ThinF_IMG_20150918_141520_cell_116.png',\n",
       " '-rwxrwxrwx 1 brandon brandon  13K Jul 13  2016 C99P60ThinF_IMG_20150918_141520_cell_115.png',\n",
       " '-rwxrwxrwx 1 brandon brandon  12K Jul 13  2016 C99P60ThinF_IMG_20150918_141520_cell_114.png',\n",
       " '-rwxrwxrwx 1 brandon brandon  15K Jul 13  2016 C99P60ThinF_IMG_20150918_141520_cell_113.png',\n",
       " '-rwxrwxrwx 1 brandon brandon  12K Jul 13  2016 C99P60ThinF_IMG_20150918_141520_cell_112.png',\n",
       " '-rwxrwxrwx 1 brandon brandon  14K Jul 13  2016 C99P60ThinF_IMG_20150918_141520_cell_111.png',\n",
       " '-rwxrwxrwx 1 brandon brandon  23K Jul 13  2016 C99P60ThinF_IMG_20150918_141520_cell_110.png',\n",
       " '-rwxrwxrwx 1 brandon brandon  14K Jul 13  2016 C99P60ThinF_IMG_20150918_141520_cell_109.png',\n",
       " '-rwxrwxrwx 1 brandon brandon 7.0K Jul 13  2016 C99P60ThinF_IMG_20150918_141520_cell_108.png',\n",
       " '-rwxrwxrwx 1 brandon brandon  12K Jul 13  2016 C99P60ThinF_IMG_20150918_141520_cell_107.png',\n",
       " '-rwxrwxrwx 1 brandon brandon  13K Jul 13  2016 C99P60ThinF_IMG_20150918_141520_cell_106.png',\n",
       " '-rwxrwxrwx 1 brandon brandon 7.0K Jul 13  2016 C99P60ThinF_IMG_20150918_141520_cell_105.png',\n",
       " '-rwxrwxrwx 1 brandon brandon 8.1K Jul 13  2016 C99P60ThinF_IMG_20150918_141520_cell_104.png',\n",
       " '-rwxrwxrwx 1 brandon brandon  20K Jul 13  2016 C99P60ThinF_IMG_20150918_141520_cell_103.png',\n",
       " '-rwxrwxrwx 1 brandon brandon  12K Jul 13  2016 C99P60ThinF_IMG_20150918_141520_cell_102.png',\n",
       " '-rwxrwxrwx 1 brandon brandon  15K Jul 13  2016 C99P60ThinF_IMG_20150918_141520_cell_101.png',\n",
       " '-rwxrwxrwx 1 brandon brandon  16K Jul 13  2016 C99P60ThinF_IMG_20150918_141520_cell_100.png',\n",
       " '-rwxrwxrwx 1 brandon brandon  11K Jul 13  2016 C33P1thinF_IMG_20150619_121229a_cell_179.png',\n",
       " '-rwxrwxrwx 1 brandon brandon  11K Jul 13  2016 C33P1thinF_IMG_20150619_121229a_cell_178.png',\n",
       " '-rwxrwxrwx 1 brandon brandon  12K Jul 13  2016 C33P1thinF_IMG_20150619_121229a_cell_177.png',\n",
       " '-rwxrwxrwx 1 brandon brandon  18K Jul 13  2016 C133P94ThinF_IMG_20151004_155012_cell_9.png',\n",
       " '-rwxrwxrwx 1 brandon brandon  15K Jul 13  2016 C133P94ThinF_IMG_20151004_155012_cell_8.png',\n",
       " '-rwxrwxrwx 1 brandon brandon  11K Jul 13  2016 C133P94ThinF_IMG_20151004_155012_cell_7.png',\n",
       " '-rwxrwxrwx 1 brandon brandon  12K Jul 13  2016 C133P94ThinF_IMG_20151004_155012_cell_6.png',\n",
       " '-rwxrwxrwx 1 brandon brandon  16K Jul 13  2016 C133P94ThinF_IMG_20151004_155012_cell_5.png',\n",
       " '-rwxrwxrwx 1 brandon brandon  17K Jul 13  2016 C133P94ThinF_IMG_20151004_155012_cell_4.png',\n",
       " '-rwxrwxrwx 1 brandon brandon  17K Jul 13  2016 C133P94ThinF_IMG_20151004_155012_cell_3.png',\n",
       " '-rwxrwxrwx 1 brandon brandon 9.1K Jul 13  2016 C133P94ThinF_IMG_20151004_155012_cell_23.png',\n",
       " '-rwxrwxrwx 1 brandon brandon  12K Jul 13  2016 C133P94ThinF_IMG_20151004_155012_cell_22.png',\n",
       " '-rwxrwxrwx 1 brandon brandon  13K Jul 13  2016 C133P94ThinF_IMG_20151004_155012_cell_21.png',\n",
       " '-rwxrwxrwx 1 brandon brandon  16K Jul 13  2016 C133P94ThinF_IMG_20151004_155012_cell_20.png',\n",
       " '-rwxrwxrwx 1 brandon brandon  16K Jul 13  2016 C133P94ThinF_IMG_20151004_155012_cell_2.png',\n",
       " '-rwxrwxrwx 1 brandon brandon  11K Jul 13  2016 C133P94ThinF_IMG_20151004_155012_cell_19.png',\n",
       " '-rwxrwxrwx 1 brandon brandon  12K Jul 13  2016 C133P94ThinF_IMG_20151004_155012_cell_18.png',\n",
       " '-rwxrwxrwx 1 brandon brandon  12K Jul 13  2016 C133P94ThinF_IMG_20151004_155012_cell_17.png',\n",
       " '-rwxrwxrwx 1 brandon brandon  14K Jul 13  2016 C133P94ThinF_IMG_20151004_155012_cell_16.png',\n",
       " '-rwxrwxrwx 1 brandon brandon  13K Jul 13  2016 C133P94ThinF_IMG_20151004_155012_cell_15.png',\n",
       " '-rwxrwxrwx 1 brandon brandon  16K Jul 13  2016 C133P94ThinF_IMG_20151004_155012_cell_14.png',\n",
       " '-rwxrwxrwx 1 brandon brandon  12K Jul 13  2016 C133P94ThinF_IMG_20151004_155012_cell_13.png',\n",
       " '-rwxrwxrwx 1 brandon brandon  11K Jul 13  2016 C133P94ThinF_IMG_20151004_155012_cell_12.png',\n",
       " '-rwxrwxrwx 1 brandon brandon 8.4K Jul 13  2016 C133P94ThinF_IMG_20151004_155012_cell_11.png',\n",
       " '-rwxrwxrwx 1 brandon brandon  12K Jul 13  2016 C133P94ThinF_IMG_20151004_155012_cell_10.png',\n",
       " '-rwxrwxrwx 1 brandon brandon 9.7K Jul 13  2016 C133P94ThinF_IMG_20151004_155012_cell_1.png',\n",
       " '-rwxrwxrwx 1 brandon brandon  12K Jul 13  2016 C33P1thinF_IMG_20150619_121300a_cell_156.png',\n",
       " '-rwxrwxrwx 1 brandon brandon  13K Jul 13  2016 C99P60ThinF_IMG_20150918_141620_cell_9.png',\n",
       " '-rwxrwxrwx 1 brandon brandon  11K Jul 13  2016 C99P60ThinF_IMG_20150918_141620_cell_8.png',\n",
       " '-rwxrwxrwx 1 brandon brandon  13K Jul 13  2016 C99P60ThinF_IMG_20150918_141620_cell_7.png',\n",
       " '-rwxrwxrwx 1 brandon brandon  17K Jul 13  2016 C99P60ThinF_IMG_20150918_141620_cell_6.png',\n",
       " '-rwxrwxrwx 1 brandon brandon  16K Jul 13  2016 C99P60ThinF_IMG_20150918_141620_cell_5.png',\n",
       " '-rwxrwxrwx 1 brandon brandon  12K Jul 13  2016 C99P60ThinF_IMG_20150918_141620_cell_4.png',\n",
       " '-rwxrwxrwx 1 brandon brandon  14K Jul 13  2016 C99P60ThinF_IMG_20150918_141620_cell_3.png',\n",
       " '-rwxrwxrwx 1 brandon brandon  16K Jul 13  2016 C99P60ThinF_IMG_20150918_141620_cell_2.png',\n",
       " '-rwxrwxrwx 1 brandon brandon  12K Jul 13  2016 C99P60ThinF_IMG_20150918_141620_cell_12.png',\n",
       " '-rwxrwxrwx 1 brandon brandon 8.6K Jul 13  2016 C99P60ThinF_IMG_20150918_141620_cell_11.png',\n",
       " '-rwxrwxrwx 1 brandon brandon 8.1K Jul 13  2016 C99P60ThinF_IMG_20150918_141620_cell_10.png',\n",
       " '-rwxrwxrwx 1 brandon brandon  13K Jul 13  2016 C99P60ThinF_IMG_20150918_141620_cell_1.png',\n",
       " '-rwxrwxrwx 1 brandon brandon  12K Jul 13  2016 C99P60ThinF_IMG_20150918_141620_cell_59.png',\n",
       " '-rwxrwxrwx 1 brandon brandon  17K Jul 13  2016 C99P60ThinF_IMG_20150918_141620_cell_58.png',\n",
       " '-rwxrwxrwx 1 brandon brandon  15K Jul 13  2016 C99P60ThinF_IMG_20150918_141620_cell_57.png',\n",
       " '-rwxrwxrwx 1 brandon brandon 9.6K Jul 13  2016 C99P60ThinF_IMG_20150918_141620_cell_56.png',\n",
       " '-rwxrwxrwx 1 brandon brandon  18K Jul 13  2016 C99P60ThinF_IMG_20150918_141620_cell_55.png',\n",
       " '-rwxrwxrwx 1 brandon brandon  20K Jul 13  2016 C99P60ThinF_IMG_20150918_141620_cell_54.png',\n",
       " '-rwxrwxrwx 1 brandon brandon  18K Jul 13  2016 C99P60ThinF_IMG_20150918_141620_cell_53.png',\n",
       " '-rwxrwxrwx 1 brandon brandon  16K Jul 13  2016 C99P60ThinF_IMG_20150918_141620_cell_52.png',\n",
       " '-rwxrwxrwx 1 brandon brandon  19K Jul 13  2016 C99P60ThinF_IMG_20150918_141620_cell_51.png',\n",
       " '-rwxrwxrwx 1 brandon brandon  15K Jul 13  2016 C99P60ThinF_IMG_20150918_141620_cell_50.png',\n",
       " '-rwxrwxrwx 1 brandon brandon  11K Jul 13  2016 C99P60ThinF_IMG_20150918_141620_cell_49.png',\n",
       " '-rwxrwxrwx 1 brandon brandon  11K Jul 13  2016 C99P60ThinF_IMG_20150918_141620_cell_48.png',\n",
       " '-rwxrwxrwx 1 brandon brandon  16K Jul 13  2016 C99P60ThinF_IMG_20150918_141620_cell_47.png',\n",
       " '-rwxrwxrwx 1 brandon brandon  14K Jul 13  2016 C99P60ThinF_IMG_20150918_141620_cell_46.png',\n",
       " '-rwxrwxrwx 1 brandon brandon  15K Jul 13  2016 C99P60ThinF_IMG_20150918_141620_cell_45.png',\n",
       " '-rwxrwxrwx 1 brandon brandon  17K Jul 13  2016 C99P60ThinF_IMG_20150918_141620_cell_44.png',\n",
       " '-rwxrwxrwx 1 brandon brandon  20K Jul 13  2016 C99P60ThinF_IMG_20150918_141620_cell_43.png',\n",
       " '-rwxrwxrwx 1 brandon brandon  15K Jul 13  2016 C99P60ThinF_IMG_20150918_141620_cell_42.png',\n",
       " '-rwxrwxrwx 1 brandon brandon 9.6K Jul 13  2016 C99P60ThinF_IMG_20150918_141620_cell_41.png',\n",
       " '-rwxrwxrwx 1 brandon brandon  15K Jul 13  2016 C99P60ThinF_IMG_20150918_141620_cell_40.png',\n",
       " '-rwxrwxrwx 1 brandon brandon  11K Jul 13  2016 C99P60ThinF_IMG_20150918_141620_cell_39.png',\n",
       " '-rwxrwxrwx 1 brandon brandon  13K Jul 13  2016 C99P60ThinF_IMG_20150918_141620_cell_38.png',\n",
       " '-rwxrwxrwx 1 brandon brandon  20K Jul 13  2016 C99P60ThinF_IMG_20150918_141620_cell_37.png',\n",
       " '-rwxrwxrwx 1 brandon brandon 8.4K Jul 13  2016 C99P60ThinF_IMG_20150918_141620_cell_36.png',\n",
       " '-rwxrwxrwx 1 brandon brandon  16K Jul 13  2016 C99P60ThinF_IMG_20150918_141620_cell_35.png',\n",
       " '-rwxrwxrwx 1 brandon brandon  11K Jul 13  2016 C99P60ThinF_IMG_20150918_141620_cell_34.png',\n",
       " '-rwxrwxrwx 1 brandon brandon  16K Jul 13  2016 C99P60ThinF_IMG_20150918_141620_cell_33.png',\n",
       " '-rwxrwxrwx 1 brandon brandon  21K Jul 13  2016 C99P60ThinF_IMG_20150918_141620_cell_32.png',\n",
       " '-rwxrwxrwx 1 brandon brandon  18K Jul 13  2016 C99P60ThinF_IMG_20150918_141620_cell_31.png',\n",
       " '-rwxrwxrwx 1 brandon brandon  14K Jul 13  2016 C99P60ThinF_IMG_20150918_141620_cell_30.png',\n",
       " '-rwxrwxrwx 1 brandon brandon  15K Jul 13  2016 C99P60ThinF_IMG_20150918_141620_cell_29.png',\n",
       " '-rwxrwxrwx 1 brandon brandon  15K Jul 13  2016 C99P60ThinF_IMG_20150918_141620_cell_28.png',\n",
       " '-rwxrwxrwx 1 brandon brandon 9.5K Jul 13  2016 C99P60ThinF_IMG_20150918_141620_cell_27.png',\n",
       " '-rwxrwxrwx 1 brandon brandon  20K Jul 13  2016 C99P60ThinF_IMG_20150918_141620_cell_26.png',\n",
       " '-rwxrwxrwx 1 brandon brandon  16K Jul 13  2016 C99P60ThinF_IMG_20150918_141620_cell_25.png',\n",
       " '-rwxrwxrwx 1 brandon brandon  16K Jul 13  2016 C99P60ThinF_IMG_20150918_141620_cell_24.png',\n",
       " '-rwxrwxrwx 1 brandon brandon 7.5K Jul 13  2016 C99P60ThinF_IMG_20150918_141620_cell_23.png',\n",
       " '-rwxrwxrwx 1 brandon brandon  21K Jul 13  2016 C99P60ThinF_IMG_20150918_141620_cell_22.png',\n",
       " '-rwxrwxrwx 1 brandon brandon  11K Jul 13  2016 C99P60ThinF_IMG_20150918_141620_cell_21.png',\n",
       " '-rwxrwxrwx 1 brandon brandon  10K Jul 13  2016 C99P60ThinF_IMG_20150918_141620_cell_20.png',\n",
       " '-rwxrwxrwx 1 brandon brandon  14K Jul 13  2016 C99P60ThinF_IMG_20150918_141620_cell_19.png',\n",
       " '-rwxrwxrwx 1 brandon brandon  18K Jul 13  2016 C99P60ThinF_IMG_20150918_141620_cell_18.png',\n",
       " '-rwxrwxrwx 1 brandon brandon  18K Jul 13  2016 C99P60ThinF_IMG_20150918_141620_cell_17.png',\n",
       " '-rwxrwxrwx 1 brandon brandon  16K Jul 13  2016 C99P60ThinF_IMG_20150918_141620_cell_16.png',\n",
       " '-rwxrwxrwx 1 brandon brandon  12K Jul 13  2016 C99P60ThinF_IMG_20150918_141620_cell_15.png',\n",
       " '-rwxrwxrwx 1 brandon brandon  16K Jul 13  2016 C99P60ThinF_IMG_20150918_141620_cell_14.png',\n",
       " '-rwxrwxrwx 1 brandon brandon  16K Jul 13  2016 C99P60ThinF_IMG_20150918_141620_cell_13.png',\n",
       " '-rwxrwxrwx 1 brandon brandon  12K Jul 13  2016 C72P33_ThinF_IMG_20150815_105823_cell_241.png',\n",
       " '-rwxrwxrwx 1 brandon brandon  16K Jul 13  2016 C33P1thinF_IMG_20150619_121411a_cell_190.png',\n",
       " '-rwxrwxrwx 1 brandon brandon  15K Jul 13  2016 C33P1thinF_IMG_20150619_121411a_cell_189.png',\n",
       " '-rwxrwxrwx 1 brandon brandon  11K Jul 13  2016 C133P94ThinF_IMG_20151004_155144_cell_141.png',\n",
       " '-rwxrwxrwx 1 brandon brandon  11K Jul 13  2016 C133P94ThinF_IMG_20151004_155144_cell_140.png',\n",
       " '-rwxrwxrwx 1 brandon brandon  11K Jul 13  2016 C133P94ThinF_IMG_20151004_155144_cell_139.png',\n",
       " '-rwxrwxrwx 1 brandon brandon  12K Jul 13  2016 C133P94ThinF_IMG_20151004_155144_cell_138.png',\n",
       " '-rwxrwxrwx 1 brandon brandon  16K Jul 13  2016 C133P94ThinF_IMG_20151004_155144_cell_137.png',\n",
       " '-rwxrwxrwx 1 brandon brandon  13K Jul 13  2016 C133P94ThinF_IMG_20151004_155144_cell_136.png',\n",
       " '-rwxrwxrwx 1 brandon brandon  12K Jul 13  2016 C133P94ThinF_IMG_20151004_155144_cell_135.png',\n",
       " '-rwxrwxrwx 1 brandon brandon  13K Jul 13  2016 C133P94ThinF_IMG_20151004_155144_cell_134.png',\n",
       " '-rwxrwxrwx 1 brandon brandon  14K Jul 13  2016 C133P94ThinF_IMG_20151004_155144_cell_133.png',\n",
       " '-rwxrwxrwx 1 brandon brandon  16K Jul 13  2016 C133P94ThinF_IMG_20151004_155144_cell_132.png',\n",
       " '-rwxrwxrwx 1 brandon brandon  11K Jul 13  2016 C133P94ThinF_IMG_20151004_155144_cell_131.png',\n",
       " '-rwxrwxrwx 1 brandon brandon  11K Jul 13  2016 C133P94ThinF_IMG_20151004_155144_cell_130.png',\n",
       " '-rwxrwxrwx 1 brandon brandon  15K Jul 13  2016 C133P94ThinF_IMG_20151004_155144_cell_129.png',\n",
       " '-rwxrwxrwx 1 brandon brandon  15K Jul 13  2016 C133P94ThinF_IMG_20151004_155144_cell_128.png',\n",
       " '-rwxrwxrwx 1 brandon brandon  13K Jul 13  2016 C133P94ThinF_IMG_20151004_155144_cell_127.png',\n",
       " '-rwxrwxrwx 1 brandon brandon  14K Jul 13  2016 C133P94ThinF_IMG_20151004_155144_cell_126.png',\n",
       " '-rwxrwxrwx 1 brandon brandon  11K Jul 13  2016 C133P94ThinF_IMG_20151004_155144_cell_125.png',\n",
       " '-rwxrwxrwx 1 brandon brandon  14K Jul 13  2016 C133P94ThinF_IMG_20151004_155144_cell_124.png',\n",
       " '-rwxrwxrwx 1 brandon brandon  13K Jul 13  2016 C133P94ThinF_IMG_20151004_155144_cell_123.png',\n",
       " '-rwxrwxrwx 1 brandon brandon 7.2K Jul 13  2016 C133P94ThinF_IMG_20151004_155144_cell_122.png',\n",
       " '-rwxrwxrwx 1 brandon brandon  12K Jul 13  2016 C133P94ThinF_IMG_20151004_155144_cell_121.png',\n",
       " '-rwxrwxrwx 1 brandon brandon  14K Jul 13  2016 C133P94ThinF_IMG_20151004_155144_cell_120.png',\n",
       " '-rwxrwxrwx 1 brandon brandon  16K Jul 13  2016 C133P94ThinF_IMG_20151004_155144_cell_119.png',\n",
       " '-rwxrwxrwx 1 brandon brandon  11K Jul 13  2016 C133P94ThinF_IMG_20151004_155144_cell_118.png',\n",
       " '-rwxrwxrwx 1 brandon brandon 9.4K Jul 13  2016 C133P94ThinF_IMG_20151004_155144_cell_117.png',\n",
       " '-rwxrwxrwx 1 brandon brandon  12K Jul 13  2016 C133P94ThinF_IMG_20151004_155144_cell_116.png',\n",
       " '-rwxrwxrwx 1 brandon brandon  11K Jul 13  2016 C133P94ThinF_IMG_20151004_155144_cell_115.png',\n",
       " '-rwxrwxrwx 1 brandon brandon  11K Jul 13  2016 C133P94ThinF_IMG_20151004_155144_cell_114.png',\n",
       " '-rwxrwxrwx 1 brandon brandon  11K Jul 13  2016 C99P60ThinF_IMG_20150918_141857_cell_9.png',\n",
       " '-rwxrwxrwx 1 brandon brandon  16K Jul 13  2016 C99P60ThinF_IMG_20150918_141857_cell_8.png',\n",
       " '-rwxrwxrwx 1 brandon brandon  13K Jul 13  2016 C99P60ThinF_IMG_20150918_141857_cell_7.png',\n",
       " '-rwxrwxrwx 1 brandon brandon  16K Jul 13  2016 C99P60ThinF_IMG_20150918_141857_cell_6.png',\n",
       " '-rwxrwxrwx 1 brandon brandon  12K Jul 13  2016 C99P60ThinF_IMG_20150918_141857_cell_5.png',\n",
       " '-rwxrwxrwx 1 brandon brandon  12K Jul 13  2016 C99P60ThinF_IMG_20150918_141857_cell_4.png',\n",
       " '-rwxrwxrwx 1 brandon brandon  15K Jul 13  2016 C99P60ThinF_IMG_20150918_141857_cell_37.png',\n",
       " '-rwxrwxrwx 1 brandon brandon  24K Jul 13  2016 C99P60ThinF_IMG_20150918_141857_cell_36.png',\n",
       " '-rwxrwxrwx 1 brandon brandon  14K Jul 13  2016 C99P60ThinF_IMG_20150918_141857_cell_35.png',\n",
       " '-rwxrwxrwx 1 brandon brandon  12K Jul 13  2016 C99P60ThinF_IMG_20150918_141857_cell_34.png',\n",
       " '-rwxrwxrwx 1 brandon brandon  15K Jul 13  2016 C99P60ThinF_IMG_20150918_141857_cell_33.png',\n",
       " '-rwxrwxrwx 1 brandon brandon  14K Jul 13  2016 C99P60ThinF_IMG_20150918_141857_cell_32.png',\n",
       " '-rwxrwxrwx 1 brandon brandon 9.0K Jul 13  2016 C99P60ThinF_IMG_20150918_141857_cell_31.png',\n",
       " '-rwxrwxrwx 1 brandon brandon  17K Jul 13  2016 C99P60ThinF_IMG_20150918_141857_cell_30.png',\n",
       " '-rwxrwxrwx 1 brandon brandon  14K Jul 13  2016 C99P60ThinF_IMG_20150918_141857_cell_3.png',\n",
       " '-rwxrwxrwx 1 brandon brandon  11K Jul 13  2016 C99P60ThinF_IMG_20150918_141857_cell_29.png',\n",
       " '-rwxrwxrwx 1 brandon brandon  11K Jul 13  2016 C99P60ThinF_IMG_20150918_141857_cell_28.png',\n",
       " '-rwxrwxrwx 1 brandon brandon 6.5K Jul 13  2016 C99P60ThinF_IMG_20150918_141857_cell_27.png',\n",
       " '-rwxrwxrwx 1 brandon brandon  14K Jul 13  2016 C99P60ThinF_IMG_20150918_141857_cell_26.png',\n",
       " '-rwxrwxrwx 1 brandon brandon  12K Jul 13  2016 C99P60ThinF_IMG_20150918_141857_cell_25.png',\n",
       " '-rwxrwxrwx 1 brandon brandon  13K Jul 13  2016 C99P60ThinF_IMG_20150918_141857_cell_24.png',\n",
       " '-rwxrwxrwx 1 brandon brandon  17K Jul 13  2016 C99P60ThinF_IMG_20150918_141857_cell_23.png',\n",
       " '-rwxrwxrwx 1 brandon brandon  16K Jul 13  2016 C99P60ThinF_IMG_20150918_141857_cell_22.png',\n",
       " '-rwxrwxrwx 1 brandon brandon 9.5K Jul 13  2016 C99P60ThinF_IMG_20150918_141857_cell_21.png',\n",
       " '-rwxrwxrwx 1 brandon brandon  16K Jul 13  2016 C99P60ThinF_IMG_20150918_141857_cell_20.png',\n",
       " '-rwxrwxrwx 1 brandon brandon  17K Jul 13  2016 C99P60ThinF_IMG_20150918_141857_cell_2.png',\n",
       " '-rwxrwxrwx 1 brandon brandon  12K Jul 13  2016 C99P60ThinF_IMG_20150918_141857_cell_19.png',\n",
       " '-rwxrwxrwx 1 brandon brandon  14K Jul 13  2016 C99P60ThinF_IMG_20150918_141857_cell_18.png',\n",
       " '-rwxrwxrwx 1 brandon brandon  16K Jul 13  2016 C99P60ThinF_IMG_20150918_141857_cell_17.png',\n",
       " '-rwxrwxrwx 1 brandon brandon  15K Jul 13  2016 C99P60ThinF_IMG_20150918_141857_cell_16.png',\n",
       " '-rwxrwxrwx 1 brandon brandon  15K Jul 13  2016 C99P60ThinF_IMG_20150918_141857_cell_15.png',\n",
       " '-rwxrwxrwx 1 brandon brandon  16K Jul 13  2016 C99P60ThinF_IMG_20150918_141857_cell_14.png',\n",
       " '-rwxrwxrwx 1 brandon brandon  15K Jul 13  2016 C99P60ThinF_IMG_20150918_141857_cell_13.png',\n",
       " '-rwxrwxrwx 1 brandon brandon  11K Jul 13  2016 C99P60ThinF_IMG_20150918_141857_cell_12.png',\n",
       " '-rwxrwxrwx 1 brandon brandon 9.9K Jul 13  2016 C99P60ThinF_IMG_20150918_141857_cell_11.png',\n",
       " '-rwxrwxrwx 1 brandon brandon  15K Jul 13  2016 C99P60ThinF_IMG_20150918_141857_cell_10.png',\n",
       " '-rwxrwxrwx 1 brandon brandon 7.4K Jul 13  2016 C99P60ThinF_IMG_20150918_141857_cell_1.png',\n",
       " '-rwxrwxrwx 1 brandon brandon  11K Jul 13  2016 C99P60ThinF_IMG_20150918_141857_cell_58.png',\n",
       " '-rwxrwxrwx 1 brandon brandon  21K Jul 13  2016 C99P60ThinF_IMG_20150918_141857_cell_57.png',\n",
       " '-rwxrwxrwx 1 brandon brandon  11K Jul 13  2016 C99P60ThinF_IMG_20150918_141857_cell_56.png',\n",
       " '-rwxrwxrwx 1 brandon brandon  15K Jul 13  2016 C99P60ThinF_IMG_20150918_141857_cell_55.png',\n",
       " '-rwxrwxrwx 1 brandon brandon 9.9K Jul 13  2016 C99P60ThinF_IMG_20150918_141857_cell_54.png',\n",
       " '-rwxrwxrwx 1 brandon brandon  17K Jul 13  2016 C99P60ThinF_IMG_20150918_141857_cell_53.png',\n",
       " '-rwxrwxrwx 1 brandon brandon  10K Jul 13  2016 C99P60ThinF_IMG_20150918_141857_cell_52.png',\n",
       " '-rwxrwxrwx 1 brandon brandon  15K Jul 13  2016 C99P60ThinF_IMG_20150918_141857_cell_51.png',\n",
       " '-rwxrwxrwx 1 brandon brandon  16K Jul 13  2016 C99P60ThinF_IMG_20150918_141857_cell_50.png',\n",
       " '-rwxrwxrwx 1 brandon brandon  13K Jul 13  2016 C99P60ThinF_IMG_20150918_141857_cell_49.png',\n",
       " '-rwxrwxrwx 1 brandon brandon  14K Jul 13  2016 C99P60ThinF_IMG_20150918_141857_cell_48.png',\n",
       " '-rwxrwxrwx 1 brandon brandon  23K Jul 13  2016 C99P60ThinF_IMG_20150918_141857_cell_47.png',\n",
       " '-rwxrwxrwx 1 brandon brandon  25K Jul 13  2016 C99P60ThinF_IMG_20150918_141857_cell_46.png',\n",
       " '-rwxrwxrwx 1 brandon brandon  15K Jul 13  2016 C99P60ThinF_IMG_20150918_141857_cell_45.png',\n",
       " '-rwxrwxrwx 1 brandon brandon  16K Jul 13  2016 C99P60ThinF_IMG_20150918_141857_cell_44.png',\n",
       " '-rwxrwxrwx 1 brandon brandon  11K Jul 13  2016 C99P60ThinF_IMG_20150918_141857_cell_43.png',\n",
       " '-rwxrwxrwx 1 brandon brandon  17K Jul 13  2016 C99P60ThinF_IMG_20150918_141857_cell_42.png',\n",
       " '-rwxrwxrwx 1 brandon brandon  15K Jul 13  2016 C99P60ThinF_IMG_20150918_141857_cell_41.png',\n",
       " '-rwxrwxrwx 1 brandon brandon  14K Jul 13  2016 C99P60ThinF_IMG_20150918_141857_cell_40.png',\n",
       " '-rwxrwxrwx 1 brandon brandon 7.4K Jul 13  2016 C99P60ThinF_IMG_20150918_141857_cell_39.png',\n",
       " '-rwxrwxrwx 1 brandon brandon  15K Jul 13  2016 C99P60ThinF_IMG_20150918_141857_cell_38.png',\n",
       " '-rwxrwxrwx 1 brandon brandon 9.1K Jul 13  2016 C33P1thinF_IMG_20150619_121435a_cell_173.png',\n",
       " '-rwxrwxrwx 1 brandon brandon 9.5K Jul 13  2016 C133P94ThinF_IMG_20151004_155331_cell_126.png',\n",
       " '-rwxrwxrwx 1 brandon brandon  17K Jul 13  2016 C133P94ThinF_IMG_20151004_155331_cell_125.png',\n",
       " '-rwxrwxrwx 1 brandon brandon  14K Jul 13  2016 C133P94ThinF_IMG_20151004_155331_cell_124.png',\n",
       " '-rwxrwxrwx 1 brandon brandon  11K Jul 13  2016 C133P94ThinF_IMG_20151004_155331_cell_123.png',\n",
       " '-rwxrwxrwx 1 brandon brandon 9.7K Jul 13  2016 C133P94ThinF_IMG_20151004_155331_cell_122.png',\n",
       " '-rwxrwxrwx 1 brandon brandon  12K Jul 13  2016 C133P94ThinF_IMG_20151004_155331_cell_121.png',\n",
       " '-rwxrwxrwx 1 brandon brandon  12K Jul 13  2016 C133P94ThinF_IMG_20151004_155331_cell_120.png',\n",
       " '-rwxrwxrwx 1 brandon brandon  15K Jul 13  2016 C133P94ThinF_IMG_20151004_155331_cell_119.png',\n",
       " '-rwxrwxrwx 1 brandon brandon  11K Jul 13  2016 C133P94ThinF_IMG_20151004_155331_cell_118.png',\n",
       " '-rwxrwxrwx 1 brandon brandon  11K Jul 13  2016 C133P94ThinF_IMG_20151004_155331_cell_117.png',\n",
       " '-rwxrwxrwx 1 brandon brandon  12K Jul 13  2016 C133P94ThinF_IMG_20151004_155331_cell_116.png',\n",
       " '-rwxrwxrwx 1 brandon brandon  13K Jul 13  2016 C133P94ThinF_IMG_20151004_155331_cell_115.png',\n",
       " '-rwxrwxrwx 1 brandon brandon  13K Jul 13  2016 C133P94ThinF_IMG_20151004_155331_cell_114.png',\n",
       " '-rwxrwxrwx 1 brandon brandon 9.6K Jul 13  2016 C133P94ThinF_IMG_20151004_155331_cell_113.png',\n",
       " '-rwxrwxrwx 1 brandon brandon  17K Jul 13  2016 C133P94ThinF_IMG_20151004_155331_cell_112.png',\n",
       " '-rwxrwxrwx 1 brandon brandon  13K Jul 13  2016 C133P94ThinF_IMG_20151004_155331_cell_111.png',\n",
       " '-rwxrwxrwx 1 brandon brandon  12K Jul 13  2016 C133P94ThinF_IMG_20151004_155331_cell_110.png',\n",
       " '-rwxrwxrwx 1 brandon brandon 8.4K Jul 13  2016 C133P94ThinF_IMG_20151004_155331_cell_109.png',\n",
       " '-rwxrwxrwx 1 brandon brandon  13K Jul 13  2016 C33P1thinF_IMG_20150619_121503a_cell_159.png',\n",
       " '-rwxrwxrwx 1 brandon brandon  14K Jul 13  2016 C33P1thinF_IMG_20150619_121503a_cell_158.png',\n",
       " '-rwxrwxrwx 1 brandon brandon  16K Jul 13  2016 C99P60ThinF_IMG_20150918_142128_cell_99.png',\n",
       " '-rwxrwxrwx 1 brandon brandon  14K Jul 13  2016 C99P60ThinF_IMG_20150918_142128_cell_98.png',\n",
       " '-rwxrwxrwx 1 brandon brandon  16K Jul 13  2016 C99P60ThinF_IMG_20150918_142128_cell_97.png',\n",
       " '-rwxrwxrwx 1 brandon brandon  11K Jul 13  2016 C99P60ThinF_IMG_20150918_142128_cell_96.png',\n",
       " '-rwxrwxrwx 1 brandon brandon  14K Jul 13  2016 C99P60ThinF_IMG_20150918_142128_cell_95.png',\n",
       " '-rwxrwxrwx 1 brandon brandon  18K Jul 13  2016 C99P60ThinF_IMG_20150918_142128_cell_94.png',\n",
       " '-rwxrwxrwx 1 brandon brandon  17K Jul 13  2016 C99P60ThinF_IMG_20150918_142128_cell_93.png',\n",
       " '-rwxrwxrwx 1 brandon brandon  11K Jul 13  2016 C99P60ThinF_IMG_20150918_142128_cell_92.png',\n",
       " '-rwxrwxrwx 1 brandon brandon  15K Jul 13  2016 C99P60ThinF_IMG_20150918_142128_cell_91.png',\n",
       " '-rwxrwxrwx 1 brandon brandon 9.4K Jul 13  2016 C99P60ThinF_IMG_20150918_142128_cell_90.png',\n",
       " '-rwxrwxrwx 1 brandon brandon  18K Jul 13  2016 C99P60ThinF_IMG_20150918_142128_cell_89.png',\n",
       " '-rwxrwxrwx 1 brandon brandon  20K Jul 13  2016 C99P60ThinF_IMG_20150918_142128_cell_88.png',\n",
       " '-rwxrwxrwx 1 brandon brandon  15K Jul 13  2016 C99P60ThinF_IMG_20150918_142128_cell_87.png',\n",
       " '-rwxrwxrwx 1 brandon brandon  19K Jul 13  2016 C99P60ThinF_IMG_20150918_142128_cell_86.png',\n",
       " '-rwxrwxrwx 1 brandon brandon  14K Jul 13  2016 C99P60ThinF_IMG_20150918_142128_cell_85.png',\n",
       " '-rwxrwxrwx 1 brandon brandon  18K Jul 13  2016 C99P60ThinF_IMG_20150918_142128_cell_84.png',\n",
       " '-rwxrwxrwx 1 brandon brandon  13K Jul 13  2016 C99P60ThinF_IMG_20150918_142128_cell_83.png',\n",
       " '-rwxrwxrwx 1 brandon brandon  14K Jul 13  2016 C99P60ThinF_IMG_20150918_142128_cell_82.png',\n",
       " '-rwxrwxrwx 1 brandon brandon  16K Jul 13  2016 C99P60ThinF_IMG_20150918_142128_cell_81.png',\n",
       " '-rwxrwxrwx 1 brandon brandon  16K Jul 13  2016 C99P60ThinF_IMG_20150918_142128_cell_80.png',\n",
       " '-rwxrwxrwx 1 brandon brandon  18K Jul 13  2016 C99P60ThinF_IMG_20150918_142128_cell_79.png',\n",
       " '-rwxrwxrwx 1 brandon brandon  19K Jul 13  2016 C99P60ThinF_IMG_20150918_142128_cell_78.png',\n",
       " '-rwxrwxrwx 1 brandon brandon  17K Jul 13  2016 C99P60ThinF_IMG_20150918_142128_cell_118.png',\n",
       " '-rwxrwxrwx 1 brandon brandon  16K Jul 13  2016 C99P60ThinF_IMG_20150918_142128_cell_117.png',\n",
       " '-rwxrwxrwx 1 brandon brandon  12K Jul 13  2016 C99P60ThinF_IMG_20150918_142128_cell_116.png',\n",
       " '-rwxrwxrwx 1 brandon brandon  16K Jul 13  2016 C99P60ThinF_IMG_20150918_142128_cell_115.png',\n",
       " '-rwxrwxrwx 1 brandon brandon  19K Jul 13  2016 C99P60ThinF_IMG_20150918_142128_cell_114.png',\n",
       " '-rwxrwxrwx 1 brandon brandon  16K Jul 13  2016 C99P60ThinF_IMG_20150918_142128_cell_113.png',\n",
       " '-rwxrwxrwx 1 brandon brandon  13K Jul 13  2016 C99P60ThinF_IMG_20150918_142128_cell_112.png',\n",
       " '-rwxrwxrwx 1 brandon brandon  19K Jul 13  2016 C99P60ThinF_IMG_20150918_142128_cell_111.png',\n",
       " '-rwxrwxrwx 1 brandon brandon  16K Jul 13  2016 C99P60ThinF_IMG_20150918_142128_cell_110.png',\n",
       " '-rwxrwxrwx 1 brandon brandon  17K Jul 13  2016 C99P60ThinF_IMG_20150918_142128_cell_109.png',\n",
       " '-rwxrwxrwx 1 brandon brandon  20K Jul 13  2016 C99P60ThinF_IMG_20150918_142128_cell_108.png',\n",
       " '-rwxrwxrwx 1 brandon brandon  16K Jul 13  2016 C99P60ThinF_IMG_20150918_142128_cell_107.png',\n",
       " '-rwxrwxrwx 1 brandon brandon  14K Jul 13  2016 C99P60ThinF_IMG_20150918_142128_cell_106.png',\n",
       " '-rwxrwxrwx 1 brandon brandon  18K Jul 13  2016 C99P60ThinF_IMG_20150918_142128_cell_105.png',\n",
       " '-rwxrwxrwx 1 brandon brandon  19K Jul 13  2016 C99P60ThinF_IMG_20150918_142128_cell_104.png',\n",
       " '-rwxrwxrwx 1 brandon brandon  15K Jul 13  2016 C99P60ThinF_IMG_20150918_142128_cell_103.png',\n",
       " '-rwxrwxrwx 1 brandon brandon  15K Jul 13  2016 C99P60ThinF_IMG_20150918_142128_cell_102.png',\n",
       " '-rwxrwxrwx 1 brandon brandon  19K Jul 13  2016 C99P60ThinF_IMG_20150918_142128_cell_101.png',\n",
       " '-rwxrwxrwx 1 brandon brandon  16K Jul 13  2016 C99P60ThinF_IMG_20150918_142128_cell_100.png',\n",
       " '-rwxrwxrwx 1 brandon brandon  17K Jul 13  2016 C99P60ThinF_IMG_20150918_142128_cell_120.png',\n",
       " '-rwxrwxrwx 1 brandon brandon  16K Jul 13  2016 C99P60ThinF_IMG_20150918_142128_cell_119.png',\n",
       " '-rwxrwxrwx 1 brandon brandon  19K Jul 13  2016 C37BP2_thinF_IMG_20150620_131423a_cell_94.png',\n",
       " '-rwxrwxrwx 1 brandon brandon  18K Jul 13  2016 C37BP2_thinF_IMG_20150620_131423a_cell_93.png',\n",
       " '-rwxrwxrwx 1 brandon brandon  19K Jul 13  2016 C37BP2_thinF_IMG_20150620_131423a_cell_92.png',\n",
       " '-rwxrwxrwx 1 brandon brandon  15K Jul 13  2016 C133P94ThinF_IMG_20151004_155518_cell_99.png',\n",
       " '-rwxrwxrwx 1 brandon brandon  16K Jul 13  2016 C133P94ThinF_IMG_20151004_155518_cell_127.png',\n",
       " '-rwxrwxrwx 1 brandon brandon  15K Jul 13  2016 C133P94ThinF_IMG_20151004_155518_cell_126.png',\n",
       " '-rwxrwxrwx 1 brandon brandon  13K Jul 13  2016 C133P94ThinF_IMG_20151004_155518_cell_125.png',\n",
       " '-rwxrwxrwx 1 brandon brandon 8.5K Jul 13  2016 C133P94ThinF_IMG_20151004_155518_cell_124.png',\n",
       " '-rwxrwxrwx 1 brandon brandon  15K Jul 13  2016 C133P94ThinF_IMG_20151004_155518_cell_123.png',\n",
       " '-rwxrwxrwx 1 brandon brandon  13K Jul 13  2016 C133P94ThinF_IMG_20151004_155518_cell_122.png',\n",
       " '-rwxrwxrwx 1 brandon brandon  17K Jul 13  2016 C133P94ThinF_IMG_20151004_155518_cell_121.png',\n",
       " '-rwxrwxrwx 1 brandon brandon  19K Jul 13  2016 C133P94ThinF_IMG_20151004_155518_cell_120.png',\n",
       " '-rwxrwxrwx 1 brandon brandon  17K Jul 13  2016 C133P94ThinF_IMG_20151004_155518_cell_119.png',\n",
       " '-rwxrwxrwx 1 brandon brandon  16K Jul 13  2016 C133P94ThinF_IMG_20151004_155518_cell_118.png',\n",
       " '-rwxrwxrwx 1 brandon brandon 7.8K Jul 13  2016 C133P94ThinF_IMG_20151004_155518_cell_117.png',\n",
       " '-rwxrwxrwx 1 brandon brandon  14K Jul 13  2016 C133P94ThinF_IMG_20151004_155518_cell_116.png',\n",
       " '-rwxrwxrwx 1 brandon brandon  14K Jul 13  2016 C133P94ThinF_IMG_20151004_155518_cell_115.png',\n",
       " '-rwxrwxrwx 1 brandon brandon  12K Jul 13  2016 C133P94ThinF_IMG_20151004_155518_cell_114.png',\n",
       " '-rwxrwxrwx 1 brandon brandon  11K Jul 13  2016 C133P94ThinF_IMG_20151004_155518_cell_113.png',\n",
       " '-rwxrwxrwx 1 brandon brandon  16K Jul 13  2016 C133P94ThinF_IMG_20151004_155518_cell_112.png',\n",
       " '-rwxrwxrwx 1 brandon brandon  14K Jul 13  2016 C133P94ThinF_IMG_20151004_155518_cell_111.png',\n",
       " '-rwxrwxrwx 1 brandon brandon  16K Jul 13  2016 C133P94ThinF_IMG_20151004_155518_cell_110.png',\n",
       " '-rwxrwxrwx 1 brandon brandon 8.8K Jul 13  2016 C133P94ThinF_IMG_20151004_155518_cell_109.png',\n",
       " '-rwxrwxrwx 1 brandon brandon  14K Jul 13  2016 C133P94ThinF_IMG_20151004_155518_cell_108.png',\n",
       " '-rwxrwxrwx 1 brandon brandon  13K Jul 13  2016 C133P94ThinF_IMG_20151004_155518_cell_107.png',\n",
       " '-rwxrwxrwx 1 brandon brandon 9.3K Jul 13  2016 C133P94ThinF_IMG_20151004_155518_cell_106.png',\n",
       " '-rwxrwxrwx 1 brandon brandon  11K Jul 13  2016 C133P94ThinF_IMG_20151004_155518_cell_105.png',\n",
       " '-rwxrwxrwx 1 brandon brandon  16K Jul 13  2016 C133P94ThinF_IMG_20151004_155518_cell_104.png',\n",
       " '-rwxrwxrwx 1 brandon brandon  12K Jul 13  2016 C133P94ThinF_IMG_20151004_155518_cell_103.png',\n",
       " '-rwxrwxrwx 1 brandon brandon  16K Jul 13  2016 C133P94ThinF_IMG_20151004_155518_cell_102.png',\n",
       " '-rwxrwxrwx 1 brandon brandon  14K Jul 13  2016 C133P94ThinF_IMG_20151004_155518_cell_101.png',\n",
       " '-rwxrwxrwx 1 brandon brandon  12K Jul 13  2016 C133P94ThinF_IMG_20151004_155518_cell_100.png',\n",
       " '-rwxrwxrwx 1 brandon brandon  17K Jul 13  2016 C37BP2_thinF_IMG_20150620_132440a_cell_108.png',\n",
       " '-rwxrwxrwx 1 brandon brandon  12K Jul 13  2016 C99P60ThinF_IMG_20150918_142334_cell_9.png',\n",
       " '-rwxrwxrwx 1 brandon brandon  14K Jul 13  2016 C99P60ThinF_IMG_20150918_142334_cell_8.png',\n",
       " '-rwxrwxrwx 1 brandon brandon  17K Jul 13  2016 C99P60ThinF_IMG_20150918_142334_cell_7.png',\n",
       " '-rwxrwxrwx 1 brandon brandon  13K Jul 13  2016 C99P60ThinF_IMG_20150918_142334_cell_6.png',\n",
       " '-rwxrwxrwx 1 brandon brandon  15K Jul 13  2016 C99P60ThinF_IMG_20150918_142334_cell_5.png',\n",
       " '-rwxrwxrwx 1 brandon brandon  19K Jul 13  2016 C99P60ThinF_IMG_20150918_142334_cell_48.png',\n",
       " '-rwxrwxrwx 1 brandon brandon  19K Jul 13  2016 C99P60ThinF_IMG_20150918_142334_cell_47.png',\n",
       " '-rwxrwxrwx 1 brandon brandon  22K Jul 13  2016 C99P60ThinF_IMG_20150918_142334_cell_46.png',\n",
       " '-rwxrwxrwx 1 brandon brandon  15K Jul 13  2016 C99P60ThinF_IMG_20150918_142334_cell_45.png',\n",
       " '-rwxrwxrwx 1 brandon brandon  20K Jul 13  2016 C99P60ThinF_IMG_20150918_142334_cell_44.png',\n",
       " '-rwxrwxrwx 1 brandon brandon  17K Jul 13  2016 C99P60ThinF_IMG_20150918_142334_cell_43.png',\n",
       " '-rwxrwxrwx 1 brandon brandon  17K Jul 13  2016 C99P60ThinF_IMG_20150918_142334_cell_42.png',\n",
       " '-rwxrwxrwx 1 brandon brandon  14K Jul 13  2016 C99P60ThinF_IMG_20150918_142334_cell_41.png',\n",
       " '-rwxrwxrwx 1 brandon brandon  18K Jul 13  2016 C99P60ThinF_IMG_20150918_142334_cell_40.png',\n",
       " '-rwxrwxrwx 1 brandon brandon  12K Jul 13  2016 C99P60ThinF_IMG_20150918_142334_cell_4.png',\n",
       " '-rwxrwxrwx 1 brandon brandon  21K Jul 13  2016 C99P60ThinF_IMG_20150918_142334_cell_39.png',\n",
       " '-rwxrwxrwx 1 brandon brandon  16K Jul 13  2016 C99P60ThinF_IMG_20150918_142334_cell_38.png',\n",
       " '-rwxrwxrwx 1 brandon brandon 7.8K Jul 13  2016 C99P60ThinF_IMG_20150918_142334_cell_37.png',\n",
       " '-rwxrwxrwx 1 brandon brandon  16K Jul 13  2016 C99P60ThinF_IMG_20150918_142334_cell_36.png',\n",
       " '-rwxrwxrwx 1 brandon brandon  14K Jul 13  2016 C99P60ThinF_IMG_20150918_142334_cell_35.png',\n",
       " '-rwxrwxrwx 1 brandon brandon  20K Jul 13  2016 C99P60ThinF_IMG_20150918_142334_cell_34.png',\n",
       " '-rwxrwxrwx 1 brandon brandon 9.1K Jul 13  2016 C99P60ThinF_IMG_20150918_142334_cell_33.png',\n",
       " '-rwxrwxrwx 1 brandon brandon  16K Jul 13  2016 C99P60ThinF_IMG_20150918_142334_cell_32.png',\n",
       " '-rwxrwxrwx 1 brandon brandon  19K Jul 13  2016 C99P60ThinF_IMG_20150918_142334_cell_31.png',\n",
       " '-rwxrwxrwx 1 brandon brandon  18K Jul 13  2016 C99P60ThinF_IMG_20150918_142334_cell_30.png',\n",
       " '-rwxrwxrwx 1 brandon brandon  15K Jul 13  2016 C99P60ThinF_IMG_20150918_142334_cell_3.png',\n",
       " '-rwxrwxrwx 1 brandon brandon  19K Jul 13  2016 C99P60ThinF_IMG_20150918_142334_cell_29.png',\n",
       " '-rwxrwxrwx 1 brandon brandon  19K Jul 13  2016 C99P60ThinF_IMG_20150918_142334_cell_28.png',\n",
       " '-rwxrwxrwx 1 brandon brandon  14K Jul 13  2016 C99P60ThinF_IMG_20150918_142334_cell_27.png',\n",
       " '-rwxrwxrwx 1 brandon brandon  12K Jul 13  2016 C99P60ThinF_IMG_20150918_142334_cell_26.png',\n",
       " '-rwxrwxrwx 1 brandon brandon  20K Jul 13  2016 C99P60ThinF_IMG_20150918_142334_cell_25.png',\n",
       " '-rwxrwxrwx 1 brandon brandon  17K Jul 13  2016 C99P60ThinF_IMG_20150918_142334_cell_24.png',\n",
       " '-rwxrwxrwx 1 brandon brandon  17K Jul 13  2016 C99P60ThinF_IMG_20150918_142334_cell_23.png',\n",
       " '-rwxrwxrwx 1 brandon brandon  11K Jul 13  2016 C99P60ThinF_IMG_20150918_142334_cell_22.png',\n",
       " '-rwxrwxrwx 1 brandon brandon  16K Jul 13  2016 C99P60ThinF_IMG_20150918_142334_cell_21.png',\n",
       " '-rwxrwxrwx 1 brandon brandon  11K Jul 13  2016 C99P60ThinF_IMG_20150918_142334_cell_20.png',\n",
       " '-rwxrwxrwx 1 brandon brandon  16K Jul 13  2016 C99P60ThinF_IMG_20150918_142334_cell_2.png',\n",
       " '-rwxrwxrwx 1 brandon brandon  14K Jul 13  2016 C99P60ThinF_IMG_20150918_142334_cell_19.png',\n",
       " '-rwxrwxrwx 1 brandon brandon  20K Jul 13  2016 C99P60ThinF_IMG_20150918_142334_cell_18.png',\n",
       " '-rwxrwxrwx 1 brandon brandon  29K Jul 13  2016 C99P60ThinF_IMG_20150918_142334_cell_17.png',\n",
       " '-rwxrwxrwx 1 brandon brandon  15K Jul 13  2016 C99P60ThinF_IMG_20150918_142334_cell_16.png',\n",
       " '-rwxrwxrwx 1 brandon brandon  14K Jul 13  2016 C99P60ThinF_IMG_20150918_142334_cell_15.png',\n",
       " '-rwxrwxrwx 1 brandon brandon  15K Jul 13  2016 C99P60ThinF_IMG_20150918_142334_cell_14.png',\n",
       " '-rwxrwxrwx 1 brandon brandon  15K Jul 13  2016 C99P60ThinF_IMG_20150918_142334_cell_13.png',\n",
       " '-rwxrwxrwx 1 brandon brandon  14K Jul 13  2016 C99P60ThinF_IMG_20150918_142334_cell_12.png',\n",
       " '-rwxrwxrwx 1 brandon brandon  14K Jul 13  2016 C99P60ThinF_IMG_20150918_142334_cell_11.png',\n",
       " '-rwxrwxrwx 1 brandon brandon  14K Jul 13  2016 C99P60ThinF_IMG_20150918_142334_cell_10.png',\n",
       " '-rwxrwxrwx 1 brandon brandon  15K Jul 13  2016 C99P60ThinF_IMG_20150918_142334_cell_1.png',\n",
       " '-rwxrwxrwx 1 brandon brandon  16K Jul 13  2016 C37BP2_thinF_IMG_20150620_132847a_cell_77.png',\n",
       " '-rwxrwxrwx 1 brandon brandon  16K Jul 13  2016 C37BP2_thinF_IMG_20150620_132847a_cell_76.png',\n",
       " '-rwxrwxrwx 1 brandon brandon  21K Jul 13  2016 C133P94ThinF_IMG_20151004_155721_cell_124.png',\n",
       " '-rwxrwxrwx 1 brandon brandon  11K Jul 13  2016 C133P94ThinF_IMG_20151004_155721_cell_123.png',\n",
       " '-rwxrwxrwx 1 brandon brandon  17K Jul 13  2016 C133P94ThinF_IMG_20151004_155721_cell_122.png',\n",
       " '-rwxrwxrwx 1 brandon brandon  13K Jul 13  2016 C133P94ThinF_IMG_20151004_155721_cell_121.png',\n",
       " '-rwxrwxrwx 1 brandon brandon  11K Jul 13  2016 C133P94ThinF_IMG_20151004_155721_cell_120.png',\n",
       " '-rwxrwxrwx 1 brandon brandon  11K Jul 13  2016 C133P94ThinF_IMG_20151004_155721_cell_119.png',\n",
       " '-rwxrwxrwx 1 brandon brandon  15K Jul 13  2016 C133P94ThinF_IMG_20151004_155721_cell_118.png',\n",
       " '-rwxrwxrwx 1 brandon brandon  13K Jul 13  2016 C133P94ThinF_IMG_20151004_155721_cell_117.png',\n",
       " '-rwxrwxrwx 1 brandon brandon  15K Jul 13  2016 C133P94ThinF_IMG_20151004_155721_cell_116.png',\n",
       " '-rwxrwxrwx 1 brandon brandon  12K Jul 13  2016 C133P94ThinF_IMG_20151004_155721_cell_115.png',\n",
       " '-rwxrwxrwx 1 brandon brandon  12K Jul 13  2016 C133P94ThinF_IMG_20151004_155721_cell_114.png',\n",
       " '-rwxrwxrwx 1 brandon brandon  14K Jul 13  2016 C133P94ThinF_IMG_20151004_155721_cell_113.png',\n",
       " '-rwxrwxrwx 1 brandon brandon  15K Jul 13  2016 C133P94ThinF_IMG_20151004_155721_cell_112.png',\n",
       " '-rwxrwxrwx 1 brandon brandon  11K Jul 13  2016 C133P94ThinF_IMG_20151004_155721_cell_111.png',\n",
       " '-rwxrwxrwx 1 brandon brandon 9.6K Jul 13  2016 C133P94ThinF_IMG_20151004_155721_cell_110.png',\n",
       " '-rwxrwxrwx 1 brandon brandon  14K Jul 13  2016 C133P94ThinF_IMG_20151004_155721_cell_109.png',\n",
       " '-rwxrwxrwx 1 brandon brandon  15K Jul 13  2016 C133P94ThinF_IMG_20151004_155721_cell_108.png',\n",
       " '-rwxrwxrwx 1 brandon brandon  14K Jul 13  2016 C37BP2_thinF_IMG_20150620_133001a_cell_77.png',\n",
       " '-rwxrwxrwx 1 brandon brandon  19K Jul 13  2016 C37BP2_thinF_IMG_20150620_133001a_cell_76.png',\n",
       " '-rwxrwxrwx 1 brandon brandon  14K Jul 13  2016 C100P61ThinF_IMG_20150918_144104_cell_171.png',\n",
       " '-rwxrwxrwx 1 brandon brandon  11K Jul 13  2016 C100P61ThinF_IMG_20150918_144104_cell_170.png',\n",
       " '-rwxrwxrwx 1 brandon brandon  11K Jul 13  2016 C100P61ThinF_IMG_20150918_144104_cell_169.png',\n",
       " '-rwxrwxrwx 1 brandon brandon  11K Jul 13  2016 C100P61ThinF_IMG_20150918_144104_cell_168.png',\n",
       " '-rwxrwxrwx 1 brandon brandon  15K Jul 13  2016 C100P61ThinF_IMG_20150918_144104_cell_167.png',\n",
       " '-rwxrwxrwx 1 brandon brandon  11K Jul 13  2016 C100P61ThinF_IMG_20150918_144104_cell_166.png',\n",
       " '-rwxrwxrwx 1 brandon brandon  14K Jul 13  2016 C100P61ThinF_IMG_20150918_144104_cell_165.png',\n",
       " '-rwxrwxrwx 1 brandon brandon  13K Jul 13  2016 C100P61ThinF_IMG_20150918_144104_cell_164.png',\n",
       " '-rwxrwxrwx 1 brandon brandon  18K Jul 13  2016 C100P61ThinF_IMG_20150918_144104_cell_163.png',\n",
       " '-rwxrwxrwx 1 brandon brandon  14K Jul 13  2016 C100P61ThinF_IMG_20150918_144104_cell_162.png',\n",
       " '-rwxrwxrwx 1 brandon brandon  15K Jul 13  2016 C133P94ThinF_IMG_20151004_155912_cell_9.png',\n",
       " '-rwxrwxrwx 1 brandon brandon  13K Jul 13  2016 C133P94ThinF_IMG_20151004_155912_cell_8.png',\n",
       " '-rwxrwxrwx 1 brandon brandon  13K Jul 13  2016 C133P94ThinF_IMG_20151004_155912_cell_7.png',\n",
       " '-rwxrwxrwx 1 brandon brandon  14K Jul 13  2016 C133P94ThinF_IMG_20151004_155912_cell_6.png',\n",
       " '-rwxrwxrwx 1 brandon brandon  12K Jul 13  2016 C133P94ThinF_IMG_20151004_155912_cell_5.png',\n",
       " '-rwxrwxrwx 1 brandon brandon  15K Jul 13  2016 C133P94ThinF_IMG_20151004_155912_cell_4.png',\n",
       " '-rwxrwxrwx 1 brandon brandon  15K Jul 13  2016 C133P94ThinF_IMG_20151004_155912_cell_3.png',\n",
       " '-rwxrwxrwx 1 brandon brandon  11K Jul 13  2016 C133P94ThinF_IMG_20151004_155912_cell_20.png',\n",
       " '-rwxrwxrwx 1 brandon brandon  12K Jul 13  2016 C133P94ThinF_IMG_20151004_155912_cell_2.png',\n",
       " '-rwxrwxrwx 1 brandon brandon  11K Jul 13  2016 C133P94ThinF_IMG_20151004_155912_cell_19.png',\n",
       " '-rwxrwxrwx 1 brandon brandon  12K Jul 13  2016 C133P94ThinF_IMG_20151004_155912_cell_18.png',\n",
       " '-rwxrwxrwx 1 brandon brandon  15K Jul 13  2016 C133P94ThinF_IMG_20151004_155912_cell_17.png',\n",
       " '-rwxrwxrwx 1 brandon brandon  15K Jul 13  2016 C133P94ThinF_IMG_20151004_155912_cell_16.png',\n",
       " '-rwxrwxrwx 1 brandon brandon  12K Jul 13  2016 C133P94ThinF_IMG_20151004_155912_cell_15.png',\n",
       " '-rwxrwxrwx 1 brandon brandon 8.7K Jul 13  2016 C133P94ThinF_IMG_20151004_155912_cell_14.png',\n",
       " '-rwxrwxrwx 1 brandon brandon 9.6K Jul 13  2016 C133P94ThinF_IMG_20151004_155912_cell_13.png',\n",
       " '-rwxrwxrwx 1 brandon brandon  14K Jul 13  2016 C133P94ThinF_IMG_20151004_155912_cell_12.png',\n",
       " '-rwxrwxrwx 1 brandon brandon  13K Jul 13  2016 C133P94ThinF_IMG_20151004_155912_cell_11.png',\n",
       " '-rwxrwxrwx 1 brandon brandon  13K Jul 13  2016 C133P94ThinF_IMG_20151004_155912_cell_10.png',\n",
       " '-rwxrwxrwx 1 brandon brandon  14K Jul 13  2016 C133P94ThinF_IMG_20151004_155912_cell_1.png',\n",
       " '-rwxrwxrwx 1 brandon brandon  21K Jul 13  2016 C37BP2_thinF_IMG_20150620_133111a_cell_88.png',\n",
       " '-rwxrwxrwx 1 brandon brandon  18K Jul 13  2016 C37BP2_thinF_IMG_20150620_133111a_cell_87.png',\n",
       " '-rwxrwxrwx 1 brandon brandon  19K Jul 13  2016 C37BP2_thinF_IMG_20150620_133111a_cell_86.png',\n",
       " '-rwxrwxrwx 1 brandon brandon  13K Jul 13  2016 C100P61ThinF_IMG_20150918_144348_cell_144.png',\n",
       " '-rwxrwxrwx 1 brandon brandon 9.7K Jul 13  2016 C100P61ThinF_IMG_20150918_144348_cell_143.png',\n",
       " '-rwxrwxrwx 1 brandon brandon  12K Jul 13  2016 C100P61ThinF_IMG_20150918_144348_cell_142.png',\n",
       " '-rwxrwxrwx 1 brandon brandon  13K Jul 13  2016 C100P61ThinF_IMG_20150918_144348_cell_141.png',\n",
       " '-rwxrwxrwx 1 brandon brandon  12K Jul 13  2016 C100P61ThinF_IMG_20150918_144348_cell_140.png',\n",
       " '-rwxrwxrwx 1 brandon brandon  14K Jul 13  2016 C100P61ThinF_IMG_20150918_144348_cell_139.png',\n",
       " '-rwxrwxrwx 1 brandon brandon  15K Jul 13  2016 C100P61ThinF_IMG_20150918_144348_cell_138.png',\n",
       " '-rwxrwxrwx 1 brandon brandon  22K Jul 13  2016 C37BP2_thinF_IMG_20150620_133205a_cell_88.png',\n",
       " '-rwxrwxrwx 1 brandon brandon  19K Jul 13  2016 C37BP2_thinF_IMG_20150620_133205a_cell_87.png',\n",
       " '-rwxrwxrwx 1 brandon brandon 8.2K Jul 13  2016 C134P95ThinF_IMG_20151005_121048_cell_113.png',\n",
       " '-rwxrwxrwx 1 brandon brandon 8.2K Jul 13  2016 C134P95ThinF_IMG_20151005_121048_cell_112.png',\n",
       " '-rwxrwxrwx 1 brandon brandon  11K Jul 13  2016 C73P34_ThinF_IMG_20150815_111653_cell_180.png',\n",
       " '-rwxrwxrwx 1 brandon brandon 9.6K Jul 13  2016 C73P34_ThinF_IMG_20150815_111653_cell_179.png',\n",
       " '-rwxrwxrwx 1 brandon brandon  16K Jul 13  2016 C37BP2_thinF_IMG_20150620_133238a_cell_97.png',\n",
       " '-rwxrwxrwx 1 brandon brandon 6.8K Jul 13  2016 C100P61ThinF_IMG_20150918_144823_cell_162.png',\n",
       " '-rwxrwxrwx 1 brandon brandon  13K Jul 13  2016 C100P61ThinF_IMG_20150918_144823_cell_161.png',\n",
       " '-rwxrwxrwx 1 brandon brandon  12K Jul 13  2016 C100P61ThinF_IMG_20150918_144823_cell_160.png',\n",
       " '-rwxrwxrwx 1 brandon brandon  13K Jul 13  2016 C100P61ThinF_IMG_20150918_144823_cell_159.png',\n",
       " '-rwxrwxrwx 1 brandon brandon  14K Jul 13  2016 C100P61ThinF_IMG_20150918_144823_cell_158.png',\n",
       " '-rwxrwxrwx 1 brandon brandon  13K Jul 13  2016 C100P61ThinF_IMG_20150918_144823_cell_157.png',\n",
       " '-rwxrwxrwx 1 brandon brandon  12K Jul 13  2016 C134P95ThinF_IMG_20151005_121343_cell_124.png',\n",
       " '-rwxrwxrwx 1 brandon brandon  15K Jul 13  2016 C134P95ThinF_IMG_20151005_121343_cell_123.png',\n",
       " '-rwxrwxrwx 1 brandon brandon  11K Jul 13  2016 C134P95ThinF_IMG_20151005_121343_cell_122.png',\n",
       " '-rwxrwxrwx 1 brandon brandon 8.3K Jul 13  2016 C73P34_ThinF_IMG_20150815_112246_cell_192.png',\n",
       " '-rwxrwxrwx 1 brandon brandon  11K Jul 13  2016 C100P61ThinF_IMG_20150918_145042_cell_167.png',\n",
       " '-rwxrwxrwx 1 brandon brandon  13K Jul 13  2016 C100P61ThinF_IMG_20150918_145042_cell_166.png',\n",
       " '-rwxrwxrwx 1 brandon brandon 5.8K Jul 13  2016 C100P61ThinF_IMG_20150918_145042_cell_165.png',\n",
       " '-rwxrwxrwx 1 brandon brandon  12K Jul 13  2016 C100P61ThinF_IMG_20150918_145042_cell_164.png',\n",
       " '-rwxrwxrwx 1 brandon brandon  12K Jul 13  2016 C100P61ThinF_IMG_20150918_145042_cell_163.png',\n",
       " '-rwxrwxrwx 1 brandon brandon  13K Jul 13  2016 C100P61ThinF_IMG_20150918_145042_cell_162.png',\n",
       " '-rwxrwxrwx 1 brandon brandon  11K Jul 13  2016 C134P95ThinF_IMG_20151005_121425_cell_127.png',\n",
       " '-rwxrwxrwx 1 brandon brandon  14K Jul 13  2016 C74P35_ThinF_IMG_20150815_113951_cell_132.png',\n",
       " '-rwxrwxrwx 1 brandon brandon 9.1K Jul 13  2016 C74P35_ThinF_IMG_20150815_113951_cell_131.png',\n",
       " '-rwxrwxrwx 1 brandon brandon  14K Jul 13  2016 C74P35_ThinF_IMG_20150815_113951_cell_130.png',\n",
       " '-rwxrwxrwx 1 brandon brandon  13K Jul 13  2016 C74P35_ThinF_IMG_20150815_113951_cell_129.png',\n",
       " '-rwxrwxrwx 1 brandon brandon  12K Jul 13  2016 C74P35_ThinF_IMG_20150815_113951_cell_128.png',\n",
       " '-rwxrwxrwx 1 brandon brandon  15K Jul 13  2016 C74P35_ThinF_IMG_20150815_113951_cell_127.png',\n",
       " '-rwxrwxrwx 1 brandon brandon  16K Jul 13  2016 C74P35_ThinF_IMG_20150815_113951_cell_126.png',\n",
       " '-rwxrwxrwx 1 brandon brandon  17K Jul 13  2016 C74P35_ThinF_IMG_20150815_113951_cell_125.png',\n",
       " '-rwxrwxrwx 1 brandon brandon  15K Jul 13  2016 C38P3thinF_original_IMG_20150621_112043_cell_203.png',\n",
       " '-rwxrwxrwx 1 brandon brandon  17K Jul 13  2016 C38P3thinF_original_IMG_20150621_112043_cell_202.png',\n",
       " '-rwxrwxrwx 1 brandon brandon  11K Jul 13  2016 C134P95ThinF_IMG_20151005_121554_cell_122.png',\n",
       " '-rwxrwxrwx 1 brandon brandon  13K Jul 13  2016 C134P95ThinF_IMG_20151005_121554_cell_121.png',\n",
       " '-rwxrwxrwx 1 brandon brandon  13K Jul 13  2016 C100P61ThinF_IMG_20150918_145422_cell_169.png',\n",
       " '-rwxrwxrwx 1 brandon brandon  11K Jul 13  2016 C100P61ThinF_IMG_20150918_145422_cell_168.png',\n",
       " '-rwxrwxrwx 1 brandon brandon 9.7K Jul 13  2016 C100P61ThinF_IMG_20150918_145422_cell_167.png',\n",
       " '-rwxrwxrwx 1 brandon brandon  12K Jul 13  2016 C100P61ThinF_IMG_20150918_145422_cell_166.png',\n",
       " '-rwxrwxrwx 1 brandon brandon 9.4K Jul 13  2016 C100P61ThinF_IMG_20150918_145422_cell_165.png',\n",
       " '-rwxrwxrwx 1 brandon brandon  15K Jul 13  2016 C100P61ThinF_IMG_20150918_145422_cell_164.png',\n",
       " '-rwxrwxrwx 1 brandon brandon 8.8K Jul 13  2016 C100P61ThinF_IMG_20150918_145422_cell_163.png',\n",
       " '-rwxrwxrwx 1 brandon brandon  16K Jul 13  2016 C74P35_ThinF_IMG_20150815_114153_cell_136.png',\n",
       " '-rwxrwxrwx 1 brandon brandon  15K Jul 13  2016 C74P35_ThinF_IMG_20150815_114153_cell_135.png',\n",
       " '-rwxrwxrwx 1 brandon brandon  11K Jul 13  2016 C74P35_ThinF_IMG_20150815_114153_cell_134.png',\n",
       " '-rwxrwxrwx 1 brandon brandon  15K Jul 13  2016 C74P35_ThinF_IMG_20150815_114153_cell_133.png',\n",
       " '-rwxrwxrwx 1 brandon brandon  18K Jul 13  2016 C74P35_ThinF_IMG_20150815_114153_cell_132.png',\n",
       " '-rwxrwxrwx 1 brandon brandon  13K Jul 13  2016 C38P3thinF_original_IMG_20150621_112116_cell_205.png',\n",
       " '-rwxrwxrwx 1 brandon brandon  13K Jul 13  2016 C38P3thinF_original_IMG_20150621_112116_cell_204.png',\n",
       " '-rwxrwxrwx 1 brandon brandon  13K Jul 13  2016 C134P95ThinF_IMG_20151005_121656_cell_105.png',\n",
       " '-rwxrwxrwx 1 brandon brandon  12K Jul 13  2016 C134P95ThinF_IMG_20151005_121656_cell_104.png',\n",
       " '-rwxrwxrwx 1 brandon brandon 9.2K Jul 13  2016 C100P61ThinF_IMG_20150918_145609_cell_151.png',\n",
       " '-rwxrwxrwx 1 brandon brandon  13K Jul 13  2016 C100P61ThinF_IMG_20150918_145609_cell_150.png',\n",
       " '-rwxrwxrwx 1 brandon brandon  10K Jul 13  2016 C100P61ThinF_IMG_20150918_145609_cell_149.png',\n",
       " '-rwxrwxrwx 1 brandon brandon  13K Jul 13  2016 C100P61ThinF_IMG_20150918_145609_cell_148.png',\n",
       " '-rwxrwxrwx 1 brandon brandon  14K Jul 13  2016 C100P61ThinF_IMG_20150918_145609_cell_147.png',\n",
       " '-rwxrwxrwx 1 brandon brandon  15K Jul 13  2016 C100P61ThinF_IMG_20150918_145609_cell_146.png',\n",
       " '-rwxrwxrwx 1 brandon brandon 9.4K Jul 13  2016 C100P61ThinF_IMG_20150918_145609_cell_145.png',\n",
       " '-rwxrwxrwx 1 brandon brandon  11K Jul 13  2016 C100P61ThinF_IMG_20150918_145609_cell_144.png',\n",
       " '-rwxrwxrwx 1 brandon brandon  13K Jul 13  2016 C74P35_ThinF_IMG_20150815_114401_cell_157.png',\n",
       " '-rwxrwxrwx 1 brandon brandon  13K Jul 13  2016 C74P35_ThinF_IMG_20150815_114401_cell_156.png',\n",
       " '-rwxrwxrwx 1 brandon brandon  14K Jul 13  2016 C74P35_ThinF_IMG_20150815_114401_cell_155.png',\n",
       " '-rwxrwxrwx 1 brandon brandon  13K Jul 13  2016 C74P35_ThinF_IMG_20150815_114401_cell_154.png',\n",
       " '-rwxrwxrwx 1 brandon brandon  16K Jul 13  2016 C74P35_ThinF_IMG_20150815_114401_cell_153.png',\n",
       " '-rwxrwxrwx 1 brandon brandon 5.8K Jul 13  2016 C134P95ThinF_IMG_20151005_121834_cell_123.png',\n",
       " '-rwxrwxrwx 1 brandon brandon  11K Jul 13  2016 C134P95ThinF_IMG_20151005_121834_cell_122.png',\n",
       " '-rwxrwxrwx 1 brandon brandon  19K Jul 13  2016 C134P95ThinF_IMG_20151005_121834_cell_121.png',\n",
       " '-rwxrwxrwx 1 brandon brandon 8.5K Jul 13  2016 C134P95ThinF_IMG_20151005_121834_cell_120.png',\n",
       " '-rwxrwxrwx 1 brandon brandon  19K Jul 13  2016 C38P3thinF_original_IMG_20150621_112138_cell_183.png',\n",
       " '-rwxrwxrwx 1 brandon brandon  12K Jul 13  2016 C100P61ThinF_IMG_20150918_145938_cell_175.png',\n",
       " '-rwxrwxrwx 1 brandon brandon  12K Jul 13  2016 C100P61ThinF_IMG_20150918_145938_cell_174.png',\n",
       " '-rwxrwxrwx 1 brandon brandon  14K Jul 13  2016 C100P61ThinF_IMG_20150918_145938_cell_173.png',\n",
       " '-rwxrwxrwx 1 brandon brandon  12K Jul 13  2016 C100P61ThinF_IMG_20150918_145938_cell_172.png',\n",
       " '-rwxrwxrwx 1 brandon brandon 9.7K Jul 13  2016 C100P61ThinF_IMG_20150918_145938_cell_171.png',\n",
       " '-rwxrwxrwx 1 brandon brandon  11K Jul 13  2016 C100P61ThinF_IMG_20150918_145938_cell_170.png',\n",
       " '-rwxrwxrwx 1 brandon brandon  12K Jul 13  2016 C100P61ThinF_IMG_20150918_145938_cell_169.png',\n",
       " '-rwxrwxrwx 1 brandon brandon  11K Jul 13  2016 C100P61ThinF_IMG_20150918_145938_cell_168.png',\n",
       " '-rwxrwxrwx 1 brandon brandon  12K Jul 13  2016 C100P61ThinF_IMG_20150918_145938_cell_167.png',\n",
       " '-rwxrwxrwx 1 brandon brandon  12K Jul 13  2016 C74P35_ThinF_IMG_20150815_114555_cell_132.png',\n",
       " '-rwxrwxrwx 1 brandon brandon  13K Jul 13  2016 C74P35_ThinF_IMG_20150815_114555_cell_131.png',\n",
       " '-rwxrwxrwx 1 brandon brandon  12K Jul 13  2016 C74P35_ThinF_IMG_20150815_114555_cell_130.png',\n",
       " '-rwxrwxrwx 1 brandon brandon  19K Jul 13  2016 C74P35_ThinF_IMG_20150815_114555_cell_129.png',\n",
       " '-rwxrwxrwx 1 brandon brandon 9.5K Jul 13  2016 C134P95ThinF_IMG_20151005_121952_cell_123.png',\n",
       " '-rwxrwxrwx 1 brandon brandon  15K Jul 13  2016 C134P95ThinF_IMG_20151005_121952_cell_122.png',\n",
       " '-rwxrwxrwx 1 brandon brandon  11K Jul 13  2016 C134P95ThinF_IMG_20151005_121952_cell_121.png',\n",
       " '-rwxrwxrwx 1 brandon brandon 9.4K Jul 13  2016 C134P95ThinF_IMG_20151005_121952_cell_120.png',\n",
       " '-rwxrwxrwx 1 brandon brandon  12K Jul 13  2016 C100P61ThinF_IMG_20150918_150041_cell_149.png',\n",
       " '-rwxrwxrwx 1 brandon brandon  12K Jul 13  2016 C100P61ThinF_IMG_20150918_150041_cell_148.png',\n",
       " '-rwxrwxrwx 1 brandon brandon  12K Jul 13  2016 C100P61ThinF_IMG_20150918_150041_cell_147.png',\n",
       " '-rwxrwxrwx 1 brandon brandon  13K Jul 13  2016 C100P61ThinF_IMG_20150918_150041_cell_146.png',\n",
       " '-rwxrwxrwx 1 brandon brandon  13K Jul 13  2016 C74P35_ThinF_IMG_20150815_114819_cell_130.png',\n",
       " '-rwxrwxrwx 1 brandon brandon  15K Jul 13  2016 C74P35_ThinF_IMG_20150815_114819_cell_129.png',\n",
       " '-rwxrwxrwx 1 brandon brandon  15K Jul 13  2016 C74P35_ThinF_IMG_20150815_114819_cell_128.png',\n",
       " ...]"
      ]
     },
     "execution_count": 9,
     "metadata": {},
     "output_type": "execute_result"
    }
   ],
   "source": [
    "c.run(\"ls -ltrh kaggle/cell_images/Parasitized\")"
   ]
  },
  {
   "cell_type": "code",
   "execution_count": 1,
   "metadata": {},
   "outputs": [],
   "source": [
    "import glob"
   ]
  },
  {
   "cell_type": "code",
   "execution_count": 2,
   "metadata": {},
   "outputs": [],
   "source": [
    "host_dir = \"kaggle/cell_images/\"\n",
    "uninfected = glob.glob(host_dir + \"Uninfected/*.png\")\n",
    "parasitized = glob.glob(host_dir + \"Parasitized/*.png\")"
   ]
  },
  {
   "cell_type": "code",
   "execution_count": 14,
   "metadata": {},
   "outputs": [
    {
     "name": "stdout",
     "output_type": "stream",
     "text": [
      "Number uninfected images:  13779\n",
      "Number parasitized images:  13779\n"
     ]
    }
   ],
   "source": [
    "print(\"Number uninfected images: \", len(uninfected))\n",
    "print(\"Number parasitized images: \", len(parasitized))"
   ]
  },
  {
   "cell_type": "code",
   "execution_count": 3,
   "metadata": {},
   "outputs": [],
   "source": [
    "from PIL import Image"
   ]
  },
  {
   "cell_type": "code",
   "execution_count": 19,
   "metadata": {},
   "outputs": [
    {
     "data": {
      "image/png": "[encoded data removed]",
      "text/plain": [
       "<PIL.PngImagePlugin.PngImageFile image mode=RGB size=160x139 at 0x7FEC45C32C18>"
      ]
     },
     "execution_count": 19,
     "metadata": {},
     "output_type": "execute_result"
    }
   ],
   "source": [
    "Image.open(uninfected[0])"
   ]
  },
  {
   "cell_type": "code",
   "execution_count": 90,
   "metadata": {},
   "outputs": [
    {
     "data": {
      "image/png": "[encoded data removed]",
      "text/plain": [
       "<PIL.PngImagePlugin.PngImageFile image mode=RGB size=142x148 at 0x7FE2D6210F28>"
      ]
     },
     "execution_count": 90,
     "metadata": {},
     "output_type": "execute_result"
    }
   ],
   "source": [
    "Image.open(parasitized[0])"
   ]
  },
  {
   "cell_type": "code",
   "execution_count": 21,
   "metadata": {},
   "outputs": [],
   "source": [
    "#I have looked at a bunch of the images, and it seems to me that basically the parasitized images have theses purpleish-\n",
    "#pinkish regions where the uninfected images do not."
   ]
  },
  {
   "cell_type": "code",
   "execution_count": 10,
   "metadata": {},
   "outputs": [],
   "source": [
    "import imageio"
   ]
  },
  {
   "cell_type": "code",
   "execution_count": 27,
   "metadata": {},
   "outputs": [],
   "source": [
    "fimg = imageio.imread(uninfected[0])"
   ]
  },
  {
   "cell_type": "code",
   "execution_count": 31,
   "metadata": {},
   "outputs": [
    {
     "data": {
      "text/plain": [
       "(139, 160, 3)"
      ]
     },
     "execution_count": 31,
     "metadata": {},
     "output_type": "execute_result"
    }
   ],
   "source": [
    "fimg.shape"
   ]
  },
  {
   "cell_type": "code",
   "execution_count": 40,
   "metadata": {},
   "outputs": [
    {
     "data": {
      "text/plain": [
       "'[215 158 151]'"
      ]
     },
     "execution_count": 40,
     "metadata": {},
     "output_type": "execute_result"
    }
   ],
   "source": [
    "str(fimg[30][30])"
   ]
  },
  {
   "cell_type": "code",
   "execution_count": 41,
   "metadata": {},
   "outputs": [],
   "source": [
    "#basically the images are 2d arrays of RGB values\n",
    "#Since we are basically looking for images with the discolored regions, it would be nice to try a clustering algorithm\n",
    "#to see if it can pick out this. Basically I would be looking for clusters of RGB values, so I would need to cluster\n",
    "#on 3d space. Roughly I am looking for 2 classes in the uninfected images and 3 in the parasitized images. So I could try\n",
    "#kmeans separately on each set, and I could also try DBSCAN to see if it can detect the difference in the number of classes\n",
    "#of colors."
   ]
  },
  {
   "cell_type": "code",
   "execution_count": 188,
   "metadata": {},
   "outputs": [],
   "source": [
    "from sklearn.cluster import KMeans, DBSCAN"
   ]
  },
  {
   "cell_type": "code",
   "execution_count": 46,
   "metadata": {},
   "outputs": [
    {
     "data": {
      "text/plain": [
       "dtype('uint8')"
      ]
     },
     "execution_count": 46,
     "metadata": {},
     "output_type": "execute_result"
    }
   ],
   "source": [
    "fimg.dtype"
   ]
  },
  {
   "cell_type": "code",
   "execution_count": 5,
   "metadata": {},
   "outputs": [],
   "source": [
    "from PIL import Image\n",
    "import numpy as np\n",
    "img = Image.open(uninfected[0])\n",
    "img.load()\n",
    "img_arr = np.asarray( img, dtype=\"int32\" )"
   ]
  },
  {
   "cell_type": "code",
   "execution_count": 50,
   "metadata": {},
   "outputs": [
    {
     "data": {
      "text/plain": [
       "array([215, 158, 151], dtype=int32)"
      ]
     },
     "execution_count": 50,
     "metadata": {},
     "output_type": "execute_result"
    }
   ],
   "source": [
    "img_arr[30][30]"
   ]
  },
  {
   "cell_type": "code",
   "execution_count": 51,
   "metadata": {},
   "outputs": [
    {
     "data": {
      "text/plain": [
       "(139, 160, 3)"
      ]
     },
     "execution_count": 51,
     "metadata": {},
     "output_type": "execute_result"
    }
   ],
   "source": [
    "img_arr.shape"
   ]
  },
  {
   "cell_type": "code",
   "execution_count": 3,
   "metadata": {},
   "outputs": [],
   "source": [
    "def load_img(imfile):\n",
    "    img = Image.open(imfile)\n",
    "    img.load()\n",
    "    return np.asarray(img, dtype=\"int32\")"
   ]
  },
  {
   "cell_type": "code",
   "execution_count": 56,
   "metadata": {},
   "outputs": [],
   "source": [
    "c.run(\"mkdir \" + host_dir + \"uninfected_vectorized\")\n",
    "c.run(\"mkdir \" + host_dir + \"parasitized_vectorized\")"
   ]
  },
  {
   "cell_type": "code",
   "execution_count": 57,
   "metadata": {},
   "outputs": [
    {
     "data": {
      "text/plain": [
       "[\"b'total 17M\",\n",
       " 'drwxrwxrwx 1 brandon brandon 4.0K Mar 28  2018 Uninfected',\n",
       " '-rwxrwxrwx 1 brandon brandon 635K Jun 15 20:26 dump',\n",
       " '-rwxrwxrwx 1 brandon brandon 635K Jun 15 20:26 dump1',\n",
       " '-rwxrwxrwx 1 brandon brandon 2.1M Jun 15 20:33 peerj-4568.pdf',\n",
       " '-rwxrwxrwx 1 brandon brandon 1.2M Jun 15 20:42 5872-efficient-and-robust-automated-machine-learning.pdf',\n",
       " '-rwxrwxrwx 1 brandon brandon 6.1M Jun 15 22:11 044506_1.pdf',\n",
       " '-rwxrwxrwx 1 brandon brandon 2.1M Jun 15 22:13 58989.pdf',\n",
       " '-rwxrwxrwx 1 brandon brandon 2.6M Jun 15 22:16 1608.02989.pdf',\n",
       " 'drwxrwxrwx 1 brandon brandon 4.0K Jun 15 23:04 auto_sklearn',\n",
       " '-rwxrwxrwx 1 brandon brandon 1.1M Jun 16 00:43 1806.10282.pdf',\n",
       " '-rwxrwxrwx 1 brandon brandon 781K Jun 16 09:27 learn_autosklearn_vectorizeImage.ipynb',\n",
       " 'drwxrwxrwx 1 brandon brandon 4.0K Jun 20 16:55 REFERENCE_DATA',\n",
       " 'drwxrwxrwx 1 brandon brandon 4.0K Jun 20 23:05 Parasitized',\n",
       " 'drwxrwxrwx 1 brandon brandon 4.0K Jun 20 23:28 uninfected_vectorized',\n",
       " 'drwxrwxrwx 1 brandon brandon 4.0K Jun 20 23:28 parasitized_vectorized',\n",
       " \"'\"]"
      ]
     },
     "execution_count": 57,
     "metadata": {},
     "output_type": "execute_result"
    }
   ],
   "source": [
    "c.run(\"ls -ltrh \" + host_dir)"
   ]
  },
  {
   "cell_type": "code",
   "execution_count": 63,
   "metadata": {},
   "outputs": [],
   "source": [
    "for i, im in enumerate(uninfected):\n",
    "    np.save(host_dir + \"uninfected_vectorized/\" + uninfected[i][31:-4] + \".npy\", load_img(uninfected[i]))"
   ]
  },
  {
   "cell_type": "code",
   "execution_count": 64,
   "metadata": {},
   "outputs": [],
   "source": [
    "for i, im in enumerate(parasitized):\n",
    "    np.save(host_dir + \"parasitized_vectorized/\" + parasitized[i][32:-4] + \".npy\", load_img(parasitized[i]))"
   ]
  },
  {
   "cell_type": "code",
   "execution_count": 15,
   "metadata": {},
   "outputs": [
    {
     "data": {
      "text/plain": [
       "(240534768, 3)"
      ]
     },
     "execution_count": 15,
     "metadata": {},
     "output_type": "execute_result"
    }
   ],
   "source": [
    "#images have been vectorized and saved for later use as needed\n",
    "uDat.shape\n",
    "#load_img(uninfected[i])"
   ]
  },
  {
   "cell_type": "code",
   "execution_count": 13,
   "metadata": {},
   "outputs": [],
   "source": [
    "arrs = []\n",
    "for im in uninfected:\n",
    "    i = load_img(im)\n",
    "    ishp = i.shape\n",
    "    arrs.append(i.reshape(ishp[0]*ishp[1],ishp[2]))\n",
    "uDat = np.concatenate(([el for el in arrs]))\n",
    "np.save(host_dir + \"uninfected_vectorized_rgbList.npy\", uDat)"
   ]
  },
  {
   "cell_type": "code",
   "execution_count": 266,
   "metadata": {},
   "outputs": [],
   "source": [
    "arrs = []\n",
    "for im in parasitized:\n",
    "    i = load_img(im)\n",
    "    ishp = i.shape\n",
    "    arrs.append(i.reshape(ishp[0]*ishp[1],ishp[2]))\n",
    "pDat = np.concatenate(([el for el in arrs]))\n",
    "np.save(host_dir + \"parasitized_vectorized_rgbList.npy\", pDat)"
   ]
  },
  {
   "cell_type": "code",
   "execution_count": null,
   "metadata": {},
   "outputs": [],
   "source": []
  },
  {
   "cell_type": "code",
   "execution_count": 16,
   "metadata": {
    "collapsed": true
   },
   "outputs": [],
   "source": [
    "kmeans_u = KMeans(n_clusters=2, random_state=0).fit(uDat)"
   ]
  },
  {
   "cell_type": "code",
   "execution_count": 25,
   "metadata": {},
   "outputs": [],
   "source": [
    "kmeans_p = KMeans(n_clusters=3, random_state=0).fit(pDat)"
   ]
  },
  {
   "cell_type": "code",
   "execution_count": 23,
   "metadata": {},
   "outputs": [
    {
     "data": {
      "text/plain": [
       "numpy.ndarray"
      ]
     },
     "execution_count": 23,
     "metadata": {},
     "output_type": "execute_result"
    }
   ],
   "source": [
    "type(kmeans_u.labels_)"
   ]
  },
  {
   "cell_type": "code",
   "execution_count": 21,
   "metadata": {},
   "outputs": [
    {
     "data": {
      "text/plain": [
       "[\"b'/mnt/c/Users/BrandonHoran/Documents/Work/Springboard/Projects/Capstone\",\n",
       " \"'\"]"
      ]
     },
     "execution_count": 21,
     "metadata": {},
     "output_type": "execute_result"
    }
   ],
   "source": [
    "c.run(\"pwd\")"
   ]
  },
  {
   "cell_type": "code",
   "execution_count": 22,
   "metadata": {},
   "outputs": [
    {
     "data": {
      "text/plain": [
       "'kaggle/cell_images/'"
      ]
     },
     "execution_count": 22,
     "metadata": {},
     "output_type": "execute_result"
    }
   ],
   "source": [
    "host_dir"
   ]
  },
  {
   "cell_type": "code",
   "execution_count": 24,
   "metadata": {},
   "outputs": [],
   "source": [
    "np.save(host_dir + \"uninfected_labels.npy\", kmeans_u.labels_)\n"
   ]
  },
  {
   "cell_type": "code",
   "execution_count": null,
   "metadata": {},
   "outputs": [],
   "source": []
  },
  {
   "cell_type": "code",
   "execution_count": 26,
   "metadata": {},
   "outputs": [],
   "source": [
    "np.save(host_dir + \"parasitized_labels.npy\", kmeans_p.labels_)"
   ]
  },
  {
   "cell_type": "code",
   "execution_count": 30,
   "metadata": {},
   "outputs": [],
   "source": [
    "ishp = load_img(uninfected[0]).shape"
   ]
  },
  {
   "cell_type": "code",
   "execution_count": 31,
   "metadata": {},
   "outputs": [
    {
     "data": {
      "text/plain": [
       "(139, 160, 3)"
      ]
     },
     "execution_count": 31,
     "metadata": {},
     "output_type": "execute_result"
    }
   ],
   "source": [
    "ishp"
   ]
  },
  {
   "cell_type": "markdown",
   "metadata": {},
   "source": [
    "u1L = keans_u.labels_[0:139*160]"
   ]
  },
  {
   "cell_type": "code",
   "execution_count": 33,
   "metadata": {},
   "outputs": [],
   "source": [
    "u1L = kmeans_u.labels_[0:139*160]"
   ]
  },
  {
   "cell_type": "code",
   "execution_count": 34,
   "metadata": {},
   "outputs": [
    {
     "data": {
      "text/plain": [
       "array([0, 0, 0, ..., 0, 0, 0], dtype=int32)"
      ]
     },
     "execution_count": 34,
     "metadata": {},
     "output_type": "execute_result"
    }
   ],
   "source": [
    "u1L"
   ]
  },
  {
   "cell_type": "code",
   "execution_count": 43,
   "metadata": {},
   "outputs": [],
   "source": [
    "u1L=u1L.reshape(139,160)"
   ]
  },
  {
   "cell_type": "code",
   "execution_count": 22,
   "metadata": {},
   "outputs": [],
   "source": [
    "import matplotlib.pyplot as plt"
   ]
  },
  {
   "cell_type": "code",
   "execution_count": 47,
   "metadata": {},
   "outputs": [
    {
     "data": {
      "text/plain": [
       "<matplotlib.collections.PathCollection at 0x7ffa7a62e9b0>"
      ]
     },
     "execution_count": 47,
     "metadata": {},
     "output_type": "execute_result"
    },
    {
     "data": {
      "image/png": "[encoded data removed]",
      "text/plain": [
       "<Figure size 432x288 with 1 Axes>"
      ]
     },
     "metadata": {
      "needs_background": "light"
     },
     "output_type": "display_data"
    }
   ],
   "source": [
    "plt.scatter(x,y,c=c)"
   ]
  },
  {
   "cell_type": "markdown",
   "metadata": {},
   "source": [
    "### x=[]\n",
    "y=[]\n",
    "c=[]\n",
    "for i in range(0, len(u1L)):\n",
    "    for j in range(0, len(u1L[0])):\n",
    "        x.append(i)\n",
    "        y.append(j)\n",
    "        if u1L[i][j] == 0:\n",
    "            c.append([0,0,0])\n",
    "        else:\n",
    "            c.append([255,0,0])"
   ]
  },
  {
   "cell_type": "code",
   "execution_count": 46,
   "metadata": {},
   "outputs": [],
   "source": [
    "x=[]\n",
    "y=[]\n",
    "c=[]\n",
    "for i in range(0, 139):\n",
    "    for j in range(0, 160):\n",
    "        x.append(i)\n",
    "        y.append(j)\n",
    "        if u1L[i][j] == 0:\n",
    "            #c.append([0,0,0])\n",
    "            c.append(0.0)\n",
    "        else:\n",
    "            #c.append([255,0,0])\n",
    "            c.append(0.5)"
   ]
  },
  {
   "cell_type": "code",
   "execution_count": 56,
   "metadata": {},
   "outputs": [],
   "source": [
    "ishp = load_img(parasitized[1]).shape"
   ]
  },
  {
   "cell_type": "code",
   "execution_count": 57,
   "metadata": {},
   "outputs": [
    {
     "data": {
      "text/plain": [
       "(208, 148, 3)"
      ]
     },
     "execution_count": 57,
     "metadata": {},
     "output_type": "execute_result"
    }
   ],
   "source": [
    "ishp"
   ]
  },
  {
   "cell_type": "code",
   "execution_count": 66,
   "metadata": {},
   "outputs": [
    {
     "data": {
      "text/plain": [
       "<matplotlib.collections.PathCollection at 0x7ff8406486a0>"
      ]
     },
     "execution_count": 66,
     "metadata": {},
     "output_type": "execute_result"
    },
    {
     "data": {
      "image/png": "[encoded data removed]",
      "text/plain": [
       "<Figure size 432x288 with 1 Axes>"
      ]
     },
     "metadata": {
      "needs_background": "light"
     },
     "output_type": "display_data"
    }
   ],
   "source": [
    "p1L = kmeans_p.labels_[0:148*142].reshape(148,142)\n",
    "x=[]\n",
    "y=[]\n",
    "c=[]\n",
    "for i in range(0, 148):\n",
    "    for j in range(0, 142):\n",
    "        x.append(i)\n",
    "        y.append(j)\n",
    "        if p1L[i][j] == 0:\n",
    "            #c.append([0,0,0])\n",
    "            c.append(0.0)\n",
    "        elif p1L[i][j] == 1:\n",
    "            #c.append([255,0,0])\n",
    "            c.append(0.33)\n",
    "        else:\n",
    "            c.append(0.67)\n",
    "plt.scatter(x,y,c=c)"
   ]
  },
  {
   "cell_type": "code",
   "execution_count": 15,
   "metadata": {},
   "outputs": [],
   "source": [
    "import pandas as pd"
   ]
  },
  {
   "cell_type": "code",
   "execution_count": 61,
   "metadata": {},
   "outputs": [
    {
     "data": {
      "text/plain": [
       "1    172551516\n",
       "0     67983252\n",
       "dtype: int64"
      ]
     },
     "execution_count": 61,
     "metadata": {},
     "output_type": "execute_result"
    }
   ],
   "source": [
    "pd.Index(kmeans_u.labels_).value_counts()"
   ]
  },
  {
   "cell_type": "code",
   "execution_count": 62,
   "metadata": {},
   "outputs": [
    {
     "data": {
      "text/plain": [
       "0    126547918\n",
       "1     75044891\n",
       "2     49390197\n",
       "dtype: int64"
      ]
     },
     "execution_count": 62,
     "metadata": {},
     "output_type": "execute_result"
    }
   ],
   "source": [
    "pd.Index(kmeans_p.labels_).value_counts()"
   ]
  },
  {
   "cell_type": "code",
   "execution_count": 67,
   "metadata": {},
   "outputs": [
    {
     "data": {
      "text/plain": [
       "0.00    15732\n",
       "0.33     5284\n",
       "dtype: int64"
      ]
     },
     "execution_count": 67,
     "metadata": {},
     "output_type": "execute_result"
    }
   ],
   "source": [
    "pd.Index(c).value_counts()"
   ]
  },
  {
   "cell_type": "code",
   "execution_count": 68,
   "metadata": {},
   "outputs": [],
   "source": [
    "#well, it seems that clustering clearly missed the mark.\n",
    "#I haven't tried quantifying how exactly it did so yet...\n",
    "#For the uninfected, it wouldn't be too bad. If it's black, it should\n",
    "#predict one cluster, otherwise predict the other.\n",
    "#For the parasitized, labeling that one might be a bit tricky....\n",
    "#I can look to see what colors it got for each cluster\n",
    "#see if that makes any sense as a start."
   ]
  },
  {
   "cell_type": "code",
   "execution_count": 70,
   "metadata": {},
   "outputs": [],
   "source": [
    "dfp = pd.DataFrame(data=kmeans_p.labels_)"
   ]
  },
  {
   "cell_type": "code",
   "execution_count": 72,
   "metadata": {},
   "outputs": [],
   "source": [
    "dfp[['R','G','B']] = pd.DataFrame(pDat)"
   ]
  },
  {
   "cell_type": "code",
   "execution_count": 76,
   "metadata": {},
   "outputs": [],
   "source": [
    "dfp.columns = ['Label','R','G','B']"
   ]
  },
  {
   "cell_type": "code",
   "execution_count": 79,
   "metadata": {},
   "outputs": [
    {
     "data": {
      "text/html": [
       "<div>\n",
       "<style scoped>\n",
       "    .dataframe tbody tr th:only-of-type {\n",
       "        vertical-align: middle;\n",
       "    }\n",
       "\n",
       "    .dataframe tbody tr th {\n",
       "        vertical-align: top;\n",
       "    }\n",
       "\n",
       "    .dataframe thead th {\n",
       "        text-align: right;\n",
       "    }\n",
       "</style>\n",
       "<table border=\"1\" class=\"dataframe\">\n",
       "  <thead>\n",
       "    <tr style=\"text-align: right;\">\n",
       "      <th></th>\n",
       "      <th>R</th>\n",
       "      <th>G</th>\n",
       "      <th>B</th>\n",
       "    </tr>\n",
       "    <tr>\n",
       "      <th>Label</th>\n",
       "      <th></th>\n",
       "      <th></th>\n",
       "      <th></th>\n",
       "    </tr>\n",
       "  </thead>\n",
       "  <tbody>\n",
       "    <tr>\n",
       "      <th>0</th>\n",
       "      <td>200.475978</td>\n",
       "      <td>142.409160</td>\n",
       "      <td>148.831486</td>\n",
       "    </tr>\n",
       "    <tr>\n",
       "      <th>1</th>\n",
       "      <td>0.039962</td>\n",
       "      <td>0.004791</td>\n",
       "      <td>0.032309</td>\n",
       "    </tr>\n",
       "    <tr>\n",
       "      <th>2</th>\n",
       "      <td>166.667163</td>\n",
       "      <td>158.200226</td>\n",
       "      <td>181.459923</td>\n",
       "    </tr>\n",
       "  </tbody>\n",
       "</table>\n",
       "</div>"
      ],
      "text/plain": [
       "                R           G           B\n",
       "Label                                    \n",
       "0      200.475978  142.409160  148.831486\n",
       "1        0.039962    0.004791    0.032309\n",
       "2      166.667163  158.200226  181.459923"
      ]
     },
     "execution_count": 79,
     "metadata": {},
     "output_type": "execute_result"
    }
   ],
   "source": [
    "dfp.groupby(['Label']).mean()"
   ]
  },
  {
   "cell_type": "code",
   "execution_count": 88,
   "metadata": {},
   "outputs": [
    {
     "name": "stdout",
     "output_type": "stream",
     "text": [
      "\u001b[48;2;200;142;148m          \u001b[0m\n",
      "\u001b[48;2;0;0;0m          \u001b[0m\n",
      "\u001b[48;2;166;158;181m          \u001b[0m\n"
     ]
    }
   ],
   "source": [
    "from colr import color\n",
    "s = \"\"\"          \"\"\"#dummy block\n",
    "print(color(s, back=(200.475978, 142.409160, 148.831486)))\n",
    "print(color(s, back=(0.039962, 0.004791, 0.032309)))\n",
    "print(color(s, back=(166.667163, 158.200226, 181.459923)))"
   ]
  },
  {
   "cell_type": "code",
   "execution_count": 89,
   "metadata": {},
   "outputs": [],
   "source": [
    "#looks like it picked up the difference in the boundary of the cell where\n",
    "#the color is a bit brighter than in the center of the cell.\n",
    "#I think I should try a 4 color Kmeans"
   ]
  },
  {
   "cell_type": "code",
   "execution_count": 13,
   "metadata": {},
   "outputs": [],
   "source": [
    "kmeans_p4 = KMeans(n_clusters=4, random_state=0).fit(pDat)"
   ]
  },
  {
   "cell_type": "code",
   "execution_count": 14,
   "metadata": {},
   "outputs": [],
   "source": [
    "np.save(host_dir + \"parasitized_4_labels.npy\", kmeans_p4.labels_)"
   ]
  },
  {
   "cell_type": "code",
   "execution_count": 17,
   "metadata": {},
   "outputs": [
    {
     "data": {
      "text/html": [
       "<div>\n",
       "<style scoped>\n",
       "    .dataframe tbody tr th:only-of-type {\n",
       "        vertical-align: middle;\n",
       "    }\n",
       "\n",
       "    .dataframe tbody tr th {\n",
       "        vertical-align: top;\n",
       "    }\n",
       "\n",
       "    .dataframe thead th {\n",
       "        text-align: right;\n",
       "    }\n",
       "</style>\n",
       "<table border=\"1\" class=\"dataframe\">\n",
       "  <thead>\n",
       "    <tr style=\"text-align: right;\">\n",
       "      <th></th>\n",
       "      <th>R</th>\n",
       "      <th>G</th>\n",
       "      <th>B</th>\n",
       "    </tr>\n",
       "    <tr>\n",
       "      <th>Label</th>\n",
       "      <th></th>\n",
       "      <th></th>\n",
       "      <th></th>\n",
       "    </tr>\n",
       "  </thead>\n",
       "  <tbody>\n",
       "    <tr>\n",
       "      <th>0</th>\n",
       "      <td>204.795032</td>\n",
       "      <td>149.959312</td>\n",
       "      <td>150.889980</td>\n",
       "    </tr>\n",
       "    <tr>\n",
       "      <th>1</th>\n",
       "      <td>0.005408</td>\n",
       "      <td>0.000828</td>\n",
       "      <td>0.003862</td>\n",
       "    </tr>\n",
       "    <tr>\n",
       "      <th>2</th>\n",
       "      <td>168.360828</td>\n",
       "      <td>161.557998</td>\n",
       "      <td>182.280440</td>\n",
       "    </tr>\n",
       "    <tr>\n",
       "      <th>3</th>\n",
       "      <td>174.884321</td>\n",
       "      <td>106.299150</td>\n",
       "      <td>142.679678</td>\n",
       "    </tr>\n",
       "  </tbody>\n",
       "</table>\n",
       "</div>"
      ],
      "text/plain": [
       "                R           G           B\n",
       "Label                                    \n",
       "0      204.795032  149.959312  150.889980\n",
       "1        0.005408    0.000828    0.003862\n",
       "2      168.360828  161.557998  182.280440\n",
       "3      174.884321  106.299150  142.679678"
      ]
     },
     "execution_count": 17,
     "metadata": {},
     "output_type": "execute_result"
    }
   ],
   "source": [
    "dfp4 = pd.DataFrame(data=kmeans_p4.labels_)\n",
    "dfp4[['R','G','B']] = pd.DataFrame(pDat)\n",
    "dfp4.columns = ['Label','R','G','B']\n",
    "dfp4.groupby(['Label']).mean()"
   ]
  },
  {
   "cell_type": "code",
   "execution_count": 53,
   "metadata": {},
   "outputs": [
    {
     "name": "stdout",
     "output_type": "stream",
     "text": [
      "\u001b[48;2;204;149;150m          \u001b[0m\n",
      "\u001b[48;2;0;0;0m          \u001b[0m\n",
      "\u001b[48;2;168;161;182m          \u001b[0m\n",
      "\u001b[48;2;174;106;142m          \u001b[0m\n"
     ]
    }
   ],
   "source": [
    "from colr import color\n",
    "s = \"\"\"          \"\"\"#dummy block\n",
    "print(color(s, back=(204.795032, 149.959312, 150.889980)))\n",
    "print(color(s, back=(0.005408, 0.000828, 0.003862)))\n",
    "print(color(s, back=(168.360828, 161.557998, 182.280440)))\n",
    "print(color(s, back=(174.884321, 106.299150, 142.679678)))"
   ]
  },
  {
   "cell_type": "code",
   "execution_count": 38,
   "metadata": {},
   "outputs": [
    {
     "data": {
      "text/plain": [
       "<matplotlib.collections.PathCollection at 0x7fd3b3108898>"
      ]
     },
     "execution_count": 38,
     "metadata": {},
     "output_type": "execute_result"
    },
    {
     "data": {
      "image/png": "[encoded data removed]",
      "text/plain": [
       "<Figure size 432x288 with 1 Axes>"
      ]
     },
     "metadata": {
      "needs_background": "light"
     },
     "output_type": "display_data"
    }
   ],
   "source": [
    "p1L = kmeans_p4.labels_[0:148*142].reshape(148,142)\n",
    "x=[]\n",
    "y=[]\n",
    "c=[]\n",
    "for i in range(0, 148):\n",
    "    for j in range(0, 142):\n",
    "        x.append(i)\n",
    "        y.append(j)\n",
    "        if p1L[i][j] == 0:\n",
    "            #c.append([0,0,0])\n",
    "            c.append(0.0)\n",
    "        elif p1L[i][j] == 1:\n",
    "            #c.append([255,0,0])\n",
    "            c.append(0.25)\n",
    "        elif p1L[i][j] == 2:\n",
    "            c.append(0.5)\n",
    "        else:\n",
    "            c.append(0.75)\n",
    "plt.scatter(x,y,c=c)"
   ]
  },
  {
   "cell_type": "code",
   "execution_count": 39,
   "metadata": {},
   "outputs": [
    {
     "data": {
      "text/plain": [
       "(139, 160, 3)"
      ]
     },
     "execution_count": 39,
     "metadata": {},
     "output_type": "execute_result"
    }
   ],
   "source": [
    "#parasitized = glob.glob(host_dir + \"Parasitized/*.png\")\n",
    "pImage1_load = np.load(host_dir + \"parasitized_vectorized/\" + parasitized[0][32:-4] + \".npy\")\n",
    "pIm1Dat = pDat[0:148*142].reshape(148,142,3)\n",
    "#for i in range(0, len(pImage1_load)):\n",
    "#    for j in range(0, len(pImage1_load[i])):\n",
    "#        if pImage1_load[i][j].all() != pIm1Dat[i][j].all():\n",
    "#            print(str(i) + \",\" + str(j))\n",
    "pImage1_load.shape\n",
    "#print(pImage1_load[0][0])\n",
    "#print(pIm1Dat[0][0])"
   ]
  },
  {
   "cell_type": "code",
   "execution_count": 40,
   "metadata": {},
   "outputs": [],
   "source": [
    "#Ok I might have to try at least 7 colors with Kmeans"
   ]
  },
  {
   "cell_type": "code",
   "execution_count": null,
   "metadata": {},
   "outputs": [],
   "source": [
    "#dbP = DBSCAN(eps=0.00000001, min_samples=5000000).fit(pDat)\n",
    "#DBSCAN ran? for over 12 hours and nothing...so let's skip that for now."
   ]
  },
  {
   "cell_type": "code",
   "execution_count": null,
   "metadata": {},
   "outputs": [],
   "source": [
    "#pDat = np.load(host_dir + \"parasitized_vectorized_rgbList.npy\")\n",
    "#kmeans_p7 = KMeans(n_clusters=7, random_state=0).fit(pDat)\n",
    "#7 clusters is running out of memory and not working....so let's try to cluster individual images"
   ]
  },
  {
   "cell_type": "code",
   "execution_count": 8,
   "metadata": {},
   "outputs": [],
   "source": [
    "pI1 = np.load(host_dir + \"parasitized_vectorized/\" + parasitized[0][32:-4] + \".npy\")"
   ]
  },
  {
   "cell_type": "code",
   "execution_count": 9,
   "metadata": {},
   "outputs": [
    {
     "data": {
      "text/plain": [
       "(139, 160, 3)"
      ]
     },
     "execution_count": 9,
     "metadata": {},
     "output_type": "execute_result"
    }
   ],
   "source": [
    "pI1.shape"
   ]
  },
  {
   "cell_type": "code",
   "execution_count": 37,
   "metadata": {},
   "outputs": [],
   "source": [
    "pI1 = pI1.reshape(139*160,3)\n",
    "pI1fit = DBSCAN(eps=2, min_samples=500).fit(pI1)"
   ]
  },
  {
   "cell_type": "code",
   "execution_count": 38,
   "metadata": {},
   "outputs": [
    {
     "data": {
      "text/html": [
       "<div>\n",
       "<style scoped>\n",
       "    .dataframe tbody tr th:only-of-type {\n",
       "        vertical-align: middle;\n",
       "    }\n",
       "\n",
       "    .dataframe tbody tr th {\n",
       "        vertical-align: top;\n",
       "    }\n",
       "\n",
       "    .dataframe thead th {\n",
       "        text-align: right;\n",
       "    }\n",
       "</style>\n",
       "<table border=\"1\" class=\"dataframe\">\n",
       "  <thead>\n",
       "    <tr style=\"text-align: right;\">\n",
       "      <th></th>\n",
       "      <th>R</th>\n",
       "      <th>G</th>\n",
       "      <th>B</th>\n",
       "    </tr>\n",
       "    <tr>\n",
       "      <th>Label</th>\n",
       "      <th></th>\n",
       "      <th></th>\n",
       "      <th></th>\n",
       "    </tr>\n",
       "  </thead>\n",
       "  <tbody>\n",
       "    <tr>\n",
       "      <th>-1</th>\n",
       "      <td>219.443372</td>\n",
       "      <td>169.058405</td>\n",
       "      <td>157.364652</td>\n",
       "    </tr>\n",
       "    <tr>\n",
       "      <th>0</th>\n",
       "      <td>0.000000</td>\n",
       "      <td>0.000000</td>\n",
       "      <td>0.000000</td>\n",
       "    </tr>\n",
       "    <tr>\n",
       "      <th>1</th>\n",
       "      <td>214.618738</td>\n",
       "      <td>156.618738</td>\n",
       "      <td>150.078388</td>\n",
       "    </tr>\n",
       "    <tr>\n",
       "      <th>2</th>\n",
       "      <td>217.365668</td>\n",
       "      <td>164.493733</td>\n",
       "      <td>153.673025</td>\n",
       "    </tr>\n",
       "  </tbody>\n",
       "</table>\n",
       "</div>"
      ],
      "text/plain": [
       "                R           G           B\n",
       "Label                                    \n",
       "-1     219.443372  169.058405  157.364652\n",
       " 0       0.000000    0.000000    0.000000\n",
       " 1     214.618738  156.618738  150.078388\n",
       " 2     217.365668  164.493733  153.673025"
      ]
     },
     "execution_count": 38,
     "metadata": {},
     "output_type": "execute_result"
    }
   ],
   "source": [
    "import pandas as pd\n",
    "dfpI1 = pd.DataFrame(data=pI1fit.labels_)\n",
    "dfpI1[['R','G','B']] = pd.DataFrame(pI1)\n",
    "dfpI1.columns = ['Label','R','G','B']\n",
    "dfpI1.groupby(['Label']).mean()"
   ]
  },
  {
   "cell_type": "code",
   "execution_count": 88,
   "metadata": {},
   "outputs": [
    {
     "data": {
      "text/plain": [
       "0    7197\n",
       "5    3775\n",
       "8    2976\n",
       "1    1902\n",
       "3    1543\n",
       "6    1121\n",
       "7     976\n",
       "4     970\n",
       "9     926\n",
       "2     854\n",
       "Name: Label, dtype: int64"
      ]
     },
     "execution_count": 88,
     "metadata": {},
     "output_type": "execute_result"
    }
   ],
   "source": [
    "dfpI1K['Label'].value_counts()"
   ]
  },
  {
   "cell_type": "code",
   "execution_count": 97,
   "metadata": {},
   "outputs": [
    {
     "data": {
      "text/html": [
       "<div>\n",
       "<style scoped>\n",
       "    .dataframe tbody tr th:only-of-type {\n",
       "        vertical-align: middle;\n",
       "    }\n",
       "\n",
       "    .dataframe tbody tr th {\n",
       "        vertical-align: top;\n",
       "    }\n",
       "\n",
       "    .dataframe thead th {\n",
       "        text-align: right;\n",
       "    }\n",
       "</style>\n",
       "<table border=\"1\" class=\"dataframe\">\n",
       "  <thead>\n",
       "    <tr style=\"text-align: right;\">\n",
       "      <th></th>\n",
       "      <th>R</th>\n",
       "      <th>G</th>\n",
       "      <th>B</th>\n",
       "    </tr>\n",
       "    <tr>\n",
       "      <th>Label</th>\n",
       "      <th></th>\n",
       "      <th></th>\n",
       "      <th></th>\n",
       "    </tr>\n",
       "  </thead>\n",
       "  <tbody>\n",
       "    <tr>\n",
       "      <th>0</th>\n",
       "      <td>217.683384</td>\n",
       "      <td>158.456522</td>\n",
       "      <td>158.831808</td>\n",
       "    </tr>\n",
       "    <tr>\n",
       "      <th>1</th>\n",
       "      <td>0.024413</td>\n",
       "      <td>0.000189</td>\n",
       "      <td>0.016654</td>\n",
       "    </tr>\n",
       "  </tbody>\n",
       "</table>\n",
       "</div>"
      ],
      "text/plain": [
       "                R           G           B\n",
       "Label                                    \n",
       "0      217.683384  158.456522  158.831808\n",
       "1        0.024413    0.000189    0.016654"
      ]
     },
     "execution_count": 97,
     "metadata": {},
     "output_type": "execute_result"
    }
   ],
   "source": [
    "#pI1 = pI1.reshape(139*160,3)\n",
    "pI1 = load_img(parasitized[0]).reshape(148*142,3)\n",
    "pI1fitK = KMeans(n_clusters=2).fit(pI1)\n",
    "dfpI1K = pd.DataFrame(data=pI1fitK.labels_)\n",
    "dfpI1K[['R','G','B']] = pd.DataFrame(pI1)\n",
    "dfpI1K.columns = ['Label','R','G','B']\n",
    "dfpI1K.groupby(['Label']).mean()"
   ]
  },
  {
   "cell_type": "code",
   "execution_count": 103,
   "metadata": {},
   "outputs": [
    {
     "data": {
      "text/plain": [
       "<matplotlib.collections.PathCollection at 0x7fe2d5bcdcc0>"
      ]
     },
     "execution_count": 103,
     "metadata": {},
     "output_type": "execute_result"
    },
    {
     "data": {
      "image/png": "[encoded data removed]",
      "text/plain": [
       "<Figure size 432x288 with 1 Axes>"
      ]
     },
     "metadata": {
      "needs_background": "light"
     },
     "output_type": "display_data"
    }
   ],
   "source": [
    "import matplotlib.pyplot as plt\n",
    "pI1 = load_img(parasitized[0]).reshape(148*142,3)\n",
    "pI1fitK = KMeans(n_clusters=10).fit(pI1)\n",
    "dfpI1K = pd.DataFrame(data=pI1fitK.labels_)\n",
    "dfpI1K[['R','G','B']] = pd.DataFrame(pI1)\n",
    "dfpI1K.columns = ['Label','R','G','B']\n",
    "pI1fitKL = pI1fitK.labels_.reshape(148,142)\n",
    "x=[]\n",
    "y=[]\n",
    "c=[]\n",
    "l=[]\n",
    "cs = dfpI1K.groupby(['Label']).mean().to_numpy()#dfpI1K[['R','G','B']].to_numpy()\n",
    "cs = np.true_divide(cs, 255)\n",
    "#ct=0\n",
    "for i in range(0, 148):\n",
    "    for j in range(0, 142):\n",
    "        x.append(i)\n",
    "        y.append(j)\n",
    "        l.append(pI1fitKL[i][j])\n",
    "        c.append(cs[pI1fitKL[i][j]])\n",
    "        #c.append(cs[ct])\n",
    "        #ct+=1\n",
    "plt.scatter(x,y,c=c)"
   ]
  },
  {
   "cell_type": "code",
   "execution_count": 79,
   "metadata": {},
   "outputs": [
    {
     "data": {
      "text/plain": [
       "array([0.83921569, 0.60784314, 0.58431373])"
      ]
     },
     "execution_count": 79,
     "metadata": {},
     "output_type": "execute_result"
    }
   ],
   "source": [
    "cs[5000]"
   ]
  },
  {
   "cell_type": "code",
   "execution_count": 80,
   "metadata": {},
   "outputs": [
    {
     "data": {
      "text/plain": [
       "array([0., 0., 0.])"
      ]
     },
     "execution_count": 80,
     "metadata": {},
     "output_type": "execute_result"
    }
   ],
   "source": [
    "c[5000]"
   ]
  },
  {
   "cell_type": "code",
   "execution_count": 81,
   "metadata": {},
   "outputs": [
    {
     "data": {
      "text/plain": [
       "(22240, 3)"
      ]
     },
     "execution_count": 81,
     "metadata": {},
     "output_type": "execute_result"
    }
   ],
   "source": [
    "cs.shape"
   ]
  },
  {
   "cell_type": "code",
   "execution_count": 83,
   "metadata": {},
   "outputs": [
    {
     "data": {
      "text/plain": [
       "22240"
      ]
     },
     "execution_count": 83,
     "metadata": {},
     "output_type": "execute_result"
    }
   ],
   "source": [
    "len(c)"
   ]
  },
  {
   "cell_type": "code",
   "execution_count": 85,
   "metadata": {},
   "outputs": [
    {
     "data": {
      "text/plain": [
       "5"
      ]
     },
     "execution_count": 85,
     "metadata": {},
     "output_type": "execute_result"
    }
   ],
   "source": [
    "l[5000]"
   ]
  },
  {
   "cell_type": "code",
   "execution_count": 86,
   "metadata": {},
   "outputs": [
    {
     "data": {
      "text/plain": [
       "0"
      ]
     },
     "execution_count": 86,
     "metadata": {},
     "output_type": "execute_result"
    }
   ],
   "source": []
  },
  {
   "cell_type": "code",
   "execution_count": 92,
   "metadata": {},
   "outputs": [
    {
     "data": {
      "text/plain": [
       "(148, 142, 3)"
      ]
     },
     "execution_count": 92,
     "metadata": {},
     "output_type": "execute_result"
    }
   ],
   "source": [
    "load_img(parasitized[0]).shape"
   ]
  },
  {
   "cell_type": "code",
   "execution_count": 134,
   "metadata": {},
   "outputs": [],
   "source": [
    "pDat = np.load(host_dir + \"parasitized_vectorized_rgbList.npy\")\n",
    "uDat = np.load(host_dir + \"uninfected_vectorized_rgbList.npy\")"
   ]
  },
  {
   "cell_type": "code",
   "execution_count": 135,
   "metadata": {},
   "outputs": [],
   "source": [
    "pDat_df = pd.DataFrame(data=pDat)\n",
    "uDat_df = pd.DataFrame(data=uDat)"
   ]
  },
  {
   "cell_type": "code",
   "execution_count": 137,
   "metadata": {},
   "outputs": [],
   "source": [
    "#pDat_df.columns = ['R','G','B']"
   ]
  },
  {
   "cell_type": "code",
   "execution_count": 132,
   "metadata": {},
   "outputs": [
    {
     "data": {
      "text/html": [
       "<div>\n",
       "<style scoped>\n",
       "    .dataframe tbody tr th:only-of-type {\n",
       "        vertical-align: middle;\n",
       "    }\n",
       "\n",
       "    .dataframe tbody tr th {\n",
       "        vertical-align: top;\n",
       "    }\n",
       "\n",
       "    .dataframe thead th {\n",
       "        text-align: right;\n",
       "    }\n",
       "</style>\n",
       "<table border=\"1\" class=\"dataframe\">\n",
       "  <thead>\n",
       "    <tr style=\"text-align: right;\">\n",
       "      <th></th>\n",
       "      <th>R</th>\n",
       "      <th>G</th>\n",
       "      <th>B</th>\n",
       "    </tr>\n",
       "  </thead>\n",
       "  <tbody>\n",
       "    <tr>\n",
       "      <th>0</th>\n",
       "      <td>0</td>\n",
       "      <td>0</td>\n",
       "      <td>0</td>\n",
       "    </tr>\n",
       "    <tr>\n",
       "      <th>1</th>\n",
       "      <td>0</td>\n",
       "      <td>0</td>\n",
       "      <td>0</td>\n",
       "    </tr>\n",
       "    <tr>\n",
       "      <th>2</th>\n",
       "      <td>0</td>\n",
       "      <td>0</td>\n",
       "      <td>0</td>\n",
       "    </tr>\n",
       "    <tr>\n",
       "      <th>3</th>\n",
       "      <td>0</td>\n",
       "      <td>0</td>\n",
       "      <td>0</td>\n",
       "    </tr>\n",
       "    <tr>\n",
       "      <th>4</th>\n",
       "      <td>0</td>\n",
       "      <td>0</td>\n",
       "      <td>0</td>\n",
       "    </tr>\n",
       "  </tbody>\n",
       "</table>\n",
       "</div>"
      ],
      "text/plain": [
       "   R  G  B\n",
       "0  0  0  0\n",
       "1  0  0  0\n",
       "2  0  0  0\n",
       "3  0  0  0\n",
       "4  0  0  0"
      ]
     },
     "execution_count": 132,
     "metadata": {},
     "output_type": "execute_result"
    }
   ],
   "source": [
    "pDat_df.head()"
   ]
  },
  {
   "cell_type": "code",
   "execution_count": 139,
   "metadata": {},
   "outputs": [
    {
     "ename": "ValueError",
     "evalue": "Buffer has wrong number of dimensions (expected 1, got 2)",
     "output_type": "error",
     "traceback": [
      "\u001b[0;31m---------------------------------------------------------------------------\u001b[0m",
      "\u001b[0;31mValueError\u001b[0m                                Traceback (most recent call last)",
      "\u001b[0;32m<ipython-input-139-2e00ae6c5cdf>\u001b[0m in \u001b[0;36m<module>\u001b[0;34m\u001b[0m\n\u001b[1;32m      1\u001b[0m \u001b[0;31m#pUnique = pd.unique(pDat_df).drop_duplicates()\u001b[0m\u001b[0;34m\u001b[0m\u001b[0;34m\u001b[0m\u001b[0;34m\u001b[0m\u001b[0m\n\u001b[0;32m----> 2\u001b[0;31m \u001b[0muUnique\u001b[0m \u001b[0;34m=\u001b[0m \u001b[0mpd\u001b[0m\u001b[0;34m.\u001b[0m\u001b[0munique\u001b[0m\u001b[0;34m(\u001b[0m\u001b[0muDat_df\u001b[0m\u001b[0;34m)\u001b[0m\u001b[0;34m.\u001b[0m\u001b[0mdrop_duplicates\u001b[0m\u001b[0;34m(\u001b[0m\u001b[0;34m)\u001b[0m\u001b[0;34m\u001b[0m\u001b[0;34m\u001b[0m\u001b[0m\n\u001b[0m",
      "\u001b[0;32m~/anaconda3/lib/python3.7/site-packages/pandas/core/algorithms.py\u001b[0m in \u001b[0;36munique\u001b[0;34m(values)\u001b[0m\n\u001b[1;32m    360\u001b[0m \u001b[0;34m\u001b[0m\u001b[0m\n\u001b[1;32m    361\u001b[0m     \u001b[0mtable\u001b[0m \u001b[0;34m=\u001b[0m \u001b[0mhtable\u001b[0m\u001b[0;34m(\u001b[0m\u001b[0mlen\u001b[0m\u001b[0;34m(\u001b[0m\u001b[0mvalues\u001b[0m\u001b[0;34m)\u001b[0m\u001b[0;34m)\u001b[0m\u001b[0;34m\u001b[0m\u001b[0;34m\u001b[0m\u001b[0m\n\u001b[0;32m--> 362\u001b[0;31m     \u001b[0muniques\u001b[0m \u001b[0;34m=\u001b[0m \u001b[0mtable\u001b[0m\u001b[0;34m.\u001b[0m\u001b[0munique\u001b[0m\u001b[0;34m(\u001b[0m\u001b[0mvalues\u001b[0m\u001b[0;34m)\u001b[0m\u001b[0;34m\u001b[0m\u001b[0;34m\u001b[0m\u001b[0m\n\u001b[0m\u001b[1;32m    363\u001b[0m     \u001b[0muniques\u001b[0m \u001b[0;34m=\u001b[0m \u001b[0m_reconstruct_data\u001b[0m\u001b[0;34m(\u001b[0m\u001b[0muniques\u001b[0m\u001b[0;34m,\u001b[0m \u001b[0mdtype\u001b[0m\u001b[0;34m,\u001b[0m \u001b[0moriginal\u001b[0m\u001b[0;34m)\u001b[0m\u001b[0;34m\u001b[0m\u001b[0;34m\u001b[0m\u001b[0m\n\u001b[1;32m    364\u001b[0m     \u001b[0;32mreturn\u001b[0m \u001b[0muniques\u001b[0m\u001b[0;34m\u001b[0m\u001b[0;34m\u001b[0m\u001b[0m\n",
      "\u001b[0;32mpandas/_libs/hashtable_class_helper.pxi\u001b[0m in \u001b[0;36mpandas._libs.hashtable.Int64HashTable.unique\u001b[0;34m()\u001b[0m\n",
      "\u001b[0;31mValueError\u001b[0m: Buffer has wrong number of dimensions (expected 1, got 2)"
     ]
    }
   ],
   "source": [
    "#pUnique = pd.unique(pDat_df).drop_duplicates()\n",
    "uUnique = pd.unique(uDat_df).drop_duplicates()"
   ]
  },
  {
   "cell_type": "code",
   "execution_count": 144,
   "metadata": {},
   "outputs": [
    {
     "data": {
      "text/plain": [
       "1096"
      ]
     },
     "execution_count": 144,
     "metadata": {},
     "output_type": "execute_result"
    }
   ],
   "source": [
    "len(pd.DataFrame(load_img(parasitized[0]).reshape(148*142,3)).drop_duplicates().index)\n",
    "#dfT\n"
   ]
  },
  {
   "cell_type": "code",
   "execution_count": 140,
   "metadata": {},
   "outputs": [],
   "source": [
    "#Ok, well I am getting somewhere. I would like to make a distribution of the distinct number of colors in each image\n",
    "#for each case (uninfected and parasitized)\n",
    "#Then I could try dimensionality reduction on the number of colors required to capture the images\n",
    "#I could define how well it captures the image by Euclidian distance from actual color to predicted color from clustering/\n",
    "#dimensionality reduction for each pixel.\n",
    "#Basically, I am looking for a model where I don't have to repixelate the images also.\n",
    "#With the reduced number of effective colors, I could create CG pixels covering a larger area on the image and feed the CG\n",
    "#pixels into a neural network."
   ]
  },
  {
   "cell_type": "code",
   "execution_count": 5,
   "metadata": {},
   "outputs": [],
   "source": [
    "import numpy as np\n",
    "import glob\n",
    "import pandas as pd\n",
    "from PIL import Image\n",
    "skear\n",
    "pNColors = np.zeros(len(uninfected))\n",
    "uNColors = np.zeros(len(parasitized))\n",
    "for dex, im in enumerate(parasitized):\n",
    "    i = load_img(im)\n",
    "    ishp = i.shape\n",
    "    pNColors[dex] = len(pd.DataFrame(i.reshape(ishp[0]*ishp[1],3)).drop_duplicates().index)#gets # of colors in image\n",
    "for dex, im in enumerate(uninfected):\n",
    "    i = load_img(im)\n",
    "    ishp = i.shape\n",
    "    uNColors[dex] = len(pd.DataFrame(i.reshape(ishp[0]*ishp[1],3)).drop_duplicates().index)#gets # of colors in image\n",
    "np.savetxt(host_dir + \"uninfected_nColors.txt\", uNColors)\n",
    "np.savetxt(host_dir + \"parasitized_nColors.txt\", pNColors)"
   ]
  },
  {
   "cell_type": "code",
   "execution_count": 149,
   "metadata": {},
   "outputs": [
    {
     "data": {
      "text/plain": [
       "array([1096., 1077.,  986., ..., 1659., 1376., 1376.])"
      ]
     },
     "execution_count": 149,
     "metadata": {},
     "output_type": "execute_result"
    }
   ],
   "source": [
    "pNColors"
   ]
  },
  {
   "cell_type": "code",
   "execution_count": 150,
   "metadata": {},
   "outputs": [
    {
     "data": {
      "text/plain": [
       "array([238., 279., 180., ..., 524., 565., 644.])"
      ]
     },
     "execution_count": 150,
     "metadata": {},
     "output_type": "execute_result"
    }
   ],
   "source": [
    "uNColors"
   ]
  },
  {
   "cell_type": "code",
   "execution_count": 170,
   "metadata": {},
   "outputs": [],
   "source": [
    "pNColors.sort()\n",
    "uNColors.sort()\n",
    "pNColors_cum = np.cumsum(pNColors)\n",
    "pNColors_cum = np.divide(pNColors_cum, pNColors_cum[len(pNColors)-1])\n",
    "uNColors_cum = np.cumsum(uNColors)\n",
    "uNColors_cum = np.divide(uNColors_cum, uNColors_cum[len(uNColors)-1])"
   ]
  },
  {
   "cell_type": "code",
   "execution_count": 160,
   "metadata": {},
   "outputs": [
    {
     "data": {
      "text/plain": [
       "array([5.21270054e-05, 1.03350349e-04, 1.50245629e-04, ...,\n",
       "       9.99869112e-01, 9.99934556e-01, 1.00000000e+00])"
      ]
     },
     "execution_count": 160,
     "metadata": {},
     "output_type": "execute_result"
    }
   ],
   "source": [
    "pNColors_cum"
   ]
  },
  {
   "cell_type": "code",
   "execution_count": 161,
   "metadata": {},
   "outputs": [
    {
     "data": {
      "text/plain": [
       "array([2.41357843e-05, 5.24294137e-05, 7.06833682e-05, ...,\n",
       "       9.99877394e-01, 9.99934691e-01, 1.00000000e+00])"
      ]
     },
     "execution_count": 161,
     "metadata": {},
     "output_type": "execute_result"
    }
   ],
   "source": [
    "uNColors_cum"
   ]
  },
  {
   "cell_type": "code",
   "execution_count": 184,
   "metadata": {},
   "outputs": [
    {
     "data": {
      "image/png": "[encoded data removed]",
      "text/plain": [
       "<Figure size 432x288 with 1 Axes>"
      ]
     },
     "metadata": {
      "needs_background": "light"
     },
     "output_type": "display_data"
    }
   ],
   "source": [
    "#pNCols_plot = np.stack((pNColors,pNColors_cum))\n",
    "#uNCols_plot = np.stack((uNColors,uNColors_cum))\n",
    "plt.plot(uNColors,uNColors_cum)\n",
    "plt.plot(pNColors,pNColors_cum)\n",
    "plt.legend(['uninfected','parasitized'])\n",
    "plt.xlabel(\"Number of Distinct Colors\")\n",
    "plt.ylabel(\"Cumulative Distribution\")\n",
    "plt.show()"
   ]
  },
  {
   "cell_type": "code",
   "execution_count": 185,
   "metadata": {},
   "outputs": [],
   "source": [
    "#So now I have verified that the parasitized images have more colors, as can be seen by looking at a few images.\n",
    "#So this is a good quantification of something I saw visually."
   ]
  },
  {
   "cell_type": "code",
   "execution_count": 187,
   "metadata": {},
   "outputs": [
    {
     "name": "stdout",
     "output_type": "stream",
     "text": [
      "uninfected # colors per image: 715.6453298497714 +- 557.7370951226687\n",
      "parasitized # colors per image: 1525.9140721387619 +- 740.2401933051165\n"
     ]
    }
   ],
   "source": [
    "import statistics\n",
    "print(\"uninfected # colors per image: \" +  str(statistics.mean(uNColors)) + \" +- \" + str(statistics.stdev(uNColors)))\n",
    "print(\"parasitized # colors per image: \" +  str(statistics.mean(pNColors)) + \" +- \" + str(statistics.stdev(pNColors)))"
   ]
  },
  {
   "cell_type": "code",
   "execution_count": 241,
   "metadata": {},
   "outputs": [
    {
     "name": "stdout",
     "output_type": "stream",
     "text": [
      "image number  0\n",
      "image number  1\n",
      "image number  2\n",
      "image number  3\n",
      "image number  4\n"
     ]
    }
   ],
   "source": [
    "from sklearn.metrics.pairwise import euclidean_distances\n",
    "from sklearn.cluster import KMeans, DBSCAN\n",
    "\n",
    "def labelToColor(label):\n",
    "    return cs[label]\n",
    "def getDist(r,g,b,avRGB):\n",
    "    rgb = np.array([r,g,b])\n",
    "    return np.linalg.norm(rgb-avRGB)\n",
    "\n",
    "    \n",
    "distsP = []\n",
    "errP = []\n",
    "for dex in range(0, 5):#for dex, im in enumerate(parasitized):\n",
    "    im = parasitized[dex]\n",
    "    dists = []\n",
    "    err = []\n",
    "    i = load_img(im)\n",
    "    ishp = i.shape\n",
    "    i = i.reshape(ishp[0]*ishp[1],3)\n",
    "    print(\"image number \", dex)\n",
    "    for j in range(1, int(pNColors[dex]+1)):\n",
    "        #print(\"num clusters\", j)\n",
    "        fit = KMeans(n_clusters=j).fit(i)\n",
    "        fitL = pd.DataFrame(data=fit.labels_)#creates a DataFrame with color labels\n",
    "        fitL[['R','G','B']] = pd.DataFrame(i)#adds to the DataFrame the actual colors of the image\n",
    "        fitL.columns = ['Label','R','G','B']\n",
    "        fitLK = fit.labels_.reshape(ishp[0],ishp[1])#gets labels from KMeans in an array\n",
    "        cs = fitL.groupby(['Label']).mean().to_numpy()#gets average color for each label from Kmeans\n",
    "        #now I have to convert each value to its average and then calculate the difference in color\n",
    "        fitL['clusterAvColor'] = fitL['Label'].apply(labelToColor)\n",
    "        fitL['dist'] = fitL.apply(lambda x: getDist(x.R, x.G, x.B, x.clusterAvColor), axis=1)\n",
    "        dists.append(fitL['dist'].mean())\n",
    "        err.append(fitL['dist'].std())\n",
    "        #print(str(fitL['dist'].mean(axis=1)) + \"+-\" + str(fitL['dist'].std(axis=1)))\n",
    "    distsP.append(dists)\n",
    "    errP.append(err)"
   ]
  },
  {
   "cell_type": "code",
   "execution_count": 255,
   "metadata": {},
   "outputs": [],
   "source": [
    "def genArr(n):\n",
    "    arr = []\n",
    "    for i in range(1, n+1):\n",
    "        arr.append(i)\n",
    "    return arr"
   ]
  },
  {
   "cell_type": "code",
   "execution_count": 252,
   "metadata": {},
   "outputs": [
    {
     "data": {
      "image/png": "[encoded data removed]",
      "text/plain": [
       "<Figure size 432x288 with 1 Axes>"
      ]
     },
     "metadata": {
      "needs_background": "light"
     },
     "output_type": "display_data"
    }
   ],
   "source": [
    "plt.figure()\n",
    "plt.errorbar(x, distsP[0], yerr=errP[0], fmt='o')\n",
    "#ax.set_title('Vert. symmetric')\n",
    "plt.show()"
   ]
  },
  {
   "cell_type": "code",
   "execution_count": 253,
   "metadata": {},
   "outputs": [
    {
     "data": {
      "image/png": "[encoded data removed]",
      "text/plain": [
       "<Figure size 432x288 with 1 Axes>"
      ]
     },
     "metadata": {
      "needs_background": "light"
     },
     "output_type": "display_data"
    }
   ],
   "source": [
    "plt.figure()\n",
    "plt.errorbar(x[1:], distsP[0][1:], yerr=errP[0][1:], fmt='o')\n",
    "#ax.set_title('Vert. symmetric')\n",
    "plt.show()"
   ]
  },
  {
   "cell_type": "code",
   "execution_count": 265,
   "metadata": {},
   "outputs": [
    {
     "data": {
      "image/png": "[encoded data removed]",
      "text/plain": [
       "<Figure size 432x288 with 1 Axes>"
      ]
     },
     "metadata": {
      "needs_background": "light"
     },
     "output_type": "display_data"
    }
   ],
   "source": [
    "plt.figure()\n",
    "#plt.errorbar(genArr(int(pNColors[0]))[1:], distsP[0][1:], yerr=errP[0][1:], fmt='o')\n",
    "#plt.errorbar(genArr(int(pNColors[1]))[1:], distsP[1][1:], yerr=errP[1][1:], fmt='o')\n",
    "#plt.errorbar(genArr(int(pNColors[2]))[1:], distsP[2][1:], yerr=errP[2][1:], fmt='o')\n",
    "#plt.errorbar(genArr(int(pNColors[3]))[1:], distsP[3][1:], yerr=errP[3][1:], fmt='o')\n",
    "plt.errorbar(genArr(int(pNColors[4]))[1:], distsP[4][1:], yerr=errP[4][1:], fmt='o')\n",
    "#ax.set_title('Vert. symmetric')\n",
    "plt.show()"
   ]
  },
  {
   "cell_type": "code",
   "execution_count": null,
   "metadata": {},
   "outputs": [],
   "source": [
    "#NOTE: THIS VERSION NOT CURRENTLY IN USE BECAUSE IT WASN'T WORKING RIGHT\n",
    "from sklearn.cluster import KMeans, DBSCAN\n",
    "\n",
    "def labelToColor(label):\n",
    "    return cs[label]\n",
    "def getDist(r,g,b,avRGB):\n",
    "    rgb = np.array([r,g,b])\n",
    "    return np.linalg.norm(rgb-avRGB)\n",
    "def getDists_oneClustering(i,j):\n",
    "    fit = KMeans(n_clusters=j).fit(i)\n",
    "    fitL = pd.DataFrame(data=fit.labels_)#creates a DataFrame with color labels\n",
    "    fitL[['R','G','B']] = pd.DataFrame(i)#adds to the DataFrame the actual colors of the image\n",
    "    fitL.columns = ['Label','R','G','B']\n",
    "    fitLK = fit.labels_.reshape(ishp[0],ishp[1])#gets labels from KMeans in an array\n",
    "    cs = fitL.groupby(['Label']).mean().to_numpy()#gets average color for each label from Kmeans\n",
    "    #now I have to convert each value to its average and then calculate the difference in color\n",
    "    fitL['clusterAvColor'] = fitL['Label'].apply(labelToColor)\n",
    "    fitL['dist'] = fitL.apply(lambda x: getDist(x.R, x.G, x.B, x.clusterAvColor), axis=1)\n",
    "    return fitL['dist'].mean(), fitL['dist'].std()\n",
    "    \n",
    "    \n",
    "distsP = []\n",
    "errP = []\n",
    "for dex, im in enumerate(parasitized):\n",
    "    dists = []\n",
    "    err = []\n",
    "    i = load_img(im)\n",
    "    ishp = i.shape\n",
    "    i = i.reshape(ishp[0]*ishp[1],3)\n",
    "    print(\"image number \", dex)\n",
    "    for j in range(1, int(pNColors[dex]+1)):\n",
    "        #print(\"num clusters\", j)\n",
    "        dVal, eVal = getDists_oneClustering(i,j)\n",
    "        dists.append(dVal)\n",
    "        err.append(eVal)\n",
    "    distsP.append(dists)\n",
    "    errP.append(err)"
   ]
  },
  {
   "cell_type": "code",
   "execution_count": 224,
   "metadata": {},
   "outputs": [
    {
     "data": {
      "text/html": [
       "<div>\n",
       "<style scoped>\n",
       "    .dataframe tbody tr th:only-of-type {\n",
       "        vertical-align: middle;\n",
       "    }\n",
       "\n",
       "    .dataframe tbody tr th {\n",
       "        vertical-align: top;\n",
       "    }\n",
       "\n",
       "    .dataframe thead th {\n",
       "        text-align: right;\n",
       "    }\n",
       "</style>\n",
       "<table border=\"1\" class=\"dataframe\">\n",
       "  <thead>\n",
       "    <tr style=\"text-align: right;\">\n",
       "      <th></th>\n",
       "      <th>Label</th>\n",
       "      <th>R</th>\n",
       "      <th>G</th>\n",
       "      <th>B</th>\n",
       "      <th>clusterAvColor</th>\n",
       "      <th>dist</th>\n",
       "    </tr>\n",
       "  </thead>\n",
       "  <tbody>\n",
       "    <tr>\n",
       "      <th>0</th>\n",
       "      <td>1</td>\n",
       "      <td>0</td>\n",
       "      <td>0</td>\n",
       "      <td>0</td>\n",
       "      <td>[0.02441332323996972, 0.00018925056775170325, ...</td>\n",
       "      <td>0.029553</td>\n",
       "    </tr>\n",
       "    <tr>\n",
       "      <th>1</th>\n",
       "      <td>1</td>\n",
       "      <td>0</td>\n",
       "      <td>0</td>\n",
       "      <td>0</td>\n",
       "      <td>[0.02441332323996972, 0.00018925056775170325, ...</td>\n",
       "      <td>0.029553</td>\n",
       "    </tr>\n",
       "    <tr>\n",
       "      <th>2</th>\n",
       "      <td>1</td>\n",
       "      <td>0</td>\n",
       "      <td>0</td>\n",
       "      <td>0</td>\n",
       "      <td>[0.02441332323996972, 0.00018925056775170325, ...</td>\n",
       "      <td>0.029553</td>\n",
       "    </tr>\n",
       "    <tr>\n",
       "      <th>3</th>\n",
       "      <td>1</td>\n",
       "      <td>0</td>\n",
       "      <td>0</td>\n",
       "      <td>0</td>\n",
       "      <td>[0.02441332323996972, 0.00018925056775170325, ...</td>\n",
       "      <td>0.029553</td>\n",
       "    </tr>\n",
       "    <tr>\n",
       "      <th>4</th>\n",
       "      <td>1</td>\n",
       "      <td>0</td>\n",
       "      <td>0</td>\n",
       "      <td>0</td>\n",
       "      <td>[0.02441332323996972, 0.00018925056775170325, ...</td>\n",
       "      <td>0.029553</td>\n",
       "    </tr>\n",
       "  </tbody>\n",
       "</table>\n",
       "</div>"
      ],
      "text/plain": [
       "   Label  R  G  B                                     clusterAvColor      dist\n",
       "0      1  0  0  0  [0.02441332323996972, 0.00018925056775170325, ...  0.029553\n",
       "1      1  0  0  0  [0.02441332323996972, 0.00018925056775170325, ...  0.029553\n",
       "2      1  0  0  0  [0.02441332323996972, 0.00018925056775170325, ...  0.029553\n",
       "3      1  0  0  0  [0.02441332323996972, 0.00018925056775170325, ...  0.029553\n",
       "4      1  0  0  0  [0.02441332323996972, 0.00018925056775170325, ...  0.029553"
      ]
     },
     "execution_count": 224,
     "metadata": {},
     "output_type": "execute_result"
    }
   ],
   "source": [
    "from sklearn.metrics.pairwise import euclidean_distances\n",
    "def labelToColor(label):\n",
    "    return cs[label]\n",
    "def getDist(r,g,b,avRGB):\n",
    "    rgb = np.array([r,g,b])\n",
    "    return np.linalg.norm(rgb-avRGB)\n",
    "\n",
    "distsP = \n",
    "\n",
    "i = load_img(parasitized[0])\n",
    "ishp = i.shape\n",
    "i = i.reshape(ishp[0]*ishp[1],3)\n",
    "fit = KMeans(n_clusters=2).fit(i)\n",
    "fitL = pd.DataFrame(data=fit.labels_)#creates a DataFrame with color labels\n",
    "fitL[['R','G','B']] = pd.DataFrame(i)#adds to the DataFrame the actual colors of the image\n",
    "fitL.columns = ['Label','R','G','B']\n",
    "fitLK = fit.labels_.reshape(ishp[0],ishp[1])#gets labels from KMeans in an array\n",
    "cs = fitL.groupby(['Label']).mean().to_numpy()#gets average color for each label from Kmeans\n",
    "#now I have to convert each value to its average and then calculate the difference in color\n",
    "fitL['clusterAvColor'] = fitL['Label'].apply(labelToColor)\n",
    "fitL['dist'] = fitL.apply(lambda x: getDist(x.R, x.G, x.B, x.clusterAvColor), axis=1)\n",
    "print(str(fitL['dist'].mean(axis=1)) + \"+-\" + str(fitL['dist'].std(axis=1)))\n",
    "\n",
    "#dists = euclidean_distances(i, clusteredColors) #this gets distance for each element with each other element.\n",
    "#I only want distance for elements on same row"
   ]
  },
  {
   "cell_type": "code",
   "execution_count": 225,
   "metadata": {},
   "outputs": [
    {
     "data": {
      "text/plain": [
       "Label                                                             0\n",
       "R                                                               223\n",
       "G                                                               176\n",
       "B                                                               166\n",
       "clusterAvColor    [217.68338418510044, 158.45652173913044, 158.8...\n",
       "dist                                                        19.6831\n",
       "Name: 3000, dtype: object"
      ]
     },
     "execution_count": 225,
     "metadata": {},
     "output_type": "execute_result"
    }
   ],
   "source": [
    "fitL.iloc[3000]"
   ]
  },
  {
   "cell_type": "code",
   "execution_count": 233,
   "metadata": {},
   "outputs": [
    {
     "data": {
      "text/plain": [
       "76"
      ]
     },
     "execution_count": 233,
     "metadata": {},
     "output_type": "execute_result"
    }
   ],
   "source": [
    "int(pNColors[0]+1)"
   ]
  },
  {
   "cell_type": "code",
   "execution_count": null,
   "metadata": {},
   "outputs": [],
   "source": []
  }
 ],
 "metadata": {
  "kernelspec": {
   "display_name": "Python 3",
   "language": "python",
   "name": "python3"
  },
  "language_info": {
   "codemirror_mode": {
    "name": "ipython",
    "version": 3
   },
   "file_extension": ".py",
   "mimetype": "text/x-python",
   "name": "python",
   "nbconvert_exporter": "python",
   "pygments_lexer": "ipython3",
   "version": "3.7.3"
  }
 },
 "nbformat": 4,
 "nbformat_minor": 2
}
