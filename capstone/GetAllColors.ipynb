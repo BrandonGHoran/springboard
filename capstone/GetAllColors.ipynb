{
 "cells": [
  {
   "cell_type": "code",
   "execution_count": 6,
   "metadata": {},
   "outputs": [
    {
     "name": "stdout",
     "output_type": "stream",
     "text": [
      "(491517774, 3)\n"
     ]
    }
   ],
   "source": [
    "import glob\n",
    "from PIL import Image\n",
    "import numpy as np\n",
    "import pandas as pd\n",
    "\n",
    "def load_img(imfile):\n",
    "    img = Image.open(imfile)\n",
    "    img.load()\n",
    "    return np.asarray(img, dtype=\"int32\")\n",
    "\n",
    "#read files\n",
    "host_dir = \"kaggle/cell_images/\"\n",
    "uninfected = glob.glob(host_dir + \"Uninfected/*.png\")\n",
    "parasitized = glob.glob(host_dir + \"Parasitized/*.png\")\n",
    "\n",
    "#extend previous code to get the colors in each image\n",
    "pNColors = np.zeros(len(uninfected))\n",
    "uNColors = np.zeros(len(parasitized))\n",
    "\n",
    "i = load_img(parasitized[0])\n",
    "ishp = i.shape\n",
    "p_df = pd.DataFrame(i.reshape(ishp[0]*ishp[1],3)).drop_duplicates()\n",
    "i = load_img(uninfected[0])\n",
    "ishp = i.shape\n",
    "u_df = pd.DataFrame(i.reshape(ishp[0]*ishp[1],3)).drop_duplicates()\n",
    "\n",
    "pdfs = []\n",
    "udfs = []\n",
    "for dex, im in enumerate(parasitized):\n",
    "    i = load_img(im)\n",
    "    ishp = i.shape\n",
    "    df = pd.DataFrame(i.reshape(ishp[0]*ishp[1],3))#.drop_duplicates()\n",
    "    #p_df = pd.concat([p_df, df])\n",
    "    pdfs.append(df)\n",
    "    pNColors[dex] = len(df.index)#gets # of colors in image\n",
    "#pColors = p_df.drop_duplicates().to_numpy()\n",
    "\n",
    "for dex, im in enumerate(uninfected):\n",
    "    i = load_img(im)\n",
    "    ishp = i.shape\n",
    "    df = pd.DataFrame(i.reshape(ishp[0]*ishp[1],3))#.drop_duplicates()\n",
    "    #u_df = pd.concat([u_df, df])\n",
    "    udfs.append(df)\n",
    "    uNColors[dex] = len(df.index)#gets # of colors in image\n",
    "#uColors = u_df.drop_duplicate().to_numpy()\n",
    "#u_df = np.concatenate(([el.drop_duplicates().to_numpy() for el in udfs]))\n",
    "#p_df = np.concatenate(([el.drop_duplicates().to_numpy() for el in pdfs]))\n",
    "u_df = np.concatenate(([el.to_numpy() for el in udfs]))\n",
    "p_df = np.concatenate(([el.to_numpy() for el in pdfs]))\n",
    "allColors = np.concatenate(([u_df,p_df]))\n",
    "print(allColors.shape)"
   ]
  },
  {
   "cell_type": "code",
   "execution_count": null,
   "metadata": {},
   "outputs": [],
   "source": [
    "allColors = pd.DataFrame(allColors).drop_duplicates().to_numpy()\n",
    "print(allColors.shape)\n",
    "allColors = np.unique(allColors, axis=1)\n",
    "print(allColors.shape)"
   ]
  },
  {
   "cell_type": "code",
   "execution_count": 7,
   "metadata": {},
   "outputs": [
    {
     "data": {
      "text/plain": [
       "array([[    44877,     51096,     51169, ..., 491279971, 491374076,\n",
       "        491500992]])"
      ]
     },
     "execution_count": 7,
     "metadata": {},
     "output_type": "execute_result"
    }
   ],
   "source": [
    "cra = allColors[:,0]\n",
    "cga = allColors[:,1]\n",
    "cba = allColors[:,2]\n",
    "indices = np.where(cra==226)#gets just locatins of the red\n",
    "sublistColors = np.take(cga, indices)\n",
    "indices = np.take(indices, np.where(sublistColors[0]==176))#matches now both red and green\n",
    "sublistColors = np.take(cba, indices)\n",
    "indices"
   ]
  },
  {
   "cell_type": "code",
   "execution_count": 11,
   "metadata": {},
   "outputs": [
    {
     "data": {
      "text/plain": [
       "array([226, 176, 167], dtype=int32)"
      ]
     },
     "execution_count": 11,
     "metadata": {},
     "output_type": "execute_result"
    }
   ],
   "source": [
    "allColors[51169]"
   ]
  },
  {
   "cell_type": "code",
   "execution_count": 9,
   "metadata": {},
   "outputs": [],
   "source": [
    "dex = np.take(indices, np.where(sublistColors[0]==167))[0][0]#matches all 3 colors"
   ]
  },
  {
   "cell_type": "code",
   "execution_count": 10,
   "metadata": {},
   "outputs": [
    {
     "data": {
      "text/plain": [
       "51169"
      ]
     },
     "execution_count": 10,
     "metadata": {},
     "output_type": "execute_result"
    }
   ],
   "source": [
    "dex"
   ]
  },
  {
   "cell_type": "code",
   "execution_count": 12,
   "metadata": {},
   "outputs": [],
   "source": [
    "test = pd.DataFrame(allColors).drop_duplicates().to_numpy()"
   ]
  },
  {
   "cell_type": "code",
   "execution_count": 13,
   "metadata": {},
   "outputs": [
    {
     "data": {
      "text/plain": [
       "(366057, 3)"
      ]
     },
     "execution_count": 13,
     "metadata": {},
     "output_type": "execute_result"
    }
   ],
   "source": [
    "test.shape"
   ]
  },
  {
   "cell_type": "code",
   "execution_count": 16,
   "metadata": {},
   "outputs": [],
   "source": [
    "crat = test[:,0]\n",
    "cgat = test[:,1]\n",
    "cbat = test[:,2]\n",
    "indices = np.where(crat==226)#gets just locatins of the red\n",
    "sublistColors = np.take(cgat, indices)\n",
    "indices = np.take(indices, np.where(sublistColors[0]==176))#matches now both red and green\n",
    "sublistColors = np.take(cbat, indices)\n",
    "indices\n",
    "dex = np.take(indices, np.where(sublistColors[0]==167))[0][0]#matches all 3 colors"
   ]
  },
  {
   "cell_type": "code",
   "execution_count": 17,
   "metadata": {},
   "outputs": [
    {
     "data": {
      "text/plain": [
       "376"
      ]
     },
     "execution_count": 17,
     "metadata": {},
     "output_type": "execute_result"
    }
   ],
   "source": [
    "dex"
   ]
  },
  {
   "cell_type": "code",
   "execution_count": 18,
   "metadata": {},
   "outputs": [
    {
     "data": {
      "text/plain": [
       "array([226, 176, 167], dtype=int32)"
      ]
     },
     "execution_count": 18,
     "metadata": {},
     "output_type": "execute_result"
    }
   ],
   "source": [
    "test[376]"
   ]
  },
  {
   "cell_type": "code",
   "execution_count": 19,
   "metadata": {},
   "outputs": [],
   "source": [
    "np.save(host_dir + \"images_allColors.npy\", test)"
   ]
  },
  {
   "cell_type": "code",
   "execution_count": 20,
   "metadata": {},
   "outputs": [],
   "source": [
    "allColors = np.load(host_dir + \"images_allColors.npy\")"
   ]
  },
  {
   "cell_type": "code",
   "execution_count": 23,
   "metadata": {},
   "outputs": [
    {
     "data": {
      "text/plain": [
       "(366057, 3)"
      ]
     },
     "execution_count": 23,
     "metadata": {},
     "output_type": "execute_result"
    }
   ],
   "source": [
    "allColors.shape"
   ]
  },
  {
   "cell_type": "code",
   "execution_count": 24,
   "metadata": {},
   "outputs": [
    {
     "data": {
      "text/plain": [
       "array([226, 176, 167], dtype=int32)"
      ]
     },
     "execution_count": 24,
     "metadata": {},
     "output_type": "execute_result"
    }
   ],
   "source": [
    "allColors[376]"
   ]
  },
  {
   "cell_type": "code",
   "execution_count": null,
   "metadata": {},
   "outputs": [],
   "source": []
  }
 ],
 "metadata": {
  "kernelspec": {
   "display_name": "Python 3",
   "language": "python",
   "name": "python3"
  },
  "language_info": {
   "codemirror_mode": {
    "name": "ipython",
    "version": 3
   },
   "file_extension": ".py",
   "mimetype": "text/x-python",
   "name": "python",
   "nbconvert_exporter": "python",
   "pygments_lexer": "ipython3",
   "version": "3.7.3"
  }
 },
 "nbformat": 4,
 "nbformat_minor": 2
}
