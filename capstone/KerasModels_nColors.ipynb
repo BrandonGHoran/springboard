{
 "cells": [
  {
   "cell_type": "code",
   "execution_count": 1,
   "metadata": {},
   "outputs": [],
   "source": [
    "#let's take another run on keras"
   ]
  },
  {
   "cell_type": "code",
   "execution_count": 2,
   "metadata": {},
   "outputs": [
    {
     "name": "stderr",
     "output_type": "stream",
     "text": [
      "Using Theano backend.\n"
     ]
    }
   ],
   "source": [
    "from keras.models import Sequential\n",
    "from keras import layers\n"
   ]
  },
  {
   "cell_type": "code",
   "execution_count": 6,
   "metadata": {},
   "outputs": [],
   "source": [
    "import numpy as np\n",
    "from keras.callbacks import EarlyStopping"
   ]
  },
  {
   "cell_type": "code",
   "execution_count": 4,
   "metadata": {},
   "outputs": [],
   "source": [
    "host_dir = \"kaggle/cell_images/\"\n",
    "uninfected = np.loadtxt(host_dir + \"uninfected_nColors.txt\")\n",
    "parasitized = np.loadtxt(host_dir + \"parasitized_nColors.txt\")\n",
    "labels = np.concatenate([np.zeros(13779), np.ones(13779)])\n",
    "data = np.concatenate([uninfected, parasitized])\n",
    "\n",
    "from sklearn.model_selection import train_test_split\n",
    "\n",
    "x_train, x_test, y_train, y_test = train_test_split(data, labels, test_size=0.3, random_state=42)"
   ]
  },
  {
   "cell_type": "code",
   "execution_count": 24,
   "metadata": {},
   "outputs": [
    {
     "name": "stdout",
     "output_type": "stream",
     "text": [
      "_________________________________________________________________\n",
      "Layer (type)                 Output Shape              Param #   \n",
      "=================================================================\n",
      "dense_3 (Dense)              (None, 10)                20        \n",
      "_________________________________________________________________\n",
      "dense_4 (Dense)              (None, 2)                 22        \n",
      "=================================================================\n",
      "Total params: 42\n",
      "Trainable params: 42\n",
      "Non-trainable params: 0\n",
      "_________________________________________________________________\n"
     ]
    }
   ],
   "source": [
    "input_dim = 1  # Number of features\n",
    "\n",
    "model = Sequential()\n",
    "model.add(layers.Dense(10, input_dim=input_dim, activation='relu'))\n",
    "model.add(layers.Dense(2, activation='softmax'))\n",
    "model.compile(loss='binary_crossentropy', optimizer='adam', metrics=['accuracy'])\n",
    "model.summary()"
   ]
  },
  {
   "cell_type": "code",
   "execution_count": 23,
   "metadata": {},
   "outputs": [],
   "source": [
    "early_stopping_monitor = EarlyStopping(patience=5)"
   ]
  },
  {
   "cell_type": "code",
   "execution_count": 25,
   "metadata": {},
   "outputs": [
    {
     "name": "stderr",
     "output_type": "stream",
     "text": [
      "INFO (theano.gof.compilelock): Refreshing lock /home/brandon/.theano/compiledir_Linux-4.4--Microsoft-x86_64-with-debian-buster-sid-x86_64-3.7.3-64/lock_dir/lock\n"
     ]
    },
    {
     "name": "stdout",
     "output_type": "stream",
     "text": [
      "Train on 15432 samples, validate on 3858 samples\n",
      "Epoch 1/100\n",
      "15432/15432 [==============================] - 1s 83us/step - loss: 5.8523 - acc: 0.5356 - val_loss: 0.8333 - val_acc: 0.4964\n",
      "Epoch 2/100\n",
      "15432/15432 [==============================] - 1s 86us/step - loss: 0.7905 - acc: 0.6959 - val_loss: 0.5339 - val_acc: 0.7374\n",
      "Epoch 3/100\n",
      "15432/15432 [==============================] - 2s 98us/step - loss: 0.7750 - acc: 0.7129 - val_loss: 1.0248 - val_acc: 0.7460\n",
      "Epoch 4/100\n",
      "15432/15432 [==============================] - 1s 85us/step - loss: 0.7821 - acc: 0.7168 - val_loss: 0.5916 - val_acc: 0.6659\n",
      "Epoch 5/100\n",
      "15432/15432 [==============================] - 1s 88us/step - loss: 0.7615 - acc: 0.7168 - val_loss: 0.5719 - val_acc: 0.6882\n",
      "Epoch 6/100\n",
      "15432/15432 [==============================] - 1s 92us/step - loss: 0.7699 - acc: 0.7200 - val_loss: 0.5769 - val_acc: 0.6814\n",
      "Epoch 7/100\n",
      "15432/15432 [==============================] - 1s 89us/step - loss: 0.7511 - acc: 0.7221 - val_loss: 0.5807 - val_acc: 0.7862\n"
     ]
    },
    {
     "data": {
      "text/plain": [
       "<keras.callbacks.History at 0x7f61abb79e80>"
      ]
     },
     "execution_count": 25,
     "metadata": {},
     "output_type": "execute_result"
    }
   ],
   "source": [
    "model.fit(x_train, y_train, batch_size=10, validation_split=0.2, callbacks=[early_stopping_monitor], epochs=100)"
   ]
  },
  {
   "cell_type": "code",
   "execution_count": 9,
   "metadata": {},
   "outputs": [
    {
     "data": {
      "text/plain": [
       "array([1., 0., 0., ..., 0., 1., 1.])"
      ]
     },
     "execution_count": 9,
     "metadata": {},
     "output_type": "execute_result"
    }
   ],
   "source": [
    "y_train"
   ]
  },
  {
   "cell_type": "code",
   "execution_count": 18,
   "metadata": {},
   "outputs": [],
   "source": [
    "x_train, x_test, y_train, y_test = train_test_split(data, labels, test_size=0.3, random_state=42)\n",
    "y_train = np.column_stack((y_train, 1-y_train))\n",
    "y_test = np.column_stack((y_test, 1-y_test))"
   ]
  },
  {
   "cell_type": "code",
   "execution_count": 19,
   "metadata": {},
   "outputs": [
    {
     "data": {
      "text/plain": [
       "array([[1., 0.],\n",
       "       [0., 1.],\n",
       "       [0., 1.],\n",
       "       ...,\n",
       "       [0., 1.],\n",
       "       [1., 0.],\n",
       "       [1., 0.]])"
      ]
     },
     "execution_count": 19,
     "metadata": {},
     "output_type": "execute_result"
    }
   ],
   "source": [
    "y_train"
   ]
  },
  {
   "cell_type": "code",
   "execution_count": 20,
   "metadata": {},
   "outputs": [
    {
     "data": {
      "text/plain": [
       "array([2137.,  171.,  795., ...,  314., 1682., 2200.])"
      ]
     },
     "execution_count": 20,
     "metadata": {},
     "output_type": "execute_result"
    }
   ],
   "source": [
    "x_train"
   ]
  },
  {
   "cell_type": "code",
   "execution_count": 26,
   "metadata": {},
   "outputs": [
    {
     "name": "stderr",
     "output_type": "stream",
     "text": [
      "INFO (theano.gof.compilelock): Refreshing lock /home/brandon/.theano/compiledir_Linux-4.4--Microsoft-x86_64-with-debian-buster-sid-x86_64-3.7.3-64/lock_dir/lock\n"
     ]
    },
    {
     "name": "stdout",
     "output_type": "stream",
     "text": [
      "Train on 15432 samples, validate on 3858 samples\n",
      "Epoch 1/100\n",
      "15432/15432 [==============================] - 1s 88us/step - loss: 1.0305 - acc: 0.6406 - val_loss: 0.7706 - val_acc: 0.5399\n",
      "Epoch 2/100\n",
      "15432/15432 [==============================] - 1s 90us/step - loss: 0.8350 - acc: 0.7076 - val_loss: 1.7773 - val_acc: 0.6514\n",
      "Epoch 3/100\n",
      "15432/15432 [==============================] - 2s 102us/step - loss: 0.9984 - acc: 0.6995 - val_loss: 0.5722 - val_acc: 0.7644\n",
      "Epoch 4/100\n",
      "15432/15432 [==============================] - 1s 95us/step - loss: 0.8175 - acc: 0.7118 - val_loss: 1.0211 - val_acc: 0.7561\n",
      "Epoch 5/100\n",
      "15432/15432 [==============================] - 1s 96us/step - loss: 0.8237 - acc: 0.7105 - val_loss: 1.4743 - val_acc: 0.6998\n",
      "Epoch 6/100\n",
      "15432/15432 [==============================] - 1s 95us/step - loss: 0.8013 - acc: 0.7172 - val_loss: 0.5661 - val_acc: 0.7755\n",
      "Epoch 7/100\n",
      "15432/15432 [==============================] - 1s 91us/step - loss: 0.7135 - acc: 0.7205 - val_loss: 0.5479 - val_acc: 0.7250\n",
      "Epoch 8/100\n",
      "15432/15432 [==============================] - 1s 93us/step - loss: 0.7024 - acc: 0.7212 - val_loss: 0.6673 - val_acc: 0.8038\n",
      "Epoch 9/100\n",
      "15432/15432 [==============================] - 1s 83us/step - loss: 0.7134 - acc: 0.7187 - val_loss: 0.8681 - val_acc: 0.7628\n",
      "Epoch 10/100\n",
      "15432/15432 [==============================] - 1s 92us/step - loss: 0.6590 - acc: 0.7239 - val_loss: 0.5366 - val_acc: 0.7514\n",
      "Epoch 11/100\n",
      "15432/15432 [==============================] - 2s 99us/step - loss: 0.6274 - acc: 0.7319 - val_loss: 0.5354 - val_acc: 0.7551\n",
      "Epoch 12/100\n",
      "15432/15432 [==============================] - 1s 81us/step - loss: 0.6077 - acc: 0.7308 - val_loss: 0.5362 - val_acc: 0.7188\n",
      "Epoch 13/100\n",
      "15432/15432 [==============================] - 1s 95us/step - loss: 0.6266 - acc: 0.7321 - val_loss: 0.6037 - val_acc: 0.6327\n",
      "Epoch 14/100\n",
      "15432/15432 [==============================] - 1s 81us/step - loss: 0.5885 - acc: 0.7332 - val_loss: 0.5450 - val_acc: 0.6962\n",
      "Epoch 15/100\n",
      "15432/15432 [==============================] - 1s 78us/step - loss: 0.5846 - acc: 0.7332 - val_loss: 0.5532 - val_acc: 0.7981\n",
      "Epoch 16/100\n",
      "15432/15432 [==============================] - 1s 95us/step - loss: 0.5490 - acc: 0.7450 - val_loss: 0.6193 - val_acc: 0.6122\n"
     ]
    },
    {
     "data": {
      "text/plain": [
       "<keras.callbacks.History at 0x7f61acebcac8>"
      ]
     },
     "execution_count": 26,
     "metadata": {},
     "output_type": "execute_result"
    }
   ],
   "source": [
    "model = Sequential()\n",
    "model.add(layers.Dense(10, input_dim=input_dim, activation='relu'))\n",
    "model.add(layers.Dense(10, input_dim=input_dim, activation='relu'))\n",
    "model.add(layers.Dense(2, activation='softmax'))\n",
    "model.compile(loss='binary_crossentropy', optimizer='adam', metrics=['accuracy'])\n",
    "model.fit(x_train, y_train, batch_size=10, validation_split=0.2, callbacks=[early_stopping_monitor], epochs=100)"
   ]
  },
  {
   "cell_type": "code",
   "execution_count": 27,
   "metadata": {},
   "outputs": [
    {
     "name": "stdout",
     "output_type": "stream",
     "text": [
      "Train on 15432 samples, validate on 3858 samples\n",
      "Epoch 1/100\n",
      "15432/15432 [==============================] - 1s 95us/step - loss: 1.0134 - acc: 0.6453 - val_loss: 0.5305 - val_acc: 0.7525\n",
      "Epoch 2/100\n",
      "15432/15432 [==============================] - 2s 101us/step - loss: 0.8718 - acc: 0.7035 - val_loss: 0.8168 - val_acc: 0.7880\n",
      "Epoch 3/100\n",
      "15432/15432 [==============================] - 2s 97us/step - loss: 0.8913 - acc: 0.7039 - val_loss: 0.5619 - val_acc: 0.7102\n",
      "Epoch 4/100\n",
      "15432/15432 [==============================] - 2s 106us/step - loss: 0.7917 - acc: 0.7166 - val_loss: 1.1236 - val_acc: 0.7390\n",
      "Epoch 5/100\n",
      "15432/15432 [==============================] - 2s 101us/step - loss: 0.7618 - acc: 0.7171 - val_loss: 0.8429 - val_acc: 0.7732\n",
      "Epoch 6/100\n",
      "15432/15432 [==============================] - 2s 100us/step - loss: 0.6828 - acc: 0.7249 - val_loss: 0.9912 - val_acc: 0.7411\n"
     ]
    },
    {
     "data": {
      "text/plain": [
       "<keras.callbacks.History at 0x7f61a22ffdd8>"
      ]
     },
     "execution_count": 27,
     "metadata": {},
     "output_type": "execute_result"
    }
   ],
   "source": [
    "model = Sequential()\n",
    "model.add(layers.Dense(10, input_dim=input_dim, activation='relu'))\n",
    "model.add(layers.Dense(10, input_dim=input_dim, activation='relu'))\n",
    "model.add(layers.Dense(10, input_dim=input_dim, activation='relu'))\n",
    "model.add(layers.Dense(2, activation='softmax'))\n",
    "model.compile(loss='binary_crossentropy', optimizer='adam', metrics=['accuracy'])\n",
    "model.fit(x_train, y_train, batch_size=10, validation_split=0.2, callbacks=[early_stopping_monitor], epochs=100)"
   ]
  },
  {
   "cell_type": "code",
   "execution_count": 28,
   "metadata": {},
   "outputs": [
    {
     "name": "stdout",
     "output_type": "stream",
     "text": [
      "Train on 15432 samples, validate on 3858 samples\n",
      "Epoch 1/100\n",
      "15432/15432 [==============================] - 2s 103us/step - loss: 8.0120 - acc: 0.5002 - val_loss: 8.0774 - val_acc: 0.4961\n",
      "Epoch 2/100\n",
      "15432/15432 [==============================] - 2s 107us/step - loss: 8.0120 - acc: 0.5002 - val_loss: 8.0774 - val_acc: 0.4961\n",
      "Epoch 3/100\n",
      "15432/15432 [==============================] - 2s 106us/step - loss: 8.0120 - acc: 0.5002 - val_loss: 8.0774 - val_acc: 0.4961\n",
      "Epoch 4/100\n",
      "15432/15432 [==============================] - 2s 114us/step - loss: 8.0120 - acc: 0.5002 - val_loss: 8.0774 - val_acc: 0.4961\n",
      "Epoch 5/100\n",
      "15432/15432 [==============================] - 2s 106us/step - loss: 8.0120 - acc: 0.5002 - val_loss: 8.0774 - val_acc: 0.4961\n",
      "Epoch 6/100\n",
      "15432/15432 [==============================] - 2s 106us/step - loss: 8.0120 - acc: 0.5002 - val_loss: 8.0774 - val_acc: 0.4961\n"
     ]
    },
    {
     "data": {
      "text/plain": [
       "<keras.callbacks.History at 0x7f61a18ceef0>"
      ]
     },
     "execution_count": 28,
     "metadata": {},
     "output_type": "execute_result"
    }
   ],
   "source": [
    "model = Sequential()\n",
    "model.add(layers.Dense(10, input_dim=input_dim, activation='relu'))\n",
    "model.add(layers.Dense(10, input_dim=input_dim, activation='relu'))\n",
    "model.add(layers.Dense(10, input_dim=input_dim, activation='relu'))\n",
    "model.add(layers.Dense(10, input_dim=input_dim, activation='relu'))\n",
    "model.add(layers.Dense(2, activation='softmax'))\n",
    "model.compile(loss='binary_crossentropy', optimizer='adam', metrics=['accuracy'])\n",
    "model.fit(x_train, y_train, batch_size=10, validation_split=0.2, callbacks=[early_stopping_monitor], epochs=100)"
   ]
  },
  {
   "cell_type": "code",
   "execution_count": 29,
   "metadata": {},
   "outputs": [
    {
     "name": "stderr",
     "output_type": "stream",
     "text": [
      "INFO (theano.gof.compilelock): Refreshing lock /home/brandon/.theano/compiledir_Linux-4.4--Microsoft-x86_64-with-debian-buster-sid-x86_64-3.7.3-64/lock_dir/lock\n"
     ]
    },
    {
     "name": "stdout",
     "output_type": "stream",
     "text": [
      "Train on 15432 samples, validate on 3858 samples\n",
      "Epoch 1/100\n",
      "15432/15432 [==============================] - 1s 87us/step - loss: 8.0182 - acc: 0.4998 - val_loss: 7.9528 - val_acc: 0.5039\n",
      "Epoch 2/100\n",
      "15432/15432 [==============================] - 1s 92us/step - loss: 8.0182 - acc: 0.4998 - val_loss: 7.9528 - val_acc: 0.5039\n",
      "Epoch 3/100\n",
      "15432/15432 [==============================] - 1s 95us/step - loss: 8.0182 - acc: 0.4998 - val_loss: 7.9528 - val_acc: 0.5039\n",
      "Epoch 4/100\n",
      "15432/15432 [==============================] - 1s 94us/step - loss: 8.0182 - acc: 0.4998 - val_loss: 7.9528 - val_acc: 0.5039\n",
      "Epoch 5/100\n",
      "15432/15432 [==============================] - 2s 97us/step - loss: 8.0182 - acc: 0.4998 - val_loss: 7.9528 - val_acc: 0.5039\n",
      "Epoch 6/100\n",
      "15432/15432 [==============================] - 1s 95us/step - loss: 8.0182 - acc: 0.4998 - val_loss: 7.9528 - val_acc: 0.5039\n"
     ]
    },
    {
     "data": {
      "text/plain": [
       "<keras.callbacks.History at 0x7f61a1160f60>"
      ]
     },
     "execution_count": 29,
     "metadata": {},
     "output_type": "execute_result"
    }
   ],
   "source": [
    "model = Sequential()\n",
    "model.add(layers.Dense(100, input_dim=input_dim, activation='relu'))\n",
    "model.add(layers.Dense(2, activation='softmax'))\n",
    "model.compile(loss='binary_crossentropy', optimizer='adam', metrics=['accuracy'])\n",
    "model.fit(x_train, y_train, batch_size=10, validation_split=0.2, callbacks=[early_stopping_monitor], epochs=100)"
   ]
  },
  {
   "cell_type": "code",
   "execution_count": 30,
   "metadata": {},
   "outputs": [
    {
     "name": "stdout",
     "output_type": "stream",
     "text": [
      "Train on 15432 samples, validate on 3858 samples\n",
      "Epoch 1/100\n",
      "15432/15432 [==============================] - 3s 225us/step - loss: 8.0120 - acc: 0.5002 - val_loss: 8.0774 - val_acc: 0.4961\n",
      "Epoch 2/100\n",
      "15432/15432 [==============================] - 4s 247us/step - loss: 8.0120 - acc: 0.5002 - val_loss: 8.0774 - val_acc: 0.4961\n",
      "Epoch 3/100\n",
      "15432/15432 [==============================] - 4s 257us/step - loss: 8.0120 - acc: 0.5002 - val_loss: 8.0774 - val_acc: 0.4961\n",
      "Epoch 4/100\n",
      "15432/15432 [==============================] - 4s 241us/step - loss: 8.0120 - acc: 0.5002 - val_loss: 8.0774 - val_acc: 0.4961\n",
      "Epoch 5/100\n",
      "15432/15432 [==============================] - 4s 241us/step - loss: 8.0120 - acc: 0.5002 - val_loss: 8.0774 - val_acc: 0.4961\n",
      "Epoch 6/100\n",
      "15432/15432 [==============================] - 4s 247us/step - loss: 8.0120 - acc: 0.5002 - val_loss: 8.0774 - val_acc: 0.4961\n"
     ]
    },
    {
     "data": {
      "text/plain": [
       "<keras.callbacks.History at 0x7f61a082b0b8>"
      ]
     },
     "execution_count": 30,
     "metadata": {},
     "output_type": "execute_result"
    }
   ],
   "source": [
    "model = Sequential()\n",
    "model.add(layers.Dense(100, input_dim=input_dim, activation='relu'))\n",
    "model.add(layers.Dense(100, input_dim=input_dim, activation='relu'))\n",
    "model.add(layers.Dense(100, input_dim=input_dim, activation='relu'))\n",
    "model.add(layers.Dense(2, activation='softmax'))\n",
    "model.compile(loss='binary_crossentropy', optimizer='adam', metrics=['accuracy'])\n",
    "model.fit(x_train, y_train, batch_size=10, validation_split=0.2, callbacks=[early_stopping_monitor], epochs=100)"
   ]
  },
  {
   "cell_type": "code",
   "execution_count": 32,
   "metadata": {},
   "outputs": [
    {
     "name": "stdout",
     "output_type": "stream",
     "text": [
      "Train on 15432 samples, validate on 3858 samples\n",
      "Epoch 1/100\n",
      "15432/15432 [==============================] - 7s 446us/step - loss: 8.0079 - acc: 0.4999 - val_loss: 8.0774 - val_acc: 0.4961\n",
      "Epoch 2/100\n",
      "15432/15432 [==============================] - 8s 507us/step - loss: 8.0120 - acc: 0.5002 - val_loss: 8.0774 - val_acc: 0.4961\n",
      "Epoch 3/100\n",
      "15432/15432 [==============================] - 8s 494us/step - loss: 8.0120 - acc: 0.5002 - val_loss: 8.0774 - val_acc: 0.4961\n",
      "Epoch 4/100\n",
      "15432/15432 [==============================] - 8s 529us/step - loss: 8.0120 - acc: 0.5002 - val_loss: 8.0774 - val_acc: 0.4961\n",
      "Epoch 5/100\n",
      "15432/15432 [==============================] - 8s 529us/step - loss: 8.0120 - acc: 0.5002 - val_loss: 8.0774 - val_acc: 0.4961\n",
      "Epoch 6/100\n",
      "15432/15432 [==============================] - 8s 523us/step - loss: 8.0120 - acc: 0.5002 - val_loss: 8.0774 - val_acc: 0.4961\n"
     ]
    },
    {
     "data": {
      "text/plain": [
       "<keras.callbacks.History at 0x7f619e1caef0>"
      ]
     },
     "execution_count": 32,
     "metadata": {},
     "output_type": "execute_result"
    }
   ],
   "source": [
    "model = Sequential()\n",
    "model.add(layers.Dense(100, input_dim=input_dim, activation='relu'))\n",
    "model.add(layers.Dense(100, input_dim=input_dim, activation='relu'))\n",
    "model.add(layers.Dense(100, input_dim=input_dim, activation='relu'))\n",
    "model.add(layers.Dense(2, activation='softmax'))\n",
    "model.compile(loss='binary_crossentropy', optimizer='adam', metrics=['accuracy'])\n",
    "model.fit(x_train, y_train, batch_size=5, validation_split=0.2, callbacks=[early_stopping_monitor], epochs=100)"
   ]
  },
  {
   "cell_type": "code",
   "execution_count": null,
   "metadata": {},
   "outputs": [],
   "source": []
  }
 ],
 "metadata": {
  "kernelspec": {
   "display_name": "Python 3",
   "language": "python",
   "name": "python3"
  },
  "language_info": {
   "codemirror_mode": {
    "name": "ipython",
    "version": 3
   },
   "file_extension": ".py",
   "mimetype": "text/x-python",
   "name": "python",
   "nbconvert_exporter": "python",
   "pygments_lexer": "ipython3",
   "version": "3.7.3"
  }
 },
 "nbformat": 4,
 "nbformat_minor": 2
}
