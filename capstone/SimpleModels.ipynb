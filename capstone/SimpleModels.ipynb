{
 "cells": [
  {
   "cell_type": "code",
   "execution_count": 1,
   "metadata": {},
   "outputs": [
    {
     "name": "stderr",
     "output_type": "stream",
     "text": [
      "Using TensorFlow backend.\n"
     ]
    }
   ],
   "source": [
    "import keras\n",
    "from keras.layers import Dense\n",
    "from keras.models import Sequential\n",
    "import glob\n",
    "from PIL import Image\n",
    "import numpy as np\n",
    "import pandas as pd\n",
    "\n",
    "def load_img(imfile):\n",
    "    img = Image.open(imfile)\n",
    "    img.load()\n",
    "    return np.asarray(img, dtype=\"int32\")\n",
    "\n",
    "#read files\n",
    "host_dir = \"kaggle/cell_images/\"\n",
    "uninfected = glob.glob(host_dir + \"Uninfected/*.png\")\n",
    "parasitized = glob.glob(host_dir + \"Parasitized/*.png\")\n",
    "\n",
    "#load images into np arrays\n",
    "uDat = np.load(host_dir + \"uninfected_vectorized_rgbList.npy\")\n",
    "pDat = np.load(host_dir + \"parasitized_vectorized_rgbList.npy\")"
   ]
  },
  {
   "cell_type": "code",
   "execution_count": 3,
   "metadata": {},
   "outputs": [],
   "source": [
    "#extend previous code to get the colors in each image\n",
    "pNColors = np.zeros(len(uninfected))\n",
    "uNColors = np.zeros(len(parasitized))\n",
    "\n",
    "i = load_img(parasitized[0])\n",
    "ishp = i.shape\n",
    "p_df = pd.DataFrame(i.reshape(ishp[0]*ishp[1],3)).drop_duplicates()\n",
    "i = load_img(uninfected[0])\n",
    "ishp = i.shape\n",
    "u_df = pd.DataFrame(i.reshape(ishp[0]*ishp[1],3)).drop_duplicates()\n",
    "\n",
    "pdfs = []\n",
    "udfs = []\n",
    "for dex, im in enumerate(parasitized):\n",
    "    i = load_img(im)\n",
    "    ishp = i.shape\n",
    "    df = pd.DataFrame(i.reshape(ishp[0]*ishp[1],3)).drop_duplicates()\n",
    "    #p_df = pd.concat([p_df, df])\n",
    "    pdfs.append(df)\n",
    "    pNColors[dex] = len(df.index)#gets # of colors in image\n",
    "#pColors = p_df.drop_duplicates().to_numpy()\n",
    "\n",
    "for dex, im in enumerate(uninfected):\n",
    "    i = load_img(im)\n",
    "    ishp = i.shape\n",
    "    df = pd.DataFrame(i.reshape(ishp[0]*ishp[1],3)).drop_duplicates()\n",
    "    #u_df = pd.concat([u_df, df])\n",
    "    udfs.append(df)\n",
    "    uNColors[dex] = len(df.index)#gets # of colors in image\n",
    "#uColors = u_df.drop_duplicate().to_numpy()"
   ]
  },
  {
   "cell_type": "code",
   "execution_count": 4,
   "metadata": {},
   "outputs": [],
   "source": [
    "u_df = np.concatenate(([el.drop_duplicates().to_numpy() for el in udfs]))\n",
    "p_df = np.concatenate(([el.drop_duplicates().to_numpy() for el in pdfs]))"
   ]
  },
  {
   "cell_type": "code",
   "execution_count": 5,
   "metadata": {},
   "outputs": [
    {
     "data": {
      "text/plain": [
       "(9860877, 3)"
      ]
     },
     "execution_count": 5,
     "metadata": {},
     "output_type": "execute_result"
    }
   ],
   "source": [
    "u_df.shape"
   ]
  },
  {
   "cell_type": "code",
   "execution_count": 6,
   "metadata": {},
   "outputs": [
    {
     "data": {
      "text/plain": [
       "(21025570, 3)"
      ]
     },
     "execution_count": 6,
     "metadata": {},
     "output_type": "execute_result"
    }
   ],
   "source": [
    "p_df.shape"
   ]
  },
  {
   "cell_type": "code",
   "execution_count": 10,
   "metadata": {},
   "outputs": [
    {
     "name": "stdout",
     "output_type": "stream",
     "text": [
      "(30886447, 3)\n",
      "(366057, 3)\n",
      "(366057, 3)\n"
     ]
    }
   ],
   "source": [
    "allColors = np.concatenate(([u_df,p_df]))\n",
    "print(allColors.shape)\n",
    "allColors = pd.DataFrame(allColors).drop_duplicates().to_numpy()\n",
    "print(allColors.shape)\n",
    "allColors = np.unique(allColors, axis=1)\n",
    "print(allColors.shape)"
   ]
  },
  {
   "cell_type": "code",
   "execution_count": 3,
   "metadata": {},
   "outputs": [],
   "source": [
    "#define a simple model\n",
    "#ok..maybe not so simple\n",
    "#one way I don't have to repixelate the images is to use features which\n",
    "#are the fraction of pixels in the image which are a given color\n",
    "#the input layer can be all of the possible colors which are found in\n",
    "#all of the images\n",
    "model1 = Sequential()"
   ]
  },
  {
   "cell_type": "code",
   "execution_count": 11,
   "metadata": {},
   "outputs": [],
   "source": [
    "np.save(host_dir + \"images_allColors.npy\", allColors)"
   ]
  },
  {
   "cell_type": "code",
   "execution_count": 3,
   "metadata": {},
   "outputs": [],
   "source": [
    "allColors = np.load(host_dir + \"images_allColors.npy\")"
   ]
  },
  {
   "cell_type": "code",
   "execution_count": 4,
   "metadata": {},
   "outputs": [
    {
     "data": {
      "text/plain": [
       "array([[  0,   0,   0],\n",
       "       [157, 173, 220],\n",
       "       [158, 174, 221],\n",
       "       ...,\n",
       "       [123,   6, 169],\n",
       "       [110,   0, 160],\n",
       "       [115,   0, 163]], dtype=int32)"
      ]
     },
     "execution_count": 4,
     "metadata": {},
     "output_type": "execute_result"
    }
   ],
   "source": [
    "allColors"
   ]
  },
  {
   "cell_type": "code",
   "execution_count": 5,
   "metadata": {},
   "outputs": [],
   "source": [
    "#let's try and cluster the colors\n",
    "from sklearn.cluster import KMeans, DBSCAN, MeanShift"
   ]
  },
  {
   "cell_type": "code",
   "execution_count": 46,
   "metadata": {},
   "outputs": [],
   "source": [
    "fit = DBSCAN(eps=1.5, min_samples = 5).fit(allColors)"
   ]
  },
  {
   "cell_type": "code",
   "execution_count": 22,
   "metadata": {},
   "outputs": [],
   "source": [
    "import find_clusters_lib"
   ]
  },
  {
   "cell_type": "code",
   "execution_count": 26,
   "metadata": {},
   "outputs": [],
   "source": [
    "#np.savetxt(host_dir + \"images_allColors.txt\", allColors, delimiter=\" \")\n",
    "#find_clusters_lib.run(host_dir + \"images_allColors.txt\", graph_name = \n",
    "#                      \"colorClusters.png\", labels_name = \"colorClusters.dat\",\n",
    "#                     print_verbose = True, hpc_name = \"colors_hpc.dat\")"
   ]
  },
  {
   "cell_type": "code",
   "execution_count": 54,
   "metadata": {},
   "outputs": [],
   "source": [
    "#fit = MeanShift(bandwidth=10000000).fit(allColors)"
   ]
  },
  {
   "cell_type": "code",
   "execution_count": 6,
   "metadata": {},
   "outputs": [],
   "source": [
    "fit = KMeans(n_clusters = 10).fit(allColors)"
   ]
  },
  {
   "cell_type": "code",
   "execution_count": 7,
   "metadata": {},
   "outputs": [
    {
     "data": {
      "text/plain": [
       "3    44286\n",
       "0    44070\n",
       "9    36387\n",
       "4    36329\n",
       "6    35424\n",
       "8    35114\n",
       "5    34320\n",
       "2    33923\n",
       "1    33918\n",
       "7    32286\n",
       "dtype: int64"
      ]
     },
     "execution_count": 7,
     "metadata": {},
     "output_type": "execute_result"
    }
   ],
   "source": [
    "pd.Index(fit.labels_).value_counts()"
   ]
  },
  {
   "cell_type": "code",
   "execution_count": 8,
   "metadata": {},
   "outputs": [
    {
     "data": {
      "text/plain": [
       "array([[138.97469647, 105.91412686, 187.87557018],\n",
       "       [109.37396122,  75.2708493 , 153.29539695],\n",
       "       [134.05252138,  35.20510174, 166.39365969],\n",
       "       [178.22746674, 147.23767474, 161.7615574 ],\n",
       "       [188.82852264, 190.00586648, 209.52726672],\n",
       "       [ 91.75032786,  22.73045202, 124.26450616],\n",
       "       [150.56483337, 107.44710331, 122.30174676],\n",
       "       [171.88394985,  78.5591085 , 154.77542176],\n",
       "       [159.522045  , 148.03383651, 210.33494731],\n",
       "       [147.89919222,  42.89034509, 109.24623585]])"
      ]
     },
     "execution_count": 8,
     "metadata": {},
     "output_type": "execute_result"
    }
   ],
   "source": [
    "fit.cluster_centers_"
   ]
  },
  {
   "cell_type": "code",
   "execution_count": 12,
   "metadata": {},
   "outputs": [
    {
     "name": "stdout",
     "output_type": "stream",
     "text": [
      "\u001b[48;2;138;105;187m          \u001b[0m\n",
      "\u001b[48;2;109;75;153m          \u001b[0m\n",
      "\u001b[48;2;134;35;166m          \u001b[0m\n",
      "\u001b[48;2;178;147;161m          \u001b[0m\n",
      "\u001b[48;2;188;190;209m          \u001b[0m\n",
      "\u001b[48;2;91;22;124m          \u001b[0m\n",
      "\u001b[48;2;150;107;122m          \u001b[0m\n",
      "\u001b[48;2;171;78;154m          \u001b[0m\n",
      "\u001b[48;2;159;148;210m          \u001b[0m\n",
      "\u001b[48;2;147;42;109m          \u001b[0m\n"
     ]
    }
   ],
   "source": [
    "from colr import color\n",
    "s = \"\"\"          \"\"\"#dummy block\n",
    "for c in fit.cluster_centers_:\n",
    "    print(color(s, back=(c[0], c[1], c[2])))"
   ]
  },
  {
   "cell_type": "code",
   "execution_count": 11,
   "metadata": {},
   "outputs": [
    {
     "data": {
      "text/plain": [
       "array([138.97469647, 105.91412686, 187.87557018])"
      ]
     },
     "execution_count": 11,
     "metadata": {},
     "output_type": "execute_result"
    }
   ],
   "source": [
    "fit.cluster_centers_[0]"
   ]
  },
  {
   "cell_type": "code",
   "execution_count": 13,
   "metadata": {},
   "outputs": [],
   "source": [
    "fit20 = KMeans(n_clusters = 20).fit(allColors)"
   ]
  },
  {
   "cell_type": "code",
   "execution_count": 30,
   "metadata": {},
   "outputs": [],
   "source": [
    "#takes a np array and prints the colors\n",
    "def printColors(fit):\n",
    "    from colr import color\n",
    "    s = \"\"\"          \"\"\"#dummy block\n",
    "    string = \"\"\n",
    "    for i, c in enumerate(fit):\n",
    "        string += color(s, back=(c[0], c[1], c[2]))\n",
    "        #print(color(s, back=(c[0], c[1], c[2])))\n",
    "        if (i+1)%5==0:\n",
    "            string += \"\\n\"\n",
    "    print(string)\n",
    "def printColor(c):\n",
    "    s = \"\"\"          \"\"\"#dummy block\n",
    "    print(color(s, back=(c[0], c[1], c[2])))"
   ]
  },
  {
   "cell_type": "code",
   "execution_count": 31,
   "metadata": {},
   "outputs": [
    {
     "name": "stdout",
     "output_type": "stream",
     "text": [
      "13    22139\n",
      "1     21435\n",
      "6     20305\n",
      "10    20101\n",
      "2     20036\n",
      "14    19791\n",
      "11    19546\n",
      "5     19002\n",
      "12    18809\n",
      "8     18517\n",
      "0     18404\n",
      "3     18339\n",
      "19    18192\n",
      "17    18162\n",
      "7     18152\n",
      "15    17220\n",
      "9     17082\n",
      "18    16483\n",
      "4     14894\n",
      "16     9448\n",
      "dtype: int64\n",
      "\u001b[48;2;147;33;99m          \u001b[0m\u001b[48;2;162;149;214m          \u001b[0m\u001b[48;2;114;92;170m          \u001b[0m\u001b[48;2;130;23;157m          \u001b[0m\u001b[48;2;176;183;232m          \u001b[0m\n",
      "\u001b[48;2;104;18;127m          \u001b[0m\u001b[48;2;162;50;136m          \u001b[0m\u001b[48;2;173;139;137m          \u001b[0m\u001b[48;2;157;93;110m          \u001b[0m\u001b[48;2;94;50;155m          \u001b[0m\n",
      "\u001b[48;2;174;87;156m          \u001b[0m\u001b[48;2;141;58;182m          \u001b[0m\u001b[48;2;136;138;184m          \u001b[0m\u001b[48;2;184;169;175m          \u001b[0m\u001b[48;2;151;102;201m          \u001b[0m\n",
      "\u001b[48;2;184;127;176m          \u001b[0m\u001b[48;2;71;19;105m          \u001b[0m\u001b[48;2;117;72;122m          \u001b[0m\u001b[48;2;196;198;201m          \u001b[0m\u001b[48;2;138;114;144m          \u001b[0m\n",
      "\n"
     ]
    }
   ],
   "source": [
    "print(pd.Index(fit20.labels_).value_counts())\n",
    "printColors(fit20.cluster_centers_)"
   ]
  },
  {
   "cell_type": "code",
   "execution_count": 29,
   "metadata": {},
   "outputs": [
    {
     "name": "stdout",
     "output_type": "stream",
     "text": [
      "\u001b[48;2;162;149;214m          \u001b[0m\n"
     ]
    }
   ],
   "source": [
    "printColor(fit20.cluster_centers_[1])"
   ]
  },
  {
   "cell_type": "code",
   "execution_count": 33,
   "metadata": {},
   "outputs": [
    {
     "name": "stderr",
     "output_type": "stream",
     "text": [
      "/home/brandon/anaconda3/lib/python3.7/site-packages/matplotlib/font_manager.py:1241: UserWarning: findfont: Font family ['sans-serif'] not found. Falling back to DejaVu Sans.\n",
      "  (prop.get_family(), self.defaultFamily[fontext]))\n"
     ]
    },
    {
     "data": {
      "image/png": "[encoded data removed]",
      "text/plain": [
       "<Figure size 432x288 with 2 Axes>"
      ]
     },
     "metadata": {},
     "output_type": "display_data"
    }
   ],
   "source": [
    "from yellowbrick.cluster import KElbowVisualizer\n",
    "\n",
    "# Instantiate the clustering model and visualizer\n",
    "model = KMeans()\n",
    "visualizer = KElbowVisualizer(model, k=(4,12))\n",
    "\n",
    "visualizer.fit(allColors)    # Fit the data to the visualizer\n",
    "visualizer.poof()    # Draw/show/poof the data\n"
   ]
  },
  {
   "cell_type": "code",
   "execution_count": 35,
   "metadata": {},
   "outputs": [],
   "source": [
    "# Instantiate the clustering model and visualizer\n",
    "#model = KMeans()\n",
    "#visualizer = KElbowVisualizer(model, k=(2,50))#\n",
    "#\n",
    "#visualizer.fit(allColors)    # Fit the data to the visualizer\n",
    "#visualizer.poof()    # Draw/show/poof the data\n"
   ]
  },
  {
   "cell_type": "code",
   "execution_count": 238,
   "metadata": {},
   "outputs": [
    {
     "name": "stdout",
     "output_type": "stream",
     "text": [
      "20\n",
      "25\n",
      "30\n",
      "35\n",
      "40\n",
      "45\n",
      "50\n"
     ]
    },
    {
     "data": {
      "image/png": "[encoded data removed]",
      "text/plain": [
       "<Figure size 432x288 with 1 Axes>"
      ]
     },
     "metadata": {
      "needs_background": "light"
     },
     "output_type": "display_data"
    }
   ],
   "source": [
    "#import matplotlib.pyplot as plot\n",
    "moreks=[20,25,30,35,40,45,50]\n",
    "for k in moreks:\n",
    "    print(k)\n",
    "    ks.append(k)\n",
    "    f = KMeans(n_clusters = k).fit(allColors)\n",
    "    fits.append(f)\n",
    "    ss.append(f.inertia_)\n",
    "plt.plot(ks,ss)\n",
    "plt.show()"
   ]
  },
  {
   "cell_type": "code",
   "execution_count": 224,
   "metadata": {},
   "outputs": [],
   "source": [
    "import matplotlib.pyplot as plt\n",
    "ks = []\n",
    "ss = []\n",
    "fits = []"
   ]
  },
  {
   "cell_type": "code",
   "execution_count": 236,
   "metadata": {},
   "outputs": [
    {
     "data": {
      "image/png": "[encoded data removed]",
      "text/plain": [
       "<Figure size 432x288 with 1 Axes>"
      ]
     },
     "metadata": {
      "needs_background": "light"
     },
     "output_type": "display_data"
    }
   ],
   "source": [
    "k = 12\n",
    "ks.append(k)\n",
    "f = KMeans(n_clusters = k).fit(allColors)\n",
    "fits.append(f)\n",
    "ss.append(f.inertia_)\n",
    "plt.plot(ks,ss)\n",
    "plt.show()"
   ]
  },
  {
   "cell_type": "code",
   "execution_count": 237,
   "metadata": {},
   "outputs": [
    {
     "name": "stdout",
     "output_type": "stream",
     "text": [
      "13\n",
      "14\n",
      "15\n",
      "16\n",
      "17\n",
      "18\n",
      "19\n"
     ]
    },
    {
     "data": {
      "image/png": "[encoded data removed]",
      "text/plain": [
       "<Figure size 432x288 with 1 Axes>"
      ]
     },
     "metadata": {
      "needs_background": "light"
     },
     "output_type": "display_data"
    }
   ],
   "source": [
    "for k in range(13, 20):\n",
    "    ks.append(k)\n",
    "    print(k)\n",
    "    f = KMeans(n_clusters = k).fit(allColors)\n",
    "    fits.append(f)\n",
    "    ss.append(f.inertia_)\n",
    "plt.plot(ks,ss)\n",
    "plt.show()"
   ]
  },
  {
   "cell_type": "code",
   "execution_count": 61,
   "metadata": {},
   "outputs": [
    {
     "data": {
      "image/png": "[encoded data removed]",
      "text/plain": [
       "<Figure size 432x288 with 1 Axes>"
      ]
     },
     "metadata": {
      "needs_background": "light"
     },
     "output_type": "display_data"
    }
   ],
   "source": [
    "plt.plot(ks,ss)\n",
    "plt.show()"
   ]
  },
  {
   "cell_type": "code",
   "execution_count": 239,
   "metadata": {},
   "outputs": [
    {
     "data": {
      "text/plain": [
       "[1,\n",
       " 2,\n",
       " 3,\n",
       " 4,\n",
       " 5,\n",
       " 6,\n",
       " 7,\n",
       " 8,\n",
       " 9,\n",
       " 10,\n",
       " 11,\n",
       " 12,\n",
       " 13,\n",
       " 14,\n",
       " 15,\n",
       " 16,\n",
       " 17,\n",
       " 18,\n",
       " 19,\n",
       " 20,\n",
       " 25,\n",
       " 30,\n",
       " 35,\n",
       " 40,\n",
       " 45,\n",
       " 50]"
      ]
     },
     "execution_count": 239,
     "metadata": {},
     "output_type": "execute_result"
    }
   ],
   "source": [
    "ks"
   ]
  },
  {
   "cell_type": "code",
   "execution_count": 83,
   "metadata": {},
   "outputs": [],
   "source": [
    "#Ok, so my simple models will be based on the clusters of colors detected\n",
    "#Features will be fraction of pixels which are each color in each image\n",
    "#Then I will try a few separate models:\n",
    "#Logistic Regression (simple binary classification) I will vary the number of colors included by the total number of pixels\n",
    "#in all of the images which are that clustered color\n",
    "#\n",
    "#Decision Tree/Random Forest/Boosing (simple binary classification)\n",
    "#\n",
    "#A Neural Network which takes as input the fraction of each clustered color. Maybe a few different architectures.\n",
    "#\n",
    "#Also try autosklearn on this model\n",
    "#\n",
    "#And autokeras if I can\n",
    "#\n",
    "#Then do the fancier model\n",
    "#\n",
    "#The LIME interpretation for image classification seems really nice and I would like to try and use that.\n",
    "#\n",
    "#Should try skopt to optimize hyperparameters\n",
    "#\n",
    "#I think I would like to try using computer vision to draw an outline around the part of the image which is the parasite"
   ]
  },
  {
   "cell_type": "code",
   "execution_count": 84,
   "metadata": {},
   "outputs": [],
   "source": [
    "#I should probably try a few different clustering of the colors since it isn't compeltely clear how many colors I should\n",
    "#choose"
   ]
  },
  {
   "cell_type": "code",
   "execution_count": 248,
   "metadata": {},
   "outputs": [],
   "source": [
    "for fit in fits:\n",
    "    np.savetxt(host_dir + str(len(fit.cluster_centers_)) + \"colorClusters.txt\",fit.cluster_centers_)"
   ]
  },
  {
   "cell_type": "code",
   "execution_count": 249,
   "metadata": {},
   "outputs": [],
   "source": [
    "for fit in fits:\n",
    "    np.savetxt(host_dir + str(len(fit.cluster_centers_)) + \"colorClusterLabels.txt\",fit.labels_)"
   ]
  },
  {
   "cell_type": "code",
   "execution_count": 93,
   "metadata": {},
   "outputs": [],
   "source": [
    "#So, the first step is to create a DataFrame where I have extracted my features"
   ]
  },
  {
   "cell_type": "code",
   "execution_count": 291,
   "metadata": {},
   "outputs": [],
   "source": [
    "def dex_np_arr(arr, refArr):\n",
    "    #let's just do 2d arrays for now....\n",
    "    #and let's just do it exactly like I need\n",
    "    for i, el in enumerate(arr):\n",
    "        if np.array_equal(el,refArr):\n",
    "            return i\n",
    "    return -1\n",
    "\n",
    "def load_img(imfile):\n",
    "    img = Image.open(imfile)\n",
    "    img.load()\n",
    "    return np.asarray(img, dtype=\"int32\")\n",
    "\n",
    "def dex_color(R,G,B,cR,cG,cB):\n",
    "    print(\"args=\" + str(R) + \",\" + str(G) + \",\" + str(B))\n",
    "    indices = np.where(cR==R)#gets just locatins of the red\n",
    "    sublistColors = np.take(cG, indices)\n",
    "    indices = np.take(indices, np.where(sublistColors[0]==G))#matches now both red and green\n",
    "    sublistColors = np.take(cB, indices)\n",
    "    dex = np.take(indices, np.where(sublistColors[0]==B))[0][0]#matches all 3 colors\n",
    "    return dex\n",
    "\n",
    "def colorFrac(image, colors, cR, cG, cB, cL):\n",
    "    \n",
    "    #first label the colors according to \n",
    "    \n",
    "    #fractions of each color\n",
    "    fracs = np.zeros(len(colors))\n",
    "    print(image.shape)\n",
    "    \n",
    "    for i in range(0, len(image)):\n",
    "        for j in range(0, len(image[0])):\n",
    "    #        #color of this pixel\n",
    "            R = image[i][j][0]\n",
    "            G = image[i][j][1]\n",
    "            B = image[i][j][2]\n",
    "            \n",
    "            print(\"i,j=\" + str(i) + \",\" + str(j) + \", color=\" + str(R) + \",\" + str(G) + \",\" + str(B))\n",
    "            \n",
    "            #indices = np.where(cR==R)#gets just locatins of the red\n",
    "            #sublistColors = np.take(cG, indices)\n",
    "            #indices = np.take(indices, np.where(sublistColors[0]==G))#matches now both red and green\n",
    "            #sublistColors = np.take(cB, indices)\n",
    "            #dex = np.take(indices, np.where(sublistColors[0]==B))[0][0]#matches all 3 colors\n",
    "            \n",
    "            #for some reason it's not working here, so I made a function which also does the job\n",
    "            dex = dex_color(R,G,B,cR,cG,cB)\n",
    "            \n",
    "            label = int(cL[dex])\n",
    "            fracs[label] += 1\n",
    "            \n",
    "    #        \n",
    "    #        #label of this color\n",
    "    #        dex = dex_np_arr(colors==labels[:, :3], color)#finds the index associated with this color\n",
    "    #        label = int(labels[dex, 3])\n",
    "    #        color_CG = labels[dex,:3]\n",
    "    #       fracs[label] += 1 #adds to the count for this image\n",
    "    \n",
    "    #np.where(array1==0, 1, array1)\n",
    "    \n",
    "            \n",
    "    fracs/=(len(image)*len(image[0]))\n",
    "    return fracs\n",
    "\n",
    "\n",
    "#reads data into a dataframe for k clusters\n",
    "def getData_colorClusters(k):\n",
    "    \n",
    "    #read image files\n",
    "    host_dir = \"kaggle/cell_images/\"\n",
    "    uninfected = glob.glob(host_dir + \"Uninfected/*.png\")\n",
    "    parasitized = glob.glob(host_dir + \"Parasitized/*.png\")\n",
    "    \n",
    "    #read cluster info\n",
    "    cluster_centers_ = np.loadtxt(host_dir + str(k) + \"colorClusters.txt\")#the color associated with this cluster\n",
    "    color_labels = np.loadtxt(host_dir + str(k) + \"colorClusterLabels.txt\")#the labels for each color in this clustering\n",
    "    color_labels.view('f8,f8,f8,f8').sort(order=['f1'], axis=0) #sorts the colors\n",
    "    cR = color_labels[:,0]\n",
    "    cG = color_labels[:,1]\n",
    "    cB = color_labels[:,2]\n",
    "    cL = color_labels[:,3]\n",
    "    \n",
    "    #convert images to vectors with clustered colors\n",
    "    data = np.zeros(shape=(len(uninfected)+len(parasitized),k+1))\n",
    "    c = 0\n",
    "    \n",
    "    for dex, im in enumerate(parasitized):\n",
    "        i = load_img(im)\n",
    "        data[c] = colorFrac(i, cluster_centers, color_labels)\n",
    "        c+=1\n",
    "    for dex, im in enumerate(uninfected):\n",
    "        i = load_img(im)\n",
    "        data[c] = colorFrac(i, cluster_centers, color_labels)\n",
    "        c+=1\n",
    "    \n",
    "    return data"
   ]
  },
  {
   "cell_type": "code",
   "execution_count": 261,
   "metadata": {},
   "outputs": [],
   "source": [
    "host_dir = \"kaggle/cell_images/\"\n",
    "uninfected = glob.glob(host_dir + \"Uninfected/*.png\")\n",
    "parasitized = glob.glob(host_dir + \"Parasitized/*.png\")\n",
    "cluster_centers_ = np.loadtxt(host_dir + str(1) + \"colorClusters.txt\")#the color associated with this cluster\n",
    "color_labels = np.loadtxt(host_dir + str(1) + \"colorClusterLabels.txt\")#the labels for each color in this clu"
   ]
  },
  {
   "cell_type": "code",
   "execution_count": 292,
   "metadata": {},
   "outputs": [
    {
     "name": "stdout",
     "output_type": "stream",
     "text": [
      "(148, 142, 3)\n",
      "i,j=0,0, color=0,0,0\n",
      "args=0,0,0\n",
      "i,j=0,1, color=0,0,0\n",
      "args=0,0,0\n",
      "i,j=0,2, color=0,0,0\n",
      "args=0,0,0\n",
      "i,j=0,3, color=0,0,0\n",
      "args=0,0,0\n",
      "i,j=0,4, color=0,0,0\n",
      "args=0,0,0\n",
      "i,j=0,5, color=0,0,0\n",
      "args=0,0,0\n",
      "i,j=0,6, color=0,0,0\n",
      "args=0,0,0\n",
      "i,j=0,7, color=0,0,0\n",
      "args=0,0,0\n",
      "i,j=0,8, color=0,0,0\n",
      "args=0,0,0\n",
      "i,j=0,9, color=0,0,0\n",
      "args=0,0,0\n",
      "i,j=0,10, color=0,0,0\n",
      "args=0,0,0\n",
      "i,j=0,11, color=0,0,0\n",
      "args=0,0,0\n",
      "i,j=0,12, color=0,0,0\n",
      "args=0,0,0\n",
      "i,j=0,13, color=0,0,0\n",
      "args=0,0,0\n",
      "i,j=0,14, color=0,0,0\n",
      "args=0,0,0\n",
      "i,j=0,15, color=0,0,0\n",
      "args=0,0,0\n",
      "i,j=0,16, color=0,0,0\n",
      "args=0,0,0\n",
      "i,j=0,17, color=0,0,0\n",
      "args=0,0,0\n",
      "i,j=0,18, color=0,0,0\n",
      "args=0,0,0\n",
      "i,j=0,19, color=0,0,0\n",
      "args=0,0,0\n",
      "i,j=0,20, color=0,0,0\n",
      "args=0,0,0\n",
      "i,j=0,21, color=0,0,0\n",
      "args=0,0,0\n",
      "i,j=0,22, color=0,0,0\n",
      "args=0,0,0\n",
      "i,j=0,23, color=0,0,0\n",
      "args=0,0,0\n",
      "i,j=0,24, color=0,0,0\n",
      "args=0,0,0\n",
      "i,j=0,25, color=0,0,0\n",
      "args=0,0,0\n",
      "i,j=0,26, color=0,0,0\n",
      "args=0,0,0\n",
      "i,j=0,27, color=0,0,0\n",
      "args=0,0,0\n",
      "i,j=0,28, color=0,0,0\n",
      "args=0,0,0\n",
      "i,j=0,29, color=0,0,0\n",
      "args=0,0,0\n",
      "i,j=0,30, color=0,0,0\n",
      "args=0,0,0\n",
      "i,j=0,31, color=0,0,0\n",
      "args=0,0,0\n",
      "i,j=0,32, color=0,0,0\n",
      "args=0,0,0\n",
      "i,j=0,33, color=0,0,0\n",
      "args=0,0,0\n",
      "i,j=0,34, color=0,0,0\n",
      "args=0,0,0\n",
      "i,j=0,35, color=0,0,0\n",
      "args=0,0,0\n",
      "i,j=0,36, color=0,0,0\n",
      "args=0,0,0\n",
      "i,j=0,37, color=0,0,0\n",
      "args=0,0,0\n",
      "i,j=0,38, color=0,0,0\n",
      "args=0,0,0\n",
      "i,j=0,39, color=0,0,0\n",
      "args=0,0,0\n",
      "i,j=0,40, color=0,0,0\n",
      "args=0,0,0\n",
      "i,j=0,41, color=0,0,0\n",
      "args=0,0,0\n",
      "i,j=0,42, color=0,0,0\n",
      "args=0,0,0\n",
      "i,j=0,43, color=0,0,0\n",
      "args=0,0,0\n",
      "i,j=0,44, color=0,0,0\n",
      "args=0,0,0\n",
      "i,j=0,45, color=0,0,0\n",
      "args=0,0,0\n",
      "i,j=0,46, color=0,0,0\n",
      "args=0,0,0\n",
      "i,j=0,47, color=0,0,0\n",
      "args=0,0,0\n",
      "i,j=0,48, color=0,0,0\n",
      "args=0,0,0\n",
      "i,j=0,49, color=0,0,0\n",
      "args=0,0,0\n",
      "i,j=0,50, color=0,0,0\n",
      "args=0,0,0\n",
      "i,j=0,51, color=0,0,0\n",
      "args=0,0,0\n",
      "i,j=0,52, color=0,0,0\n",
      "args=0,0,0\n",
      "i,j=0,53, color=0,0,0\n",
      "args=0,0,0\n",
      "i,j=0,54, color=0,0,0\n",
      "args=0,0,0\n",
      "i,j=0,55, color=0,0,0\n",
      "args=0,0,0\n",
      "i,j=0,56, color=0,0,0\n",
      "args=0,0,0\n",
      "i,j=0,57, color=0,0,0\n",
      "args=0,0,0\n",
      "i,j=0,58, color=0,0,0\n",
      "args=0,0,0\n",
      "i,j=0,59, color=0,0,0\n",
      "args=0,0,0\n",
      "i,j=0,60, color=0,0,0\n",
      "args=0,0,0\n",
      "i,j=0,61, color=0,0,0\n",
      "args=0,0,0\n",
      "i,j=0,62, color=0,0,0\n",
      "args=0,0,0\n",
      "i,j=0,63, color=0,0,0\n",
      "args=0,0,0\n",
      "i,j=0,64, color=0,0,0\n",
      "args=0,0,0\n",
      "i,j=0,65, color=0,0,0\n",
      "args=0,0,0\n",
      "i,j=0,66, color=0,0,0\n",
      "args=0,0,0\n",
      "i,j=0,67, color=0,0,0\n",
      "args=0,0,0\n",
      "i,j=0,68, color=0,0,0\n",
      "args=0,0,0\n",
      "i,j=0,69, color=0,0,0\n",
      "args=0,0,0\n",
      "i,j=0,70, color=0,0,0\n",
      "args=0,0,0\n",
      "i,j=0,71, color=0,0,0\n",
      "args=0,0,0\n",
      "i,j=0,72, color=0,0,0\n",
      "args=0,0,0\n",
      "i,j=0,73, color=0,0,0\n",
      "args=0,0,0\n",
      "i,j=0,74, color=0,0,0\n",
      "args=0,0,0\n",
      "i,j=0,75, color=0,0,0\n",
      "args=0,0,0\n",
      "i,j=0,76, color=0,0,0\n",
      "args=0,0,0\n",
      "i,j=0,77, color=0,0,0\n",
      "args=0,0,0\n",
      "i,j=0,78, color=0,0,0\n",
      "args=0,0,0\n",
      "i,j=0,79, color=0,0,0\n",
      "args=0,0,0\n",
      "i,j=0,80, color=0,0,0\n",
      "args=0,0,0\n",
      "i,j=0,81, color=0,0,0\n",
      "args=0,0,0\n",
      "i,j=0,82, color=0,0,0\n",
      "args=0,0,0\n",
      "i,j=0,83, color=0,0,0\n",
      "args=0,0,0\n",
      "i,j=0,84, color=226,176,167\n",
      "args=226,176,167\n"
     ]
    },
    {
     "ename": "IndexError",
     "evalue": "index 0 is out of bounds for axis 0 with size 0",
     "output_type": "error",
     "traceback": [
      "\u001b[0;31m---------------------------------------------------------------------------\u001b[0m",
      "\u001b[0;31mIndexError\u001b[0m                                Traceback (most recent call last)",
      "\u001b[0;32m<ipython-input-292-cc49502509a8>\u001b[0m in \u001b[0;36m<module>\u001b[0;34m\u001b[0m\n\u001b[0;32m----> 1\u001b[0;31m \u001b[0mfracs\u001b[0m \u001b[0;34m=\u001b[0m \u001b[0mcolorFrac\u001b[0m\u001b[0;34m(\u001b[0m\u001b[0mload_img\u001b[0m\u001b[0;34m(\u001b[0m\u001b[0mparasitized\u001b[0m\u001b[0;34m[\u001b[0m\u001b[0;36m0\u001b[0m\u001b[0;34m]\u001b[0m\u001b[0;34m)\u001b[0m\u001b[0;34m,\u001b[0m\u001b[0mcluster_centers_\u001b[0m\u001b[0;34m,\u001b[0m \u001b[0mcR\u001b[0m\u001b[0;34m,\u001b[0m \u001b[0mcG\u001b[0m\u001b[0;34m,\u001b[0m \u001b[0mcL\u001b[0m\u001b[0;34m,\u001b[0m \u001b[0mcB\u001b[0m\u001b[0;34m)\u001b[0m\u001b[0;34m\u001b[0m\u001b[0;34m\u001b[0m\u001b[0m\n\u001b[0m\u001b[1;32m      2\u001b[0m \u001b[0mprint\u001b[0m\u001b[0;34m(\u001b[0m\u001b[0mfracs\u001b[0m\u001b[0;34m)\u001b[0m\u001b[0;34m\u001b[0m\u001b[0;34m\u001b[0m\u001b[0m\n\u001b[1;32m      3\u001b[0m \u001b[0mprint\u001b[0m\u001b[0;34m(\u001b[0m\u001b[0mfracs\u001b[0m\u001b[0;34m.\u001b[0m\u001b[0mshape\u001b[0m\u001b[0;34m)\u001b[0m\u001b[0;34m\u001b[0m\u001b[0;34m\u001b[0m\u001b[0m\n",
      "\u001b[0;32m<ipython-input-291-b70a1ca2d231>\u001b[0m in \u001b[0;36mcolorFrac\u001b[0;34m(image, colors, cR, cG, cB, cL)\u001b[0m\n\u001b[1;32m     45\u001b[0m \u001b[0;34m\u001b[0m\u001b[0m\n\u001b[1;32m     46\u001b[0m             \u001b[0;31m#for some reason it's not working here, so I made a function which also does the job\u001b[0m\u001b[0;34m\u001b[0m\u001b[0;34m\u001b[0m\u001b[0;34m\u001b[0m\u001b[0m\n\u001b[0;32m---> 47\u001b[0;31m             \u001b[0mdex\u001b[0m \u001b[0;34m=\u001b[0m \u001b[0mdex_color\u001b[0m\u001b[0;34m(\u001b[0m\u001b[0mR\u001b[0m\u001b[0;34m,\u001b[0m\u001b[0mG\u001b[0m\u001b[0;34m,\u001b[0m\u001b[0mB\u001b[0m\u001b[0;34m,\u001b[0m\u001b[0mcR\u001b[0m\u001b[0;34m,\u001b[0m\u001b[0mcG\u001b[0m\u001b[0;34m,\u001b[0m\u001b[0mcB\u001b[0m\u001b[0;34m)\u001b[0m\u001b[0;34m\u001b[0m\u001b[0;34m\u001b[0m\u001b[0m\n\u001b[0m\u001b[1;32m     48\u001b[0m \u001b[0;34m\u001b[0m\u001b[0m\n\u001b[1;32m     49\u001b[0m             \u001b[0mlabel\u001b[0m \u001b[0;34m=\u001b[0m \u001b[0mint\u001b[0m\u001b[0;34m(\u001b[0m\u001b[0mcL\u001b[0m\u001b[0;34m[\u001b[0m\u001b[0mdex\u001b[0m\u001b[0;34m]\u001b[0m\u001b[0;34m)\u001b[0m\u001b[0;34m\u001b[0m\u001b[0;34m\u001b[0m\u001b[0m\n",
      "\u001b[0;32m<ipython-input-291-b70a1ca2d231>\u001b[0m in \u001b[0;36mdex_color\u001b[0;34m(R, G, B, cR, cG, cB)\u001b[0m\n\u001b[1;32m     18\u001b[0m     \u001b[0mindices\u001b[0m \u001b[0;34m=\u001b[0m \u001b[0mnp\u001b[0m\u001b[0;34m.\u001b[0m\u001b[0mtake\u001b[0m\u001b[0;34m(\u001b[0m\u001b[0mindices\u001b[0m\u001b[0;34m,\u001b[0m \u001b[0mnp\u001b[0m\u001b[0;34m.\u001b[0m\u001b[0mwhere\u001b[0m\u001b[0;34m(\u001b[0m\u001b[0msublistColors\u001b[0m\u001b[0;34m[\u001b[0m\u001b[0;36m0\u001b[0m\u001b[0;34m]\u001b[0m\u001b[0;34m==\u001b[0m\u001b[0mG\u001b[0m\u001b[0;34m)\u001b[0m\u001b[0;34m)\u001b[0m\u001b[0;31m#matches now both red and green\u001b[0m\u001b[0;34m\u001b[0m\u001b[0;34m\u001b[0m\u001b[0m\n\u001b[1;32m     19\u001b[0m     \u001b[0msublistColors\u001b[0m \u001b[0;34m=\u001b[0m \u001b[0mnp\u001b[0m\u001b[0;34m.\u001b[0m\u001b[0mtake\u001b[0m\u001b[0;34m(\u001b[0m\u001b[0mcB\u001b[0m\u001b[0;34m,\u001b[0m \u001b[0mindices\u001b[0m\u001b[0;34m)\u001b[0m\u001b[0;34m\u001b[0m\u001b[0;34m\u001b[0m\u001b[0m\n\u001b[0;32m---> 20\u001b[0;31m     \u001b[0mdex\u001b[0m \u001b[0;34m=\u001b[0m \u001b[0mnp\u001b[0m\u001b[0;34m.\u001b[0m\u001b[0mtake\u001b[0m\u001b[0;34m(\u001b[0m\u001b[0mindices\u001b[0m\u001b[0;34m,\u001b[0m \u001b[0mnp\u001b[0m\u001b[0;34m.\u001b[0m\u001b[0mwhere\u001b[0m\u001b[0;34m(\u001b[0m\u001b[0msublistColors\u001b[0m\u001b[0;34m[\u001b[0m\u001b[0;36m0\u001b[0m\u001b[0;34m]\u001b[0m\u001b[0;34m==\u001b[0m\u001b[0mB\u001b[0m\u001b[0;34m)\u001b[0m\u001b[0;34m)\u001b[0m\u001b[0;34m[\u001b[0m\u001b[0;36m0\u001b[0m\u001b[0;34m]\u001b[0m\u001b[0;34m[\u001b[0m\u001b[0;36m0\u001b[0m\u001b[0;34m]\u001b[0m\u001b[0;31m#matches all 3 colors\u001b[0m\u001b[0;34m\u001b[0m\u001b[0;34m\u001b[0m\u001b[0m\n\u001b[0m\u001b[1;32m     21\u001b[0m     \u001b[0;32mreturn\u001b[0m \u001b[0mdex\u001b[0m\u001b[0;34m\u001b[0m\u001b[0;34m\u001b[0m\u001b[0m\n\u001b[1;32m     22\u001b[0m \u001b[0;34m\u001b[0m\u001b[0m\n",
      "\u001b[0;31mIndexError\u001b[0m: index 0 is out of bounds for axis 0 with size 0"
     ]
    }
   ],
   "source": [
    "fracs = colorFrac(load_img(parasitized[0]),cluster_centers_, cR, cG, cL, cB)\n",
    "print(fracs)\n",
    "print(fracs.shape)"
   ]
  },
  {
   "cell_type": "code",
   "execution_count": null,
   "metadata": {},
   "outputs": [],
   "source": [
    "#defines a logistic regression model with k clusters of colors\n",
    "def logisticModel(k):\n",
    "    from sklearn.linear_model import LogisticRegression\n",
    "    "
   ]
  },
  {
   "cell_type": "code",
   "execution_count": 252,
   "metadata": {},
   "outputs": [],
   "source": [
    "df = pd.DataFrame(allColors)"
   ]
  },
  {
   "cell_type": "code",
   "execution_count": 254,
   "metadata": {},
   "outputs": [],
   "source": [
    "df[['labels']] = pd.DataFrame(fit.labels_)"
   ]
  },
  {
   "cell_type": "code",
   "execution_count": 257,
   "metadata": {},
   "outputs": [
    {
     "data": {
      "text/plain": [
       "0         226\n",
       "1         176\n",
       "2         167\n",
       "labels     34\n",
       "Name: 376, dtype: int32"
      ]
     },
     "execution_count": 257,
     "metadata": {},
     "output_type": "execute_result"
    }
   ],
   "source": [
    "df.iloc[376]"
   ]
  },
  {
   "cell_type": "code",
   "execution_count": 258,
   "metadata": {},
   "outputs": [],
   "source": [
    "for fit in fits:\n",
    "    df = pd.DataFrame(allColors)\n",
    "    df[['labels']] = pd.DataFrame(fit.labels_)\n",
    "    np.savetxt(host_dir + str(len(fit.cluster_centers_)) + \"colorClusterLabels.txt\",df.to_numpy())"
   ]
  },
  {
   "cell_type": "code",
   "execution_count": 134,
   "metadata": {},
   "outputs": [],
   "source": [
    "color_labels.view('f8,f8,f8,f8').sort(order=['f1'], axis=0)"
   ]
  },
  {
   "cell_type": "code",
   "execution_count": 118,
   "metadata": {},
   "outputs": [
    {
     "data": {
      "text/plain": [
       "array([[  0.,   0.,   0.,   0.],\n",
       "       [157., 173., 220.,   0.],\n",
       "       [158., 174., 221.,   0.],\n",
       "       ...,\n",
       "       [123.,   6., 169.,   0.],\n",
       "       [110.,   0., 160.,   0.],\n",
       "       [115.,   0., 163.,   0.]])"
      ]
     },
     "execution_count": 118,
     "metadata": {},
     "output_type": "execute_result"
    }
   ],
   "source": [
    "color_labels"
   ]
  },
  {
   "cell_type": "code",
   "execution_count": 136,
   "metadata": {
    "scrolled": true
   },
   "outputs": [
    {
     "data": {
      "text/plain": [
       "array([[  0.,   0.,   0.,   0.],\n",
       "       [ 13.,   0., 123.,   0.],\n",
       "       [ 15.,   0., 108.,   0.],\n",
       "       ...,\n",
       "       [211., 238., 235.,   0.],\n",
       "       [214., 241., 238.,   0.],\n",
       "       [212., 244., 243.,   0.]])"
      ]
     },
     "execution_count": 136,
     "metadata": {},
     "output_type": "execute_result"
    }
   ],
   "source": [
    "color_labels"
   ]
  },
  {
   "cell_type": "markdown",
   "metadata": {},
   "source": [
    "color_labels = np.loadtxt(host_dir + str(1) + \"colorClusterLabels.txt\")#the labels for each color in this clu"
   ]
  },
  {
   "cell_type": "code",
   "execution_count": 122,
   "metadata": {},
   "outputs": [
    {
     "data": {
      "text/plain": [
       "(366057, 4)"
      ]
     },
     "execution_count": 122,
     "metadata": {},
     "output_type": "execute_result"
    }
   ],
   "source": [
    "color_labels.shape"
   ]
  },
  {
   "cell_type": "code",
   "execution_count": 131,
   "metadata": {},
   "outputs": [
    {
     "data": {
      "text/plain": [
       "numpy.float64"
      ]
     },
     "execution_count": 131,
     "metadata": {},
     "output_type": "execute_result"
    }
   ],
   "source": [
    "type(color_labels[0][0])"
   ]
  },
  {
   "cell_type": "code",
   "execution_count": 269,
   "metadata": {},
   "outputs": [],
   "source": [
    "    cR = color_labels[:,0]\n",
    "    cG = color_labels[:,1]\n",
    "    cB = color_labels[:,2]\n",
    "    cL = color_labels[:,3]"
   ]
  },
  {
   "cell_type": "code",
   "execution_count": 138,
   "metadata": {},
   "outputs": [
    {
     "data": {
      "text/plain": [
       "array([  0.,  13.,  15., ..., 211., 214., 212.])"
      ]
     },
     "execution_count": 138,
     "metadata": {},
     "output_type": "execute_result"
    }
   ],
   "source": [
    "cR"
   ]
  },
  {
   "cell_type": "code",
   "execution_count": 154,
   "metadata": {},
   "outputs": [
    {
     "data": {
      "text/plain": [
       "(array([ 17584,  19079,  22198, ..., 361881, 362726, 362727]),)"
      ]
     },
     "execution_count": 154,
     "metadata": {},
     "output_type": "execute_result"
    }
   ],
   "source": [
    "np.where(cR==170)"
   ]
  },
  {
   "cell_type": "code",
   "execution_count": 156,
   "metadata": {},
   "outputs": [],
   "source": [
    "sublistColors = np.take(cG, indices)"
   ]
  },
  {
   "cell_type": "code",
   "execution_count": 145,
   "metadata": {},
   "outputs": [
    {
     "data": {
      "text/plain": [
       "3977"
      ]
     },
     "execution_count": 145,
     "metadata": {},
     "output_type": "execute_result"
    }
   ],
   "source": [
    "len(indices[0])"
   ]
  },
  {
   "cell_type": "code",
   "execution_count": 148,
   "metadata": {},
   "outputs": [
    {
     "data": {
      "text/plain": [
       "3977"
      ]
     },
     "execution_count": 148,
     "metadata": {},
     "output_type": "execute_result"
    }
   ],
   "source": [
    "len(i2[0])"
   ]
  },
  {
   "cell_type": "code",
   "execution_count": 151,
   "metadata": {},
   "outputs": [
    {
     "data": {
      "text/plain": [
       "13.0"
      ]
     },
     "execution_count": 151,
     "metadata": {},
     "output_type": "execute_result"
    }
   ],
   "source": [
    "cG[17584]"
   ]
  },
  {
   "cell_type": "code",
   "execution_count": 152,
   "metadata": {},
   "outputs": [
    {
     "data": {
      "text/plain": [
       "170.0"
      ]
     },
     "execution_count": 152,
     "metadata": {},
     "output_type": "execute_result"
    }
   ],
   "source": [
    "cR[17584]"
   ]
  },
  {
   "cell_type": "code",
   "execution_count": 155,
   "metadata": {},
   "outputs": [
    {
     "data": {
      "text/plain": [
       "(array([ 17584,  19079,  22198, ..., 361881, 362726, 362727]),)"
      ]
     },
     "execution_count": 155,
     "metadata": {},
     "output_type": "execute_result"
    }
   ],
   "source": [
    "indices"
   ]
  },
  {
   "cell_type": "code",
   "execution_count": 157,
   "metadata": {},
   "outputs": [
    {
     "data": {
      "text/plain": [
       "array([[ 13.,  14.,  16., ..., 210., 212., 212.]])"
      ]
     },
     "execution_count": 157,
     "metadata": {},
     "output_type": "execute_result"
    }
   ],
   "source": [
    "sublistColors"
   ]
  },
  {
   "cell_type": "code",
   "execution_count": 159,
   "metadata": {},
   "outputs": [
    {
     "data": {
      "text/plain": [
       "(array([2890, 2891, 2892, 2893, 2894, 2895, 2896, 2897, 2898, 2899, 2900,\n",
       "        2901, 2902, 2903, 2904, 2905, 2906, 2907, 2908, 2909, 2910, 2911,\n",
       "        2912, 2913]),)"
      ]
     },
     "execution_count": 159,
     "metadata": {},
     "output_type": "execute_result"
    }
   ],
   "source": [
    "np.where(sublistColors[0]==150)"
   ]
  },
  {
   "cell_type": "code",
   "execution_count": 173,
   "metadata": {},
   "outputs": [],
   "source": [
    "indices = np.take(indices, np.where(sublistColors[0]==150))"
   ]
  },
  {
   "cell_type": "code",
   "execution_count": 174,
   "metadata": {},
   "outputs": [
    {
     "data": {
      "text/plain": [
       "array([[293989, 293990, 293991, 293992, 293993, 293994, 293995, 293996,\n",
       "        293997, 293998, 293999, 294000, 294001, 294002, 294003, 294004,\n",
       "        294005, 294006, 294007, 294008, 294009, 294010, 294011, 294012]])"
      ]
     },
     "execution_count": 174,
     "metadata": {},
     "output_type": "execute_result"
    }
   ],
   "source": [
    "indices"
   ]
  },
  {
   "cell_type": "code",
   "execution_count": 167,
   "metadata": {},
   "outputs": [
    {
     "data": {
      "text/plain": [
       "150.0"
      ]
     },
     "execution_count": 167,
     "metadata": {},
     "output_type": "execute_result"
    }
   ],
   "source": [
    "cG[293989]"
   ]
  },
  {
   "cell_type": "code",
   "execution_count": 172,
   "metadata": {},
   "outputs": [
    {
     "data": {
      "text/plain": [
       "145.0"
      ]
     },
     "execution_count": 172,
     "metadata": {},
     "output_type": "execute_result"
    }
   ],
   "source": [
    "cB[293991]"
   ]
  },
  {
   "cell_type": "code",
   "execution_count": 180,
   "metadata": {},
   "outputs": [
    {
     "data": {
      "text/plain": [
       "293991"
      ]
     },
     "execution_count": 180,
     "metadata": {},
     "output_type": "execute_result"
    }
   ],
   "source": [
    "np.take(indices, np.where(sublistColors[0]==145))[0][0]"
   ]
  },
  {
   "cell_type": "code",
   "execution_count": 176,
   "metadata": {},
   "outputs": [],
   "source": [
    "sublistColors = np.take(cB, indices)"
   ]
  },
  {
   "cell_type": "code",
   "execution_count": 186,
   "metadata": {},
   "outputs": [],
   "source": [
    "i = load_img(parasitized[0])\n",
    "ishp = i.shape\n",
    "df = pd.DataFrame(i.reshape(ishp[0]*ishp[1],3)).drop_duplicates()"
   ]
  },
  {
   "cell_type": "code",
   "execution_count": 210,
   "metadata": {},
   "outputs": [],
   "source": [
    "#df"
   ]
  },
  {
   "cell_type": "code",
   "execution_count": 189,
   "metadata": {},
   "outputs": [],
   "source": []
  },
  {
   "cell_type": "code",
   "execution_count": 197,
   "metadata": {},
   "outputs": [
    {
     "data": {
      "text/plain": [
       "array([[ 26,   0, 104],\n",
       "       [ 13,   0,  12],\n",
       "       [ 24,   0,  14],\n",
       "       ...,\n",
       "       [231, 232, 255],\n",
       "       [246, 236, 255],\n",
       "       [242, 227, 255]], dtype=int32)"
      ]
     },
     "execution_count": 197,
     "metadata": {},
     "output_type": "execute_result"
    }
   ],
   "source": [
    "allColors"
   ]
  },
  {
   "cell_type": "code",
   "execution_count": 199,
   "metadata": {},
   "outputs": [
    {
     "name": "stderr",
     "output_type": "stream",
     "text": [
      "/home/brandon/anaconda3/lib/python3.7/site-packages/ipykernel_launcher.py:1: DeprecationWarning: Changing the shape of an F-contiguous array by descriptor assignment is deprecated. To maintain the Fortran contiguity of a multidimensional Fortran array, use 'a.T.view(...).T' instead\n",
      "  \"\"\"Entry point for launching an IPython kernel.\n"
     ]
    }
   ],
   "source": [
    "allColors.view('i4,i4,i4').sort(order=['f1'], axis=0) #sorts the colors"
   ]
  },
  {
   "cell_type": "code",
   "execution_count": 198,
   "metadata": {},
   "outputs": [
    {
     "data": {
      "text/plain": [
       "array([[ 26,   0, 104],\n",
       "       [ 13,   0,  12],\n",
       "       [ 24,   0,  14],\n",
       "       ...,\n",
       "       [231, 232, 255],\n",
       "       [246, 236, 255],\n",
       "       [242, 227, 255]], dtype=int32)"
      ]
     },
     "execution_count": 198,
     "metadata": {},
     "output_type": "execute_result"
    }
   ],
   "source": [
    "allColors"
   ]
  },
  {
   "cell_type": "code",
   "execution_count": 201,
   "metadata": {},
   "outputs": [],
   "source": [
    "cra = allColors[:,0]\n",
    "cga = allColors[:,1]\n",
    "cba = allColors[:,2]"
   ]
  },
  {
   "cell_type": "code",
   "execution_count": 205,
   "metadata": {},
   "outputs": [],
   "source": [
    "#color=226,176,167   \n",
    "indices = np.where(cra==226)#gets just locatins of the red\n",
    "sublistColors = np.take(cga, indices)"
   ]
  },
  {
   "cell_type": "code",
   "execution_count": 208,
   "metadata": {},
   "outputs": [],
   "source": [
    "indices = np.take(indices, np.where(sublistColors[0]==176))#matches now both red and green\n",
    "sublistColors = np.take(cba, indices)"
   ]
  },
  {
   "cell_type": "code",
   "execution_count": 209,
   "metadata": {},
   "outputs": [
    {
     "data": {
      "text/plain": [
       "array([], shape=(1, 0), dtype=int64)"
      ]
     },
     "execution_count": 209,
     "metadata": {},
     "output_type": "execute_result"
    }
   ],
   "source": [
    "indices"
   ]
  },
  {
   "cell_type": "code",
   "execution_count": 211,
   "metadata": {},
   "outputs": [
    {
     "data": {
      "text/plain": [
       "(366057, 3)"
      ]
     },
     "execution_count": 211,
     "metadata": {},
     "output_type": "execute_result"
    }
   ],
   "source": [
    "allColors.shape"
   ]
  },
  {
   "cell_type": "code",
   "execution_count": 222,
   "metadata": {},
   "outputs": [],
   "source": [
    "allColors = np.load(host_dir + \"images_allColors.npy\")"
   ]
  },
  {
   "cell_type": "code",
   "execution_count": 250,
   "metadata": {},
   "outputs": [
    {
     "data": {
      "text/plain": [
       "array([226, 176, 167], dtype=int32)"
      ]
     },
     "execution_count": 250,
     "metadata": {},
     "output_type": "execute_result"
    }
   ],
   "source": [
    "allColors[376]"
   ]
  },
  {
   "cell_type": "code",
   "execution_count": 244,
   "metadata": {},
   "outputs": [
    {
     "data": {
      "text/plain": [
       "KMeans(algorithm='auto', copy_x=True, init='k-means++', max_iter=300,\n",
       "    n_clusters=1, n_init=10, n_jobs=None, precompute_distances='auto',\n",
       "    random_state=None, tol=0.0001, verbose=0)"
      ]
     },
     "execution_count": 244,
     "metadata": {},
     "output_type": "execute_result"
    }
   ],
   "source": [
    "fits[0]"
   ]
  },
  {
   "cell_type": "code",
   "execution_count": 245,
   "metadata": {},
   "outputs": [
    {
     "data": {
      "text/plain": [
       "array([0, 0, 0, ..., 0, 0, 0], dtype=int32)"
      ]
     },
     "execution_count": 245,
     "metadata": {},
     "output_type": "execute_result"
    }
   ],
   "source": [
    "fits[0].labels_"
   ]
  },
  {
   "cell_type": "code",
   "execution_count": 247,
   "metadata": {},
   "outputs": [
    {
     "data": {
      "text/plain": [
       "array([[160.77312823,  97.57314298, 147.92538047]])"
      ]
     },
     "execution_count": 247,
     "metadata": {},
     "output_type": "execute_result"
    }
   ],
   "source": [
    "fits[0].cluster_centers_"
   ]
  },
  {
   "cell_type": "code",
   "execution_count": 251,
   "metadata": {},
   "outputs": [
    {
     "data": {
      "text/plain": [
       "array([[  0,   0,   0],\n",
       "       [220, 173, 157],\n",
       "       [221, 174, 158],\n",
       "       ...,\n",
       "       [169,   6, 123],\n",
       "       [160,   0, 110],\n",
       "       [163,   0, 115]], dtype=int32)"
      ]
     },
     "execution_count": 251,
     "metadata": {},
     "output_type": "execute_result"
    }
   ],
   "source": [
    "allColors"
   ]
  },
  {
   "cell_type": "code",
   "execution_count": 265,
   "metadata": {},
   "outputs": [
    {
     "data": {
      "text/plain": [
       "array([[  0.,   0.,   0.,   0.],\n",
       "       [220., 173., 157.,   0.],\n",
       "       [221., 174., 158.,   0.],\n",
       "       ...,\n",
       "       [169.,   6., 123.,   0.],\n",
       "       [160.,   0., 110.,   0.],\n",
       "       [163.,   0., 115.,   0.]])"
      ]
     },
     "execution_count": 265,
     "metadata": {},
     "output_type": "execute_result"
    }
   ],
   "source": [
    "color_labels"
   ]
  },
  {
   "cell_type": "code",
   "execution_count": 266,
   "metadata": {},
   "outputs": [
    {
     "data": {
      "text/plain": [
       "array([226., 176., 167.,   0.])"
      ]
     },
     "execution_count": 266,
     "metadata": {},
     "output_type": "execute_result"
    }
   ],
   "source": [
    "color_labels[376]"
   ]
  },
  {
   "cell_type": "code",
   "execution_count": 274,
   "metadata": {},
   "outputs": [
    {
     "data": {
      "text/plain": [
       "226.0"
      ]
     },
     "execution_count": 274,
     "metadata": {},
     "output_type": "execute_result"
    }
   ],
   "source": [
    "cR[376]"
   ]
  },
  {
   "cell_type": "code",
   "execution_count": 275,
   "metadata": {},
   "outputs": [
    {
     "data": {
      "text/plain": [
       "176.0"
      ]
     },
     "execution_count": 275,
     "metadata": {},
     "output_type": "execute_result"
    }
   ],
   "source": [
    "cG[376]"
   ]
  },
  {
   "cell_type": "code",
   "execution_count": 276,
   "metadata": {},
   "outputs": [
    {
     "data": {
      "text/plain": [
       "167.0"
      ]
     },
     "execution_count": 276,
     "metadata": {},
     "output_type": "execute_result"
    }
   ],
   "source": [
    "cB[376]"
   ]
  },
  {
   "cell_type": "code",
   "execution_count": 277,
   "metadata": {},
   "outputs": [],
   "source": [
    "indices = np.where(cR==226)#gets just locatins of the red\n",
    "sublistColors = np.take(cG, indices)"
   ]
  },
  {
   "cell_type": "code",
   "execution_count": 280,
   "metadata": {},
   "outputs": [
    {
     "data": {
      "text/plain": [
       "(array([   284,    286,    341, ..., 365063, 365094, 365097]),)"
      ]
     },
     "execution_count": 280,
     "metadata": {},
     "output_type": "execute_result"
    }
   ],
   "source": [
    "indices"
   ]
  },
  {
   "cell_type": "code",
   "execution_count": 282,
   "metadata": {},
   "outputs": [],
   "source": [
    "indices = np.take(indices, np.where(sublistColors[0]==176))#matches now both red and green\n",
    "sublistColors = np.take(cB, indices)"
   ]
  },
  {
   "cell_type": "code",
   "execution_count": 283,
   "metadata": {},
   "outputs": [
    {
     "data": {
      "text/plain": [
       "array([[   341,    376,   5009,   6238,  11787,  12018,  21806,  30186,\n",
       "         30397,  47900,  55020,  55164,  56304, 324545]])"
      ]
     },
     "execution_count": 283,
     "metadata": {},
     "output_type": "execute_result"
    }
   ],
   "source": [
    "indices"
   ]
  },
  {
   "cell_type": "code",
   "execution_count": 284,
   "metadata": {},
   "outputs": [
    {
     "data": {
      "text/plain": [
       "376"
      ]
     },
     "execution_count": 284,
     "metadata": {},
     "output_type": "execute_result"
    }
   ],
   "source": [
    "dex = np.take(indices, np.where(sublistColors[0]==167))[0][0]#matches all 3 colors\n",
    "dex"
   ]
  },
  {
   "cell_type": "code",
   "execution_count": 286,
   "metadata": {},
   "outputs": [
    {
     "data": {
      "text/plain": [
       "376"
      ]
     },
     "execution_count": 286,
     "metadata": {},
     "output_type": "execute_result"
    }
   ],
   "source": [
    "dex_color(226,176,167,cR,cG,cB)"
   ]
  },
  {
   "cell_type": "code",
   "execution_count": 293,
   "metadata": {},
   "outputs": [
    {
     "name": "stdout",
     "output_type": "stream",
     "text": [
      "args=226.0,176.0,167.0\n"
     ]
    },
    {
     "data": {
      "text/plain": [
       "376"
      ]
     },
     "execution_count": 293,
     "metadata": {},
     "output_type": "execute_result"
    }
   ],
   "source": [
    "dex_color(226.0,176.0,167.0,cR,cG,cB)"
   ]
  },
  {
   "cell_type": "code",
   "execution_count": 294,
   "metadata": {},
   "outputs": [
    {
     "data": {
      "text/plain": [
       "array([  0., 220., 221., ..., 169., 160., 163.])"
      ]
     },
     "execution_count": 294,
     "metadata": {},
     "output_type": "execute_result"
    }
   ],
   "source": [
    "cR"
   ]
  },
  {
   "cell_type": "code",
   "execution_count": 295,
   "metadata": {},
   "outputs": [
    {
     "data": {
      "text/plain": [
       "array([  0., 173., 174., ...,   6.,   0.,   0.])"
      ]
     },
     "execution_count": 295,
     "metadata": {},
     "output_type": "execute_result"
    }
   ],
   "source": [
    "cG"
   ]
  },
  {
   "cell_type": "code",
   "execution_count": 296,
   "metadata": {},
   "outputs": [
    {
     "data": {
      "text/plain": [
       "array([  0., 157., 158., ..., 123., 110., 115.])"
      ]
     },
     "execution_count": 296,
     "metadata": {},
     "output_type": "execute_result"
    }
   ],
   "source": [
    "cB"
   ]
  },
  {
   "cell_type": "code",
   "execution_count": null,
   "metadata": {},
   "outputs": [],
   "source": []
  }
 ],
 "metadata": {
  "kernelspec": {
   "display_name": "Python 3",
   "language": "python",
   "name": "python3"
  },
  "language_info": {
   "codemirror_mode": {
    "name": "ipython",
    "version": 3
   },
   "file_extension": ".py",
   "mimetype": "text/x-python",
   "name": "python",
   "nbconvert_exporter": "python",
   "pygments_lexer": "ipython3",
   "version": "3.7.3"
  }
 },
 "nbformat": 4,
 "nbformat_minor": 2
}
