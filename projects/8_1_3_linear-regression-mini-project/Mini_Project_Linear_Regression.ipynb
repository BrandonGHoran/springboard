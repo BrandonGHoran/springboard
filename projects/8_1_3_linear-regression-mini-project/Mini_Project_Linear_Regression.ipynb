{
 "cells": [
  {
   "cell_type": "raw",
   "metadata": {},
   "source": []
  },
  {
   "cell_type": "markdown",
   "metadata": {},
   "source": [
    "# Regression in Python\n",
    "\n",
    "***\n",
    "This is a very quick run-through of some basic statistical concepts, adapted from [Lab 4 in Harvard's CS109](https://github.com/cs109/2015lab4) course. Please feel free to try the original lab if you're feeling ambitious :-) The CS109 git repository also has the solutions if you're stuck.\n",
    "\n",
    "* Linear Regression Models\n",
    "* Prediction using linear regression\n",
    "\n",
    "Linear regression is used to model and predict continuous outcomes with normal random errors. There are nearly an infinite number of different types of regression models and each regression model is typically defined by the distribution of the prediction errors (called \"residuals\") of the type of data. Logistic regression is used to model binary outcomes whereas Poisson regression is used to predict counts. In this exercise, we'll see some examples of linear regression as well as Train-test splits.\n",
    "\n",
    "The packages we'll cover are: `statsmodels`, `seaborn`, and `scikit-learn`. While we don't explicitly teach `statsmodels` and `seaborn` in the Springboard workshop, those are great libraries to know.\n",
    "***"
   ]
  },
  {
   "cell_type": "markdown",
   "metadata": {},
   "source": [
    "<img width=600 height=300 src=\"https://imgs.xkcd.com/comics/sustainable.png\"/>\n",
    "***"
   ]
  },
  {
   "cell_type": "code",
   "execution_count": 2,
   "metadata": {},
   "outputs": [],
   "source": [
    "#Ok, so just a heads up. This is the project which I lost some information from....so my apologies if anything seems to be\n",
    "#missing. I am just going to re-go through as much as is needed here.\n",
    "\n",
    "# special IPython command to prepare the notebook for matplotlib and other libraries\n",
    "%matplotlib inline \n",
    "\n",
    "import numpy as np\n",
    "import pandas as pd\n",
    "import scipy.stats as stats\n",
    "import matplotlib.pyplot as plt\n",
    "import sklearn\n",
    "\n",
    "import seaborn as sns\n",
    "\n",
    "# special matplotlib argument for improved plots\n",
    "from matplotlib import rcParams\n",
    "sns.set_style(\"whitegrid\")\n",
    "sns.set_context(\"poster\")\n"
   ]
  },
  {
   "cell_type": "markdown",
   "metadata": {},
   "source": [
    "***\n",
    "# Part 1: Introduction to Linear Regression\n",
    "### Purpose of linear regression\n",
    "***\n",
    "<div class=\"span5 alert alert-info\">\n",
    "\n",
    "<p> Given a dataset containing predictor variables $X$ and outcome/response variable $Y$, linear regression can be used to: </p>\n",
    "<ul>\n",
    "  <li> Build a <b>predictive model</b> to predict future values of $\\hat{Y}$, using new data $X^*$ where $Y$ is unknown.</li>\n",
    "  <li> Model the <b>strength of the relationship</b> between each independent variable $X_i$ and $Y$</li>\n",
    "    <ul>\n",
    "      <li> Many times, only a subset of independent variables $X_i$ will have a linear relationship with $Y$</li>\n",
    "      <li> Need to figure out which $X_i$ contributes most information to predict $Y$ </li>\n",
    "    </ul>\n",
    "   <li>It is in many cases, the first pass prediction algorithm for continuous outcomes. </li>\n",
    "</ul>\n",
    "</div>\n",
    "\n",
    "### A Brief Mathematical Recap\n",
    "***\n",
    "\n",
    "[Linear Regression](http://en.wikipedia.org/wiki/Linear_regression) is a method to model the relationship between a set of independent variables $X$ (also knowns as explanatory variables, features, predictors) and a dependent variable $Y$.  This method assumes the relationship between each predictor $X$ is **linearly** related to the dependent variable $Y$. The most basic linear regression model contains one independent variable $X$, we'll call this the simple model. \n",
    "\n",
    "$$ Y = \\beta_0 + \\beta_1 X + \\epsilon$$\n",
    "\n",
    "where $\\epsilon$ is considered as an unobservable random variable that adds noise to the linear relationship. In linear regression, $\\epsilon$ is assumed to be normally distributed with a mean of 0. In other words, what this means is that on average, if we know $Y$, a roughly equal number of predictions $\\hat{Y}$ will be above $Y$ and others will be below $Y$. That is, on average, the error is zero. The residuals, $\\epsilon$ are also assumed to be \"i.i.d.\": independently and identically distributed. Independence means that the residuals are not correlated -- the residual from one prediction has no effect on the residual from another prediction. Correlated errors are common in time series analysis and spatial analyses.\n",
    "\n",
    "* $\\beta_0$ is the intercept of the linear model and represents the average of $Y$ when all independent variables $X$ are set to 0.\n",
    "\n",
    "* $\\beta_1$ is the slope of the line associated with the regression model and represents the average effect of a one-unit increase in $X$ on $Y$.\n",
    "\n",
    "* Back to the simple model. The model in linear regression is the *conditional mean* of $Y$ given the values in $X$ is expressed a linear function.  \n",
    "\n",
    "$$ y = f(x) = E(Y | X = x)$$ \n",
    "\n",
    "![conditional mean](images/conditionalmean.png)\n",
    "http://www.learner.org/courses/againstallodds/about/glossary.html\n",
    "\n",
    "* The goal is to estimate the coefficients (e.g. $\\beta_0$ and $\\beta_1$). We represent the estimates of the coefficients with a \"hat\" on top of the letter.  \n",
    "\n",
    "$$ \\hat{\\beta}_0, \\hat{\\beta}_1 $$\n",
    "\n",
    "* Once we estimate the coefficients $\\hat{\\beta}_0$ and $\\hat{\\beta}_1$, we can use these to predict new values of $Y$ given new data $X$.\n",
    "\n",
    "$$\\hat{y} = \\hat{\\beta}_0 + \\hat{\\beta}_1 x_1$$\n",
    "\n",
    "* Multiple linear regression is when you have more than one independent variable and the estimation involves matrices\n",
    "    * $X_1$, $X_2$, $X_3$, $\\ldots$\n",
    "\n",
    "\n",
    "* How do you estimate the coefficients? \n",
    "    * There are many ways to fit a linear regression model\n",
    "    * The method called **least squares** is the most common methods\n",
    "    * We will discuss least squares\n",
    "\n",
    "$$ Y = \\beta_0 + \\beta_1 X_1 + \\ldots + \\beta_p X_p + \\epsilon$$ \n",
    "    \n",
    "### Estimating $\\hat\\beta$: Least squares\n",
    "***\n",
    "[Least squares](http://en.wikipedia.org/wiki/Least_squares) is a method that can estimate the coefficients of a linear model by minimizing the squared residuals: \n",
    "\n",
    "$$ \\mathscr{L} = \\sum_{i=1}^N \\epsilon_i^2 = \\sum_{i=1}^N \\left( y_i - \\hat{y}_i \\right)^2  = \\sum_{i=1}^N \\left(y_i - \\left(\\beta_0 + \\beta_1 x_i\\right)\\right)^2 $$\n",
    "\n",
    "where $N$ is the number of observations and $\\epsilon$ represents a residual or error, ACTUAL - PREDICTED.  \n",
    "\n",
    "#### Estimating the intercept $\\hat{\\beta_0}$ for the simple linear model\n",
    "\n",
    "We want to minimize the squared residuals and solve for $\\hat{\\beta_0}$ so we take the partial derivative of $\\mathscr{L}$ with respect to $\\hat{\\beta_0}$ "
   ]
  },
  {
   "cell_type": "markdown",
   "metadata": {},
   "source": [
    "$\n",
    "\\begin{align}\n",
    "\\frac{\\partial \\mathscr{L}}{\\partial \\hat{\\beta_0}} &= \\frac{\\partial}{\\partial \\hat{\\beta_0}} \\sum_{i=1}^N \\epsilon^2 \\\\\n",
    "&= \\frac{\\partial}{\\partial \\hat{\\beta_0}} \\sum_{i=1}^N \\left( y_i - \\hat{y}_i \\right)^2 \\\\\n",
    "&= \\frac{\\partial}{\\partial \\hat{\\beta_0}} \\sum_{i=1}^N \\left( y_i - \\left( \\hat{\\beta}_0 + \\hat{\\beta}_1 x_i \\right) \\right)^2 \\\\\n",
    "&= -2 \\sum_{i=1}^N \\left( y_i - \\left( \\hat{\\beta}_0 + \\hat{\\beta}_1 x_i \\right) \\right) \\hspace{25mm} \\mbox{(by chain rule)} \\\\\n",
    "&= -2 \\sum_{i=1}^N (y_i - \\hat{\\beta}_0 - \\hat{\\beta}_1 x_i) \\\\\n",
    "&= -2 \\left[ \\left( \\sum_{i=1}^N y_i \\right) - N \\hat{\\beta_0} - \\hat{\\beta}_1 \\left( \\sum_{i=1}^N x_i\n",
    "\\right) \\right] \\\\\n",
    "& 2 \\left[ N \\hat{\\beta}_0 + \\hat{\\beta}_1 \\sum_{i=1}^N x_i - \\sum_{i=1}^N y_i \\right] = 0 \\hspace{20mm} \\mbox{(Set equal to 0 and solve for $\\hat{\\beta}_0$)} \\\\\n",
    "& N \\hat{\\beta}_0 + \\hat{\\beta}_1 \\sum_{i=1}^N x_i - \\sum_{i=1}^N y_i = 0 \\\\\n",
    "& N \\hat{\\beta}_0 = \\sum_{i=1}^N y_i - \\hat{\\beta}_1 \\sum_{i=1}^N x_i \\\\\n",
    "& \\hat{\\beta}_0 = \\frac{\\sum_{i=1}^N y_i - \\hat{\\beta}_1 \\sum_{i=1}^N x_i}{N} \\\\\n",
    "& \\hat{\\beta}_0 = \\frac{\\sum_{i=1}^N y_i}{N} - \\hat{\\beta}_1 \\frac{\\sum_{i=1}^N x_i}{N} \\\\\n",
    "& \\boxed{\\hat{\\beta}_0 = \\bar{y} - \\hat{\\beta}_1 \\bar{x}}\n",
    "\\end{align}\n",
    "$"
   ]
  },
  {
   "cell_type": "markdown",
   "metadata": {},
   "source": [
    "Using this new information, we can compute the estimate for $\\hat{\\beta}_1$ by taking the partial derivative of $\\mathscr{L}$ with respect to $\\hat{\\beta}_1$."
   ]
  },
  {
   "cell_type": "markdown",
   "metadata": {},
   "source": [
    "$\n",
    "\\begin{align}\n",
    "\\frac{\\partial \\mathscr{L}}{\\partial \\hat{\\beta_1}} &= \\frac{\\partial}{\\partial \\hat{\\beta_1}} \\sum_{i=1}^N \\epsilon^2 \\\\\n",
    "&= \\frac{\\partial}{\\partial \\hat{\\beta_1}} \\sum_{i=1}^N \\left( y_i - \\hat{y}_i \\right)^2 \\\\\n",
    "&= \\frac{\\partial}{\\partial \\hat{\\beta_1}} \\sum_{i=1}^N \\left( y_i - \\left( \\hat{\\beta}_0 + \\hat{\\beta}_1 x_i \\right) \\right)^2 \\\\\n",
    "&= 2 \\sum_{i=1}^N \\left( y_i - \\left( \\hat{\\beta}_0 + \\hat{\\beta}_1 x_i \\right) \\right) \\left( -x_i \\right) \\hspace{25mm}\\mbox{(by chain rule)} \\\\\n",
    "&= -2 \\sum_{i=1}^N x_i \\left( y_i - \\hat{\\beta}_0 - \\hat{\\beta}_1 x_i \\right) \\\\\n",
    "&= -2 \\sum_{i=1}^N x_i (y_i - \\hat{\\beta}_0 x_i - \\hat{\\beta}_1 x_i^2) \\\\\n",
    "&= -2 \\sum_{i=1}^N x_i (y_i - \\left( \\bar{y} - \\hat{\\beta}_1 \\bar{x} \\right) x_i - \\hat{\\beta}_1 x_i^2) \\\\\n",
    "&= -2 \\sum_{i=1}^N (x_i y_i - \\bar{y}x_i + \\hat{\\beta}_1\\bar{x}x_i - \\hat{\\beta}_1 x_i^2) \\\\\n",
    "&= -2 \\left[ \\sum_{i=1}^N x_i y_i - \\bar{y} \\sum_{i=1}^N x_i + \\hat{\\beta}_1\\bar{x}\\sum_{i=1}^N x_i - \\hat{\\beta}_1 \\sum_{i=1}^N x_i^2 \\right] \\\\\n",
    "&= -2 \\left[ \\hat{\\beta}_1 \\left\\{ \\bar{x} \\sum_{i=1}^N x_i - \\sum_{i=1}^N x_i^2 \\right\\} + \\left\\{ \\sum_{i=1}^N x_i y_i - \\bar{y} \\sum_{i=1}^N x_i \\right\\}\\right] \\\\\n",
    "& 2 \\left[ \\hat{\\beta}_1 \\left\\{ \\sum_{i=1}^N x_i^2 - \\bar{x} \\sum_{i=1}^N x_i \\right\\} + \\left\\{ \\bar{y} \\sum_{i=1}^N x_i - \\sum_{i=1}^N x_i y_i \\right\\} \\right] = 0 \\\\\n",
    "& \\hat{\\beta}_1 = \\frac{-\\left( \\bar{y} \\sum_{i=1}^N x_i - \\sum_{i=1}^N x_i y_i \\right)}{\\sum_{i=1}^N x_i^2 - \\bar{x}\\sum_{i=1}^N x_i} \\\\\n",
    "&= \\frac{\\sum_{i=1}^N x_i y_i - \\bar{y} \\sum_{i=1}^N x_i}{\\sum_{i=1}^N x_i^2 - \\bar{x} \\sum_{i=1}^N x_i} \\\\\n",
    "& \\boxed{\\hat{\\beta}_1 = \\frac{\\sum_{i=1}^N x_i y_i - \\bar{x}\\bar{y}n}{\\sum_{i=1}^N x_i^2 - n \\bar{x}^2}}\n",
    "\\end{align}\n",
    "$"
   ]
  },
  {
   "cell_type": "markdown",
   "metadata": {},
   "source": [
    "The solution can be written in compact matrix notation as\n",
    "\n",
    "$$\\hat\\beta =  (X^T X)^{-1}X^T Y$$ \n",
    "\n",
    "We wanted to show you this in case you remember linear algebra, in order for this solution to exist we need $X^T X$ to be invertible. Of course this requires a few extra assumptions, $X$ must be full rank so that $X^T X$ is invertible, etc. Basically, $X^T X$ is full rank if all rows and columns are linearly independent. This has a loose relationship to variables and observations being independent respective. **This is important for us because this means that having redundant features in our regression models will lead to poorly fitting (and unstable) models.** We'll see an implementation of this in the extra linear regression example."
   ]
  },
  {
   "cell_type": "markdown",
   "metadata": {},
   "source": [
    "***\n",
    "# Part 2: Exploratory Data Analysis for Linear Relationships\n",
    "\n",
    "The [Boston Housing data set](https://archive.ics.uci.edu/ml/datasets/Housing) contains information about the housing values in suburbs of Boston.  This dataset was originally taken from the StatLib library which is maintained at Carnegie Mellon University and is now available on the UCI Machine Learning Repository. \n",
    "\n",
    "\n",
    "## Load the Boston Housing data set from `sklearn`\n",
    "***\n",
    "\n",
    "This data set is available in the [sklearn](http://scikit-learn.org/stable/modules/generated/sklearn.datasets.load_boston.html#sklearn.datasets.load_boston) python module which is how we will access it today.  "
   ]
  },
  {
   "cell_type": "code",
   "execution_count": 3,
   "metadata": {},
   "outputs": [],
   "source": [
    "from sklearn.datasets import load_boston\n",
    "import pandas as pd\n",
    "\n",
    "boston = load_boston()"
   ]
  },
  {
   "cell_type": "code",
   "execution_count": 30,
   "metadata": {},
   "outputs": [
    {
     "data": {
      "text/plain": [
       "dict_keys(['data', 'target', 'feature_names', 'DESCR', 'filename'])"
      ]
     },
     "execution_count": 30,
     "metadata": {},
     "output_type": "execute_result"
    }
   ],
   "source": [
    "boston.keys()"
   ]
  },
  {
   "cell_type": "code",
   "execution_count": 31,
   "metadata": {},
   "outputs": [
    {
     "data": {
      "text/plain": [
       "(506, 13)"
      ]
     },
     "execution_count": 31,
     "metadata": {},
     "output_type": "execute_result"
    }
   ],
   "source": [
    "boston.data.shape"
   ]
  },
  {
   "cell_type": "code",
   "execution_count": 32,
   "metadata": {},
   "outputs": [
    {
     "name": "stdout",
     "output_type": "stream",
     "text": [
      "['CRIM' 'ZN' 'INDUS' 'CHAS' 'NOX' 'RM' 'AGE' 'DIS' 'RAD' 'TAX' 'PTRATIO'\n",
      " 'B' 'LSTAT']\n"
     ]
    }
   ],
   "source": [
    "# Print column names\n",
    "print(boston.feature_names)"
   ]
  },
  {
   "cell_type": "code",
   "execution_count": 33,
   "metadata": {},
   "outputs": [
    {
     "name": "stdout",
     "output_type": "stream",
     "text": [
      ".. _boston_dataset:\n",
      "\n",
      "Boston house prices dataset\n",
      "---------------------------\n",
      "\n",
      "**Data Set Characteristics:**  \n",
      "\n",
      "    :Number of Instances: 506 \n",
      "\n",
      "    :Number of Attributes: 13 numeric/categorical predictive. Median Value (attribute 14) is usually the target.\n",
      "\n",
      "    :Attribute Information (in order):\n",
      "        - CRIM     per capita crime rate by town\n",
      "        - ZN       proportion of residential land zoned for lots over 25,000 sq.ft.\n",
      "        - INDUS    proportion of non-retail business acres per town\n",
      "        - CHAS     Charles River dummy variable (= 1 if tract bounds river; 0 otherwise)\n",
      "        - NOX      nitric oxides concentration (parts per 10 million)\n",
      "        - RM       average number of rooms per dwelling\n",
      "        - AGE      proportion of owner-occupied units built prior to 1940\n",
      "        - DIS      weighted distances to five Boston employment centres\n",
      "        - RAD      index of accessibility to radial highways\n",
      "        - TAX      full-value property-tax rate per $10,000\n",
      "        - PTRATIO  pupil-teacher ratio by town\n",
      "        - B        1000(Bk - 0.63)^2 where Bk is the proportion of blacks by town\n",
      "        - LSTAT    % lower status of the population\n",
      "        - MEDV     Median value of owner-occupied homes in $1000's\n",
      "\n",
      "    :Missing Attribute Values: None\n",
      "\n",
      "    :Creator: Harrison, D. and Rubinfeld, D.L.\n",
      "\n",
      "This is a copy of UCI ML housing dataset.\n",
      "https://archive.ics.uci.edu/ml/machine-learning-databases/housing/\n",
      "\n",
      "\n",
      "This dataset was taken from the StatLib library which is maintained at Carnegie Mellon University.\n",
      "\n",
      "The Boston house-price data of Harrison, D. and Rubinfeld, D.L. 'Hedonic\n",
      "prices and the demand for clean air', J. Environ. Economics & Management,\n",
      "vol.5, 81-102, 1978.   Used in Belsley, Kuh & Welsch, 'Regression diagnostics\n",
      "...', Wiley, 1980.   N.B. Various transformations are used in the table on\n",
      "pages 244-261 of the latter.\n",
      "\n",
      "The Boston house-price data has been used in many machine learning papers that address regression\n",
      "problems.   \n",
      "     \n",
      ".. topic:: References\n",
      "\n",
      "   - Belsley, Kuh & Welsch, 'Regression diagnostics: Identifying Influential Data and Sources of Collinearity', Wiley, 1980. 244-261.\n",
      "   - Quinlan,R. (1993). Combining Instance-Based and Model-Based Learning. In Proceedings on the Tenth International Conference of Machine Learning, 236-243, University of Massachusetts, Amherst. Morgan Kaufmann.\n",
      "\n"
     ]
    }
   ],
   "source": [
    "# Print description of Boston housing data set\n",
    "print(boston.DESCR)"
   ]
  },
  {
   "cell_type": "markdown",
   "metadata": {},
   "source": [
    "Now let's explore the data set itself. "
   ]
  },
  {
   "cell_type": "code",
   "execution_count": 4,
   "metadata": {},
   "outputs": [
    {
     "data": {
      "text/html": [
       "<div>\n",
       "<style scoped>\n",
       "    .dataframe tbody tr th:only-of-type {\n",
       "        vertical-align: middle;\n",
       "    }\n",
       "\n",
       "    .dataframe tbody tr th {\n",
       "        vertical-align: top;\n",
       "    }\n",
       "\n",
       "    .dataframe thead th {\n",
       "        text-align: right;\n",
       "    }\n",
       "</style>\n",
       "<table border=\"1\" class=\"dataframe\">\n",
       "  <thead>\n",
       "    <tr style=\"text-align: right;\">\n",
       "      <th></th>\n",
       "      <th>0</th>\n",
       "      <th>1</th>\n",
       "      <th>2</th>\n",
       "      <th>3</th>\n",
       "      <th>4</th>\n",
       "      <th>5</th>\n",
       "      <th>6</th>\n",
       "      <th>7</th>\n",
       "      <th>8</th>\n",
       "      <th>9</th>\n",
       "      <th>10</th>\n",
       "      <th>11</th>\n",
       "      <th>12</th>\n",
       "    </tr>\n",
       "  </thead>\n",
       "  <tbody>\n",
       "    <tr>\n",
       "      <th>0</th>\n",
       "      <td>0.00632</td>\n",
       "      <td>18.0</td>\n",
       "      <td>2.31</td>\n",
       "      <td>0.0</td>\n",
       "      <td>0.538</td>\n",
       "      <td>6.575</td>\n",
       "      <td>65.2</td>\n",
       "      <td>4.0900</td>\n",
       "      <td>1.0</td>\n",
       "      <td>296.0</td>\n",
       "      <td>15.3</td>\n",
       "      <td>396.90</td>\n",
       "      <td>4.98</td>\n",
       "    </tr>\n",
       "    <tr>\n",
       "      <th>1</th>\n",
       "      <td>0.02731</td>\n",
       "      <td>0.0</td>\n",
       "      <td>7.07</td>\n",
       "      <td>0.0</td>\n",
       "      <td>0.469</td>\n",
       "      <td>6.421</td>\n",
       "      <td>78.9</td>\n",
       "      <td>4.9671</td>\n",
       "      <td>2.0</td>\n",
       "      <td>242.0</td>\n",
       "      <td>17.8</td>\n",
       "      <td>396.90</td>\n",
       "      <td>9.14</td>\n",
       "    </tr>\n",
       "    <tr>\n",
       "      <th>2</th>\n",
       "      <td>0.02729</td>\n",
       "      <td>0.0</td>\n",
       "      <td>7.07</td>\n",
       "      <td>0.0</td>\n",
       "      <td>0.469</td>\n",
       "      <td>7.185</td>\n",
       "      <td>61.1</td>\n",
       "      <td>4.9671</td>\n",
       "      <td>2.0</td>\n",
       "      <td>242.0</td>\n",
       "      <td>17.8</td>\n",
       "      <td>392.83</td>\n",
       "      <td>4.03</td>\n",
       "    </tr>\n",
       "    <tr>\n",
       "      <th>3</th>\n",
       "      <td>0.03237</td>\n",
       "      <td>0.0</td>\n",
       "      <td>2.18</td>\n",
       "      <td>0.0</td>\n",
       "      <td>0.458</td>\n",
       "      <td>6.998</td>\n",
       "      <td>45.8</td>\n",
       "      <td>6.0622</td>\n",
       "      <td>3.0</td>\n",
       "      <td>222.0</td>\n",
       "      <td>18.7</td>\n",
       "      <td>394.63</td>\n",
       "      <td>2.94</td>\n",
       "    </tr>\n",
       "    <tr>\n",
       "      <th>4</th>\n",
       "      <td>0.06905</td>\n",
       "      <td>0.0</td>\n",
       "      <td>2.18</td>\n",
       "      <td>0.0</td>\n",
       "      <td>0.458</td>\n",
       "      <td>7.147</td>\n",
       "      <td>54.2</td>\n",
       "      <td>6.0622</td>\n",
       "      <td>3.0</td>\n",
       "      <td>222.0</td>\n",
       "      <td>18.7</td>\n",
       "      <td>396.90</td>\n",
       "      <td>5.33</td>\n",
       "    </tr>\n",
       "  </tbody>\n",
       "</table>\n",
       "</div>"
      ],
      "text/plain": [
       "        0     1     2    3      4      5     6       7    8      9     10  \\\n",
       "0  0.00632  18.0  2.31  0.0  0.538  6.575  65.2  4.0900  1.0  296.0  15.3   \n",
       "1  0.02731   0.0  7.07  0.0  0.469  6.421  78.9  4.9671  2.0  242.0  17.8   \n",
       "2  0.02729   0.0  7.07  0.0  0.469  7.185  61.1  4.9671  2.0  242.0  17.8   \n",
       "3  0.03237   0.0  2.18  0.0  0.458  6.998  45.8  6.0622  3.0  222.0  18.7   \n",
       "4  0.06905   0.0  2.18  0.0  0.458  7.147  54.2  6.0622  3.0  222.0  18.7   \n",
       "\n",
       "       11    12  \n",
       "0  396.90  4.98  \n",
       "1  396.90  9.14  \n",
       "2  392.83  4.03  \n",
       "3  394.63  2.94  \n",
       "4  396.90  5.33  "
      ]
     },
     "execution_count": 4,
     "metadata": {},
     "output_type": "execute_result"
    }
   ],
   "source": [
    "bos = pd.DataFrame(boston.data)\n",
    "bos.head()"
   ]
  },
  {
   "cell_type": "markdown",
   "metadata": {},
   "source": [
    "There are no column names in the DataFrame. Let's add those. "
   ]
  },
  {
   "cell_type": "code",
   "execution_count": 5,
   "metadata": {},
   "outputs": [
    {
     "data": {
      "text/html": [
       "<div>\n",
       "<style scoped>\n",
       "    .dataframe tbody tr th:only-of-type {\n",
       "        vertical-align: middle;\n",
       "    }\n",
       "\n",
       "    .dataframe tbody tr th {\n",
       "        vertical-align: top;\n",
       "    }\n",
       "\n",
       "    .dataframe thead th {\n",
       "        text-align: right;\n",
       "    }\n",
       "</style>\n",
       "<table border=\"1\" class=\"dataframe\">\n",
       "  <thead>\n",
       "    <tr style=\"text-align: right;\">\n",
       "      <th></th>\n",
       "      <th>CRIM</th>\n",
       "      <th>ZN</th>\n",
       "      <th>INDUS</th>\n",
       "      <th>CHAS</th>\n",
       "      <th>NOX</th>\n",
       "      <th>RM</th>\n",
       "      <th>AGE</th>\n",
       "      <th>DIS</th>\n",
       "      <th>RAD</th>\n",
       "      <th>TAX</th>\n",
       "      <th>PTRATIO</th>\n",
       "      <th>B</th>\n",
       "      <th>LSTAT</th>\n",
       "    </tr>\n",
       "  </thead>\n",
       "  <tbody>\n",
       "    <tr>\n",
       "      <th>0</th>\n",
       "      <td>0.00632</td>\n",
       "      <td>18.0</td>\n",
       "      <td>2.31</td>\n",
       "      <td>0.0</td>\n",
       "      <td>0.538</td>\n",
       "      <td>6.575</td>\n",
       "      <td>65.2</td>\n",
       "      <td>4.0900</td>\n",
       "      <td>1.0</td>\n",
       "      <td>296.0</td>\n",
       "      <td>15.3</td>\n",
       "      <td>396.90</td>\n",
       "      <td>4.98</td>\n",
       "    </tr>\n",
       "    <tr>\n",
       "      <th>1</th>\n",
       "      <td>0.02731</td>\n",
       "      <td>0.0</td>\n",
       "      <td>7.07</td>\n",
       "      <td>0.0</td>\n",
       "      <td>0.469</td>\n",
       "      <td>6.421</td>\n",
       "      <td>78.9</td>\n",
       "      <td>4.9671</td>\n",
       "      <td>2.0</td>\n",
       "      <td>242.0</td>\n",
       "      <td>17.8</td>\n",
       "      <td>396.90</td>\n",
       "      <td>9.14</td>\n",
       "    </tr>\n",
       "    <tr>\n",
       "      <th>2</th>\n",
       "      <td>0.02729</td>\n",
       "      <td>0.0</td>\n",
       "      <td>7.07</td>\n",
       "      <td>0.0</td>\n",
       "      <td>0.469</td>\n",
       "      <td>7.185</td>\n",
       "      <td>61.1</td>\n",
       "      <td>4.9671</td>\n",
       "      <td>2.0</td>\n",
       "      <td>242.0</td>\n",
       "      <td>17.8</td>\n",
       "      <td>392.83</td>\n",
       "      <td>4.03</td>\n",
       "    </tr>\n",
       "    <tr>\n",
       "      <th>3</th>\n",
       "      <td>0.03237</td>\n",
       "      <td>0.0</td>\n",
       "      <td>2.18</td>\n",
       "      <td>0.0</td>\n",
       "      <td>0.458</td>\n",
       "      <td>6.998</td>\n",
       "      <td>45.8</td>\n",
       "      <td>6.0622</td>\n",
       "      <td>3.0</td>\n",
       "      <td>222.0</td>\n",
       "      <td>18.7</td>\n",
       "      <td>394.63</td>\n",
       "      <td>2.94</td>\n",
       "    </tr>\n",
       "    <tr>\n",
       "      <th>4</th>\n",
       "      <td>0.06905</td>\n",
       "      <td>0.0</td>\n",
       "      <td>2.18</td>\n",
       "      <td>0.0</td>\n",
       "      <td>0.458</td>\n",
       "      <td>7.147</td>\n",
       "      <td>54.2</td>\n",
       "      <td>6.0622</td>\n",
       "      <td>3.0</td>\n",
       "      <td>222.0</td>\n",
       "      <td>18.7</td>\n",
       "      <td>396.90</td>\n",
       "      <td>5.33</td>\n",
       "    </tr>\n",
       "  </tbody>\n",
       "</table>\n",
       "</div>"
      ],
      "text/plain": [
       "      CRIM    ZN  INDUS  CHAS    NOX     RM   AGE     DIS  RAD    TAX  \\\n",
       "0  0.00632  18.0   2.31   0.0  0.538  6.575  65.2  4.0900  1.0  296.0   \n",
       "1  0.02731   0.0   7.07   0.0  0.469  6.421  78.9  4.9671  2.0  242.0   \n",
       "2  0.02729   0.0   7.07   0.0  0.469  7.185  61.1  4.9671  2.0  242.0   \n",
       "3  0.03237   0.0   2.18   0.0  0.458  6.998  45.8  6.0622  3.0  222.0   \n",
       "4  0.06905   0.0   2.18   0.0  0.458  7.147  54.2  6.0622  3.0  222.0   \n",
       "\n",
       "   PTRATIO       B  LSTAT  \n",
       "0     15.3  396.90   4.98  \n",
       "1     17.8  396.90   9.14  \n",
       "2     17.8  392.83   4.03  \n",
       "3     18.7  394.63   2.94  \n",
       "4     18.7  396.90   5.33  "
      ]
     },
     "execution_count": 5,
     "metadata": {},
     "output_type": "execute_result"
    }
   ],
   "source": [
    "bos.columns = boston.feature_names\n",
    "bos.head()"
   ]
  },
  {
   "cell_type": "markdown",
   "metadata": {},
   "source": [
    "Now we have a pandas DataFrame called `bos` containing all the data we want to use to predict Boston Housing prices.  Let's create a variable called `PRICE` which will contain the prices. This information is contained in the `target` data. "
   ]
  },
  {
   "cell_type": "code",
   "execution_count": 9,
   "metadata": {},
   "outputs": [
    {
     "name": "stdout",
     "output_type": "stream",
     "text": [
      "(506,)\n"
     ]
    }
   ],
   "source": [
    "print(boston.target.shape)"
   ]
  },
  {
   "cell_type": "code",
   "execution_count": 7,
   "metadata": {},
   "outputs": [
    {
     "data": {
      "text/html": [
       "<div>\n",
       "<style scoped>\n",
       "    .dataframe tbody tr th:only-of-type {\n",
       "        vertical-align: middle;\n",
       "    }\n",
       "\n",
       "    .dataframe tbody tr th {\n",
       "        vertical-align: top;\n",
       "    }\n",
       "\n",
       "    .dataframe thead th {\n",
       "        text-align: right;\n",
       "    }\n",
       "</style>\n",
       "<table border=\"1\" class=\"dataframe\">\n",
       "  <thead>\n",
       "    <tr style=\"text-align: right;\">\n",
       "      <th></th>\n",
       "      <th>CRIM</th>\n",
       "      <th>ZN</th>\n",
       "      <th>INDUS</th>\n",
       "      <th>CHAS</th>\n",
       "      <th>NOX</th>\n",
       "      <th>RM</th>\n",
       "      <th>AGE</th>\n",
       "      <th>DIS</th>\n",
       "      <th>RAD</th>\n",
       "      <th>TAX</th>\n",
       "      <th>PTRATIO</th>\n",
       "      <th>B</th>\n",
       "      <th>LSTAT</th>\n",
       "      <th>PRICE</th>\n",
       "    </tr>\n",
       "  </thead>\n",
       "  <tbody>\n",
       "    <tr>\n",
       "      <th>0</th>\n",
       "      <td>0.00632</td>\n",
       "      <td>18.0</td>\n",
       "      <td>2.31</td>\n",
       "      <td>0.0</td>\n",
       "      <td>0.538</td>\n",
       "      <td>6.575</td>\n",
       "      <td>65.2</td>\n",
       "      <td>4.0900</td>\n",
       "      <td>1.0</td>\n",
       "      <td>296.0</td>\n",
       "      <td>15.3</td>\n",
       "      <td>396.90</td>\n",
       "      <td>4.98</td>\n",
       "      <td>24.0</td>\n",
       "    </tr>\n",
       "    <tr>\n",
       "      <th>1</th>\n",
       "      <td>0.02731</td>\n",
       "      <td>0.0</td>\n",
       "      <td>7.07</td>\n",
       "      <td>0.0</td>\n",
       "      <td>0.469</td>\n",
       "      <td>6.421</td>\n",
       "      <td>78.9</td>\n",
       "      <td>4.9671</td>\n",
       "      <td>2.0</td>\n",
       "      <td>242.0</td>\n",
       "      <td>17.8</td>\n",
       "      <td>396.90</td>\n",
       "      <td>9.14</td>\n",
       "      <td>21.6</td>\n",
       "    </tr>\n",
       "    <tr>\n",
       "      <th>2</th>\n",
       "      <td>0.02729</td>\n",
       "      <td>0.0</td>\n",
       "      <td>7.07</td>\n",
       "      <td>0.0</td>\n",
       "      <td>0.469</td>\n",
       "      <td>7.185</td>\n",
       "      <td>61.1</td>\n",
       "      <td>4.9671</td>\n",
       "      <td>2.0</td>\n",
       "      <td>242.0</td>\n",
       "      <td>17.8</td>\n",
       "      <td>392.83</td>\n",
       "      <td>4.03</td>\n",
       "      <td>34.7</td>\n",
       "    </tr>\n",
       "    <tr>\n",
       "      <th>3</th>\n",
       "      <td>0.03237</td>\n",
       "      <td>0.0</td>\n",
       "      <td>2.18</td>\n",
       "      <td>0.0</td>\n",
       "      <td>0.458</td>\n",
       "      <td>6.998</td>\n",
       "      <td>45.8</td>\n",
       "      <td>6.0622</td>\n",
       "      <td>3.0</td>\n",
       "      <td>222.0</td>\n",
       "      <td>18.7</td>\n",
       "      <td>394.63</td>\n",
       "      <td>2.94</td>\n",
       "      <td>33.4</td>\n",
       "    </tr>\n",
       "    <tr>\n",
       "      <th>4</th>\n",
       "      <td>0.06905</td>\n",
       "      <td>0.0</td>\n",
       "      <td>2.18</td>\n",
       "      <td>0.0</td>\n",
       "      <td>0.458</td>\n",
       "      <td>7.147</td>\n",
       "      <td>54.2</td>\n",
       "      <td>6.0622</td>\n",
       "      <td>3.0</td>\n",
       "      <td>222.0</td>\n",
       "      <td>18.7</td>\n",
       "      <td>396.90</td>\n",
       "      <td>5.33</td>\n",
       "      <td>36.2</td>\n",
       "    </tr>\n",
       "  </tbody>\n",
       "</table>\n",
       "</div>"
      ],
      "text/plain": [
       "      CRIM    ZN  INDUS  CHAS    NOX     RM   AGE     DIS  RAD    TAX  \\\n",
       "0  0.00632  18.0   2.31   0.0  0.538  6.575  65.2  4.0900  1.0  296.0   \n",
       "1  0.02731   0.0   7.07   0.0  0.469  6.421  78.9  4.9671  2.0  242.0   \n",
       "2  0.02729   0.0   7.07   0.0  0.469  7.185  61.1  4.9671  2.0  242.0   \n",
       "3  0.03237   0.0   2.18   0.0  0.458  6.998  45.8  6.0622  3.0  222.0   \n",
       "4  0.06905   0.0   2.18   0.0  0.458  7.147  54.2  6.0622  3.0  222.0   \n",
       "\n",
       "   PTRATIO       B  LSTAT  PRICE  \n",
       "0     15.3  396.90   4.98   24.0  \n",
       "1     17.8  396.90   9.14   21.6  \n",
       "2     17.8  392.83   4.03   34.7  \n",
       "3     18.7  394.63   2.94   33.4  \n",
       "4     18.7  396.90   5.33   36.2  "
      ]
     },
     "execution_count": 7,
     "metadata": {},
     "output_type": "execute_result"
    }
   ],
   "source": [
    "bos['PRICE'] = boston.target\n",
    "bos.head()"
   ]
  },
  {
   "cell_type": "markdown",
   "metadata": {},
   "source": [
    "## EDA and Summary Statistics\n",
    "***\n",
    "\n",
    "Let's explore this data set.  First we use `describe()` to get basic summary statistics for each of the columns. "
   ]
  },
  {
   "cell_type": "code",
   "execution_count": 11,
   "metadata": {},
   "outputs": [
    {
     "data": {
      "text/html": [
       "<div>\n",
       "<style>\n",
       "    .dataframe thead tr:only-child th {\n",
       "        text-align: right;\n",
       "    }\n",
       "\n",
       "    .dataframe thead th {\n",
       "        text-align: left;\n",
       "    }\n",
       "\n",
       "    .dataframe tbody tr th {\n",
       "        vertical-align: top;\n",
       "    }\n",
       "</style>\n",
       "<table border=\"1\" class=\"dataframe\">\n",
       "  <thead>\n",
       "    <tr style=\"text-align: right;\">\n",
       "      <th></th>\n",
       "      <th>CRIM</th>\n",
       "      <th>ZN</th>\n",
       "      <th>INDUS</th>\n",
       "      <th>CHAS</th>\n",
       "      <th>NOX</th>\n",
       "      <th>RM</th>\n",
       "      <th>AGE</th>\n",
       "      <th>DIS</th>\n",
       "      <th>RAD</th>\n",
       "      <th>TAX</th>\n",
       "      <th>PTRATIO</th>\n",
       "      <th>B</th>\n",
       "      <th>LSTAT</th>\n",
       "      <th>PRICE</th>\n",
       "    </tr>\n",
       "  </thead>\n",
       "  <tbody>\n",
       "    <tr>\n",
       "      <th>count</th>\n",
       "      <td>506.000000</td>\n",
       "      <td>506.000000</td>\n",
       "      <td>506.000000</td>\n",
       "      <td>506.000000</td>\n",
       "      <td>506.000000</td>\n",
       "      <td>506.000000</td>\n",
       "      <td>506.000000</td>\n",
       "      <td>506.000000</td>\n",
       "      <td>506.000000</td>\n",
       "      <td>506.000000</td>\n",
       "      <td>506.000000</td>\n",
       "      <td>506.000000</td>\n",
       "      <td>506.000000</td>\n",
       "      <td>506.000000</td>\n",
       "    </tr>\n",
       "    <tr>\n",
       "      <th>mean</th>\n",
       "      <td>3.593761</td>\n",
       "      <td>11.363636</td>\n",
       "      <td>11.136779</td>\n",
       "      <td>0.069170</td>\n",
       "      <td>0.554695</td>\n",
       "      <td>6.284634</td>\n",
       "      <td>68.574901</td>\n",
       "      <td>3.795043</td>\n",
       "      <td>9.549407</td>\n",
       "      <td>408.237154</td>\n",
       "      <td>18.455534</td>\n",
       "      <td>356.674032</td>\n",
       "      <td>12.653063</td>\n",
       "      <td>22.532806</td>\n",
       "    </tr>\n",
       "    <tr>\n",
       "      <th>std</th>\n",
       "      <td>8.596783</td>\n",
       "      <td>23.322453</td>\n",
       "      <td>6.860353</td>\n",
       "      <td>0.253994</td>\n",
       "      <td>0.115878</td>\n",
       "      <td>0.702617</td>\n",
       "      <td>28.148861</td>\n",
       "      <td>2.105710</td>\n",
       "      <td>8.707259</td>\n",
       "      <td>168.537116</td>\n",
       "      <td>2.164946</td>\n",
       "      <td>91.294864</td>\n",
       "      <td>7.141062</td>\n",
       "      <td>9.197104</td>\n",
       "    </tr>\n",
       "    <tr>\n",
       "      <th>min</th>\n",
       "      <td>0.006320</td>\n",
       "      <td>0.000000</td>\n",
       "      <td>0.460000</td>\n",
       "      <td>0.000000</td>\n",
       "      <td>0.385000</td>\n",
       "      <td>3.561000</td>\n",
       "      <td>2.900000</td>\n",
       "      <td>1.129600</td>\n",
       "      <td>1.000000</td>\n",
       "      <td>187.000000</td>\n",
       "      <td>12.600000</td>\n",
       "      <td>0.320000</td>\n",
       "      <td>1.730000</td>\n",
       "      <td>5.000000</td>\n",
       "    </tr>\n",
       "    <tr>\n",
       "      <th>25%</th>\n",
       "      <td>0.082045</td>\n",
       "      <td>0.000000</td>\n",
       "      <td>5.190000</td>\n",
       "      <td>0.000000</td>\n",
       "      <td>0.449000</td>\n",
       "      <td>5.885500</td>\n",
       "      <td>45.025000</td>\n",
       "      <td>2.100175</td>\n",
       "      <td>4.000000</td>\n",
       "      <td>279.000000</td>\n",
       "      <td>17.400000</td>\n",
       "      <td>375.377500</td>\n",
       "      <td>6.950000</td>\n",
       "      <td>17.025000</td>\n",
       "    </tr>\n",
       "    <tr>\n",
       "      <th>50%</th>\n",
       "      <td>0.256510</td>\n",
       "      <td>0.000000</td>\n",
       "      <td>9.690000</td>\n",
       "      <td>0.000000</td>\n",
       "      <td>0.538000</td>\n",
       "      <td>6.208500</td>\n",
       "      <td>77.500000</td>\n",
       "      <td>3.207450</td>\n",
       "      <td>5.000000</td>\n",
       "      <td>330.000000</td>\n",
       "      <td>19.050000</td>\n",
       "      <td>391.440000</td>\n",
       "      <td>11.360000</td>\n",
       "      <td>21.200000</td>\n",
       "    </tr>\n",
       "    <tr>\n",
       "      <th>75%</th>\n",
       "      <td>3.647423</td>\n",
       "      <td>12.500000</td>\n",
       "      <td>18.100000</td>\n",
       "      <td>0.000000</td>\n",
       "      <td>0.624000</td>\n",
       "      <td>6.623500</td>\n",
       "      <td>94.075000</td>\n",
       "      <td>5.188425</td>\n",
       "      <td>24.000000</td>\n",
       "      <td>666.000000</td>\n",
       "      <td>20.200000</td>\n",
       "      <td>396.225000</td>\n",
       "      <td>16.955000</td>\n",
       "      <td>25.000000</td>\n",
       "    </tr>\n",
       "    <tr>\n",
       "      <th>max</th>\n",
       "      <td>88.976200</td>\n",
       "      <td>100.000000</td>\n",
       "      <td>27.740000</td>\n",
       "      <td>1.000000</td>\n",
       "      <td>0.871000</td>\n",
       "      <td>8.780000</td>\n",
       "      <td>100.000000</td>\n",
       "      <td>12.126500</td>\n",
       "      <td>24.000000</td>\n",
       "      <td>711.000000</td>\n",
       "      <td>22.000000</td>\n",
       "      <td>396.900000</td>\n",
       "      <td>37.970000</td>\n",
       "      <td>50.000000</td>\n",
       "    </tr>\n",
       "  </tbody>\n",
       "</table>\n",
       "</div>"
      ],
      "text/plain": [
       "             CRIM          ZN       INDUS        CHAS         NOX          RM  \\\n",
       "count  506.000000  506.000000  506.000000  506.000000  506.000000  506.000000   \n",
       "mean     3.593761   11.363636   11.136779    0.069170    0.554695    6.284634   \n",
       "std      8.596783   23.322453    6.860353    0.253994    0.115878    0.702617   \n",
       "min      0.006320    0.000000    0.460000    0.000000    0.385000    3.561000   \n",
       "25%      0.082045    0.000000    5.190000    0.000000    0.449000    5.885500   \n",
       "50%      0.256510    0.000000    9.690000    0.000000    0.538000    6.208500   \n",
       "75%      3.647423   12.500000   18.100000    0.000000    0.624000    6.623500   \n",
       "max     88.976200  100.000000   27.740000    1.000000    0.871000    8.780000   \n",
       "\n",
       "              AGE         DIS         RAD         TAX     PTRATIO           B  \\\n",
       "count  506.000000  506.000000  506.000000  506.000000  506.000000  506.000000   \n",
       "mean    68.574901    3.795043    9.549407  408.237154   18.455534  356.674032   \n",
       "std     28.148861    2.105710    8.707259  168.537116    2.164946   91.294864   \n",
       "min      2.900000    1.129600    1.000000  187.000000   12.600000    0.320000   \n",
       "25%     45.025000    2.100175    4.000000  279.000000   17.400000  375.377500   \n",
       "50%     77.500000    3.207450    5.000000  330.000000   19.050000  391.440000   \n",
       "75%     94.075000    5.188425   24.000000  666.000000   20.200000  396.225000   \n",
       "max    100.000000   12.126500   24.000000  711.000000   22.000000  396.900000   \n",
       "\n",
       "            LSTAT       PRICE  \n",
       "count  506.000000  506.000000  \n",
       "mean    12.653063   22.532806  \n",
       "std      7.141062    9.197104  \n",
       "min      1.730000    5.000000  \n",
       "25%      6.950000   17.025000  \n",
       "50%     11.360000   21.200000  \n",
       "75%     16.955000   25.000000  \n",
       "max     37.970000   50.000000  "
      ]
     },
     "execution_count": 11,
     "metadata": {},
     "output_type": "execute_result"
    }
   ],
   "source": [
    "bos.describe()"
   ]
  },
  {
   "cell_type": "markdown",
   "metadata": {},
   "source": [
    "### Scatterplots\n",
    "***\n",
    "\n",
    "Let's look at some scatter plots for three variables: 'CRIM' (per capita crime rate), 'RM' (number of rooms) and 'PTRATIO' (pupil-to-teacher ratio in schools).  "
   ]
  },
  {
   "cell_type": "code",
   "execution_count": 12,
   "metadata": {},
   "outputs": [
    {
     "data": {
      "text/plain": [
       "Text(0.5,1,'Relationship between CRIM and Price')"
      ]
     },
     "execution_count": 12,
     "metadata": {},
     "output_type": "execute_result"
    },
    {
     "data": {
      "image/png": "[encoded data removed]",
      "text/plain": [
       "<Figure size 432x288 with 1 Axes>"
      ]
     },
     "metadata": {},
     "output_type": "display_data"
    }
   ],
   "source": [
    "plt.scatter(bos.CRIM, bos.PRICE)\n",
    "plt.xlabel(\"Per capita crime rate by town (CRIM)\")\n",
    "plt.ylabel(\"Housing Price\")\n",
    "plt.title(\"Relationship between CRIM and Price\")"
   ]
  },
  {
   "cell_type": "markdown",
   "metadata": {},
   "source": [
    "<div class=\"span5 alert alert-info\">\n",
    "<h3>Part 2 Checkup Exercise Set I</h3>\n",
    "\n",
    "<p><b>Exercise:</b> What kind of relationship do you see? e.g. positive, negative?  linear? non-linear? Is there anything else strange or interesting about the data? What about outliers?</p>\n",
    "\n",
    "\n",
    "<p><b>Exercise:</b> Create scatter plots between *RM* and *PRICE*, and *PTRATIO* and *PRICE*. Label your axes appropriately using human readable labels. Tell a story about what you see.</p>\n",
    "\n",
    "<p><b>Exercise:</b> What are some other numeric variables of interest? Why do you think they are interesting? Plot scatterplots with these variables and *PRICE* (house price) and tell a story about what you see.</p>\n",
    "\n",
    "</div>"
   ]
  },
  {
   "cell_type": "code",
   "execution_count": null,
   "metadata": {
    "collapsed": true
   },
   "outputs": [],
   "source": [
    "# your turn: describe relationship\n",
    "#In general, the housing price tends to decrease with per capita crime rate in a fashion which appears to resemble an\n",
    "#exponential decay. The major notable exception to this trend is in the low per capita crime rates. There are high housing prices\n",
    "#for a range of low crime rates."
   ]
  },
  {
   "cell_type": "code",
   "execution_count": 17,
   "metadata": {},
   "outputs": [
    {
     "data": {
      "text/plain": [
       "Text(0.5,1,'Relationship between RM and Price')"
      ]
     },
     "execution_count": 17,
     "metadata": {},
     "output_type": "execute_result"
    },
    {
     "data": {
      "image/png": "[encoded data removed]",
      "text/plain": [
       "<Figure size 432x288 with 1 Axes>"
      ]
     },
     "metadata": {},
     "output_type": "display_data"
    }
   ],
   "source": [
    "# your turn: scatter plot between *RM* and *PRICE*\n",
    "plt.scatter(bos.RM, bos.PRICE)\n",
    "plt.xlabel(\"Rooms per dwelling (RM)\")\n",
    "plt.ylabel(\"Housing Price\")\n",
    "plt.title(\"Relationship between RM and Price\")"
   ]
  },
  {
   "cell_type": "code",
   "execution_count": 19,
   "metadata": {},
   "outputs": [
    {
     "data": {
      "text/plain": [
       "Text(0,0.5,'Housing Price')"
      ]
     },
     "execution_count": 19,
     "metadata": {},
     "output_type": "execute_result"
    },
    {
     "data": {
      "image/png": "[encoded data removed]",
      "text/plain": [
       "<Figure size 432x288 with 1 Axes>"
      ]
     },
     "metadata": {},
     "output_type": "display_data"
    }
   ],
   "source": [
    "# your turn: scatter plot between *PTRATIO* and *PRICE*\n",
    "plt.scatter(bos.PTRATIO, bos.PRICE)\n",
    "plt.xlabel(\"pupil-teacher ratio (PTRATIO)\")\n",
    "plt.ylabel(\"Housing Price\")\n"
   ]
  },
  {
   "cell_type": "code",
   "execution_count": 25,
   "metadata": {},
   "outputs": [
    {
     "data": {
      "text/plain": [
       "Text(0,0.5,'Housing Price')"
      ]
     },
     "execution_count": 25,
     "metadata": {},
     "output_type": "execute_result"
    },
    {
     "data": {
      "image/png": "[encoded data removed]",
      "text/plain": [
       "<Figure size 432x288 with 1 Axes>"
      ]
     },
     "metadata": {},
     "output_type": "display_data"
    }
   ],
   "source": [
    "# your turn: create some other scatter plots\n",
    "#        - CRIM     per capita crime rate by town\n",
    "#        - ZN       proportion of residential land zoned for lots over 25,000 sq.ft.\n",
    "#        - INDUS    proportion of non-retail business acres per town\n",
    "#        - CHAS     Charles River dummy variable (= 1 if tract bounds river; 0 otherwise)\n",
    "#        - NOX      nitric oxides concentration (parts per 10 million)\n",
    "#        - RM       average number of rooms per dwelling\n",
    "#        - AGE      proportion of owner-occupied units built prior to 1940\n",
    "#        - DIS      weighted distances to five Boston employment centres\n",
    "#        - RAD      index of accessibility to radial highways\n",
    "#        - TAX      full-value property-tax rate per $10,000\n",
    "#        - PTRATIO  pupil-teacher ratio by town\n",
    "#        - B        1000(Bk - 0.63)^2 where Bk is the proportion of blacks by town\n",
    "#        - LSTAT    % lower status of the population\n",
    "#        - MEDV     Median value of owner-occupied homes in $1000's\n",
    "\n",
    "plt.scatter(bos.ZN, bos.PRICE)\n",
    "plt.xlabel(\"proportion of residential land zoned for lots over 25,000 sq.ft.\")\n",
    "plt.ylabel(\"Housing Price\")"
   ]
  },
  {
   "cell_type": "code",
   "execution_count": 24,
   "metadata": {},
   "outputs": [
    {
     "data": {
      "text/plain": [
       "Text(0,0.5,'Housing Price')"
      ]
     },
     "execution_count": 24,
     "metadata": {},
     "output_type": "execute_result"
    },
    {
     "data": {
      "image/png": "[encoded data removed]",
      "text/plain": [
       "<Figure size 432x288 with 1 Axes>"
      ]
     },
     "metadata": {},
     "output_type": "display_data"
    }
   ],
   "source": [
    "plt.scatter(bos.NOX, bos.PRICE)\n",
    "plt.xlabel(\"nitric oxides concentration (parts per 10 million)\")\n",
    "plt.ylabel(\"Housing Price\")"
   ]
  },
  {
   "cell_type": "code",
   "execution_count": 26,
   "metadata": {},
   "outputs": [
    {
     "data": {
      "text/plain": [
       "Text(0,0.5,'Housing Price')"
      ]
     },
     "execution_count": 26,
     "metadata": {},
     "output_type": "execute_result"
    },
    {
     "data": {
      "image/png": "[encoded data removed]",
      "text/plain": [
       "<Figure size 432x288 with 1 Axes>"
      ]
     },
     "metadata": {},
     "output_type": "display_data"
    }
   ],
   "source": [
    "plt.scatter(bos.TAX, bos.PRICE)\n",
    "plt.xlabel(\"full-value property-tax rate per $10,000\")\n",
    "plt.ylabel(\"Housing Price\")"
   ]
  },
  {
   "cell_type": "markdown",
   "metadata": {},
   "source": [
    "### Scatterplots using Seaborn\n",
    "***\n",
    "\n",
    "[Seaborn](https://stanford.edu/~mwaskom/software/seaborn/) is a cool Python plotting library built on top of matplotlib. It provides convenient syntax and shortcuts for many common types of plots, along with better-looking defaults.\n",
    "\n",
    "We can also use [seaborn regplot](https://stanford.edu/~mwaskom/software/seaborn/tutorial/regression.html#functions-to-draw-linear-regression-models) for the scatterplot above. This provides automatic linear regression fits (useful for data exploration later on). Here's one example below."
   ]
  },
  {
   "cell_type": "code",
   "execution_count": 27,
   "metadata": {},
   "outputs": [
    {
     "data": {
      "text/plain": [
       "<matplotlib.axes._subplots.AxesSubplot at 0x7f5a3ed57518>"
      ]
     },
     "execution_count": 27,
     "metadata": {},
     "output_type": "execute_result"
    },
    {
     "data": {
      "image/png": "[encoded data removed]",
      "text/plain": [
       "<Figure size 432x288 with 1 Axes>"
      ]
     },
     "metadata": {},
     "output_type": "display_data"
    }
   ],
   "source": [
    "sns.regplot(y=\"PRICE\", x=\"RM\", data=bos, fit_reg = True)"
   ]
  },
  {
   "cell_type": "markdown",
   "metadata": {},
   "source": [
    "### Histograms\n",
    "***\n"
   ]
  },
  {
   "cell_type": "code",
   "execution_count": 35,
   "metadata": {},
   "outputs": [
    {
     "data": {
      "image/png": "[encoded data removed]",
      "text/plain": [
       "<Figure size 432x288 with 1 Axes>"
      ]
     },
     "metadata": {},
     "output_type": "display_data"
    }
   ],
   "source": [
    "plt.hist(np.log10(bos.CRIM))\n",
    "plt.title(\"CRIM\")\n",
    "plt.xlabel(\"log10 Crime rate per capita\")\n",
    "plt.ylabel(\"Frequencey\")\n",
    "plt.show()"
   ]
  },
  {
   "cell_type": "markdown",
   "metadata": {},
   "source": [
    "<div class=\"span5 alert alert-info\">\n",
    "<h3>Part 2 Checkup Exercise Set II</h3>\n",
    "\n",
    "<p><b>Exercise:</b> In the above histogram, we took the logarithm of the crime rate per capita. Repeat this histogram without taking the log. What was the purpose of taking the log? What do we gain by making this transformation? What do you now notice about this variable that is not obvious without making the transformation?\n",
    "\n",
    "<p><b>Exercise:</b> Plot the histogram for *RM* and *PTRATIO* against each other, along with the two variables you picked in the previous section. We are looking for correlations in predictors here.</p>\n",
    "</div>"
   ]
  },
  {
   "cell_type": "code",
   "execution_count": 30,
   "metadata": {},
   "outputs": [
    {
     "data": {
      "image/png": "[encoded data removed]",
      "text/plain": [
       "<Figure size 432x288 with 1 Axes>"
      ]
     },
     "metadata": {},
     "output_type": "display_data"
    }
   ],
   "source": [
    "#your turn\n",
    "plt.hist(bos.CRIM)\n",
    "plt.title(\"CRIM\")\n",
    "plt.xlabel(\"Crime rate per capita\")\n",
    "plt.ylabel(\"Frequencey\")\n",
    "plt.show()\n",
    "#Well, one good reason to take the log is because the data ranges over multiple orders of magnitude. We could have also taken\n",
    "#the log of the frequency, which is a nice thing to do too, but it just depends on what we're trying to accomplish here.\n",
    "#Obviously we gain information about the distribution across the different orders of magnitude that without taking the log\n",
    "#is just wrapped up into a single bin. We can actually see a useful trend too which is nice. We find that the data is bimodal\n",
    "#in the log space."
   ]
  },
  {
   "cell_type": "code",
   "execution_count": 38,
   "metadata": {},
   "outputs": [
    {
     "data": {
      "image/png": "[encoded data removed]",
      "text/plain": [
       "<Figure size 432x288 with 1 Axes>"
      ]
     },
     "metadata": {},
     "output_type": "display_data"
    }
   ],
   "source": [
    "plt.hist(bos.RM, label=\"RM\")\n",
    "plt.hist(bos.PTRATIO, label=\"PTRATIO\")\n",
    "plt.ylabel(\"Frequencey\")\n",
    "plt.legend()\n",
    "plt.show()"
   ]
  },
  {
   "cell_type": "code",
   "execution_count": 42,
   "metadata": {},
   "outputs": [
    {
     "data": {
      "image/png": "[encoded data removed]",
      "text/plain": [
       "<Figure size 432x288 with 1 Axes>"
      ]
     },
     "metadata": {},
     "output_type": "display_data"
    }
   ],
   "source": [
    "plt.hist(np.log10(bos.NOX), label=\"NOX\")\n",
    "plt.hist(np.log10(bos.TAX), label=\"TAX\")\n",
    "plt.xlabel(\"log10(val)\")\n",
    "plt.ylabel(\"Frequencey\")\n",
    "plt.legend()\n",
    "plt.show()"
   ]
  },
  {
   "cell_type": "markdown",
   "metadata": {},
   "source": [
    "## Part 3: Linear Regression with Boston Housing Data Example\n",
    "***\n",
    "\n",
    "Here, \n",
    "\n",
    "$Y$ = boston housing prices (called \"target\" data in python, and referred to as the dependent variable or response variable)\n",
    "\n",
    "and\n",
    "\n",
    "$X$ = all the other features (or independent variables, predictors or explanatory variables)\n",
    "\n",
    "which we will use to fit a linear regression model and predict Boston housing prices. We will use the least-squares method to estimate the coefficients.  "
   ]
  },
  {
   "cell_type": "markdown",
   "metadata": {},
   "source": [
    "We'll use two ways of fitting a linear regression. We recommend the first but the second is also powerful in its features."
   ]
  },
  {
   "cell_type": "markdown",
   "metadata": {},
   "source": [
    "### Fitting Linear Regression using `statsmodels`\n",
    "***\n",
    "[Statsmodels](http://statsmodels.sourceforge.net/) is a great Python library for a lot of basic and inferential statistics. It also provides basic regression functions using an R-like syntax, so it's commonly used by statisticians. While we don't cover statsmodels officially in the Data Science Intensive workshop, it's a good library to have in your toolbox. Here's a quick example of what you could do with it. The version of least-squares we will use in statsmodels is called *ordinary least-squares (OLS)*. There are many other versions of least-squares such as [partial least squares (PLS)](https://en.wikipedia.org/wiki/Partial_least_squares_regression) and [weighted least squares (WLS)](https://en.wikipedia.org/wiki/Iteratively_reweighted_least_squares)."
   ]
  },
  {
   "cell_type": "code",
   "execution_count": 2,
   "metadata": {},
   "outputs": [],
   "source": [
    "# Import regression modules\n",
    "import statsmodels.api as sm\n",
    "from statsmodels.formula.api import ols"
   ]
  },
  {
   "cell_type": "code",
   "execution_count": 44,
   "metadata": {},
   "outputs": [
    {
     "name": "stdout",
     "output_type": "stream",
     "text": [
      "                            OLS Regression Results                            \n",
      "==============================================================================\n",
      "Dep. Variable:                  PRICE   R-squared:                       0.484\n",
      "Model:                            OLS   Adj. R-squared:                  0.483\n",
      "Method:                 Least Squares   F-statistic:                     471.8\n",
      "Date:                Fri, 24 May 2019   Prob (F-statistic):           2.49e-74\n",
      "Time:                        18:06:38   Log-Likelihood:                -1673.1\n",
      "No. Observations:                 506   AIC:                             3350.\n",
      "Df Residuals:                     504   BIC:                             3359.\n",
      "Df Model:                           1                                         \n",
      "Covariance Type:            nonrobust                                         \n",
      "==============================================================================\n",
      "                 coef    std err          t      P>|t|      [0.025      0.975]\n",
      "------------------------------------------------------------------------------\n",
      "Intercept    -34.6706      2.650    -13.084      0.000     -39.877     -29.465\n",
      "RM             9.1021      0.419     21.722      0.000       8.279       9.925\n",
      "==============================================================================\n",
      "Omnibus:                      102.585   Durbin-Watson:                   0.684\n",
      "Prob(Omnibus):                  0.000   Jarque-Bera (JB):              612.449\n",
      "Skew:                           0.726   Prob(JB):                    1.02e-133\n",
      "Kurtosis:                       8.190   Cond. No.                         58.4\n",
      "==============================================================================\n",
      "\n",
      "Warnings:\n",
      "[1] Standard Errors assume that the covariance matrix of the errors is correctly specified.\n"
     ]
    }
   ],
   "source": [
    "# statsmodels works nicely with pandas dataframes\n",
    "# The thing inside the \"quotes\" is called a formula, a bit on that below\n",
    "m = ols('PRICE ~ RM',bos).fit()\n",
    "print(m.summary())"
   ]
  },
  {
   "cell_type": "markdown",
   "metadata": {},
   "source": [
    "#### Interpreting coefficients\n",
    "\n",
    "There is a ton of information in this output. But we'll concentrate on the coefficient table (middle table). We can interpret the `RM` coefficient (9.1021) by first noticing that the p-value (under `P>|t|`) is so small, basically zero. This means that the number of rooms, `RM`, is a statisticall significant predictor of `PRICE`. The regression coefficient for `RM` of 9.1021 means that *on average, each additional room is associated with an increase of $\\$9,100$ in house price net of the other variables*. The confidence interval gives us a range of plausible values for this average change, about ($\\$8,279, \\$9,925$), definitely not chump change. \n",
    "\n",
    "In general, the $\\hat{\\beta_i}, i > 0$ can be interpreted as the following: \"A one unit increase in $x_i$ is associated with, on average, a $\\hat{\\beta_i}$ increase/decrease in $y$ net of all other variables.\"\n",
    "\n",
    "On the other hand, the interpretation for the intercept, $\\hat{\\beta}_0$ is the average of $y$ given that all of the independent variables $x_i$ are 0."
   ]
  },
  {
   "cell_type": "markdown",
   "metadata": {},
   "source": [
    "####  `statsmodels` formulas\n",
    "***\n",
    "This formula notation will seem familiar to `R` users, but will take some getting used to for people coming from other languages or are new to statistics.\n",
    "\n",
    "The formula gives instruction for a general structure for a regression call. For `statsmodels` (`ols` or `logit`) calls you need to have a Pandas dataframe with column names that you will add to your formula. In the below example you need a pandas data frame that includes the columns named (`Outcome`, `X1`,`X2`, ...), but you don't need to build a new dataframe for every regression. Use the same dataframe with all these things in it. The structure is very simple:\n",
    "\n",
    "`Outcome ~ X1`\n",
    "\n",
    "But of course we want to to be able to handle more complex models, for example multiple regression is doone like this:\n",
    "\n",
    "`Outcome ~ X1 + X2 + X3`\n",
    "\n",
    "In general, a formula for an OLS multiple linear regression is\n",
    "\n",
    "`Y ~ X1 + X2 + ... + Xp`\n",
    "\n",
    "This is the very basic structure but it should be enough to get you through the homework. Things can get much more complex. You can force statsmodels to treat variables as categorical with the `C()` function, call numpy functions to transform data such as `np.log` for extremely-skewed data, or fit a model without an intercept by including `- 1` in the formula. For a quick run-down of further uses see the `statsmodels` [help page](http://statsmodels.sourceforge.net/devel/example_formulas.html).\n"
   ]
  },
  {
   "cell_type": "markdown",
   "metadata": {},
   "source": [
    "Let's see how our model actually fit our data. We can see below that there is a ceiling effect, we should probably look into that. Also, for large values of $Y$ we get underpredictions, most predictions are below the 45-degree gridlines. "
   ]
  },
  {
   "cell_type": "markdown",
   "metadata": {},
   "source": [
    "<div class=\"span5 alert alert-info\">\n",
    "<h3>Part 3 Checkup Exercise Set I</h3>\n",
    "\n",
    "<p><b>Exercise:</b> Create a scatterplot between the predicted prices, available in `m.fittedvalues` (where `m` is the fitted model) and the original prices. How does the plot look? Do you notice anything interesting or weird in the plot? Comment on what you see.</p>\n",
    "</div>"
   ]
  },
  {
   "cell_type": "code",
   "execution_count": 55,
   "metadata": {},
   "outputs": [
    {
     "data": {
      "text/plain": [
       "Text(0,0.5,'predicted prices')"
      ]
     },
     "execution_count": 55,
     "metadata": {},
     "output_type": "execute_result"
    },
    {
     "data": {
      "image/png": "[encoded data removed]",
      "text/plain": [
       "<Figure size 432x288 with 1 Axes>"
      ]
     },
     "metadata": {},
     "output_type": "display_data"
    }
   ],
   "source": [
    "# your turn\n",
    "plt.scatter(bos.PRICE,m.fittedvalues)\n",
    "plt.xlabel(\"known prices\")\n",
    "plt.ylabel(\"predicted prices\")\n",
    "#Well, it seems that the model does a decent job. For the most pa"
   ]
  },
  {
   "cell_type": "code",
   "execution_count": 74,
   "metadata": {},
   "outputs": [
    {
     "name": "stdout",
     "output_type": "stream",
     "text": [
      "                            OLS Regression Results                            \n",
      "==============================================================================\n",
      "Dep. Variable:                  model   R-squared:                       0.484\n",
      "Model:                            OLS   Adj. R-squared:                  0.483\n",
      "Method:                 Least Squares   F-statistic:                     471.8\n",
      "Date:                Fri, 24 May 2019   Prob (F-statistic):           2.49e-74\n",
      "Time:                        18:52:27   Log-Likelihood:                -1489.2\n",
      "No. Observations:                 506   AIC:                             2982.\n",
      "Df Residuals:                     504   BIC:                             2991.\n",
      "Df Model:                           1                                         \n",
      "Covariance Type:            nonrobust                                         \n",
      "==============================================================================\n",
      "                 coef    std err          t      P>|t|      [0.025      0.975]\n",
      "------------------------------------------------------------------------------\n",
      "Intercept     11.6376      0.542     21.485      0.000      10.573      12.702\n",
      "price          0.4835      0.022     21.722      0.000       0.440       0.527\n",
      "==============================================================================\n",
      "Omnibus:                      123.606   Durbin-Watson:                   1.160\n",
      "Prob(Omnibus):                  0.000   Jarque-Bera (JB):              931.463\n",
      "Skew:                          -0.840   Prob(JB):                    5.44e-203\n",
      "Kurtosis:                       9.431   Cond. No.                         64.5\n",
      "==============================================================================\n",
      "\n",
      "Warnings:\n",
      "[1] Standard Errors assume that the covariance matrix of the errors is correctly specified.\n"
     ]
    }
   ],
   "source": [
    "#In order to really interpret this plot, I need to run a linear regression to see how well it matches a line with slope 1 and\n",
    "#intercept 0, since that is the expected form for a perfect linear regression against predicted and known prices.\n",
    "prices = np.zeros(shape=(len(m.fittedvalues),2))\n",
    "#print(prices[:,0])\n",
    "prices[:,0] = bos.PRICE\n",
    "prices[:,1] = m.fittedvalues\n",
    "pdat = pd.DataFrame(prices)\n",
    "pdat.columns = ['price', 'model']\n",
    "#print(pdat)\n",
    "m2 = ols('model ~ price',pdat).fit()\n",
    "print(m2.summary())"
   ]
  },
  {
   "cell_type": "markdown",
   "metadata": {},
   "source": [
    "### Fitting Linear Regression using `sklearn`\n"
   ]
  },
  {
   "cell_type": "code",
   "execution_count": 7,
   "metadata": {},
   "outputs": [
    {
     "data": {
      "text/plain": [
       "LinearRegression(copy_X=True, fit_intercept=True, n_jobs=None,\n",
       "         normalize=False)"
      ]
     },
     "execution_count": 7,
     "metadata": {},
     "output_type": "execute_result"
    }
   ],
   "source": [
    "from sklearn.linear_model import LinearRegression\n",
    "X = bos.drop('PRICE', axis = 1)\n",
    "\n",
    "# This creates a LinearRegression object\n",
    "lm = LinearRegression()\n",
    "lm"
   ]
  },
  {
   "cell_type": "markdown",
   "metadata": {},
   "source": [
    "#### What can you do with a LinearRegression object? \n",
    "***\n",
    "Check out the scikit-learn [docs here](http://scikit-learn.org/stable/modules/generated/sklearn.linear_model.LinearRegression.html). We have listed the main functions here. Most machine learning models in scikit-learn follow this same API of fitting a model with `fit`, making predictions with `predict` and the appropriate scoring function `score` for each model."
   ]
  },
  {
   "cell_type": "markdown",
   "metadata": {},
   "source": [
    "Main functions | Description\n",
    "--- | --- \n",
    "`lm.fit()` | Fit a linear model\n",
    "`lm.predit()` | Predict Y using the linear model with estimated coefficients\n",
    "`lm.score()` | Returns the coefficient of determination (R^2). *A measure of how well observed outcomes are replicated by the model, as the proportion of total variation of outcomes explained by the model*"
   ]
  },
  {
   "cell_type": "markdown",
   "metadata": {},
   "source": [
    "#### What output can you get?"
   ]
  },
  {
   "cell_type": "code",
   "execution_count": null,
   "metadata": {
    "collapsed": true
   },
   "outputs": [],
   "source": [
    "# Look inside lm object\n",
    "# lm.<tab>"
   ]
  },
  {
   "cell_type": "markdown",
   "metadata": {},
   "source": [
    "Output | Description\n",
    "--- | --- \n",
    "`lm.coef_` | Estimated coefficients\n",
    "`lm.intercept_` | Estimated intercept "
   ]
  },
  {
   "cell_type": "markdown",
   "metadata": {},
   "source": [
    "### Fit a linear model\n",
    "***\n",
    "\n",
    "The `lm.fit()` function estimates the coefficients the linear regression using least squares. "
   ]
  },
  {
   "cell_type": "code",
   "execution_count": 8,
   "metadata": {},
   "outputs": [
    {
     "data": {
      "text/plain": [
       "LinearRegression(copy_X=True, fit_intercept=True, n_jobs=None,\n",
       "         normalize=False)"
      ]
     },
     "execution_count": 8,
     "metadata": {},
     "output_type": "execute_result"
    }
   ],
   "source": [
    "# Use all 13 predictors to fit linear regression model\n",
    "lm.fit(X, bos.PRICE)"
   ]
  },
  {
   "cell_type": "markdown",
   "metadata": {},
   "source": [
    "<div class=\"span5 alert alert-info\">\n",
    "<h3>Part 3 Checkup Exercise Set II</h3>\n",
    "\n",
    "<p><b>Exercise:</b> How would you change the model to not fit an intercept term? Would you recommend not having an intercept? Why or why not? For more information on why to include or exclude an intercept, look [here](https://stats.idre.ucla.edu/other/mult-pkg/faq/general/faq-what-is-regression-through-the-origin/).</p>\n",
    "\n",
    "<p><b>Exercise:</b> One of the assumptions of the linear model is that the residuals must be i.i.d. (independently and identically distributed). To satisfy this, is it enough that the residuals are normally distributed? Explain your answer.</p>\n",
    "\n",
    "<p><b>Exercise:</b> True or false. To use linear regression, $Y$ must be normally distributed. Explain your answer.</p>\n",
    "</div>\n"
   ]
  },
  {
   "cell_type": "code",
   "execution_count": null,
   "metadata": {
    "collapsed": true
   },
   "outputs": [],
   "source": [
    "# your turn\n",
    "#Ok. So since this is a linear model, you will always have an intercept. Fitting a model without in intercept isn't an\n",
    "#option. I think the code/documentation is actually pretty misleading on this point. What actually happens when you set\n",
    "#that flag to false regarding fitting an intercept is that the intercept is set to 0. In this case, it probably isn't a good\n",
    "#idea to do this because this should only be the case if having all variables be 0 means that we should actually predict\n",
    "#0. But in this case, that doesn't make sense, e.g. if the crime rate is 0, that doesn't mean that the housing prices\n",
    "#should average to 0.\n",
    "\n",
    "#From what I remember googling around about this one, yes. Having these two conditions are mathematically equivalent to each\n",
    "#other.\n",
    "\n",
    "#This is absolutely false. I don't even know why this question is being asked. I mean, if the data is normally distributed,\n",
    "#then the data clearly doesn't regress linearly, it regresses to a normal distribution function...so we should use some \n",
    "#other regression technique.\n",
    "#Now, I don't think this is actually what was being asked in this question though. I think what was actually being asked\n",
    "#was if the residuals needed to be normally distributed from the best fit line in order to do lienar regression. This is\n",
    "#also a no. But again, if the data were normally distributed around the best fit line then the fit might be pretty decent,\n",
    "#but it depends on the spread. The other thing is that if the data follows a normal distribution then we shouldn't be \n",
    "#performing a linear regression but instead a regression to a normal distribution using a curve fitting package.\n",
    "#\n",
    "#By the way, I actually found this: Normality: For any fixed value of X, Y is normally distributed.\n",
    "# (http://sphweb.bumc.bu.edu/otlt/MPH-Modules/BS/R/R5_Correlation-Regression/R5_Correlation-Regression7.html)\n",
    "#I guess the only reason that could be useful is that if this condition held, then there could be a perfect fit if the \n",
    "#data were actually linear."
   ]
  },
  {
   "cell_type": "markdown",
   "metadata": {},
   "source": [
    "### Estimated intercept and coefficients\n",
    "\n",
    "Let's look at the estimated coefficients from the linear model using `1m.intercept_` and `lm.coef_`.  \n",
    "\n",
    "After we have fit our linear regression model using the least squares method, we want to see what are the estimates of our coefficients $\\beta_0$, $\\beta_1$, ..., $\\beta_{13}$: \n",
    "\n",
    "$$ \\hat{\\beta}_0, \\hat{\\beta}_1, \\ldots, \\hat{\\beta}_{13} $$\n",
    "\n"
   ]
  },
  {
   "cell_type": "code",
   "execution_count": 9,
   "metadata": {},
   "outputs": [
    {
     "name": "stdout",
     "output_type": "stream",
     "text": [
      "Estimated intercept coefficient: 36.45948838509015\n"
     ]
    }
   ],
   "source": [
    "print('Estimated intercept coefficient: {}'.format(lm.intercept_))"
   ]
  },
  {
   "cell_type": "code",
   "execution_count": 10,
   "metadata": {},
   "outputs": [
    {
     "name": "stdout",
     "output_type": "stream",
     "text": [
      "Number of coefficients: 13\n"
     ]
    }
   ],
   "source": [
    "print('Number of coefficients: {}'.format(len(lm.coef_)))"
   ]
  },
  {
   "cell_type": "code",
   "execution_count": 11,
   "metadata": {},
   "outputs": [
    {
     "data": {
      "text/html": [
       "<div>\n",
       "<style scoped>\n",
       "    .dataframe tbody tr th:only-of-type {\n",
       "        vertical-align: middle;\n",
       "    }\n",
       "\n",
       "    .dataframe tbody tr th {\n",
       "        vertical-align: top;\n",
       "    }\n",
       "\n",
       "    .dataframe thead th {\n",
       "        text-align: right;\n",
       "    }\n",
       "</style>\n",
       "<table border=\"1\" class=\"dataframe\">\n",
       "  <thead>\n",
       "    <tr style=\"text-align: right;\">\n",
       "      <th></th>\n",
       "      <th>features</th>\n",
       "      <th>estimatedCoefficients</th>\n",
       "    </tr>\n",
       "  </thead>\n",
       "  <tbody>\n",
       "    <tr>\n",
       "      <th>0</th>\n",
       "      <td>0</td>\n",
       "      <td>-0.108011</td>\n",
       "    </tr>\n",
       "    <tr>\n",
       "      <th>1</th>\n",
       "      <td>1</td>\n",
       "      <td>0.046420</td>\n",
       "    </tr>\n",
       "    <tr>\n",
       "      <th>2</th>\n",
       "      <td>2</td>\n",
       "      <td>0.020559</td>\n",
       "    </tr>\n",
       "    <tr>\n",
       "      <th>3</th>\n",
       "      <td>3</td>\n",
       "      <td>2.686734</td>\n",
       "    </tr>\n",
       "    <tr>\n",
       "      <th>4</th>\n",
       "      <td>4</td>\n",
       "      <td>-17.766611</td>\n",
       "    </tr>\n",
       "    <tr>\n",
       "      <th>5</th>\n",
       "      <td>5</td>\n",
       "      <td>3.809865</td>\n",
       "    </tr>\n",
       "    <tr>\n",
       "      <th>6</th>\n",
       "      <td>6</td>\n",
       "      <td>0.000692</td>\n",
       "    </tr>\n",
       "    <tr>\n",
       "      <th>7</th>\n",
       "      <td>7</td>\n",
       "      <td>-1.475567</td>\n",
       "    </tr>\n",
       "    <tr>\n",
       "      <th>8</th>\n",
       "      <td>8</td>\n",
       "      <td>0.306049</td>\n",
       "    </tr>\n",
       "    <tr>\n",
       "      <th>9</th>\n",
       "      <td>9</td>\n",
       "      <td>-0.012335</td>\n",
       "    </tr>\n",
       "    <tr>\n",
       "      <th>10</th>\n",
       "      <td>10</td>\n",
       "      <td>-0.952747</td>\n",
       "    </tr>\n",
       "    <tr>\n",
       "      <th>11</th>\n",
       "      <td>11</td>\n",
       "      <td>0.009312</td>\n",
       "    </tr>\n",
       "    <tr>\n",
       "      <th>12</th>\n",
       "      <td>12</td>\n",
       "      <td>-0.524758</td>\n",
       "    </tr>\n",
       "  </tbody>\n",
       "</table>\n",
       "</div>"
      ],
      "text/plain": [
       "   features  estimatedCoefficients\n",
       "0         0              -0.108011\n",
       "1         1               0.046420\n",
       "2         2               0.020559\n",
       "3         3               2.686734\n",
       "4         4             -17.766611\n",
       "5         5               3.809865\n",
       "6         6               0.000692\n",
       "7         7              -1.475567\n",
       "8         8               0.306049\n",
       "9         9              -0.012335\n",
       "10       10              -0.952747\n",
       "11       11               0.009312\n",
       "12       12              -0.524758"
      ]
     },
     "execution_count": 11,
     "metadata": {},
     "output_type": "execute_result"
    }
   ],
   "source": [
    "# The coefficients\n",
    "pd.DataFrame({'features': X.columns, 'estimatedCoefficients': lm.coef_})[['features', 'estimatedCoefficients']]"
   ]
  },
  {
   "cell_type": "markdown",
   "metadata": {},
   "source": [
    "### Predict Prices \n",
    "\n",
    "We can calculate the predicted prices ($\\hat{Y}_i$) using `lm.predict`. \n",
    "\n",
    "$$ \\hat{Y}_i = \\hat{\\beta}_0 + \\hat{\\beta}_1 X_1 + \\ldots \\hat{\\beta}_{13} X_{13} $$"
   ]
  },
  {
   "cell_type": "code",
   "execution_count": 12,
   "metadata": {},
   "outputs": [
    {
     "data": {
      "text/plain": [
       "array([30.00384338, 25.02556238, 30.56759672, 28.60703649, 27.94352423])"
      ]
     },
     "execution_count": 12,
     "metadata": {},
     "output_type": "execute_result"
    }
   ],
   "source": [
    "# first five predicted prices\n",
    "lm.predict(X)[0:5]"
   ]
  },
  {
   "cell_type": "markdown",
   "metadata": {},
   "source": [
    "<div class=\"span5 alert alert-info\">\n",
    "<h3>Part 3 Checkup Exercise Set III</h3>\n",
    "\n",
    "<p><b>Exercise:</b> Histogram: Plot a histogram of all the predicted prices. Write a story about what you see. Describe the shape, center and spread of the distribution. Are there any outliers? What might be the reason for them? Should we do anything special with them?</p>\n",
    "\n",
    "<p><b>Exercise:</b> Scatterplot: Let's plot the true prices compared to the predicted prices to see they disagree (we did this with `statsmodels` before).</p>\n",
    "\n",
    "<p><b>Exercise:</b> We have looked at fitting a linear model in both `statsmodels` and `scikit-learn`. What are the advantages and disadvantages of each based on your exploration? Based on the information provided by both packages, what advantage does `statsmodels` provide?</p>\n",
    "</div>"
   ]
  },
  {
   "cell_type": "code",
   "execution_count": 14,
   "metadata": {},
   "outputs": [
    {
     "data": {
      "image/png": "[encoded data removed]",
      "text/plain": [
       "<Figure size 432x288 with 1 Axes>"
      ]
     },
     "metadata": {
      "needs_background": "light"
     },
     "output_type": "display_data"
    }
   ],
   "source": [
    "# your turn\n",
    "#plt.hist(np.log10(bos.PRICE), label=\"NOX\")\n",
    "plt.hist(lm.predict(X), label=\"predicted price\")\n",
    "plt.xlabel(\"price\")\n",
    "plt.ylabel(\"Frequencey\")\n",
    "plt.legend()\n",
    "plt.show()"
   ]
  },
  {
   "cell_type": "code",
   "execution_count": 15,
   "metadata": {},
   "outputs": [
    {
     "data": {
      "text/plain": [
       "-4.281310709184851"
      ]
     },
     "execution_count": 15,
     "metadata": {},
     "output_type": "execute_result"
    }
   ],
   "source": [
    "min(lm.predict(X))"
   ]
  },
  {
   "cell_type": "code",
   "execution_count": 16,
   "metadata": {},
   "outputs": [
    {
     "data": {
      "text/plain": [
       "22.532806324110677"
      ]
     },
     "execution_count": 16,
     "metadata": {},
     "output_type": "execute_result"
    }
   ],
   "source": [
    "np.mean(lm.predict(X))"
   ]
  },
  {
   "cell_type": "code",
   "execution_count": 18,
   "metadata": {},
   "outputs": [
    {
     "data": {
      "text/plain": [
       "7.915082836649274"
      ]
     },
     "execution_count": 18,
     "metadata": {},
     "output_type": "execute_result"
    }
   ],
   "source": [
    "import statistics\n",
    "statistics.stdev(lm.predict(X))"
   ]
  },
  {
   "cell_type": "code",
   "execution_count": 19,
   "metadata": {},
   "outputs": [
    {
     "data": {
      "text/plain": [
       "Text(0, 0.5, 'predicted prices')"
      ]
     },
     "execution_count": 19,
     "metadata": {},
     "output_type": "execute_result"
    },
    {
     "data": {
      "image/png": "[encoded data removed]",
      "text/plain": [
       "<Figure size 432x288 with 1 Axes>"
      ]
     },
     "metadata": {
      "needs_background": "light"
     },
     "output_type": "display_data"
    }
   ],
   "source": [
    "#So basically the house prices are a bit skewed in their distribution, shifted toward higher values.\n",
    "#The mean is about $22K, with standard deviation abougt $8K.\n",
    "#There is a problem because we predict some houses to have negative prices, which is clearly wrong.\n",
    "#Yes probably we should try to build a separate model for dealing with the bad values.\n",
    "plt.scatter(bos.PRICE,lm.predict(X))\n",
    "plt.xlabel(\"known prices\")\n",
    "plt.ylabel(\"predicted prices\")"
   ]
  },
  {
   "cell_type": "code",
   "execution_count": 23,
   "metadata": {},
   "outputs": [
    {
     "name": "stdout",
     "output_type": "stream",
     "text": [
      "                            OLS Regression Results                            \n",
      "==============================================================================\n",
      "Dep. Variable:                  model   R-squared:                       0.741\n",
      "Model:                            OLS   Adj. R-squared:                  0.740\n",
      "Method:                 Least Squares   F-statistic:                     1439.\n",
      "Date:                Mon, 10 Jun 2019   Prob (F-statistic):          8.28e-150\n",
      "Time:                        13:07:40   Log-Likelihood:                -1422.8\n",
      "No. Observations:                 506   AIC:                             2850.\n",
      "Df Residuals:                     504   BIC:                             2858.\n",
      "Df Model:                           1                                         \n",
      "Covariance Type:            nonrobust                                         \n",
      "==============================================================================\n",
      "                 coef    std err          t      P>|t|      [0.025      0.975]\n",
      "------------------------------------------------------------------------------\n",
      "Intercept      5.8440      0.475     12.302      0.000       4.911       6.777\n",
      "price          0.7406      0.020     37.938      0.000       0.702       0.779\n",
      "==============================================================================\n",
      "Omnibus:                      114.895   Durbin-Watson:                   1.021\n",
      "Prob(Omnibus):                  0.000   Jarque-Bera (JB):              339.796\n",
      "Skew:                          -1.073   Prob(JB):                     1.64e-74\n",
      "Kurtosis:                       6.393   Cond. No.                         64.5\n",
      "==============================================================================\n",
      "\n",
      "Warnings:\n",
      "[1] Standard Errors assume that the covariance matrix of the errors is correctly specified.\n"
     ]
    }
   ],
   "source": [
    "#Again, in order to compare this model, I need to run against a linear regression to slope 1.\n",
    "prices = np.zeros(shape=(len(bos.PRICE),2))\n",
    "#print(prices[:,0])\n",
    "prices[:,0] = bos.PRICE\n",
    "prices[:,1] = lm.predict(X)\n",
    "pdat = pd.DataFrame(prices)\n",
    "pdat.columns = ['price', 'model']\n",
    "#print(pdat)\n",
    "m2 = ols('model ~ price',pdat).fit()\n",
    "print(m2.summary())"
   ]
  },
  {
   "cell_type": "code",
   "execution_count": null,
   "metadata": {},
   "outputs": [],
   "source": [
    "#This model actually did much better than the other one. It got a slope of about 0.75 compared to a slope of 0.5. \n",
    "#So actually, I don't think one should use the fitter from statsmodel. The one from sklearn is much better.\n",
    "#One convenient thing about the statsmodel package, however, is how you can specify the formula for the regression.\n",
    "#But with sklearn, the modeling has similar syntax to other sklearn libraries, which makes that one easier to learn/use \n",
    "#as well."
   ]
  },
  {
   "cell_type": "markdown",
   "metadata": {},
   "source": [
    "### Evaluating the Model: Sum-of-Squares\n",
    "\n",
    "The partitioning of the sum-of-squares shows the variance in the predictions explained by the model and the variance that is attributed to error.\n",
    "\n",
    "$$TSS = ESS + RSS$$\n",
    "\n",
    "#### Residual Sum-of-Squares (aka $RSS$)\n",
    "\n",
    "The residual sum-of-squares is one of the basic ways of quantifying how much error exists in the fitted model. We will revisit this in a bit.\n",
    "\n",
    "$$ RSS = \\sum_{i=1}^N r_i^2 = \\sum_{i=1}^N \\left(y_i - \\left(\\beta_0 + \\beta_1 x_i\\right)\\right)^2 $$"
   ]
  },
  {
   "cell_type": "markdown",
   "metadata": {},
   "source": [
    "print(np.sum((bos.PRICE - lm.predict(X)) ** 2))"
   ]
  },
  {
   "cell_type": "markdown",
   "metadata": {},
   "source": [
    "#### Explained Sum-of-Squares (aka $ESS$)\n",
    "\n",
    "The explained sum-of-squares measures the variance explained by the regression model.\n",
    "\n",
    "$$ESS = \\sum_{i=1}^N \\left( \\hat{y}_i - \\bar{y} \\right)^2 = \\sum_{i=1}^N \\left( \\left( \\hat{\\beta}_0 + \\hat{\\beta}_1 x_i \\right) - \\bar{y} \\right)^2$$"
   ]
  },
  {
   "cell_type": "code",
   "execution_count": 25,
   "metadata": {},
   "outputs": [
    {
     "name": "stdout",
     "output_type": "stream",
     "text": [
      "31637.510837065056\n"
     ]
    }
   ],
   "source": [
    "print(np.sum((lm.predict(X) - np.mean(bos.PRICE))**2))"
   ]
  },
  {
   "cell_type": "markdown",
   "metadata": {},
   "source": [
    "### Evaluating the Model: The Coefficient of Determination ($R^2$)\n",
    "\n",
    "The coefficient of determination, $R^2$, tells us the percentage of the variance in the response variable $Y$ that can be explained by the linear regression model.\n",
    "\n",
    "$$ R^2 = \\frac{ESS}{TSS} $$\n",
    "\n",
    "The $R^2$ value is one of the most common metrics that people use in describing the quality of a model, but it is important to note that *$R^2$ increases artificially as a side-effect of increasing the number of independent variables.* While $R^2$ is reported in almost all statistical packages, another metric called the *adjusted $R^2$* is also provided as it takes into account the number of variables in the model, and can sometimes even be used for non-linear regression models!\n",
    "\n",
    "$$R_{adj}^2 = 1 - \\left( 1 - R^2 \\right) \\frac{N - 1}{N - K - 1} = R^2 - \\left( 1 - R^2 \\right) \\frac{K}{N - K - 1} = 1 - \\frac{\\frac{RSS}{DF_R}}{\\frac{TSS}{DF_T}}$$\n",
    "\n",
    "where $N$ is the number of observations, $K$ is the number of variables, $DF_R = N - K - 1$ is the degrees of freedom associated with the residual error and $DF_T = N - 1$ is the degrees of the freedom of the total error."
   ]
  },
  {
   "cell_type": "markdown",
   "metadata": {},
   "source": [
    "### Evaluating the Model: Mean Squared Error and the $F$-Statistic\n",
    "***\n",
    "The mean squared errors are just the *averages* of the sum-of-squares errors over their respective degrees of freedom.\n",
    "\n",
    "$$MSR = \\frac{ESS}{K}$$\n",
    "\n",
    "$$MSE = \\frac{RSS}{N-K-1}$$\n",
    "\n",
    "**Remember:** Notation may vary across resources particularly the use of *R* and *E* in *RSS/ESS* and *MSR/MSE*. In some resources, E = explained and R = residual. In other resources, E = error and R = regression (explained). **This is a very important distinction that requires looking at the formula to determine which naming scheme is being used.**\n",
    "\n",
    "Given the MSR and MSE, we can now determine whether or not the entire model we just fit is even statistically significant. We use an $F$-test for this. The null hypothesis is that all of the $\\beta$ coefficients are zero, that is, none of them have any effect on $Y$. The alternative is that *at least one* $\\beta$ coefficient is nonzero, but it doesn't tell us which one in a multiple regression:\n",
    "\n",
    "$$H_0: \\beta_i = 0, \\mbox{for all $i$} \\\\\n",
    "H_A: \\beta_i > 0, \\mbox{for some $i$}$$ \n",
    "\n",
    "$$F = \\frac{MSR}{MSE} = \\left( \\frac{R^2}{1 - R^2} \\right) \\left( \\frac{N - K - 1}{K} \\right)$$\n",
    " \n",
    "Once we compute the $F$-statistic, we can use the $F$-distribution with $N-K$ and $K-1$ degrees of degrees of freedom to get a p-value.\n",
    "\n",
    "**Warning!** The $F$-statistic mentioned in this section is NOT the same as the F1-measure or F1-value discused in Unit 7."
   ]
  },
  {
   "cell_type": "markdown",
   "metadata": {},
   "source": [
    "<div class=\"span5 alert alert-info\">\n",
    "<h3>Part 3 Checkup Exercise Set IV</h3>\n",
    "\n",
    "<p>Let's look at the relationship between `PTRATIO` and housing price.</p>\n",
    "\n",
    "<p><b>Exercise:</b> Try fitting a linear regression model using only the 'PTRATIO' (pupil-teacher ratio by town) and interpret the intercept and the coefficients.</p>\n",
    "\n",
    "<p><b>Exercise:</b> Calculate (or extract) the $R^2$ value. What does it tell you?</p>\n",
    "\n",
    "<p><b>Exercise:</b> Compute the $F$-statistic. What does it tell you?</p>\n",
    "\n",
    "<p><b>Exercise:</b> Take a close look at the $F$-statistic and the $t$-statistic for the regression coefficient. What relationship do you notice? Note that this relationship only applies in *simple* linear regression models.</p>\n",
    "</div>"
   ]
  },
  {
   "cell_type": "code",
   "execution_count": 38,
   "metadata": {},
   "outputs": [
    {
     "name": "stdout",
     "output_type": "stream",
     "text": [
      "                            OLS Regression Results                            \n",
      "==============================================================================\n",
      "Dep. Variable:                  PRICE   R-squared:                       0.258\n",
      "Model:                            OLS   Adj. R-squared:                  0.256\n",
      "Method:                 Least Squares   F-statistic:                     175.1\n",
      "Date:                Mon, 10 Jun 2019   Prob (F-statistic):           1.61e-34\n",
      "Time:                        13:14:18   Log-Likelihood:                -1764.8\n",
      "No. Observations:                 506   AIC:                             3534.\n",
      "Df Residuals:                     504   BIC:                             3542.\n",
      "Df Model:                           1                                         \n",
      "Covariance Type:            nonrobust                                         \n",
      "==============================================================================\n",
      "                 coef    std err          t      P>|t|      [0.025      0.975]\n",
      "------------------------------------------------------------------------------\n",
      "Intercept     62.3446      3.029     20.581      0.000      56.393      68.296\n",
      "PTRATIO       -2.1572      0.163    -13.233      0.000      -2.477      -1.837\n",
      "==============================================================================\n",
      "Omnibus:                       92.924   Durbin-Watson:                   0.725\n",
      "Prob(Omnibus):                  0.000   Jarque-Bera (JB):              191.444\n",
      "Skew:                           1.001   Prob(JB):                     2.68e-42\n",
      "Kurtosis:                       5.252   Cond. No.                         160.\n",
      "==============================================================================\n",
      "\n",
      "Warnings:\n",
      "[1] Standard Errors assume that the covariance matrix of the errors is correctly specified.\n"
     ]
    }
   ],
   "source": [
    "# your turn\n",
    "m = ols('PRICE ~ PTRATIO',bos).fit()\n",
    "print(m.summary())"
   ]
  },
  {
   "cell_type": "code",
   "execution_count": null,
   "metadata": {},
   "outputs": [],
   "source": [
    "#well, the R squared roughly tells us the quality of the fit. High R squared (close to 1) means there is litte error in the \n",
    "#fit. Low R squared means the residuals are much higher. So this tells me that this fit is not that phenomenal.\n",
    "#The F statistic is given and itself doesn't say too much, but given the p value for the F test, it can tell us how\n",
    "#significantly the model fits compared to the random model which uses only an intercept to fit. And while the fit isn't\n",
    "#that phenomenal, it is clearly not a random fit.\n",
    "#Honestly I didn't notice any relationship between the F statistic and the t statistic, but I found on wikipedia that the \n",
    "#F value should be t squared, and sure enough, it is."
   ]
  },
  {
   "cell_type": "markdown",
   "metadata": {},
   "source": [
    "<div class=\"span5 alert alert-info\">\n",
    "<h3>Part 3 Checkup Exercise Set V</h3>\n",
    "\n",
    "<p>Fit a linear regression model using three independent variables</p>\n",
    "\n",
    "<ol>\n",
    "<li> 'CRIM' (per capita crime rate by town)\n",
    "<li> 'RM' (average number of rooms per dwelling)\n",
    "<li> 'PTRATIO' (pupil-teacher ratio by town)\n",
    "</ol>\n",
    "\n",
    "<p><b>Exercise:</b> Compute or extract the $F$-statistic. What does it tell you about the model?</p>\n",
    "\n",
    "<p><b>Exercise:</b> Compute or extract the $R^2$ statistic. What does it tell you about the model?</p>\n",
    "\n",
    "<p><b>Exercise:</b> Which variables in the model are significant in predicting house price? Write a story that interprets the coefficients.</p>\n",
    "</div>"
   ]
  },
  {
   "cell_type": "code",
   "execution_count": 26,
   "metadata": {},
   "outputs": [
    {
     "name": "stdout",
     "output_type": "stream",
     "text": [
      "                            OLS Regression Results                            \n",
      "==============================================================================\n",
      "Dep. Variable:                  PRICE   R-squared:                       0.594\n",
      "Model:                            OLS   Adj. R-squared:                  0.592\n",
      "Method:                 Least Squares   F-statistic:                     245.2\n",
      "Date:                Sat, 06 Jul 2019   Prob (F-statistic):           6.15e-98\n",
      "Time:                        11:06:22   Log-Likelihood:                -1612.0\n",
      "No. Observations:                 506   AIC:                             3232.\n",
      "Df Residuals:                     502   BIC:                             3249.\n",
      "Df Model:                           3                                         \n",
      "Covariance Type:            nonrobust                                         \n",
      "==============================================================================\n",
      "                 coef    std err          t      P>|t|      [0.025      0.975]\n",
      "------------------------------------------------------------------------------\n",
      "Intercept     -3.3707      4.034     -0.836      0.404     -11.296       4.555\n",
      "PTRATIO       -1.0695      0.133     -8.051      0.000      -1.331      -0.809\n",
      "CRIM          -0.2050      0.032     -6.399      0.000      -0.268      -0.142\n",
      "RM             7.3804      0.402     18.382      0.000       6.592       8.169\n",
      "==============================================================================\n",
      "Omnibus:                      234.656   Durbin-Watson:                   0.830\n",
      "Prob(Omnibus):                  0.000   Jarque-Bera (JB):             2020.689\n",
      "Skew:                           1.815   Prob(JB):                         0.00\n",
      "Kurtosis:                      12.092   Cond. No.                         311.\n",
      "==============================================================================\n",
      "\n",
      "Warnings:\n",
      "[1] Standard Errors assume that the covariance matrix of the errors is correctly specified.\n"
     ]
    }
   ],
   "source": [
    "# your turn\n",
    "m1 = ols('PRICE ~ PTRATIO + CRIM + RM',bos).fit()\n",
    "print(m1.summary())"
   ]
  },
  {
   "cell_type": "code",
   "execution_count": 11,
   "metadata": {},
   "outputs": [],
   "source": [
    "#Well, this fit has a much higher R squared value than the previous model, so it is a much better model; although, it still\n",
    "#isn't that great. As for the F statistic, this one has a p value many orders of magnitude smaller than the previous model,\n",
    "#but again that isn't all that surprising since it has a higher R squared value also.\n",
    "#As for the coefficients, wellm the strongest impact on price is the number of rooms. The more rooms in the house, the more\n",
    "#the house costs. The next most significant variable is the pupil-teacher ratio. As there are more students per teacher, the\n",
    "#price of a house decreases.  Finally comes the per capita crime rate. If there is more crime in an area, the price of the\n",
    "#house is also lower.\n",
    "#\n",
    "#\n",
    "#\n",
    "#        - CRIM     per capita crime rate by town\n",
    "#        - ZN       proportion of residential land zoned for lots over 25,000 sq.ft.\n",
    "#        - INDUS    proportion of non-retail business acres per town\n",
    "#        - CHAS     Charles River dummy variable (= 1 if tract bounds river; 0 otherwise)\n",
    "#       - NOX      nitric oxides concentration (parts per 10 million)\n",
    "#        - RM       average number of rooms per dwelling\n",
    "#        - AGE      proportion of owner-occupied units built prior to 1940\n",
    "#        - DIS      weighted distances to five Boston employment centres\n",
    "#        - RAD      index of accessibility to radial highways\n",
    "#        - TAX      full-value property-tax rate per $10,000\n",
    "#        - PTRATIO  pupil-teacher ratio by town\n",
    "#        - B        1000(Bk - 0.63)^2 where Bk is the proportion of blacks by town\n",
    "#        - LSTAT    % lower status of the population\n",
    "#        - MEDV     Median value of owner-occupied homes in $1000's"
   ]
  },
  {
   "cell_type": "markdown",
   "metadata": {},
   "source": [
    "## Part 4: Comparing Models"
   ]
  },
  {
   "cell_type": "markdown",
   "metadata": {},
   "source": [
    "During modeling, there will be times when we want to compare models to see which one is more predictive or fits the data better. There are many ways to compare models, but we will focus on two."
   ]
  },
  {
   "cell_type": "markdown",
   "metadata": {},
   "source": [
    "### The $F$-Statistic Revisited\n",
    "\n",
    "The $F$-statistic can also be used to compare two *nested* models, that is, two models trained on the same dataset where one of the models contains a *subset* of the variables of the other model. The *full* model contains $K$ variables and the *reduced* model contains a subset of these $K$ variables. This allows us to add additional variables to a base model and then test if adding the variables helped the model fit.\n",
    "\n",
    "$$F = \\frac{\\left( \\frac{RSS_{reduced} - RSS_{full}}{DF_{reduced} - DF_{full}} \\right)}{\\left( \\frac{RSS_{full}}{DF_{full}} \\right)}$$\n",
    "\n",
    "where $DF_x = N - K_x - 1$ where $K_x$ is the number of variables in model $x$."
   ]
  },
  {
   "cell_type": "markdown",
   "metadata": {},
   "source": [
    "### Akaike Information Criterion (AIC)\n",
    "\n",
    "Another statistic for comparing two models is AIC, which is based on the likelihood function and takes into account the number of variables in the model.\n",
    "\n",
    "$$AIC = 2 K - 2 \\log_e{L}$$\n",
    "\n",
    "where $L$ is the likelihood of the model. AIC is meaningless in the absolute sense, and is only meaningful when compared to AIC values from other models. Lower values of AIC indicate better fitting models.\n",
    "\n",
    "`statsmodels` provides the AIC in its output."
   ]
  },
  {
   "cell_type": "markdown",
   "metadata": {},
   "source": [
    "<div class=\"span5 alert alert-info\">\n",
    "<h3>Part 4 Checkup Exercises</h3>\n",
    "\n",
    "<p><b>Exercise:</b> Find another variable (or two) to add to the model we built in Part 3. Compute the $F$-test comparing the two models as well as the AIC. Which model is better?</p>\n",
    "</div>"
   ]
  },
  {
   "cell_type": "code",
   "execution_count": 27,
   "metadata": {},
   "outputs": [
    {
     "name": "stdout",
     "output_type": "stream",
     "text": [
      "                            OLS Regression Results                            \n",
      "==============================================================================\n",
      "Dep. Variable:                  PRICE   R-squared:                       0.696\n",
      "Model:                            OLS   Adj. R-squared:                  0.693\n",
      "Method:                 Least Squares   F-statistic:                     228.7\n",
      "Date:                Sat, 06 Jul 2019   Prob (F-statistic):          1.10e-126\n",
      "Time:                        11:06:30   Log-Likelihood:                -1539.2\n",
      "No. Observations:                 506   AIC:                             3090.\n",
      "Df Residuals:                     500   BIC:                             3116.\n",
      "Df Model:                           5                                         \n",
      "Covariance Type:            nonrobust                                         \n",
      "==============================================================================\n",
      "                 coef    std err          t      P>|t|      [0.025      0.975]\n",
      "------------------------------------------------------------------------------\n",
      "Intercept     22.8945      4.080      5.611      0.000      14.879      30.910\n",
      "PTRATIO       -0.9214      0.116     -7.914      0.000      -1.150      -0.693\n",
      "CRIM          -0.0918      0.031     -2.998      0.003      -0.152      -0.032\n",
      "RM             4.3326      0.422     10.266      0.000       3.503       5.162\n",
      "LSTAT         -0.6244      0.048    -12.911      0.000      -0.719      -0.529\n",
      "DIS           -0.6201      0.128     -4.845      0.000      -0.872      -0.369\n",
      "==============================================================================\n",
      "Omnibus:                      182.594   Durbin-Watson:                   0.960\n",
      "Prob(Omnibus):                  0.000   Jarque-Bera (JB):              810.523\n",
      "Skew:                           1.561   Prob(JB):                    9.93e-177\n",
      "Kurtosis:                       8.357   Cond. No.                         442.\n",
      "==============================================================================\n",
      "\n",
      "Warnings:\n",
      "[1] Standard Errors assume that the covariance matrix of the errors is correctly specified.\n"
     ]
    }
   ],
   "source": [
    "m2 = ols('PRICE ~ PTRATIO + CRIM + RM + LSTAT + DIS',bos).fit()\n",
    "print(m2.summary())"
   ]
  },
  {
   "cell_type": "code",
   "execution_count": 32,
   "metadata": {},
   "outputs": [
    {
     "name": "stdout",
     "output_type": "stream",
     "text": [
      "-516.0066421043725\n",
      "-518.6465517241379\n"
     ]
    }
   ],
   "source": [
    "import numpy as np\n",
    "rss1 = np.sum((m1.fittedvalues - np.mean(bos.PRICE))**2)\n",
    "rss2 = np.sum((m2.fittedvalues - np.mean(bos.PRICE))**2)\n",
    "p2=5\n",
    "p1=3\n",
    "n=bos.size\n",
    "\n",
    "print(((rss1-rss2)/(p2-p1))/(rss2/(n-p2)))\n",
    "\n",
    "print(((0.696-0.594)/(bos.size-5-1-(bos.size-3-1)))/(0.696/(bos.size-5-1)))"
   ]
  },
  {
   "cell_type": "code",
   "execution_count": 23,
   "metadata": {},
   "outputs": [
    {
     "data": {
      "text/plain": [
       "7084"
      ]
     },
     "execution_count": 23,
     "metadata": {},
     "output_type": "execute_result"
    }
   ],
   "source": [
    "#well this doesn't seem right to me. I really don't know what I did wrong here. I followed the formula and I also used a\n",
    "#separate formula I found on wikipedia (https://en.wikipedia.org/wiki/F-test) and neither result seemed to give a value\n",
    "#which made sense."
   ]
  },
  {
   "cell_type": "markdown",
   "metadata": {},
   "source": [
    "\n",
    "## Part 5: Evaluating the Model via Model Assumptions and Other Issues\n",
    "***\n",
    "Linear regression makes several assumptions. It is always best to check that these assumptions are valid after fitting a linear regression model.\n",
    "\n",
    "<div class=\"span5 alert alert-danger\">\n",
    "<ul>\n",
    "  <li>**Linearity**. The dependent variable $Y$ is a linear combination of the regression coefficients and the independent variables $X$. This can be verified with a scatterplot of each $X$ vs. $Y$ and plotting correlations among $X$. Nonlinearity can sometimes be resolved by [transforming](https://onlinecourses.science.psu.edu/stat501/node/318) one or more independent variables, the dependent variable, or both. In other cases, a [generalized linear model](https://en.wikipedia.org/wiki/Generalized_linear_model) or a [nonlinear model](https://en.wikipedia.org/wiki/Nonlinear_regression) may be warranted.</li>\n",
    "  <li>**Constant standard deviation**. The SD of the dependent variable $Y$ should be constant for different values of X. We can check this by plotting each $X$ against $Y$ and verifying that there is no \"funnel\" shape showing data points fanning out as $X$ increases or decreases. Some techniques for dealing with non-constant variance include weighted least squares (WLS), [robust standard errors](https://en.wikipedia.org/wiki/Heteroscedasticity-consistent_standard_errors), or variance stabilizing transformations.\n",
    "    </li>\n",
    "  <li> **Normal distribution for errors**.  The $\\epsilon$ term we discussed at the beginning are assumed to be normally distributed. This can be verified with a fitted values vs. residuals plot and verifying that there is no pattern, and with a quantile plot.\n",
    "  $$ \\epsilon_i \\sim N(0, \\sigma^2)$$\n",
    "Sometimes the distributions of responses $Y$ may not be normally distributed at any given value of $X$.  e.g. skewed positively or negatively. </li>\n",
    "<li> **Independent errors**.  The observations are assumed to be obtained independently.\n",
    "    <ul>\n",
    "        <li>e.g. Observations across time may be correlated\n",
    "    </ul>\n",
    "</li>\n",
    "</ul>  \n",
    "\n",
    "</div>\n",
    "\n",
    "There are some other issues that are important investigate with linear regression models.\n",
    "\n",
    "<div class=\"span5 alert alert-danger\">\n",
    "<ul>\n",
    "  <li>**Correlated Predictors:** Care should be taken to make sure that the independent variables in a regression model are not too highly correlated. Correlated predictors typically do not majorly affect prediction, but do inflate standard errors of coefficients making interpretation unreliable. Common solutions are dropping the least important variables involved in the correlations, using regularlization, or, when many predictors are highly correlated, considering a dimension reduction technique such as principal component analysis (PCA).\n",
    "  <li>**Influential Points:** Data points that have undue influence on the regression model. These points can be high leverage points or outliers. Such points are typically removed and the regression model rerun.\n",
    "</ul>\n",
    "</div>\n"
   ]
  },
  {
   "cell_type": "markdown",
   "metadata": {},
   "source": [
    "<div class=\"span5 alert alert-info\">\n",
    "<h3>Part 5 Checkup Exercises</h3>\n",
    "\n",
    "<p>Take the reduced model from Part 3 to answer the following exercises. Take a look at [this blog post](http://mpastell.com/2013/04/19/python_regression/) for more information on using statsmodels to construct these plots.</p>\n",
    "    \n",
    "<p><b>Exercise:</b> Construct a fitted values versus residuals plot. What does the plot tell you? Are there any violations of the model assumptions?</p>\n",
    "\n",
    "<p><b>Exercise:</b> Construct a quantile plot of the residuals. What does the plot tell you?</p>\n",
    "\n",
    "<p><b>Exercise:</b> What are some advantages and disadvantages of the fitted vs. residual and quantile plot compared to each other?</p>\n",
    "\n",
    "<p><b>Exercise:</b> Identify any outliers (if any) in your model and write a story describing what these outliers might represent.</p>\n",
    "\n",
    "<p><b>Exercise:</b> Construct a leverage plot and identify high leverage points in the model. Write a story explaining possible reasons for the high leverage points.</p>\n",
    "\n",
    "<p><b>Exercise:</b> Remove the outliers and high leverage points from your model and run the regression again. How do the results change?</p>\n",
    "</div>"
   ]
  },
  {
   "cell_type": "code",
   "execution_count": 103,
   "metadata": {},
   "outputs": [
    {
     "data": {
      "text/plain": [
       "Text(0, 0.5, 'residuals')"
      ]
     },
     "execution_count": 103,
     "metadata": {},
     "output_type": "execute_result"
    },
    {
     "data": {
      "image/png": "[encoded data removed]",
      "text/plain": [
       "<Figure size 432x288 with 1 Axes>"
      ]
     },
     "metadata": {
      "needs_background": "light"
     },
     "output_type": "display_data"
    }
   ],
   "source": [
    "# Your turn.\n",
    "import matplotlib.pyplot as plt\n",
    "plt.scatter(m1.fittedvalues,m1.resid)\n",
    "plt.xlabel(\"fitted values\")\n",
    "plt.ylabel(\"residuals\")\n",
    "#this plot shows how the residuals are distributed kind of. It would probably be better to make a histogram of the residuals"
   ]
  },
  {
   "cell_type": "code",
   "execution_count": 38,
   "metadata": {},
   "outputs": [
    {
     "data": {
      "text/plain": [
       "(array([  1.,  18., 119., 233.,  78.,  35.,  14.,   4.,   1.,   3.]),\n",
       " array([-15.61930953, -11.30776794,  -6.99622636,  -2.68468477,\n",
       "          1.62685682,   5.93839841,  10.24994   ,  14.56148159,\n",
       "         18.87302318,  23.18456477,  27.49610635]),\n",
       " <a list of 10 Patch objects>)"
      ]
     },
     "execution_count": 38,
     "metadata": {},
     "output_type": "execute_result"
    },
    {
     "data": {
      "image/png": "[encoded data removed]",
      "text/plain": [
       "<Figure size 432x288 with 1 Axes>"
      ]
     },
     "metadata": {
      "needs_background": "light"
     },
     "output_type": "display_data"
    }
   ],
   "source": [
    "plt.hist(m.resid)"
   ]
  },
  {
   "cell_type": "code",
   "execution_count": 39,
   "metadata": {},
   "outputs": [],
   "source": [
    "#now this shows something much more clear. It should that the distribution of residuals is skewed with residuals having \n",
    "#small negative values and a wide spread of positive values. This means that there are some pricier houses which don't \n",
    "#fit our model so well."
   ]
  },
  {
   "cell_type": "code",
   "execution_count": 42,
   "metadata": {},
   "outputs": [
    {
     "data": {
      "image/png": "[encoded data removed]",
      "text/plain": [
       "<Figure size 432x288 with 1 Axes>"
      ]
     },
     "metadata": {
      "needs_background": "light"
     },
     "output_type": "display_data"
    }
   ],
   "source": [
    "import statsmodels.api as sm\n",
    "from matplotlib import pyplot as plt\n",
    "fig = sm.qqplot(m1.resid, fit=True, line='45')\n",
    "plt.show()"
   ]
  },
  {
   "cell_type": "code",
   "execution_count": 43,
   "metadata": {},
   "outputs": [],
   "source": [
    "#Again, I'm getting the same vibe here. It fits well except for the higest price points. Note that here quantile means the\n",
    "#same thing as percentile basically.\n",
    "\n",
    "#I like the second plot because I will just chop off the higest price point houses for all the data points which clearly\n",
    "#don't lie on the curve as my selection of outliers. The first plot was honestly kind of useless, but the distribution was\n",
    "#much more telling.\n",
    "#I've already indentified that the outliers are some pricey houses for the richest people in the area, which are rare, so\n",
    "#they can mess up our fit."
   ]
  },
  {
   "cell_type": "code",
   "execution_count": 44,
   "metadata": {},
   "outputs": [
    {
     "data": {
      "image/png": "[encoded data removed]",
      "text/plain": [
       "<Figure size 576x432 with 1 Axes>"
      ]
     },
     "metadata": {
      "needs_background": "light"
     },
     "output_type": "display_data"
    },
    {
     "data": {
      "image/png": "[encoded data removed]",
      "text/plain": [
       "<Figure size 432x288 with 1 Axes>"
      ]
     },
     "metadata": {
      "needs_background": "light"
     },
     "output_type": "display_data"
    }
   ],
   "source": [
    "fig, ax = plt.subplots(figsize=(8,6))\n",
    "fig = sm.graphics.plot_leverage_resid2(m1, ax=ax)"
   ]
  },
  {
   "cell_type": "code",
   "execution_count": 45,
   "metadata": {},
   "outputs": [
    {
     "data": {
      "image/png": "[encoded data removed]",
      "text/plain": [
       "<Figure size 864x576 with 1 Axes>"
      ]
     },
     "metadata": {
      "needs_background": "light"
     },
     "output_type": "display_data"
    }
   ],
   "source": [
    "fig, ax = plt.subplots(figsize=(12,8))\n",
    "fig = sm.graphics.influence_plot(m1, alpha  = 0.05, ax = ax, criterion=\"cooks\")"
   ]
  },
  {
   "cell_type": "code",
   "execution_count": 48,
   "metadata": {},
   "outputs": [
    {
     "data": {
      "text/plain": [
       "<statsmodels.stats.outliers_influence.OLSInfluence at 0x7fdfa65ab518>"
      ]
     },
     "execution_count": 48,
     "metadata": {},
     "output_type": "execute_result"
    }
   ],
   "source": [
    "m1.get_influence()"
   ]
  },
  {
   "cell_type": "code",
   "execution_count": 49,
   "metadata": {},
   "outputs": [
    {
     "data": {
      "text/plain": [
       "statsmodels.stats.outliers_influence.OLSInfluence"
      ]
     },
     "execution_count": 49,
     "metadata": {},
     "output_type": "execute_result"
    }
   ],
   "source": [
    "type(m1.get_influence())"
   ]
  },
  {
   "cell_type": "code",
   "execution_count": 51,
   "metadata": {},
   "outputs": [
    {
     "ename": "TypeError",
     "evalue": "'OLSInfluence' object is not iterable",
     "output_type": "error",
     "traceback": [
      "\u001b[0;31m---------------------------------------------------------------------------\u001b[0m",
      "\u001b[0;31mTypeError\u001b[0m                                 Traceback (most recent call last)",
      "\u001b[0;32m<ipython-input-51-7cfb6674ebb1>\u001b[0m in \u001b[0;36m<module>\u001b[0;34m\u001b[0m\n\u001b[0;32m----> 1\u001b[0;31m \u001b[0;32mfor\u001b[0m \u001b[0mv\u001b[0m \u001b[0;32min\u001b[0m \u001b[0mm1\u001b[0m\u001b[0;34m.\u001b[0m\u001b[0mget_influence\u001b[0m\u001b[0;34m(\u001b[0m\u001b[0;34m)\u001b[0m\u001b[0;34m:\u001b[0m\u001b[0;34m\u001b[0m\u001b[0;34m\u001b[0m\u001b[0m\n\u001b[0m\u001b[1;32m      2\u001b[0m     \u001b[0mprint\u001b[0m\u001b[0;34m(\u001b[0m\u001b[0mv\u001b[0m\u001b[0;34m)\u001b[0m\u001b[0;34m\u001b[0m\u001b[0;34m\u001b[0m\u001b[0m\n",
      "\u001b[0;31mTypeError\u001b[0m: 'OLSInfluence' object is not iterable"
     ]
    }
   ],
   "source": [
    "for v in m1.get_influence():\n",
    "    print(v)"
   ]
  },
  {
   "cell_type": "code",
   "execution_count": 55,
   "metadata": {},
   "outputs": [],
   "source": [
    "def hat_matrix_diag(results):\n",
    "    exog = results.model.exog\n",
    "    return (exog * results.model.pinv_wexog.T).sum(1)\n",
    "\n",
    "def influence(results):\n",
    "    hii = hat_matrix_diag(results)\n",
    "    return results.resid * hii / (1 - hii)"
   ]
  },
  {
   "cell_type": "code",
   "execution_count": 59,
   "metadata": {},
   "outputs": [
    {
     "data": {
      "text/plain": [
       "<matplotlib.collections.PathCollection at 0x7fdfa65775f8>"
      ]
     },
     "execution_count": 59,
     "metadata": {},
     "output_type": "execute_result"
    },
    {
     "data": {
      "image/png": "[encoded data removed]",
      "text/plain": [
       "<Figure size 432x288 with 1 Axes>"
      ]
     },
     "metadata": {
      "needs_background": "light"
     },
     "output_type": "display_data"
    }
   ],
   "source": [
    "plt.scatter(m1.resid,influence(m1))"
   ]
  },
  {
   "cell_type": "code",
   "execution_count": 60,
   "metadata": {},
   "outputs": [],
   "source": [
    "#Accoring to https://songhuiming.github.io/pages/2016/11/27/linear-regression-in-python-outliers-leverage-detect/\n",
    "#we should interpret the \"influence\" of a point to be how much that data point influences the regreggion fit, meaning that\n",
    "#our outliers should be determined by calculating the influence values, not the leverages or residuals.\n",
    "#Of course, I couldn't figure out how to get the influences directly from statsmodels, but I could copy their source code,\n",
    "#so I did that:\n",
    "#https://www.statsmodels.org/stable/_modules/statsmodels/stats/outliers_influence.html#OLSInfluence"
   ]
  },
  {
   "cell_type": "code",
   "execution_count": 63,
   "metadata": {},
   "outputs": [
    {
     "name": "stderr",
     "output_type": "stream",
     "text": [
      "/home/brandon/anaconda3/lib/python3.7/site-packages/ipykernel_launcher.py:1: RuntimeWarning: invalid value encountered in log10\n",
      "  \"\"\"Entry point for launching an IPython kernel.\n",
      "/home/brandon/anaconda3/lib/python3.7/site-packages/numpy/lib/histograms.py:824: RuntimeWarning: invalid value encountered in greater_equal\n",
      "  keep = (tmp_a >= first_edge)\n",
      "/home/brandon/anaconda3/lib/python3.7/site-packages/numpy/lib/histograms.py:825: RuntimeWarning: invalid value encountered in less_equal\n",
      "  keep &= (tmp_a <= last_edge)\n"
     ]
    },
    {
     "data": {
      "text/plain": [
       "(array([ 2.,  6., 15., 40., 60., 42., 27., 24., 14.,  6.]),\n",
       " array([-3.82717947, -3.44744584, -3.06771221, -2.68797858, -2.30824495,\n",
       "        -1.92851132, -1.5487777 , -1.16904407, -0.78931044, -0.40957681,\n",
       "        -0.02984318]),\n",
       " <a list of 10 Patch objects>)"
      ]
     },
     "execution_count": 63,
     "metadata": {},
     "output_type": "execute_result"
    },
    {
     "data": {
      "image/png": "[encoded data removed]",
      "text/plain": [
       "<Figure size 432x288 with 1 Axes>"
      ]
     },
     "metadata": {
      "needs_background": "light"
     },
     "output_type": "display_data"
    }
   ],
   "source": [
    "plt.hist(np.log10(influence(m1)))"
   ]
  },
  {
   "cell_type": "code",
   "execution_count": 74,
   "metadata": {},
   "outputs": [
    {
     "name": "stderr",
     "output_type": "stream",
     "text": [
      "/home/brandon/anaconda3/lib/python3.7/site-packages/ipykernel_launcher.py:3: RuntimeWarning: invalid value encountered in log10\n",
      "  This is separate from the ipykernel package so we can avoid doing imports until\n"
     ]
    },
    {
     "data": {
      "text/plain": [
       "<matplotlib.collections.PathCollection at 0x7fdfa6787eb8>"
      ]
     },
     "execution_count": 74,
     "metadata": {},
     "output_type": "execute_result"
    },
    {
     "data": {
      "image/png": "[encoded data removed]",
      "text/plain": [
       "<Figure size 432x288 with 1 Axes>"
      ]
     },
     "metadata": {
      "needs_background": "light"
     },
     "output_type": "display_data"
    }
   ],
   "source": [
    "influences = influence(m1)\n",
    "influences = np.sort(influences.to_numpy())\n",
    "plt.scatter(influences,np.cumsum(np.log10(influences)))"
   ]
  },
  {
   "cell_type": "code",
   "execution_count": 69,
   "metadata": {},
   "outputs": [
    {
     "data": {
      "text/plain": [
       "pandas.core.series.Series"
      ]
     },
     "execution_count": 69,
     "metadata": {},
     "output_type": "execute_result"
    }
   ],
   "source": [
    "type(influences)"
   ]
  },
  {
   "cell_type": "code",
   "execution_count": 77,
   "metadata": {},
   "outputs": [
    {
     "data": {
      "text/plain": [
       "array([-1.32708792e-01, -3.64961200e-02, -2.48846270e-02, -2.43518098e-02,\n",
       "       -2.33425808e-02, -2.25075503e-02, -2.24097922e-02, -2.19666584e-02,\n",
       "       -2.19340996e-02, -2.09668809e-02, -2.09081563e-02, -1.98115614e-02,\n",
       "       -1.83819226e-02, -1.83059771e-02, -1.76398807e-02, -1.76124684e-02,\n",
       "       -1.75812198e-02, -1.72569080e-02, -1.71777948e-02, -1.55705946e-02,\n",
       "       -1.51612973e-02, -1.51395195e-02, -1.46294558e-02, -1.42728789e-02,\n",
       "       -1.35097261e-02, -1.29272894e-02, -1.28762527e-02, -1.28280227e-02,\n",
       "       -1.25054510e-02, -1.18009417e-02, -1.15845636e-02, -1.15021969e-02,\n",
       "       -1.11461902e-02, -1.10968144e-02, -1.09842267e-02, -1.08509147e-02,\n",
       "       -1.06044740e-02, -1.05934320e-02, -1.05922007e-02, -1.04060888e-02,\n",
       "       -1.01967021e-02, -9.93471296e-03, -9.88598479e-03, -9.82120036e-03,\n",
       "       -9.37510263e-03, -9.37054380e-03, -9.10680507e-03, -9.08331906e-03,\n",
       "       -9.02035364e-03, -8.97818192e-03, -8.58523330e-03, -8.55797685e-03,\n",
       "       -8.53561698e-03, -8.33493595e-03, -8.27901290e-03, -8.16773778e-03,\n",
       "       -8.00725134e-03, -7.93622719e-03, -7.93184671e-03, -7.60829680e-03,\n",
       "       -7.58370409e-03, -7.22309267e-03, -7.21546494e-03, -7.18596163e-03,\n",
       "       -6.99132330e-03, -6.98516675e-03, -6.83187188e-03, -6.72380816e-03,\n",
       "       -6.55977763e-03, -6.53522006e-03, -6.44984755e-03, -6.27735458e-03,\n",
       "       -6.24724137e-03, -6.20986127e-03, -6.19418260e-03, -6.11361693e-03,\n",
       "       -6.03898972e-03, -5.88423965e-03, -5.87811290e-03, -5.74380297e-03,\n",
       "       -5.70540304e-03, -5.51031758e-03, -5.31880774e-03, -5.30572633e-03,\n",
       "       -5.23740160e-03, -5.15991737e-03, -5.13090593e-03, -5.09834337e-03,\n",
       "       -4.84151844e-03, -4.81106109e-03, -4.75912667e-03, -4.75587030e-03,\n",
       "       -4.71166452e-03, -4.69493535e-03, -4.58177632e-03, -4.46037447e-03,\n",
       "       -4.34115912e-03, -4.34011308e-03, -4.26370502e-03, -4.20554516e-03,\n",
       "       -4.19789832e-03, -4.11044814e-03, -3.97257185e-03, -3.97163834e-03,\n",
       "       -3.95413953e-03, -3.95149352e-03, -3.93795027e-03, -3.92190653e-03,\n",
       "       -3.82288261e-03, -3.78453530e-03, -3.73874815e-03, -3.71548682e-03,\n",
       "       -3.62698017e-03, -3.61448136e-03, -3.54461937e-03, -3.52009360e-03,\n",
       "       -3.51788246e-03, -3.50592410e-03, -3.48022730e-03, -3.43891652e-03,\n",
       "       -3.40491810e-03, -3.35691372e-03, -3.29448529e-03, -3.25762756e-03,\n",
       "       -3.21119482e-03, -3.12374181e-03, -3.12334206e-03, -3.12158310e-03,\n",
       "       -3.07936668e-03, -3.06298202e-03, -3.00358127e-03, -2.99782852e-03,\n",
       "       -2.91345843e-03, -2.89327305e-03, -2.87539583e-03, -2.84751777e-03,\n",
       "       -2.82383140e-03, -2.73003833e-03, -2.70480698e-03, -2.65495574e-03,\n",
       "       -2.63293090e-03, -2.60773537e-03, -2.60770742e-03, -2.59510531e-03,\n",
       "       -2.58208236e-03, -2.56556291e-03, -2.52120815e-03, -2.50853836e-03,\n",
       "       -2.50716322e-03, -2.50154288e-03, -2.46198040e-03, -2.44934877e-03,\n",
       "       -2.36152395e-03, -2.32376666e-03, -2.30474978e-03, -2.23063414e-03,\n",
       "       -2.22588923e-03, -2.22265885e-03, -2.21398439e-03, -2.13338839e-03,\n",
       "       -2.12992743e-03, -2.11501842e-03, -2.04451341e-03, -1.98564065e-03,\n",
       "       -1.95139508e-03, -1.92439810e-03, -1.90695198e-03, -1.90192854e-03,\n",
       "       -1.86545630e-03, -1.85986348e-03, -1.83296430e-03, -1.83229179e-03,\n",
       "       -1.83016449e-03, -1.82956904e-03, -1.78673708e-03, -1.77077025e-03,\n",
       "       -1.73241619e-03, -1.70019842e-03, -1.69776392e-03, -1.69140261e-03,\n",
       "       -1.67681909e-03, -1.67286156e-03, -1.66509809e-03, -1.65239274e-03,\n",
       "       -1.63645565e-03, -1.62425192e-03, -1.51498326e-03, -1.50914868e-03,\n",
       "       -1.46787419e-03, -1.44599678e-03, -1.44212121e-03, -1.42392219e-03,\n",
       "       -1.38092209e-03, -1.33761239e-03, -1.27880115e-03, -1.23941806e-03,\n",
       "       -1.22440444e-03, -1.19289795e-03, -1.18622850e-03, -1.13335753e-03,\n",
       "       -1.10920712e-03, -1.07220471e-03, -1.05313768e-03, -1.05261366e-03,\n",
       "       -1.01811160e-03, -1.00953753e-03, -9.73729213e-04, -9.65902430e-04,\n",
       "       -9.65657736e-04, -9.26300107e-04, -9.24639935e-04, -9.23369428e-04,\n",
       "       -9.10556234e-04, -8.67417038e-04, -8.58681641e-04, -8.48045029e-04,\n",
       "       -8.28988916e-04, -8.23659110e-04, -8.19093747e-04, -8.09713349e-04,\n",
       "       -7.94770997e-04, -7.85816473e-04, -7.83405457e-04, -7.74413911e-04,\n",
       "       -7.33434893e-04, -7.31440894e-04, -7.19065717e-04, -7.00199979e-04,\n",
       "       -6.81347900e-04, -6.76302512e-04, -6.48158242e-04, -6.33726989e-04,\n",
       "       -6.13803560e-04, -5.93582863e-04, -5.78699404e-04, -5.66085229e-04,\n",
       "       -5.41118481e-04, -5.23956127e-04, -5.20813996e-04, -5.10244550e-04,\n",
       "       -4.97416612e-04, -4.81958479e-04, -4.47184808e-04, -4.32880943e-04,\n",
       "       -4.16443741e-04, -4.05226259e-04, -4.01295234e-04, -3.93516034e-04,\n",
       "       -3.77948904e-04, -3.71998960e-04, -3.68475259e-04, -3.31338713e-04,\n",
       "       -3.12539879e-04, -3.00770367e-04, -2.90794885e-04, -2.59647719e-04,\n",
       "       -2.59301164e-04, -2.58000389e-04, -2.14432122e-04, -2.00992536e-04,\n",
       "       -1.93655488e-04, -1.64045800e-04, -1.60504070e-04, -1.41540720e-04,\n",
       "       -1.19680836e-04, -1.19653710e-04, -8.48737970e-05, -7.90135713e-05,\n",
       "       -4.13467054e-05, -2.32811220e-05,  3.00437584e-05,  6.24009490e-05,\n",
       "        7.82358377e-05,  1.00696924e-04,  1.45723147e-04,  1.54686651e-04,\n",
       "        1.69031064e-04,  1.69960082e-04,  1.81275011e-04,  2.01997749e-04,\n",
       "        2.03000514e-04,  2.07813388e-04,  2.21507230e-04,  2.36783658e-04,\n",
       "        2.48658110e-04,  2.78887074e-04,  3.34206834e-04,  3.35796567e-04,\n",
       "        3.36841854e-04,  3.39049781e-04,  3.91035524e-04,  3.97431714e-04,\n",
       "        4.00901233e-04,  4.14366794e-04,  4.25375244e-04,  4.39815941e-04,\n",
       "        4.50161879e-04,  4.58664442e-04,  4.60485621e-04,  4.72600085e-04,\n",
       "        4.76837956e-04,  4.86870169e-04,  4.87371733e-04,  4.99290562e-04,\n",
       "        5.14728268e-04,  5.20120074e-04,  5.27562571e-04,  5.34055654e-04,\n",
       "        5.57318184e-04,  5.76555173e-04,  5.83741928e-04,  5.84406606e-04,\n",
       "        5.84914344e-04,  5.98928695e-04,  6.40052705e-04,  6.41205046e-04,\n",
       "        6.41948437e-04,  6.65572051e-04,  6.93452628e-04,  6.94425550e-04,\n",
       "        6.97251779e-04,  7.03299084e-04,  7.06088883e-04,  7.14011082e-04,\n",
       "        7.18274503e-04,  7.36924598e-04,  7.99997829e-04,  8.25725354e-04,\n",
       "        8.62762524e-04,  8.93120270e-04,  9.09981386e-04,  9.66140047e-04,\n",
       "        9.75574999e-04,  9.95954215e-04,  1.04041293e-03,  1.04914584e-03,\n",
       "        1.05572202e-03,  1.06947558e-03,  1.07293644e-03,  1.10216665e-03,\n",
       "        1.10592967e-03,  1.10667532e-03,  1.13753962e-03,  1.14525880e-03,\n",
       "        1.16017055e-03,  1.18026656e-03,  1.19200094e-03,  1.23817201e-03,\n",
       "        1.30803202e-03,  1.31743239e-03,  1.33055789e-03,  1.40088060e-03,\n",
       "        1.41050087e-03,  1.45117004e-03,  1.47145288e-03,  1.48245123e-03,\n",
       "        1.50165589e-03,  1.53289009e-03,  1.54045158e-03,  1.55240664e-03,\n",
       "        1.57261916e-03,  1.57551581e-03,  1.58089976e-03,  1.63662572e-03,\n",
       "        1.64173877e-03,  1.67261118e-03,  1.70013501e-03,  1.70426728e-03,\n",
       "        1.75542959e-03,  1.78390763e-03,  1.82731893e-03,  1.83339204e-03,\n",
       "        1.84709074e-03,  1.85234206e-03,  1.88407445e-03,  1.94600024e-03,\n",
       "        2.01068583e-03,  2.02852209e-03,  2.02968860e-03,  2.06493644e-03,\n",
       "        2.08117597e-03,  2.09528517e-03,  2.10373160e-03,  2.10814226e-03,\n",
       "        2.12456421e-03,  2.13255737e-03,  2.13729354e-03,  2.21547814e-03,\n",
       "        2.24322171e-03,  2.27940266e-03,  2.29791482e-03,  2.33488475e-03,\n",
       "        2.35738525e-03,  2.39148998e-03,  2.40461853e-03,  2.45409599e-03,\n",
       "        2.46877349e-03,  2.49505876e-03,  2.61766263e-03,  2.70531876e-03,\n",
       "        2.74000153e-03,  2.77734608e-03,  2.78251506e-03,  2.88120876e-03,\n",
       "        2.90136733e-03,  2.91453471e-03,  2.96107409e-03,  3.00382012e-03,\n",
       "        3.04761361e-03,  3.05342223e-03,  3.27957868e-03,  3.31197057e-03,\n",
       "        3.38943432e-03,  3.41550232e-03,  3.54029696e-03,  3.60032589e-03,\n",
       "        3.89148743e-03,  3.97649918e-03,  4.03974385e-03,  4.17790497e-03,\n",
       "        4.19670921e-03,  4.42480028e-03,  4.43245107e-03,  4.51044093e-03,\n",
       "        4.81763305e-03,  4.82128871e-03,  4.82174707e-03,  4.84681785e-03,\n",
       "        4.92618579e-03,  5.14019036e-03,  5.24879487e-03,  5.28607808e-03,\n",
       "        5.34476003e-03,  5.51144277e-03,  5.63588393e-03,  5.82764629e-03,\n",
       "        5.95869463e-03,  5.99606587e-03,  6.13073088e-03,  6.23324679e-03,\n",
       "        6.28382481e-03,  6.34264111e-03,  6.59649113e-03,  6.78038346e-03,\n",
       "        6.79127688e-03,  7.16237114e-03,  7.23775431e-03,  7.44736110e-03,\n",
       "        7.81403667e-03,  7.96831665e-03,  8.06513507e-03,  8.09745400e-03,\n",
       "        8.38834608e-03,  8.70946972e-03,  8.82898165e-03,  8.90138663e-03,\n",
       "        9.15674516e-03,  9.87918147e-03,  1.00851451e-02,  1.12567870e-02,\n",
       "        1.13326052e-02,  1.25345559e-02,  1.47470450e-02,  1.57511378e-02,\n",
       "        1.59281550e-02,  1.71418030e-02,  1.90311381e-02,  1.94489447e-02,\n",
       "        2.00022840e-02,  2.10558091e-02,  2.11707747e-02,  2.16906225e-02,\n",
       "        2.20278508e-02,  2.22682575e-02,  2.37156488e-02,  2.42626432e-02,\n",
       "        2.44068360e-02,  2.44174736e-02,  2.52853585e-02,  2.62016238e-02,\n",
       "        2.68863537e-02,  2.77295595e-02,  3.08607692e-02,  3.17388117e-02,\n",
       "        3.24397911e-02,  3.26533711e-02,  3.32941865e-02,  3.37731380e-02,\n",
       "        3.43281673e-02,  3.45026054e-02,  3.51308869e-02,  3.61301452e-02,\n",
       "        3.70718750e-02,  3.93769433e-02,  4.24834491e-02,  4.34797983e-02,\n",
       "        5.22173068e-02,  5.44516190e-02,  5.82545797e-02,  7.31944963e-02,\n",
       "        9.66112051e-02,  1.09734427e-01,  1.22435566e-01,  1.24797660e-01,\n",
       "        1.59828185e-01,  1.88404186e-01])"
      ]
     },
     "execution_count": 77,
     "metadata": {},
     "output_type": "execute_result"
    }
   ],
   "source": [
    "influences/np.sum(influences)"
   ]
  },
  {
   "cell_type": "code",
   "execution_count": 76,
   "metadata": {},
   "outputs": [
    {
     "data": {
      "text/plain": [
       "array([-0.6576063 , -0.83845399, -0.96176374, -1.08243324, -1.19810175,\n",
       "       -1.30963247, -1.42067877, -1.52952923, -1.63821835, -1.74211466,\n",
       "       -1.84571997, -1.94389136, -2.03497853, -2.12568937, -2.21309953,\n",
       "       -2.30037386, -2.38749334, -2.47300577, -2.55812617, -2.63528249,\n",
       "       -2.71041063, -2.78543085, -2.85792358, -2.92864938, -2.99559356,\n",
       "       -3.05965161, -3.12345676, -3.18702293, -3.24899066, -3.30746737,\n",
       "       -3.36487188, -3.42186823, -3.47710048, -3.53208805, -3.58651773,\n",
       "       -3.64028681, -3.69283472, -3.74532791, -3.79781499, -3.84937985,\n",
       "       -3.89990714, -3.9491362 , -3.99812381, -4.04679039, -4.09324644,\n",
       "       -4.13967991, -4.18480647, -4.22981666, -4.27451484, -4.31900405,\n",
       "       -4.3615461 , -4.40395308, -4.44624926, -4.48755102, -4.52857567,\n",
       "       -4.56904892, -4.60872691, -4.64805297, -4.68735731, -4.72505839,\n",
       "       -4.7626376 , -4.79842988, -4.83418437, -4.86979267, -4.90443648,\n",
       "       -4.93904978, -4.97290347, -5.00622167, -5.03872706, -5.07111077,\n",
       "       -5.10307142, -5.13417734, -5.16513403, -5.19590549, -5.22659927,\n",
       "       -5.25689382, -5.28681857, -5.31597649, -5.34510406, -5.37356609,\n",
       "       -5.40183783, -5.42914287, -5.45549894, -5.48179018, -5.50774286,\n",
       "       -5.53331158, -5.55873654, -5.58400015, -5.60799112, -5.63183117,\n",
       "       -5.65541387, -5.67898044, -5.70232795, -5.72559257, -5.74829645,\n",
       "       -5.77039876, -5.79191032, -5.8134167 , -5.83454446, -5.85538402,\n",
       "       -5.87618569, -5.89655402, -5.91623914, -5.93591963, -5.95551341,\n",
       "       -5.97509408, -5.99460764, -6.0140417 , -6.03298507, -6.05173842,\n",
       "       -6.07026488, -6.08867608, -6.1066487 , -6.12455939, -6.14212389,\n",
       "       -6.15956686, -6.17699888, -6.19437163, -6.21161706, -6.22865778,\n",
       "       -6.24553003, -6.2621644 , -6.27848942, -6.29463181, -6.31054411,\n",
       "       -6.32602305, -6.34150002, -6.35696827, -6.37222733, -6.38740519,\n",
       "       -6.40228871, -6.41714373, -6.43158066, -6.44591758, -6.46016591,\n",
       "       -6.47427609, -6.4882689 , -6.50179695, -6.51519997, -6.52835596,\n",
       "       -6.54140281, -6.55432481, -6.56724667, -6.58010609, -6.59290097,\n",
       "       -6.605614  , -6.61810724, -6.63053769, -6.64296133, -6.65535712,\n",
       "       -6.66755687, -6.67969403, -6.69139599, -6.70291085, -6.71433148,\n",
       "       -6.72538485, -6.7364147 , -6.74742855, -6.75839941, -6.7689709 ,\n",
       "       -6.77952524, -6.79000571, -6.8001368 , -6.80997616, -6.81964582,\n",
       "       -6.82918171, -6.83863115, -6.8480557 , -6.85729952, -6.86651562,\n",
       "       -6.87559843, -6.88467791, -6.89374685, -6.90281283, -6.91166658,\n",
       "       -6.9204412 , -6.92902577, -6.93745069, -6.94586355, -6.95424489,\n",
       "       -6.96255396, -6.97084342, -6.97909441, -6.98728244, -6.9953915 ,\n",
       "       -7.00344009, -7.01094722, -7.01842544, -7.02569914, -7.03286442,\n",
       "       -7.04001051, -7.04706641, -7.05390923, -7.06053745, -7.06687424,\n",
       "       -7.07301587, -7.07908311, -7.08499423, -7.0908723 , -7.09648838,\n",
       "       -7.10198479, -7.10729784, -7.11251641, -7.11773238, -7.12277738,\n",
       "       -7.1277799 , -7.13260498, -7.13739128, -7.14217636, -7.14676642,\n",
       "       -7.15134825, -7.15592378, -7.16043582, -7.1647341 , -7.16898909,\n",
       "       -7.17319137, -7.17729922, -7.18138067, -7.18543949, -7.18945182,\n",
       "       -7.19339012, -7.19728404, -7.20116602, -7.20500344, -7.2086378 ,\n",
       "       -7.21226228, -7.21582543, -7.21929511, -7.22267136, -7.22602261,\n",
       "       -7.2292344 , -7.23237469, -7.23541624, -7.2383576 , -7.2412252 ,\n",
       "       -7.2440303 , -7.24671168, -7.24930802, -7.25188879, -7.25441718,\n",
       "       -7.25688201, -7.25927024, -7.26148615, -7.26363119, -7.26569478,\n",
       "       -7.26770278, -7.2696913 , -7.27164127, -7.27351411, -7.27535746,\n",
       "       -7.27718335, -7.27882522, -7.28037393, -7.28186433, -7.28330529,\n",
       "       -7.28459191, -7.28587681, -7.28715527, -7.28821784, -7.28921381,\n",
       "       -7.29017342, -7.29098631, -7.29178165, -7.29248302, -7.29307607,\n",
       "       -7.29366899, -7.29408956, -7.29448109, -7.29468597, -7.29480134,\n",
       "       -7.29465246, -7.29434325, -7.29395557, -7.29345659, -7.2927345 ,\n",
       "       -7.29196798, -7.29113039, -7.2902882 , -7.28938993, -7.28838898,\n",
       "       -7.28738306, -7.28635329, -7.28525567, -7.28408234, -7.28285018,\n",
       "       -7.28146822, -7.27981214, -7.27814818, -7.27647904, -7.27479896,\n",
       "       -7.27286128, -7.2708919 , -7.26890533, -7.26685204, -7.2647442 ,\n",
       "       -7.26256479, -7.26033413, -7.25806133, -7.2557795 , -7.25343765,\n",
       "       -7.25107479, -7.24866222, -7.24624717, -7.24377306, -7.24122245,\n",
       "       -7.23864512, -7.23603091, -7.23338452, -7.23062287, -7.22776589,\n",
       "       -7.2248733 , -7.22197741, -7.21907901, -7.21611116, -7.21293954,\n",
       "       -7.2097622 , -7.20658118, -7.2032831 , -7.19984686, -7.19640581,\n",
       "       -7.19295074, -7.18946571, -7.18596686, -7.18242875, -7.17886952,\n",
       "       -7.17521787, -7.17125367, -7.16716199, -7.16288678, -7.15846114,\n",
       "       -7.15395194, -7.14916447, -7.14433024, -7.13939503, -7.13423952,\n",
       "       -7.12904073, -7.12380936, -7.11850983, -7.11319315, -7.10773163,\n",
       "       -7.10225147, -7.0967676 , -7.0911308 , -7.08545575, -7.0797068 ,\n",
       "       -7.07385828, -7.06795161, -7.06181614, -7.05533451, -7.04880629,\n",
       "       -7.04221303, -7.03527131, -7.02828191, -7.02109099, -7.01379956,\n",
       "       -7.00645363, -6.99901254, -6.99141668, -6.98378334, -6.97609077,\n",
       "       -6.96829803, -6.96049094, -6.95265718, -6.94454728, -6.93641204,\n",
       "       -6.92812382, -6.91969921, -6.91125412, -6.90255552, -6.8937158 ,\n",
       "       -6.88466096, -6.87557603, -6.86642322, -6.85724438, -6.84790831,\n",
       "       -6.83826538, -6.82830191, -6.81825006, -6.80819243, -6.79796014,\n",
       "       -6.78764737, -6.77726469, -6.76684016, -6.75639377, -6.74586601,\n",
       "       -6.73529864, -6.72470779, -6.71372953, -6.70261379, -6.69131876,\n",
       "       -6.679932  , -6.66836204, -6.65668059, -6.64483014, -6.63291463,\n",
       "       -6.62075396, -6.60852055, -6.59615689, -6.58318569, -6.56978014,\n",
       "       -6.55620273, -6.54244026, -6.52865218, -6.51437505, -6.49999802,\n",
       "       -6.48555575, -6.47088286, -6.45599816, -6.44089645, -6.42576595,\n",
       "       -6.4095148 , -6.39310313, -6.37630761, -6.35938291, -6.34183983,\n",
       "       -6.32399928, -6.30471596, -6.28501138, -6.26499341, -6.24429081,\n",
       "       -6.22349503, -6.201569  , -6.17960507, -6.15725467, -6.13338205,\n",
       "       -6.10949132, -6.08559832, -6.06158109, -6.03717057, -6.0116996 ,\n",
       "       -5.98569047, -5.95949659, -5.93301192, -5.9057013 , -5.87777404,\n",
       "       -5.84889655, -5.81936968, -5.78965763, -5.75927827, -5.72839093,\n",
       "       -5.69725295, -5.66582353, -5.63313622, -5.59953767, -5.56588514,\n",
       "       -5.53039374, -5.4945288 , -5.45762521, -5.41890464, -5.37941957,\n",
       "       -5.33945475, -5.29932977, -5.25776335, -5.21460569, -5.1708558 ,\n",
       "       -5.12674714, -5.0813731 , -5.03241921, -4.98244471, -4.92666443,\n",
       "       -4.87050845, -4.80839649, -4.73532108, -4.65727012, -4.57834201,\n",
       "       -4.49339995, -4.39909575, -4.30272121, -4.20360473, -4.09926777,\n",
       "       -3.99436112, -3.88687848, -3.7777248 , -3.66737984, -3.54986268,\n",
       "       -3.42963502, -3.30869286, -3.18769797, -3.0624025 , -2.93256669,\n",
       "       -2.79933787, -2.66193075, -2.50900768, -2.35173368, -2.19098614,\n",
       "       -2.02918027, -1.86419898, -1.69684437, -1.52673944, -1.35577013,\n",
       "       -1.18168752, -1.00265333, -0.81895263, -0.62382971, -0.41331326,\n",
       "       -0.19785965,  0.06089058,  0.3307124 ,  0.61937887,  0.98207649,\n",
       "        1.46080993,  2.00457233,  2.61127215,  3.22967675,  4.02166665,\n",
       "        4.955258  ])"
      ]
     },
     "execution_count": 76,
     "metadata": {},
     "output_type": "execute_result"
    }
   ],
   "source": [
    "np.cumsum(influences)"
   ]
  },
  {
   "cell_type": "code",
   "execution_count": 78,
   "metadata": {},
   "outputs": [
    {
     "data": {
      "text/plain": [
       "array([-6.57606301e-01, -1.80847690e-01, -1.23309747e-01, -1.20669500e-01,\n",
       "       -1.15668510e-01, -1.11530719e-01, -1.11046302e-01, -1.08850460e-01,\n",
       "       -1.08689122e-01, -1.03896304e-01, -1.03605309e-01, -9.81713980e-02,\n",
       "       -9.10871690e-02, -9.07108396e-02, -8.74101600e-02, -8.72743251e-02,\n",
       "       -8.71194801e-02, -8.55124315e-02, -8.51204051e-02, -7.71563136e-02,\n",
       "       -7.51281399e-02, -7.50202253e-02, -7.24927278e-02, -7.07257971e-02,\n",
       "       -6.69441784e-02, -6.40580542e-02, -6.38051543e-02, -6.35661622e-02,\n",
       "       -6.19677361e-02, -5.84767107e-02, -5.74045016e-02, -5.69963530e-02,\n",
       "       -5.52322482e-02, -5.49875781e-02, -5.44296773e-02, -5.37690820e-02,\n",
       "       -5.25479046e-02, -5.24931885e-02, -5.24870871e-02, -5.15648550e-02,\n",
       "       -5.05272897e-02, -4.92290659e-02, -4.89876052e-02, -4.86665816e-02,\n",
       "       -4.64560523e-02, -4.64334621e-02, -4.51265686e-02, -4.50101894e-02,\n",
       "       -4.46981795e-02, -4.44892078e-02, -4.25420460e-02, -4.24069832e-02,\n",
       "       -4.22961843e-02, -4.13017580e-02, -4.10246449e-02, -4.04732479e-02,\n",
       "       -3.96779962e-02, -3.93260533e-02, -3.93043469e-02, -3.77010736e-02,\n",
       "       -3.75792103e-02, -3.57922877e-02, -3.57544904e-02, -3.56082939e-02,\n",
       "       -3.46438107e-02, -3.46133034e-02, -3.38536878e-02, -3.33182042e-02,\n",
       "       -3.25053906e-02, -3.23837015e-02, -3.19606587e-02, -3.11059115e-02,\n",
       "       -3.09566928e-02, -3.07714647e-02, -3.06937729e-02, -3.02945492e-02,\n",
       "       -2.99247521e-02, -2.91579256e-02, -2.91275660e-02, -2.84620256e-02,\n",
       "       -2.82717440e-02, -2.73050453e-02, -2.63560646e-02, -2.62912428e-02,\n",
       "       -2.59526762e-02, -2.55687218e-02, -2.54249626e-02, -2.52636068e-02,\n",
       "       -2.39909730e-02, -2.38400489e-02, -2.35827005e-02, -2.35665644e-02,\n",
       "       -2.33475133e-02, -2.32646160e-02, -2.27038837e-02, -2.21023063e-02,\n",
       "       -2.15115634e-02, -2.15063801e-02, -2.11277584e-02, -2.08395613e-02,\n",
       "       -2.08016692e-02, -2.03683310e-02, -1.96851184e-02, -1.96804927e-02,\n",
       "       -1.95937815e-02, -1.95806699e-02, -1.95135596e-02, -1.94340587e-02,\n",
       "       -1.89433696e-02, -1.87533488e-02, -1.85264617e-02, -1.84111958e-02,\n",
       "       -1.79726225e-02, -1.79106877e-02, -1.75645035e-02, -1.74429720e-02,\n",
       "       -1.74320152e-02, -1.73727585e-02, -1.72454242e-02, -1.70407186e-02,\n",
       "       -1.68722476e-02, -1.66343736e-02, -1.63250246e-02, -1.61423850e-02,\n",
       "       -1.59122988e-02, -1.54789466e-02, -1.54769657e-02, -1.54682496e-02,\n",
       "       -1.52590564e-02, -1.51778661e-02, -1.48835201e-02, -1.48550138e-02,\n",
       "       -1.44369382e-02, -1.43369144e-02, -1.42483282e-02, -1.41101852e-02,\n",
       "       -1.39928131e-02, -1.35280443e-02, -1.34030164e-02, -1.31559906e-02,\n",
       "       -1.30468519e-02, -1.29220015e-02, -1.29218631e-02, -1.28594163e-02,\n",
       "       -1.27948843e-02, -1.27130261e-02, -1.24932368e-02, -1.24304548e-02,\n",
       "       -1.24236406e-02, -1.23957904e-02, -1.21997481e-02, -1.21371551e-02,\n",
       "       -1.17019605e-02, -1.15148633e-02, -1.14206298e-02, -1.10533677e-02,\n",
       "       -1.10298554e-02, -1.10138481e-02, -1.09708639e-02, -1.05714899e-02,\n",
       "       -1.05543399e-02, -1.04804620e-02, -1.01310914e-02, -9.83936173e-03,\n",
       "       -9.66966608e-03, -9.53588906e-03, -9.44943907e-03, -9.42454662e-03,\n",
       "       -9.24381724e-03, -9.21610340e-03, -9.08281103e-03, -9.07947857e-03,\n",
       "       -9.06893724e-03, -9.06598662e-03, -8.85374323e-03, -8.77462343e-03,\n",
       "       -8.58456920e-03, -8.42492182e-03, -8.41285827e-03, -8.38133632e-03,\n",
       "       -8.30907121e-03, -8.28946064e-03, -8.25099065e-03, -8.18803232e-03,\n",
       "       -8.10905993e-03, -8.04858730e-03, -7.50713291e-03, -7.47822108e-03,\n",
       "       -7.27369534e-03, -7.16528713e-03, -7.14608264e-03, -7.05590185e-03,\n",
       "       -6.84282524e-03, -6.62821449e-03, -6.33678964e-03, -6.14163625e-03,\n",
       "       -6.06723989e-03, -5.91111711e-03, -5.87806828e-03, -5.61607894e-03,\n",
       "       -5.49640743e-03, -5.31305099e-03, -5.21856889e-03, -5.21597224e-03,\n",
       "       -5.04500565e-03, -5.00251894e-03, -4.82507947e-03, -4.78629574e-03,\n",
       "       -4.78508322e-03, -4.59005602e-03, -4.58182943e-03, -4.57553374e-03,\n",
       "       -4.51204106e-03, -4.29827522e-03, -4.25498907e-03, -4.20228191e-03,\n",
       "       -4.10785396e-03, -4.08144339e-03, -4.05882084e-03, -4.01233855e-03,\n",
       "       -3.93829534e-03, -3.89392336e-03, -3.88197616e-03, -3.83742073e-03,\n",
       "       -3.63435912e-03, -3.62447834e-03, -3.56315615e-03, -3.46967155e-03,\n",
       "       -3.37625463e-03, -3.35125343e-03, -3.21179131e-03, -3.14028073e-03,\n",
       "       -3.04155500e-03, -2.94135623e-03, -2.86760485e-03, -2.80509836e-03,\n",
       "       -2.68138168e-03, -2.59633779e-03, -2.58076772e-03, -2.52839339e-03,\n",
       "       -2.46482765e-03, -2.38822861e-03, -2.21591610e-03, -2.14503676e-03,\n",
       "       -2.06358618e-03, -2.00800066e-03, -1.98852142e-03, -1.94997348e-03,\n",
       "       -1.87283433e-03, -1.84335082e-03, -1.82588997e-03, -1.64186881e-03,\n",
       "       -1.54871573e-03, -1.49039477e-03, -1.44096368e-03, -1.28662144e-03,\n",
       "       -1.28490417e-03, -1.27845849e-03, -1.06256649e-03, -9.95969871e-04,\n",
       "       -9.59612905e-04, -8.12889260e-04, -7.95339078e-04, -7.01370783e-04,\n",
       "       -5.93049422e-04, -5.92915003e-04, -4.20571561e-04, -3.91532631e-04,\n",
       "       -2.04883593e-04, -1.15363966e-04,  1.48874574e-04,  3.09212802e-04,\n",
       "        3.87678761e-04,  4.98979236e-04,  7.22095790e-04,  7.66512266e-04,\n",
       "        8.37592530e-04,  8.42196056e-04,  8.98264451e-04,  1.00095096e-03,\n",
       "        1.00591992e-03,  1.02976895e-03,  1.09762548e-03,  1.17332412e-03,\n",
       "        1.23216509e-03,  1.38195741e-03,  1.65608109e-03,  1.66395862e-03,\n",
       "        1.66913829e-03,  1.68007914e-03,  1.93768191e-03,  1.96937668e-03,\n",
       "        1.98656904e-03,  2.05329437e-03,  2.10784408e-03,  2.17940146e-03,\n",
       "        2.23066825e-03,  2.27280064e-03,  2.28182506e-03,  2.34185535e-03,\n",
       "        2.36285510e-03,  2.41256730e-03,  2.41505268e-03,  2.47411355e-03,\n",
       "        2.55061137e-03,  2.57732916e-03,  2.61420865e-03,  2.64638355e-03,\n",
       "        2.76165539e-03,  2.85697963e-03,  2.89259186e-03,  2.89588551e-03,\n",
       "        2.89840148e-03,  2.96784620e-03,  3.17162629e-03,  3.17733643e-03,\n",
       "        3.18102013e-03,  3.29808123e-03,  3.43623668e-03,  3.44105776e-03,\n",
       "        3.45506245e-03,  3.48502841e-03,  3.49885259e-03,  3.53810912e-03,\n",
       "        3.55923548e-03,  3.65165151e-03,  3.96419564e-03,  4.09168216e-03,\n",
       "        4.27521090e-03,  4.42564136e-03,  4.50919254e-03,  4.78747320e-03,\n",
       "        4.83422582e-03,  4.93521009e-03,  5.15551449e-03,  5.19878834e-03,\n",
       "        5.23137500e-03,  5.29952744e-03,  5.31667687e-03,  5.46152010e-03,\n",
       "        5.48016686e-03,  5.48386172e-03,  5.63680232e-03,  5.67505282e-03,\n",
       "        5.74894438e-03,  5.84852533e-03,  5.90667217e-03,  6.13546177e-03,\n",
       "        6.48163613e-03,  6.52821739e-03,  6.59325762e-03,  6.94172479e-03,\n",
       "        6.98939570e-03,  7.19092197e-03,  7.29142866e-03,  7.34592830e-03,\n",
       "        7.44109237e-03,  7.59586587e-03,  7.63333500e-03,  7.69257541e-03,\n",
       "        7.79273365e-03,  7.80708733e-03,  7.83376619e-03,  8.10990268e-03,\n",
       "        8.13523915e-03,  8.28821994e-03,  8.42460760e-03,  8.44508407e-03,\n",
       "        8.69860652e-03,  8.83972253e-03,  9.05483676e-03,  9.08493058e-03,\n",
       "        9.15281117e-03,  9.17883281e-03,  9.33607497e-03,  9.64293326e-03,\n",
       "        9.96346706e-03,  1.00518503e-02,  1.00576307e-02,  1.02322928e-02,\n",
       "        1.03127639e-02,  1.03826786e-02,  1.04245328e-02,  1.04463888e-02,\n",
       "        1.05277638e-02,  1.05673720e-02,  1.05908409e-02,  1.09782658e-02,\n",
       "        1.11157423e-02,  1.12950282e-02,  1.13867608e-02,  1.15699563e-02,\n",
       "        1.16814521e-02,  1.18504499e-02,  1.19155052e-02,  1.21606788e-02,\n",
       "        1.22334096e-02,  1.23636599e-02,  1.29711937e-02,  1.34055524e-02,\n",
       "        1.35774145e-02,  1.37624664e-02,  1.37880800e-02,  1.42771328e-02,\n",
       "        1.43770237e-02,  1.44422715e-02,  1.46728861e-02,  1.48847037e-02,\n",
       "        1.51017117e-02,  1.51304949e-02,  1.62511585e-02,  1.64116687e-02,\n",
       "        1.67955215e-02,  1.69246952e-02,  1.75430848e-02,  1.78405437e-02,\n",
       "        1.92833242e-02,  1.97045794e-02,  2.00179730e-02,  2.07025970e-02,\n",
       "        2.07957769e-02,  2.19260270e-02,  2.19639386e-02,  2.23503985e-02,\n",
       "        2.38726147e-02,  2.38907295e-02,  2.38930007e-02,  2.40172329e-02,\n",
       "        2.44105215e-02,  2.54709694e-02,  2.60091328e-02,  2.61938807e-02,\n",
       "        2.64846649e-02,  2.73106209e-02,  2.79272589e-02,  2.88774909e-02,\n",
       "        2.95268692e-02,  2.97120534e-02,  3.03793532e-02,  3.08873460e-02,\n",
       "        3.11379731e-02,  3.14294231e-02,  3.26873154e-02,  3.35985494e-02,\n",
       "        3.36525291e-02,  3.54913969e-02,  3.58649400e-02,  3.69035957e-02,\n",
       "        3.87205677e-02,  3.94850648e-02,  3.99648251e-02,  4.01249737e-02,\n",
       "        4.15664190e-02,  4.31576695e-02,  4.37498819e-02,  4.41086673e-02,\n",
       "        4.53740347e-02,  4.89538930e-02,  4.99744959e-02,  5.57802837e-02,\n",
       "        5.61559827e-02,  6.21119583e-02,  7.30754125e-02,  7.80509517e-02,\n",
       "        7.89281177e-02,  8.49420567e-02,  9.43041994e-02,  9.63745389e-02,\n",
       "        9.91164780e-02,  1.04336967e-01,  1.04906651e-01,  1.07482631e-01,\n",
       "        1.09153684e-01,  1.10344961e-01,  1.17517158e-01,  1.20227657e-01,\n",
       "        1.20942169e-01,  1.20994882e-01,  1.25295475e-01,  1.29835806e-01,\n",
       "        1.33228819e-01,  1.37407122e-01,  1.52923073e-01,  1.57274000e-01,\n",
       "        1.60747535e-01,  1.61805878e-01,  1.64981284e-01,  1.67354612e-01,\n",
       "        1.70104926e-01,  1.70969312e-01,  1.74082608e-01,  1.79034191e-01,\n",
       "        1.83700705e-01,  1.95122913e-01,  2.10516451e-01,  2.15453618e-01,\n",
       "        2.58750227e-01,  2.69821821e-01,  2.88666472e-01,  3.62697613e-01,\n",
       "        4.78733447e-01,  5.43762398e-01,  6.06699817e-01,  6.18404604e-01,\n",
       "        7.91989894e-01,  9.33591351e-01])"
      ]
     },
     "execution_count": 78,
     "metadata": {},
     "output_type": "execute_result"
    }
   ],
   "source": [
    "influences"
   ]
  },
  {
   "cell_type": "code",
   "execution_count": 79,
   "metadata": {},
   "outputs": [],
   "source": [
    "influences = influence(m1)"
   ]
  },
  {
   "cell_type": "code",
   "execution_count": 80,
   "metadata": {},
   "outputs": [
    {
     "data": {
      "text/plain": [
       "0     -0.029925\n",
       "1     -0.008109\n",
       "2      0.021964\n",
       "3      0.024411\n",
       "4      0.039965\n",
       "5      0.011681\n",
       "6     -0.015468\n",
       "7      0.009179\n",
       "8     -0.061968\n",
       "9     -0.048988\n",
       "10    -0.085120\n",
       "11    -0.049229\n",
       "12    -0.019685\n",
       "13     0.014277\n",
       "14    -0.004786\n",
       "15     0.016796\n",
       "16     0.030379\n",
       "17    -0.004108\n",
       "18     0.043750\n",
       "19     0.011916\n",
       "20    -0.009425\n",
       "21     0.009055\n",
       "22    -0.022704\n",
       "23    -0.013993\n",
       "24    -0.012396\n",
       "25    -0.009449\n",
       "26    -0.002008\n",
       "27    -0.021506\n",
       "28    -0.023583\n",
       "29    -0.016634\n",
       "         ...   \n",
       "476   -0.020802\n",
       "477    0.007346\n",
       "478   -0.015912\n",
       "479    0.019283\n",
       "480    0.010528\n",
       "481    0.000149\n",
       "482   -0.007507\n",
       "483    0.019705\n",
       "484    0.010567\n",
       "485    0.001232\n",
       "486    0.000388\n",
       "487    0.010313\n",
       "488   -0.000960\n",
       "489   -0.052493\n",
       "490   -0.042296\n",
       "491   -0.023348\n",
       "492    0.003436\n",
       "493    0.014885\n",
       "494    0.015130\n",
       "495    0.022350\n",
       "496    0.023891\n",
       "497   -0.001843\n",
       "498    0.002179\n",
       "499    0.001669\n",
       "500   -0.011053\n",
       "501   -0.003042\n",
       "502    0.007633\n",
       "503   -0.017373\n",
       "504   -0.019514\n",
       "505   -0.040473\n",
       "Length: 506, dtype: float64"
      ]
     },
     "execution_count": 80,
     "metadata": {},
     "output_type": "execute_result"
    }
   ],
   "source": [
    "influences"
   ]
  },
  {
   "cell_type": "code",
   "execution_count": 81,
   "metadata": {},
   "outputs": [],
   "source": [
    "influences = np.sort(influences.to_numpy())"
   ]
  },
  {
   "cell_type": "code",
   "execution_count": 82,
   "metadata": {},
   "outputs": [
    {
     "data": {
      "text/plain": [
       "array([-6.57606301e-01, -1.80847690e-01, -1.23309747e-01, -1.20669500e-01,\n",
       "       -1.15668510e-01, -1.11530719e-01, -1.11046302e-01, -1.08850460e-01,\n",
       "       -1.08689122e-01, -1.03896304e-01, -1.03605309e-01, -9.81713980e-02,\n",
       "       -9.10871690e-02, -9.07108396e-02, -8.74101600e-02, -8.72743251e-02,\n",
       "       -8.71194801e-02, -8.55124315e-02, -8.51204051e-02, -7.71563136e-02,\n",
       "       -7.51281399e-02, -7.50202253e-02, -7.24927278e-02, -7.07257971e-02,\n",
       "       -6.69441784e-02, -6.40580542e-02, -6.38051543e-02, -6.35661622e-02,\n",
       "       -6.19677361e-02, -5.84767107e-02, -5.74045016e-02, -5.69963530e-02,\n",
       "       -5.52322482e-02, -5.49875781e-02, -5.44296773e-02, -5.37690820e-02,\n",
       "       -5.25479046e-02, -5.24931885e-02, -5.24870871e-02, -5.15648550e-02,\n",
       "       -5.05272897e-02, -4.92290659e-02, -4.89876052e-02, -4.86665816e-02,\n",
       "       -4.64560523e-02, -4.64334621e-02, -4.51265686e-02, -4.50101894e-02,\n",
       "       -4.46981795e-02, -4.44892078e-02, -4.25420460e-02, -4.24069832e-02,\n",
       "       -4.22961843e-02, -4.13017580e-02, -4.10246449e-02, -4.04732479e-02,\n",
       "       -3.96779962e-02, -3.93260533e-02, -3.93043469e-02, -3.77010736e-02,\n",
       "       -3.75792103e-02, -3.57922877e-02, -3.57544904e-02, -3.56082939e-02,\n",
       "       -3.46438107e-02, -3.46133034e-02, -3.38536878e-02, -3.33182042e-02,\n",
       "       -3.25053906e-02, -3.23837015e-02, -3.19606587e-02, -3.11059115e-02,\n",
       "       -3.09566928e-02, -3.07714647e-02, -3.06937729e-02, -3.02945492e-02,\n",
       "       -2.99247521e-02, -2.91579256e-02, -2.91275660e-02, -2.84620256e-02,\n",
       "       -2.82717440e-02, -2.73050453e-02, -2.63560646e-02, -2.62912428e-02,\n",
       "       -2.59526762e-02, -2.55687218e-02, -2.54249626e-02, -2.52636068e-02,\n",
       "       -2.39909730e-02, -2.38400489e-02, -2.35827005e-02, -2.35665644e-02,\n",
       "       -2.33475133e-02, -2.32646160e-02, -2.27038837e-02, -2.21023063e-02,\n",
       "       -2.15115634e-02, -2.15063801e-02, -2.11277584e-02, -2.08395613e-02,\n",
       "       -2.08016692e-02, -2.03683310e-02, -1.96851184e-02, -1.96804927e-02,\n",
       "       -1.95937815e-02, -1.95806699e-02, -1.95135596e-02, -1.94340587e-02,\n",
       "       -1.89433696e-02, -1.87533488e-02, -1.85264617e-02, -1.84111958e-02,\n",
       "       -1.79726225e-02, -1.79106877e-02, -1.75645035e-02, -1.74429720e-02,\n",
       "       -1.74320152e-02, -1.73727585e-02, -1.72454242e-02, -1.70407186e-02,\n",
       "       -1.68722476e-02, -1.66343736e-02, -1.63250246e-02, -1.61423850e-02,\n",
       "       -1.59122988e-02, -1.54789466e-02, -1.54769657e-02, -1.54682496e-02,\n",
       "       -1.52590564e-02, -1.51778661e-02, -1.48835201e-02, -1.48550138e-02,\n",
       "       -1.44369382e-02, -1.43369144e-02, -1.42483282e-02, -1.41101852e-02,\n",
       "       -1.39928131e-02, -1.35280443e-02, -1.34030164e-02, -1.31559906e-02,\n",
       "       -1.30468519e-02, -1.29220015e-02, -1.29218631e-02, -1.28594163e-02,\n",
       "       -1.27948843e-02, -1.27130261e-02, -1.24932368e-02, -1.24304548e-02,\n",
       "       -1.24236406e-02, -1.23957904e-02, -1.21997481e-02, -1.21371551e-02,\n",
       "       -1.17019605e-02, -1.15148633e-02, -1.14206298e-02, -1.10533677e-02,\n",
       "       -1.10298554e-02, -1.10138481e-02, -1.09708639e-02, -1.05714899e-02,\n",
       "       -1.05543399e-02, -1.04804620e-02, -1.01310914e-02, -9.83936173e-03,\n",
       "       -9.66966608e-03, -9.53588906e-03, -9.44943907e-03, -9.42454662e-03,\n",
       "       -9.24381724e-03, -9.21610340e-03, -9.08281103e-03, -9.07947857e-03,\n",
       "       -9.06893724e-03, -9.06598662e-03, -8.85374323e-03, -8.77462343e-03,\n",
       "       -8.58456920e-03, -8.42492182e-03, -8.41285827e-03, -8.38133632e-03,\n",
       "       -8.30907121e-03, -8.28946064e-03, -8.25099065e-03, -8.18803232e-03,\n",
       "       -8.10905993e-03, -8.04858730e-03, -7.50713291e-03, -7.47822108e-03,\n",
       "       -7.27369534e-03, -7.16528713e-03, -7.14608264e-03, -7.05590185e-03,\n",
       "       -6.84282524e-03, -6.62821449e-03, -6.33678964e-03, -6.14163625e-03,\n",
       "       -6.06723989e-03, -5.91111711e-03, -5.87806828e-03, -5.61607894e-03,\n",
       "       -5.49640743e-03, -5.31305099e-03, -5.21856889e-03, -5.21597224e-03,\n",
       "       -5.04500565e-03, -5.00251894e-03, -4.82507947e-03, -4.78629574e-03,\n",
       "       -4.78508322e-03, -4.59005602e-03, -4.58182943e-03, -4.57553374e-03,\n",
       "       -4.51204106e-03, -4.29827522e-03, -4.25498907e-03, -4.20228191e-03,\n",
       "       -4.10785396e-03, -4.08144339e-03, -4.05882084e-03, -4.01233855e-03,\n",
       "       -3.93829534e-03, -3.89392336e-03, -3.88197616e-03, -3.83742073e-03,\n",
       "       -3.63435912e-03, -3.62447834e-03, -3.56315615e-03, -3.46967155e-03,\n",
       "       -3.37625463e-03, -3.35125343e-03, -3.21179131e-03, -3.14028073e-03,\n",
       "       -3.04155500e-03, -2.94135623e-03, -2.86760485e-03, -2.80509836e-03,\n",
       "       -2.68138168e-03, -2.59633779e-03, -2.58076772e-03, -2.52839339e-03,\n",
       "       -2.46482765e-03, -2.38822861e-03, -2.21591610e-03, -2.14503676e-03,\n",
       "       -2.06358618e-03, -2.00800066e-03, -1.98852142e-03, -1.94997348e-03,\n",
       "       -1.87283433e-03, -1.84335082e-03, -1.82588997e-03, -1.64186881e-03,\n",
       "       -1.54871573e-03, -1.49039477e-03, -1.44096368e-03, -1.28662144e-03,\n",
       "       -1.28490417e-03, -1.27845849e-03, -1.06256649e-03, -9.95969871e-04,\n",
       "       -9.59612905e-04, -8.12889260e-04, -7.95339078e-04, -7.01370783e-04,\n",
       "       -5.93049422e-04, -5.92915003e-04, -4.20571561e-04, -3.91532631e-04,\n",
       "       -2.04883593e-04, -1.15363966e-04,  1.48874574e-04,  3.09212802e-04,\n",
       "        3.87678761e-04,  4.98979236e-04,  7.22095790e-04,  7.66512266e-04,\n",
       "        8.37592530e-04,  8.42196056e-04,  8.98264451e-04,  1.00095096e-03,\n",
       "        1.00591992e-03,  1.02976895e-03,  1.09762548e-03,  1.17332412e-03,\n",
       "        1.23216509e-03,  1.38195741e-03,  1.65608109e-03,  1.66395862e-03,\n",
       "        1.66913829e-03,  1.68007914e-03,  1.93768191e-03,  1.96937668e-03,\n",
       "        1.98656904e-03,  2.05329437e-03,  2.10784408e-03,  2.17940146e-03,\n",
       "        2.23066825e-03,  2.27280064e-03,  2.28182506e-03,  2.34185535e-03,\n",
       "        2.36285510e-03,  2.41256730e-03,  2.41505268e-03,  2.47411355e-03,\n",
       "        2.55061137e-03,  2.57732916e-03,  2.61420865e-03,  2.64638355e-03,\n",
       "        2.76165539e-03,  2.85697963e-03,  2.89259186e-03,  2.89588551e-03,\n",
       "        2.89840148e-03,  2.96784620e-03,  3.17162629e-03,  3.17733643e-03,\n",
       "        3.18102013e-03,  3.29808123e-03,  3.43623668e-03,  3.44105776e-03,\n",
       "        3.45506245e-03,  3.48502841e-03,  3.49885259e-03,  3.53810912e-03,\n",
       "        3.55923548e-03,  3.65165151e-03,  3.96419564e-03,  4.09168216e-03,\n",
       "        4.27521090e-03,  4.42564136e-03,  4.50919254e-03,  4.78747320e-03,\n",
       "        4.83422582e-03,  4.93521009e-03,  5.15551449e-03,  5.19878834e-03,\n",
       "        5.23137500e-03,  5.29952744e-03,  5.31667687e-03,  5.46152010e-03,\n",
       "        5.48016686e-03,  5.48386172e-03,  5.63680232e-03,  5.67505282e-03,\n",
       "        5.74894438e-03,  5.84852533e-03,  5.90667217e-03,  6.13546177e-03,\n",
       "        6.48163613e-03,  6.52821739e-03,  6.59325762e-03,  6.94172479e-03,\n",
       "        6.98939570e-03,  7.19092197e-03,  7.29142866e-03,  7.34592830e-03,\n",
       "        7.44109237e-03,  7.59586587e-03,  7.63333500e-03,  7.69257541e-03,\n",
       "        7.79273365e-03,  7.80708733e-03,  7.83376619e-03,  8.10990268e-03,\n",
       "        8.13523915e-03,  8.28821994e-03,  8.42460760e-03,  8.44508407e-03,\n",
       "        8.69860652e-03,  8.83972253e-03,  9.05483676e-03,  9.08493058e-03,\n",
       "        9.15281117e-03,  9.17883281e-03,  9.33607497e-03,  9.64293326e-03,\n",
       "        9.96346706e-03,  1.00518503e-02,  1.00576307e-02,  1.02322928e-02,\n",
       "        1.03127639e-02,  1.03826786e-02,  1.04245328e-02,  1.04463888e-02,\n",
       "        1.05277638e-02,  1.05673720e-02,  1.05908409e-02,  1.09782658e-02,\n",
       "        1.11157423e-02,  1.12950282e-02,  1.13867608e-02,  1.15699563e-02,\n",
       "        1.16814521e-02,  1.18504499e-02,  1.19155052e-02,  1.21606788e-02,\n",
       "        1.22334096e-02,  1.23636599e-02,  1.29711937e-02,  1.34055524e-02,\n",
       "        1.35774145e-02,  1.37624664e-02,  1.37880800e-02,  1.42771328e-02,\n",
       "        1.43770237e-02,  1.44422715e-02,  1.46728861e-02,  1.48847037e-02,\n",
       "        1.51017117e-02,  1.51304949e-02,  1.62511585e-02,  1.64116687e-02,\n",
       "        1.67955215e-02,  1.69246952e-02,  1.75430848e-02,  1.78405437e-02,\n",
       "        1.92833242e-02,  1.97045794e-02,  2.00179730e-02,  2.07025970e-02,\n",
       "        2.07957769e-02,  2.19260270e-02,  2.19639386e-02,  2.23503985e-02,\n",
       "        2.38726147e-02,  2.38907295e-02,  2.38930007e-02,  2.40172329e-02,\n",
       "        2.44105215e-02,  2.54709694e-02,  2.60091328e-02,  2.61938807e-02,\n",
       "        2.64846649e-02,  2.73106209e-02,  2.79272589e-02,  2.88774909e-02,\n",
       "        2.95268692e-02,  2.97120534e-02,  3.03793532e-02,  3.08873460e-02,\n",
       "        3.11379731e-02,  3.14294231e-02,  3.26873154e-02,  3.35985494e-02,\n",
       "        3.36525291e-02,  3.54913969e-02,  3.58649400e-02,  3.69035957e-02,\n",
       "        3.87205677e-02,  3.94850648e-02,  3.99648251e-02,  4.01249737e-02,\n",
       "        4.15664190e-02,  4.31576695e-02,  4.37498819e-02,  4.41086673e-02,\n",
       "        4.53740347e-02,  4.89538930e-02,  4.99744959e-02,  5.57802837e-02,\n",
       "        5.61559827e-02,  6.21119583e-02,  7.30754125e-02,  7.80509517e-02,\n",
       "        7.89281177e-02,  8.49420567e-02,  9.43041994e-02,  9.63745389e-02,\n",
       "        9.91164780e-02,  1.04336967e-01,  1.04906651e-01,  1.07482631e-01,\n",
       "        1.09153684e-01,  1.10344961e-01,  1.17517158e-01,  1.20227657e-01,\n",
       "        1.20942169e-01,  1.20994882e-01,  1.25295475e-01,  1.29835806e-01,\n",
       "        1.33228819e-01,  1.37407122e-01,  1.52923073e-01,  1.57274000e-01,\n",
       "        1.60747535e-01,  1.61805878e-01,  1.64981284e-01,  1.67354612e-01,\n",
       "        1.70104926e-01,  1.70969312e-01,  1.74082608e-01,  1.79034191e-01,\n",
       "        1.83700705e-01,  1.95122913e-01,  2.10516451e-01,  2.15453618e-01,\n",
       "        2.58750227e-01,  2.69821821e-01,  2.88666472e-01,  3.62697613e-01,\n",
       "        4.78733447e-01,  5.43762398e-01,  6.06699817e-01,  6.18404604e-01,\n",
       "        7.91989894e-01,  9.33591351e-01])"
      ]
     },
     "execution_count": 82,
     "metadata": {},
     "output_type": "execute_result"
    }
   ],
   "source": [
    "influences"
   ]
  },
  {
   "cell_type": "code",
   "execution_count": 83,
   "metadata": {},
   "outputs": [
    {
     "data": {
      "text/plain": [
       "array([-1.32708792e-01, -3.64961200e-02, -2.48846270e-02, -2.43518098e-02,\n",
       "       -2.33425808e-02, -2.25075503e-02, -2.24097922e-02, -2.19666584e-02,\n",
       "       -2.19340996e-02, -2.09668809e-02, -2.09081563e-02, -1.98115614e-02,\n",
       "       -1.83819226e-02, -1.83059771e-02, -1.76398807e-02, -1.76124684e-02,\n",
       "       -1.75812198e-02, -1.72569080e-02, -1.71777948e-02, -1.55705946e-02,\n",
       "       -1.51612973e-02, -1.51395195e-02, -1.46294558e-02, -1.42728789e-02,\n",
       "       -1.35097261e-02, -1.29272894e-02, -1.28762527e-02, -1.28280227e-02,\n",
       "       -1.25054510e-02, -1.18009417e-02, -1.15845636e-02, -1.15021969e-02,\n",
       "       -1.11461902e-02, -1.10968144e-02, -1.09842267e-02, -1.08509147e-02,\n",
       "       -1.06044740e-02, -1.05934320e-02, -1.05922007e-02, -1.04060888e-02,\n",
       "       -1.01967021e-02, -9.93471296e-03, -9.88598479e-03, -9.82120036e-03,\n",
       "       -9.37510263e-03, -9.37054380e-03, -9.10680507e-03, -9.08331906e-03,\n",
       "       -9.02035364e-03, -8.97818192e-03, -8.58523330e-03, -8.55797685e-03,\n",
       "       -8.53561698e-03, -8.33493595e-03, -8.27901290e-03, -8.16773778e-03,\n",
       "       -8.00725134e-03, -7.93622719e-03, -7.93184671e-03, -7.60829680e-03,\n",
       "       -7.58370409e-03, -7.22309267e-03, -7.21546494e-03, -7.18596163e-03,\n",
       "       -6.99132330e-03, -6.98516675e-03, -6.83187188e-03, -6.72380816e-03,\n",
       "       -6.55977763e-03, -6.53522006e-03, -6.44984755e-03, -6.27735458e-03,\n",
       "       -6.24724137e-03, -6.20986127e-03, -6.19418260e-03, -6.11361693e-03,\n",
       "       -6.03898972e-03, -5.88423965e-03, -5.87811290e-03, -5.74380297e-03,\n",
       "       -5.70540304e-03, -5.51031758e-03, -5.31880774e-03, -5.30572633e-03,\n",
       "       -5.23740160e-03, -5.15991737e-03, -5.13090593e-03, -5.09834337e-03,\n",
       "       -4.84151844e-03, -4.81106109e-03, -4.75912667e-03, -4.75587030e-03,\n",
       "       -4.71166452e-03, -4.69493535e-03, -4.58177632e-03, -4.46037447e-03,\n",
       "       -4.34115912e-03, -4.34011308e-03, -4.26370502e-03, -4.20554516e-03,\n",
       "       -4.19789832e-03, -4.11044814e-03, -3.97257185e-03, -3.97163834e-03,\n",
       "       -3.95413953e-03, -3.95149352e-03, -3.93795027e-03, -3.92190653e-03,\n",
       "       -3.82288261e-03, -3.78453530e-03, -3.73874815e-03, -3.71548682e-03,\n",
       "       -3.62698017e-03, -3.61448136e-03, -3.54461937e-03, -3.52009360e-03,\n",
       "       -3.51788246e-03, -3.50592410e-03, -3.48022730e-03, -3.43891652e-03,\n",
       "       -3.40491810e-03, -3.35691372e-03, -3.29448529e-03, -3.25762756e-03,\n",
       "       -3.21119482e-03, -3.12374181e-03, -3.12334206e-03, -3.12158310e-03,\n",
       "       -3.07936668e-03, -3.06298202e-03, -3.00358127e-03, -2.99782852e-03,\n",
       "       -2.91345843e-03, -2.89327305e-03, -2.87539583e-03, -2.84751777e-03,\n",
       "       -2.82383140e-03, -2.73003833e-03, -2.70480698e-03, -2.65495574e-03,\n",
       "       -2.63293090e-03, -2.60773537e-03, -2.60770742e-03, -2.59510531e-03,\n",
       "       -2.58208236e-03, -2.56556291e-03, -2.52120815e-03, -2.50853836e-03,\n",
       "       -2.50716322e-03, -2.50154288e-03, -2.46198040e-03, -2.44934877e-03,\n",
       "       -2.36152395e-03, -2.32376666e-03, -2.30474978e-03, -2.23063414e-03,\n",
       "       -2.22588923e-03, -2.22265885e-03, -2.21398439e-03, -2.13338839e-03,\n",
       "       -2.12992743e-03, -2.11501842e-03, -2.04451341e-03, -1.98564065e-03,\n",
       "       -1.95139508e-03, -1.92439810e-03, -1.90695198e-03, -1.90192854e-03,\n",
       "       -1.86545630e-03, -1.85986348e-03, -1.83296430e-03, -1.83229179e-03,\n",
       "       -1.83016449e-03, -1.82956904e-03, -1.78673708e-03, -1.77077025e-03,\n",
       "       -1.73241619e-03, -1.70019842e-03, -1.69776392e-03, -1.69140261e-03,\n",
       "       -1.67681909e-03, -1.67286156e-03, -1.66509809e-03, -1.65239274e-03,\n",
       "       -1.63645565e-03, -1.62425192e-03, -1.51498326e-03, -1.50914868e-03,\n",
       "       -1.46787419e-03, -1.44599678e-03, -1.44212121e-03, -1.42392219e-03,\n",
       "       -1.38092209e-03, -1.33761239e-03, -1.27880115e-03, -1.23941806e-03,\n",
       "       -1.22440444e-03, -1.19289795e-03, -1.18622850e-03, -1.13335753e-03,\n",
       "       -1.10920712e-03, -1.07220471e-03, -1.05313768e-03, -1.05261366e-03,\n",
       "       -1.01811160e-03, -1.00953753e-03, -9.73729213e-04, -9.65902430e-04,\n",
       "       -9.65657736e-04, -9.26300107e-04, -9.24639935e-04, -9.23369428e-04,\n",
       "       -9.10556234e-04, -8.67417038e-04, -8.58681641e-04, -8.48045029e-04,\n",
       "       -8.28988916e-04, -8.23659110e-04, -8.19093747e-04, -8.09713349e-04,\n",
       "       -7.94770997e-04, -7.85816473e-04, -7.83405457e-04, -7.74413911e-04,\n",
       "       -7.33434893e-04, -7.31440894e-04, -7.19065717e-04, -7.00199979e-04,\n",
       "       -6.81347900e-04, -6.76302512e-04, -6.48158242e-04, -6.33726989e-04,\n",
       "       -6.13803560e-04, -5.93582863e-04, -5.78699404e-04, -5.66085229e-04,\n",
       "       -5.41118481e-04, -5.23956127e-04, -5.20813996e-04, -5.10244550e-04,\n",
       "       -4.97416612e-04, -4.81958479e-04, -4.47184808e-04, -4.32880943e-04,\n",
       "       -4.16443741e-04, -4.05226259e-04, -4.01295234e-04, -3.93516034e-04,\n",
       "       -3.77948904e-04, -3.71998960e-04, -3.68475259e-04, -3.31338713e-04,\n",
       "       -3.12539879e-04, -3.00770367e-04, -2.90794885e-04, -2.59647719e-04,\n",
       "       -2.59301164e-04, -2.58000389e-04, -2.14432122e-04, -2.00992536e-04,\n",
       "       -1.93655488e-04, -1.64045800e-04, -1.60504070e-04, -1.41540720e-04,\n",
       "       -1.19680836e-04, -1.19653710e-04, -8.48737970e-05, -7.90135713e-05,\n",
       "       -4.13467054e-05, -2.32811220e-05,  3.00437584e-05,  6.24009490e-05,\n",
       "        7.82358377e-05,  1.00696924e-04,  1.45723147e-04,  1.54686651e-04,\n",
       "        1.69031064e-04,  1.69960082e-04,  1.81275011e-04,  2.01997749e-04,\n",
       "        2.03000514e-04,  2.07813388e-04,  2.21507230e-04,  2.36783658e-04,\n",
       "        2.48658110e-04,  2.78887074e-04,  3.34206834e-04,  3.35796567e-04,\n",
       "        3.36841854e-04,  3.39049781e-04,  3.91035524e-04,  3.97431714e-04,\n",
       "        4.00901233e-04,  4.14366794e-04,  4.25375244e-04,  4.39815941e-04,\n",
       "        4.50161879e-04,  4.58664442e-04,  4.60485621e-04,  4.72600085e-04,\n",
       "        4.76837956e-04,  4.86870169e-04,  4.87371733e-04,  4.99290562e-04,\n",
       "        5.14728268e-04,  5.20120074e-04,  5.27562571e-04,  5.34055654e-04,\n",
       "        5.57318184e-04,  5.76555173e-04,  5.83741928e-04,  5.84406606e-04,\n",
       "        5.84914344e-04,  5.98928695e-04,  6.40052705e-04,  6.41205046e-04,\n",
       "        6.41948437e-04,  6.65572051e-04,  6.93452628e-04,  6.94425550e-04,\n",
       "        6.97251779e-04,  7.03299084e-04,  7.06088883e-04,  7.14011082e-04,\n",
       "        7.18274503e-04,  7.36924598e-04,  7.99997829e-04,  8.25725354e-04,\n",
       "        8.62762524e-04,  8.93120270e-04,  9.09981386e-04,  9.66140047e-04,\n",
       "        9.75574999e-04,  9.95954215e-04,  1.04041293e-03,  1.04914584e-03,\n",
       "        1.05572202e-03,  1.06947558e-03,  1.07293644e-03,  1.10216665e-03,\n",
       "        1.10592967e-03,  1.10667532e-03,  1.13753962e-03,  1.14525880e-03,\n",
       "        1.16017055e-03,  1.18026656e-03,  1.19200094e-03,  1.23817201e-03,\n",
       "        1.30803202e-03,  1.31743239e-03,  1.33055789e-03,  1.40088060e-03,\n",
       "        1.41050087e-03,  1.45117004e-03,  1.47145288e-03,  1.48245123e-03,\n",
       "        1.50165589e-03,  1.53289009e-03,  1.54045158e-03,  1.55240664e-03,\n",
       "        1.57261916e-03,  1.57551581e-03,  1.58089976e-03,  1.63662572e-03,\n",
       "        1.64173877e-03,  1.67261118e-03,  1.70013501e-03,  1.70426728e-03,\n",
       "        1.75542959e-03,  1.78390763e-03,  1.82731893e-03,  1.83339204e-03,\n",
       "        1.84709074e-03,  1.85234206e-03,  1.88407445e-03,  1.94600024e-03,\n",
       "        2.01068583e-03,  2.02852209e-03,  2.02968860e-03,  2.06493644e-03,\n",
       "        2.08117597e-03,  2.09528517e-03,  2.10373160e-03,  2.10814226e-03,\n",
       "        2.12456421e-03,  2.13255737e-03,  2.13729354e-03,  2.21547814e-03,\n",
       "        2.24322171e-03,  2.27940266e-03,  2.29791482e-03,  2.33488475e-03,\n",
       "        2.35738525e-03,  2.39148998e-03,  2.40461853e-03,  2.45409599e-03,\n",
       "        2.46877349e-03,  2.49505876e-03,  2.61766263e-03,  2.70531876e-03,\n",
       "        2.74000153e-03,  2.77734608e-03,  2.78251506e-03,  2.88120876e-03,\n",
       "        2.90136733e-03,  2.91453471e-03,  2.96107409e-03,  3.00382012e-03,\n",
       "        3.04761361e-03,  3.05342223e-03,  3.27957868e-03,  3.31197057e-03,\n",
       "        3.38943432e-03,  3.41550232e-03,  3.54029696e-03,  3.60032589e-03,\n",
       "        3.89148743e-03,  3.97649918e-03,  4.03974385e-03,  4.17790497e-03,\n",
       "        4.19670921e-03,  4.42480028e-03,  4.43245107e-03,  4.51044093e-03,\n",
       "        4.81763305e-03,  4.82128871e-03,  4.82174707e-03,  4.84681785e-03,\n",
       "        4.92618579e-03,  5.14019036e-03,  5.24879487e-03,  5.28607808e-03,\n",
       "        5.34476003e-03,  5.51144277e-03,  5.63588393e-03,  5.82764629e-03,\n",
       "        5.95869463e-03,  5.99606587e-03,  6.13073088e-03,  6.23324679e-03,\n",
       "        6.28382481e-03,  6.34264111e-03,  6.59649113e-03,  6.78038346e-03,\n",
       "        6.79127688e-03,  7.16237114e-03,  7.23775431e-03,  7.44736110e-03,\n",
       "        7.81403667e-03,  7.96831665e-03,  8.06513507e-03,  8.09745400e-03,\n",
       "        8.38834608e-03,  8.70946972e-03,  8.82898165e-03,  8.90138663e-03,\n",
       "        9.15674516e-03,  9.87918147e-03,  1.00851451e-02,  1.12567870e-02,\n",
       "        1.13326052e-02,  1.25345559e-02,  1.47470450e-02,  1.57511378e-02,\n",
       "        1.59281550e-02,  1.71418030e-02,  1.90311381e-02,  1.94489447e-02,\n",
       "        2.00022840e-02,  2.10558091e-02,  2.11707747e-02,  2.16906225e-02,\n",
       "        2.20278508e-02,  2.22682575e-02,  2.37156488e-02,  2.42626432e-02,\n",
       "        2.44068360e-02,  2.44174736e-02,  2.52853585e-02,  2.62016238e-02,\n",
       "        2.68863537e-02,  2.77295595e-02,  3.08607692e-02,  3.17388117e-02,\n",
       "        3.24397911e-02,  3.26533711e-02,  3.32941865e-02,  3.37731380e-02,\n",
       "        3.43281673e-02,  3.45026054e-02,  3.51308869e-02,  3.61301452e-02,\n",
       "        3.70718750e-02,  3.93769433e-02,  4.24834491e-02,  4.34797983e-02,\n",
       "        5.22173068e-02,  5.44516190e-02,  5.82545797e-02,  7.31944963e-02,\n",
       "        9.66112051e-02,  1.09734427e-01,  1.22435566e-01,  1.24797660e-01,\n",
       "        1.59828185e-01,  1.88404186e-01])"
      ]
     },
     "execution_count": 83,
     "metadata": {},
     "output_type": "execute_result"
    }
   ],
   "source": [
    "influences/np.sum(influences)"
   ]
  },
  {
   "cell_type": "code",
   "execution_count": 84,
   "metadata": {},
   "outputs": [
    {
     "data": {
      "text/plain": [
       "array([-0.13270879, -0.16920491, -0.19408954, -0.21844135, -0.24178393,\n",
       "       -0.26429148, -0.28670127, -0.30866793, -0.33060203, -0.35156891,\n",
       "       -0.37247707, -0.39228863, -0.41067055, -0.42897653, -0.44661641,\n",
       "       -0.46422888, -0.4818101 , -0.49906701, -0.5162448 , -0.53181539,\n",
       "       -0.54697669, -0.56211621, -0.57674567, -0.59101855, -0.60452827,\n",
       "       -0.61745556, -0.63033181, -0.64315984, -0.65566529, -0.66746623,\n",
       "       -0.67905079, -0.69055299, -0.70169918, -0.71279599, -0.72378022,\n",
       "       -0.73463114, -0.74523561, -0.75582904, -0.76642124, -0.77682733,\n",
       "       -0.78702403, -0.79695875, -0.80684473, -0.81666593, -0.82604103,\n",
       "       -0.83541158, -0.84451838, -0.8536017 , -0.86262206, -0.87160024,\n",
       "       -0.88018547, -0.88874345, -0.89727907, -0.905614  , -0.91389301,\n",
       "       -0.92206075, -0.930068  , -0.93800423, -0.94593608, -0.95354437,\n",
       "       -0.96112808, -0.96835117, -0.97556664, -0.9827526 , -0.98974392,\n",
       "       -0.99672909, -1.00356096, -1.01028477, -1.01684454, -1.02337976,\n",
       "       -1.02982961, -1.03610697, -1.04235421, -1.04856407, -1.05475825,\n",
       "       -1.06087187, -1.06691086, -1.0727951 , -1.07867321, -1.08441701,\n",
       "       -1.09012242, -1.09563274, -1.10095154, -1.10625727, -1.11149467,\n",
       "       -1.11665459, -1.12178549, -1.12688384, -1.13172536, -1.13653642,\n",
       "       -1.14129554, -1.14605141, -1.15076308, -1.15545801, -1.16003979,\n",
       "       -1.16450016, -1.16884132, -1.17318144, -1.17744514, -1.18165069,\n",
       "       -1.18584859, -1.18995903, -1.19393161, -1.19790324, -1.20185738,\n",
       "       -1.20580888, -1.20974683, -1.21366873, -1.21749162, -1.22127615,\n",
       "       -1.2250149 , -1.22873039, -1.23235737, -1.23597185, -1.23951647,\n",
       "       -1.24303656, -1.24655444, -1.25006037, -1.25354059, -1.25697951,\n",
       "       -1.26038443, -1.26374134, -1.26703583, -1.27029346, -1.27350465,\n",
       "       -1.27662839, -1.27975173, -1.28287332, -1.28595268, -1.28901567,\n",
       "       -1.29201925, -1.29501708, -1.29793053, -1.30082381, -1.3036992 ,\n",
       "       -1.30654672, -1.30937055, -1.31210059, -1.3148054 , -1.31746035,\n",
       "       -1.32009328, -1.32270102, -1.32530873, -1.32790383, -1.33048592,\n",
       "       -1.33305148, -1.33557269, -1.33808122, -1.34058839, -1.34308993,\n",
       "       -1.34555191, -1.34800126, -1.35036278, -1.35268655, -1.3549913 ,\n",
       "       -1.35722193, -1.35944782, -1.36167048, -1.36388447, -1.36601786,\n",
       "       -1.36814778, -1.3702628 , -1.37230731, -1.37429296, -1.37624435,\n",
       "       -1.37816875, -1.3800757 , -1.38197763, -1.38384309, -1.38570295,\n",
       "       -1.38753591, -1.3893682 , -1.39119837, -1.39302794, -1.39481468,\n",
       "       -1.39658545, -1.39831786, -1.40001806, -1.40171582, -1.40340723,\n",
       "       -1.40508405, -1.40675691, -1.40842201, -1.4100744 , -1.41171085,\n",
       "       -1.41333511, -1.41485009, -1.41635924, -1.41782711, -1.41927311,\n",
       "       -1.42071523, -1.42213915, -1.42352007, -1.42485769, -1.42613649,\n",
       "       -1.42737591, -1.42860031, -1.42979321, -1.43097944, -1.43211279,\n",
       "       -1.433222  , -1.43429421, -1.43534734, -1.43639996, -1.43741807,\n",
       "       -1.43842761, -1.43940134, -1.44036724, -1.4413329 , -1.4422592 ,\n",
       "       -1.44318384, -1.44410721, -1.44501776, -1.44588518, -1.44674386,\n",
       "       -1.44759191, -1.44842089, -1.44924455, -1.45006365, -1.45087336,\n",
       "       -1.45166813, -1.45245395, -1.45323735, -1.45401177, -1.4547452 ,\n",
       "       -1.45547664, -1.45619571, -1.45689591, -1.45757726, -1.45825356,\n",
       "       -1.45890172, -1.45953544, -1.46014925, -1.46074283, -1.46132153,\n",
       "       -1.46188762, -1.46242873, -1.46295269, -1.4634735 , -1.46398375,\n",
       "       -1.46448117, -1.46496312, -1.46541031, -1.46584319, -1.46625963,\n",
       "       -1.46666486, -1.46706615, -1.46745967, -1.46783762, -1.46820962,\n",
       "       -1.46857809, -1.46890943, -1.46922197, -1.46952274, -1.46981354,\n",
       "       -1.47007319, -1.47033249, -1.47059049, -1.47080492, -1.47100591,\n",
       "       -1.47119957, -1.47136361, -1.47152412, -1.47166566, -1.47178534,\n",
       "       -1.47190499, -1.47198987, -1.47206888, -1.47211023, -1.47213351,\n",
       "       -1.47210346, -1.47204106, -1.47196283, -1.47186213, -1.47171641,\n",
       "       -1.47156172, -1.47139269, -1.47122273, -1.47104145, -1.47083946,\n",
       "       -1.47063646, -1.47042864, -1.47020714, -1.46997035, -1.46972169,\n",
       "       -1.46944281, -1.4691086 , -1.4687728 , -1.46843596, -1.46809691,\n",
       "       -1.46770588, -1.46730844, -1.46690754, -1.46649318, -1.4660678 ,\n",
       "       -1.46562798, -1.46517782, -1.46471916, -1.46425867, -1.46378607,\n",
       "       -1.46330923, -1.46282236, -1.46233499, -1.4618357 , -1.46132097,\n",
       "       -1.46080085, -1.46027329, -1.45973924, -1.45918192, -1.45860536,\n",
       "       -1.45802162, -1.45743721, -1.4568523 , -1.45625337, -1.45561332,\n",
       "       -1.45497211, -1.45433016, -1.45366459, -1.45297114, -1.45227671,\n",
       "       -1.45157946, -1.45087616, -1.45017007, -1.44945606, -1.44873779,\n",
       "       -1.44800086, -1.44720087, -1.44637514, -1.44551238, -1.44461926,\n",
       "       -1.44370928, -1.44274314, -1.44176756, -1.44077161, -1.43973119,\n",
       "       -1.43868205, -1.43762633, -1.43655685, -1.43548392, -1.43438175,\n",
       "       -1.43327582, -1.43216914, -1.4310316 , -1.42988634, -1.42872617,\n",
       "       -1.42754591, -1.42635391, -1.42511573, -1.4238077 , -1.42249027,\n",
       "       -1.42115971, -1.41975883, -1.41834833, -1.41689716, -1.41542571,\n",
       "       -1.41394326, -1.4124416 , -1.41090871, -1.40936826, -1.40781585,\n",
       "       -1.40624323, -1.40466772, -1.40308682, -1.40145019, -1.39980845,\n",
       "       -1.39813584, -1.39643571, -1.39473144, -1.39297601, -1.3911921 ,\n",
       "       -1.38936478, -1.38753139, -1.3856843 , -1.38383196, -1.38194788,\n",
       "       -1.38000188, -1.3779912 , -1.37596268, -1.37393299, -1.37186805,\n",
       "       -1.36978688, -1.36769159, -1.36558786, -1.36347972, -1.36135515,\n",
       "       -1.35922259, -1.3570853 , -1.35486982, -1.3526266 , -1.3503472 ,\n",
       "       -1.34804928, -1.3457144 , -1.34335701, -1.34096552, -1.33856091,\n",
       "       -1.33610681, -1.33363804, -1.33114298, -1.32852531, -1.32582   ,\n",
       "       -1.32307999, -1.32030265, -1.31752013, -1.31463892, -1.31173756,\n",
       "       -1.30882302, -1.30586195, -1.30285813, -1.29981051, -1.29675709,\n",
       "       -1.29347751, -1.29016554, -1.28677611, -1.28336061, -1.27982031,\n",
       "       -1.27621998, -1.2723285 , -1.268352  , -1.26431225, -1.26013435,\n",
       "       -1.25593764, -1.25151284, -1.24708039, -1.24256995, -1.23775231,\n",
       "       -1.23293102, -1.22810928, -1.22326246, -1.21833627, -1.21319608,\n",
       "       -1.20794729, -1.20266121, -1.19731645, -1.19180501, -1.18616912,\n",
       "       -1.18034148, -1.17438278, -1.16838672, -1.16225599, -1.15602274,\n",
       "       -1.14973891, -1.14339627, -1.13679978, -1.1300194 , -1.12322812,\n",
       "       -1.11606575, -1.108828  , -1.10138064, -1.0935666 , -1.08559828,\n",
       "       -1.07753315, -1.06943569, -1.06104735, -1.05233788, -1.0435089 ,\n",
       "       -1.03460751, -1.02545076, -1.01557158, -1.00548644, -0.99422965,\n",
       "       -0.98289705, -0.97036249, -0.95561544, -0.93986431, -0.92393615,\n",
       "       -0.90679435, -0.88776321, -0.86831427, -0.84831198, -0.82725617,\n",
       "       -0.8060854 , -0.78439478, -0.76236692, -0.74009867, -0.71638302,\n",
       "       -0.69212038, -0.66771354, -0.64329607, -0.61801071, -0.59180908,\n",
       "       -0.56492273, -0.53719317, -0.5063324 , -0.47459359, -0.4421538 ,\n",
       "       -0.40950043, -0.37620624, -0.3424331 , -0.30810494, -0.27360233,\n",
       "       -0.23847144, -0.2023413 , -0.16526942, -0.12589248, -0.08340903,\n",
       "       -0.03992923,  0.01228807,  0.06673969,  0.12499427,  0.19818877,\n",
       "        0.29479998,  0.4045344 ,  0.52696997,  0.65176763,  0.81159581,\n",
       "        1.        ])"
      ]
     },
     "execution_count": 84,
     "metadata": {},
     "output_type": "execute_result"
    }
   ],
   "source": [
    "np.cumsum(influences/np.sum(influences))"
   ]
  },
  {
   "cell_type": "code",
   "execution_count": 85,
   "metadata": {},
   "outputs": [
    {
     "data": {
      "text/plain": [
       "506"
      ]
     },
     "execution_count": 85,
     "metadata": {},
     "output_type": "execute_result"
    }
   ],
   "source": [
    "influences.size"
   ]
  },
  {
   "cell_type": "code",
   "execution_count": 86,
   "metadata": {},
   "outputs": [],
   "source": [
    "def cumDist(data):\n",
    "    cumDist = np.zeros(data.size)\n",
    "    for i,v in enumerate(data):\n",
    "        cumDist[i] = i/data.size\n",
    "    return cumDist"
   ]
  },
  {
   "cell_type": "code",
   "execution_count": 88,
   "metadata": {},
   "outputs": [
    {
     "data": {
      "text/plain": [
       "array([0.        , 0.00197628, 0.00395257, 0.00592885, 0.00790514,\n",
       "       0.00988142, 0.01185771, 0.01383399, 0.01581028, 0.01778656,\n",
       "       0.01976285, 0.02173913, 0.02371542, 0.0256917 , 0.02766798,\n",
       "       0.02964427, 0.03162055, 0.03359684, 0.03557312, 0.03754941,\n",
       "       0.03952569, 0.04150198, 0.04347826, 0.04545455, 0.04743083,\n",
       "       0.04940711, 0.0513834 , 0.05335968, 0.05533597, 0.05731225,\n",
       "       0.05928854, 0.06126482, 0.06324111, 0.06521739, 0.06719368,\n",
       "       0.06916996, 0.07114625, 0.07312253, 0.07509881, 0.0770751 ,\n",
       "       0.07905138, 0.08102767, 0.08300395, 0.08498024, 0.08695652,\n",
       "       0.08893281, 0.09090909, 0.09288538, 0.09486166, 0.09683794,\n",
       "       0.09881423, 0.10079051, 0.1027668 , 0.10474308, 0.10671937,\n",
       "       0.10869565, 0.11067194, 0.11264822, 0.11462451, 0.11660079,\n",
       "       0.11857708, 0.12055336, 0.12252964, 0.12450593, 0.12648221,\n",
       "       0.1284585 , 0.13043478, 0.13241107, 0.13438735, 0.13636364,\n",
       "       0.13833992, 0.14031621, 0.14229249, 0.14426877, 0.14624506,\n",
       "       0.14822134, 0.15019763, 0.15217391, 0.1541502 , 0.15612648,\n",
       "       0.15810277, 0.16007905, 0.16205534, 0.16403162, 0.16600791,\n",
       "       0.16798419, 0.16996047, 0.17193676, 0.17391304, 0.17588933,\n",
       "       0.17786561, 0.1798419 , 0.18181818, 0.18379447, 0.18577075,\n",
       "       0.18774704, 0.18972332, 0.1916996 , 0.19367589, 0.19565217,\n",
       "       0.19762846, 0.19960474, 0.20158103, 0.20355731, 0.2055336 ,\n",
       "       0.20750988, 0.20948617, 0.21146245, 0.21343874, 0.21541502,\n",
       "       0.2173913 , 0.21936759, 0.22134387, 0.22332016, 0.22529644,\n",
       "       0.22727273, 0.22924901, 0.2312253 , 0.23320158, 0.23517787,\n",
       "       0.23715415, 0.23913043, 0.24110672, 0.243083  , 0.24505929,\n",
       "       0.24703557, 0.24901186, 0.25098814, 0.25296443, 0.25494071,\n",
       "       0.256917  , 0.25889328, 0.26086957, 0.26284585, 0.26482213,\n",
       "       0.26679842, 0.2687747 , 0.27075099, 0.27272727, 0.27470356,\n",
       "       0.27667984, 0.27865613, 0.28063241, 0.2826087 , 0.28458498,\n",
       "       0.28656126, 0.28853755, 0.29051383, 0.29249012, 0.2944664 ,\n",
       "       0.29644269, 0.29841897, 0.30039526, 0.30237154, 0.30434783,\n",
       "       0.30632411, 0.3083004 , 0.31027668, 0.31225296, 0.31422925,\n",
       "       0.31620553, 0.31818182, 0.3201581 , 0.32213439, 0.32411067,\n",
       "       0.32608696, 0.32806324, 0.33003953, 0.33201581, 0.33399209,\n",
       "       0.33596838, 0.33794466, 0.33992095, 0.34189723, 0.34387352,\n",
       "       0.3458498 , 0.34782609, 0.34980237, 0.35177866, 0.35375494,\n",
       "       0.35573123, 0.35770751, 0.35968379, 0.36166008, 0.36363636,\n",
       "       0.36561265, 0.36758893, 0.36956522, 0.3715415 , 0.37351779,\n",
       "       0.37549407, 0.37747036, 0.37944664, 0.38142292, 0.38339921,\n",
       "       0.38537549, 0.38735178, 0.38932806, 0.39130435, 0.39328063,\n",
       "       0.39525692, 0.3972332 , 0.39920949, 0.40118577, 0.40316206,\n",
       "       0.40513834, 0.40711462, 0.40909091, 0.41106719, 0.41304348,\n",
       "       0.41501976, 0.41699605, 0.41897233, 0.42094862, 0.4229249 ,\n",
       "       0.42490119, 0.42687747, 0.42885375, 0.43083004, 0.43280632,\n",
       "       0.43478261, 0.43675889, 0.43873518, 0.44071146, 0.44268775,\n",
       "       0.44466403, 0.44664032, 0.4486166 , 0.45059289, 0.45256917,\n",
       "       0.45454545, 0.45652174, 0.45849802, 0.46047431, 0.46245059,\n",
       "       0.46442688, 0.46640316, 0.46837945, 0.47035573, 0.47233202,\n",
       "       0.4743083 , 0.47628458, 0.47826087, 0.48023715, 0.48221344,\n",
       "       0.48418972, 0.48616601, 0.48814229, 0.49011858, 0.49209486,\n",
       "       0.49407115, 0.49604743, 0.49802372, 0.5       , 0.50197628,\n",
       "       0.50395257, 0.50592885, 0.50790514, 0.50988142, 0.51185771,\n",
       "       0.51383399, 0.51581028, 0.51778656, 0.51976285, 0.52173913,\n",
       "       0.52371542, 0.5256917 , 0.52766798, 0.52964427, 0.53162055,\n",
       "       0.53359684, 0.53557312, 0.53754941, 0.53952569, 0.54150198,\n",
       "       0.54347826, 0.54545455, 0.54743083, 0.54940711, 0.5513834 ,\n",
       "       0.55335968, 0.55533597, 0.55731225, 0.55928854, 0.56126482,\n",
       "       0.56324111, 0.56521739, 0.56719368, 0.56916996, 0.57114625,\n",
       "       0.57312253, 0.57509881, 0.5770751 , 0.57905138, 0.58102767,\n",
       "       0.58300395, 0.58498024, 0.58695652, 0.58893281, 0.59090909,\n",
       "       0.59288538, 0.59486166, 0.59683794, 0.59881423, 0.60079051,\n",
       "       0.6027668 , 0.60474308, 0.60671937, 0.60869565, 0.61067194,\n",
       "       0.61264822, 0.61462451, 0.61660079, 0.61857708, 0.62055336,\n",
       "       0.62252964, 0.62450593, 0.62648221, 0.6284585 , 0.63043478,\n",
       "       0.63241107, 0.63438735, 0.63636364, 0.63833992, 0.64031621,\n",
       "       0.64229249, 0.64426877, 0.64624506, 0.64822134, 0.65019763,\n",
       "       0.65217391, 0.6541502 , 0.65612648, 0.65810277, 0.66007905,\n",
       "       0.66205534, 0.66403162, 0.66600791, 0.66798419, 0.66996047,\n",
       "       0.67193676, 0.67391304, 0.67588933, 0.67786561, 0.6798419 ,\n",
       "       0.68181818, 0.68379447, 0.68577075, 0.68774704, 0.68972332,\n",
       "       0.6916996 , 0.69367589, 0.69565217, 0.69762846, 0.69960474,\n",
       "       0.70158103, 0.70355731, 0.7055336 , 0.70750988, 0.70948617,\n",
       "       0.71146245, 0.71343874, 0.71541502, 0.7173913 , 0.71936759,\n",
       "       0.72134387, 0.72332016, 0.72529644, 0.72727273, 0.72924901,\n",
       "       0.7312253 , 0.73320158, 0.73517787, 0.73715415, 0.73913043,\n",
       "       0.74110672, 0.743083  , 0.74505929, 0.74703557, 0.74901186,\n",
       "       0.75098814, 0.75296443, 0.75494071, 0.756917  , 0.75889328,\n",
       "       0.76086957, 0.76284585, 0.76482213, 0.76679842, 0.7687747 ,\n",
       "       0.77075099, 0.77272727, 0.77470356, 0.77667984, 0.77865613,\n",
       "       0.78063241, 0.7826087 , 0.78458498, 0.78656126, 0.78853755,\n",
       "       0.79051383, 0.79249012, 0.7944664 , 0.79644269, 0.79841897,\n",
       "       0.80039526, 0.80237154, 0.80434783, 0.80632411, 0.8083004 ,\n",
       "       0.81027668, 0.81225296, 0.81422925, 0.81620553, 0.81818182,\n",
       "       0.8201581 , 0.82213439, 0.82411067, 0.82608696, 0.82806324,\n",
       "       0.83003953, 0.83201581, 0.83399209, 0.83596838, 0.83794466,\n",
       "       0.83992095, 0.84189723, 0.84387352, 0.8458498 , 0.84782609,\n",
       "       0.84980237, 0.85177866, 0.85375494, 0.85573123, 0.85770751,\n",
       "       0.85968379, 0.86166008, 0.86363636, 0.86561265, 0.86758893,\n",
       "       0.86956522, 0.8715415 , 0.87351779, 0.87549407, 0.87747036,\n",
       "       0.87944664, 0.88142292, 0.88339921, 0.88537549, 0.88735178,\n",
       "       0.88932806, 0.89130435, 0.89328063, 0.89525692, 0.8972332 ,\n",
       "       0.89920949, 0.90118577, 0.90316206, 0.90513834, 0.90711462,\n",
       "       0.90909091, 0.91106719, 0.91304348, 0.91501976, 0.91699605,\n",
       "       0.91897233, 0.92094862, 0.9229249 , 0.92490119, 0.92687747,\n",
       "       0.92885375, 0.93083004, 0.93280632, 0.93478261, 0.93675889,\n",
       "       0.93873518, 0.94071146, 0.94268775, 0.94466403, 0.94664032,\n",
       "       0.9486166 , 0.95059289, 0.95256917, 0.95454545, 0.95652174,\n",
       "       0.95849802, 0.96047431, 0.96245059, 0.96442688, 0.96640316,\n",
       "       0.96837945, 0.97035573, 0.97233202, 0.9743083 , 0.97628458,\n",
       "       0.97826087, 0.98023715, 0.98221344, 0.98418972, 0.98616601,\n",
       "       0.98814229, 0.99011858, 0.99209486, 0.99407115, 0.99604743,\n",
       "       0.99802372])"
      ]
     },
     "execution_count": 88,
     "metadata": {},
     "output_type": "execute_result"
    }
   ],
   "source": [
    "cumDist(influence(m1))"
   ]
  },
  {
   "cell_type": "code",
   "execution_count": 91,
   "metadata": {},
   "outputs": [
    {
     "data": {
      "text/plain": [
       "<matplotlib.collections.PathCollection at 0x7fdfa60f6470>"
      ]
     },
     "execution_count": 91,
     "metadata": {},
     "output_type": "execute_result"
    },
    {
     "data": {
      "image/png": "[encoded data removed]",
      "text/plain": [
       "<Figure size 432x288 with 1 Axes>"
      ]
     },
     "metadata": {
      "needs_background": "light"
     },
     "output_type": "display_data"
    }
   ],
   "source": [
    "influences = influence(m1)\n",
    "influences = np.sort(influences.to_numpy())\n",
    "plt.scatter(influences, cumDist(influences))"
   ]
  },
  {
   "cell_type": "code",
   "execution_count": 93,
   "metadata": {},
   "outputs": [
    {
     "data": {
      "text/plain": [
       "<matplotlib.collections.PathCollection at 0x7fdfa603c0b8>"
      ]
     },
     "execution_count": 93,
     "metadata": {},
     "output_type": "execute_result"
    },
    {
     "data": {
      "image/png": "[encoded data removed]",
      "text/plain": [
       "<Figure size 432x288 with 1 Axes>"
      ]
     },
     "metadata": {
      "needs_background": "light"
     },
     "output_type": "display_data"
    }
   ],
   "source": [
    "plt.scatter(bos['PRICE'] ,influence(m1))"
   ]
  },
  {
   "cell_type": "code",
   "execution_count": 94,
   "metadata": {},
   "outputs": [],
   "source": [
    "#so actually it might not be the highest price houses which screw up the fit. It might actually be some of the intermediate\n",
    "#priced houses since those ones have the highest influence.\n",
    "#Let's cut out points with influence>0.3, since that seems to be where the cut in the cumulative distribution is at."
   ]
  },
  {
   "cell_type": "code",
   "execution_count": 95,
   "metadata": {},
   "outputs": [],
   "source": [
    "bos['influence'] = influence(m1)"
   ]
  },
  {
   "cell_type": "code",
   "execution_count": 96,
   "metadata": {},
   "outputs": [
    {
     "data": {
      "text/html": [
       "<div>\n",
       "<style scoped>\n",
       "    .dataframe tbody tr th:only-of-type {\n",
       "        vertical-align: middle;\n",
       "    }\n",
       "\n",
       "    .dataframe tbody tr th {\n",
       "        vertical-align: top;\n",
       "    }\n",
       "\n",
       "    .dataframe thead th {\n",
       "        text-align: right;\n",
       "    }\n",
       "</style>\n",
       "<table border=\"1\" class=\"dataframe\">\n",
       "  <thead>\n",
       "    <tr style=\"text-align: right;\">\n",
       "      <th></th>\n",
       "      <th>CRIM</th>\n",
       "      <th>ZN</th>\n",
       "      <th>INDUS</th>\n",
       "      <th>CHAS</th>\n",
       "      <th>NOX</th>\n",
       "      <th>RM</th>\n",
       "      <th>AGE</th>\n",
       "      <th>DIS</th>\n",
       "      <th>RAD</th>\n",
       "      <th>TAX</th>\n",
       "      <th>PTRATIO</th>\n",
       "      <th>B</th>\n",
       "      <th>LSTAT</th>\n",
       "      <th>PRICE</th>\n",
       "      <th>influence</th>\n",
       "    </tr>\n",
       "  </thead>\n",
       "  <tbody>\n",
       "    <tr>\n",
       "      <th>0</th>\n",
       "      <td>0.00632</td>\n",
       "      <td>18.0</td>\n",
       "      <td>2.31</td>\n",
       "      <td>0.0</td>\n",
       "      <td>0.538</td>\n",
       "      <td>6.575</td>\n",
       "      <td>65.2</td>\n",
       "      <td>4.0900</td>\n",
       "      <td>1.0</td>\n",
       "      <td>296.0</td>\n",
       "      <td>15.3</td>\n",
       "      <td>396.90</td>\n",
       "      <td>4.98</td>\n",
       "      <td>24.0</td>\n",
       "      <td>-0.029925</td>\n",
       "    </tr>\n",
       "    <tr>\n",
       "      <th>1</th>\n",
       "      <td>0.02731</td>\n",
       "      <td>0.0</td>\n",
       "      <td>7.07</td>\n",
       "      <td>0.0</td>\n",
       "      <td>0.469</td>\n",
       "      <td>6.421</td>\n",
       "      <td>78.9</td>\n",
       "      <td>4.9671</td>\n",
       "      <td>2.0</td>\n",
       "      <td>242.0</td>\n",
       "      <td>17.8</td>\n",
       "      <td>396.90</td>\n",
       "      <td>9.14</td>\n",
       "      <td>21.6</td>\n",
       "      <td>-0.008109</td>\n",
       "    </tr>\n",
       "    <tr>\n",
       "      <th>2</th>\n",
       "      <td>0.02729</td>\n",
       "      <td>0.0</td>\n",
       "      <td>7.07</td>\n",
       "      <td>0.0</td>\n",
       "      <td>0.469</td>\n",
       "      <td>7.185</td>\n",
       "      <td>61.1</td>\n",
       "      <td>4.9671</td>\n",
       "      <td>2.0</td>\n",
       "      <td>242.0</td>\n",
       "      <td>17.8</td>\n",
       "      <td>392.83</td>\n",
       "      <td>4.03</td>\n",
       "      <td>34.7</td>\n",
       "      <td>0.021964</td>\n",
       "    </tr>\n",
       "    <tr>\n",
       "      <th>3</th>\n",
       "      <td>0.03237</td>\n",
       "      <td>0.0</td>\n",
       "      <td>2.18</td>\n",
       "      <td>0.0</td>\n",
       "      <td>0.458</td>\n",
       "      <td>6.998</td>\n",
       "      <td>45.8</td>\n",
       "      <td>6.0622</td>\n",
       "      <td>3.0</td>\n",
       "      <td>222.0</td>\n",
       "      <td>18.7</td>\n",
       "      <td>394.63</td>\n",
       "      <td>2.94</td>\n",
       "      <td>33.4</td>\n",
       "      <td>0.024411</td>\n",
       "    </tr>\n",
       "    <tr>\n",
       "      <th>4</th>\n",
       "      <td>0.06905</td>\n",
       "      <td>0.0</td>\n",
       "      <td>2.18</td>\n",
       "      <td>0.0</td>\n",
       "      <td>0.458</td>\n",
       "      <td>7.147</td>\n",
       "      <td>54.2</td>\n",
       "      <td>6.0622</td>\n",
       "      <td>3.0</td>\n",
       "      <td>222.0</td>\n",
       "      <td>18.7</td>\n",
       "      <td>396.90</td>\n",
       "      <td>5.33</td>\n",
       "      <td>36.2</td>\n",
       "      <td>0.039965</td>\n",
       "    </tr>\n",
       "  </tbody>\n",
       "</table>\n",
       "</div>"
      ],
      "text/plain": [
       "      CRIM    ZN  INDUS  CHAS    NOX     RM   AGE     DIS  RAD    TAX  \\\n",
       "0  0.00632  18.0   2.31   0.0  0.538  6.575  65.2  4.0900  1.0  296.0   \n",
       "1  0.02731   0.0   7.07   0.0  0.469  6.421  78.9  4.9671  2.0  242.0   \n",
       "2  0.02729   0.0   7.07   0.0  0.469  7.185  61.1  4.9671  2.0  242.0   \n",
       "3  0.03237   0.0   2.18   0.0  0.458  6.998  45.8  6.0622  3.0  222.0   \n",
       "4  0.06905   0.0   2.18   0.0  0.458  7.147  54.2  6.0622  3.0  222.0   \n",
       "\n",
       "   PTRATIO       B  LSTAT  PRICE  influence  \n",
       "0     15.3  396.90   4.98   24.0  -0.029925  \n",
       "1     17.8  396.90   9.14   21.6  -0.008109  \n",
       "2     17.8  392.83   4.03   34.7   0.021964  \n",
       "3     18.7  394.63   2.94   33.4   0.024411  \n",
       "4     18.7  396.90   5.33   36.2   0.039965  "
      ]
     },
     "execution_count": 96,
     "metadata": {},
     "output_type": "execute_result"
    }
   ],
   "source": [
    "bos.head()"
   ]
  },
  {
   "cell_type": "code",
   "execution_count": 99,
   "metadata": {},
   "outputs": [
    {
     "data": {
      "text/plain": [
       "'CRIM'"
      ]
     },
     "execution_count": 99,
     "metadata": {},
     "output_type": "execute_result"
    }
   ],
   "source": [
    "bos.columns"
   ]
  },
  {
   "cell_type": "code",
   "execution_count": 102,
   "metadata": {},
   "outputs": [],
   "source": [
    "low_infl_ = bos[bos.influence < 0.3]"
   ]
  },
  {
   "cell_type": "code",
   "execution_count": 104,
   "metadata": {},
   "outputs": [
    {
     "name": "stdout",
     "output_type": "stream",
     "text": [
      "                            OLS Regression Results                            \n",
      "==============================================================================\n",
      "Dep. Variable:                  PRICE   R-squared:                       0.658\n",
      "Model:                            OLS   Adj. R-squared:                  0.656\n",
      "Method:                 Least Squares   F-statistic:                     317.5\n",
      "Date:                Sat, 06 Jul 2019   Prob (F-statistic):          6.68e-115\n",
      "Time:                        12:40:17   Log-Likelihood:                -1542.1\n",
      "No. Observations:                 499   AIC:                             3092.\n",
      "Df Residuals:                     495   BIC:                             3109.\n",
      "Df Model:                           3                                         \n",
      "Covariance Type:            nonrobust                                         \n",
      "==============================================================================\n",
      "                 coef    std err          t      P>|t|      [0.025      0.975]\n",
      "------------------------------------------------------------------------------\n",
      "Intercept     -9.4872      3.743     -2.535      0.012     -16.841      -2.133\n",
      "PTRATIO       -1.0078      0.122     -8.265      0.000      -1.247      -0.768\n",
      "CRIM          -0.2666      0.040     -6.734      0.000      -0.344      -0.189\n",
      "RM             8.1651      0.381     21.410      0.000       7.416       8.914\n",
      "==============================================================================\n",
      "Omnibus:                      179.436   Durbin-Watson:                   0.911\n",
      "Prob(Omnibus):                  0.000   Jarque-Bera (JB):             1326.373\n",
      "Skew:                           1.366   Prob(JB):                    9.59e-289\n",
      "Kurtosis:                      10.505   Cond. No.                         313.\n",
      "==============================================================================\n",
      "\n",
      "Warnings:\n",
      "[1] Standard Errors assume that the covariance matrix of the errors is correctly specified.\n"
     ]
    }
   ],
   "source": [
    "m3 = ols('PRICE ~ PTRATIO + CRIM + RM',low_infl_).fit()\n",
    "print(m3.summary())"
   ]
  },
  {
   "cell_type": "code",
   "execution_count": 105,
   "metadata": {},
   "outputs": [
    {
     "data": {
      "text/html": [
       "<table class=\"simpletable\">\n",
       "<caption>OLS Regression Results</caption>\n",
       "<tr>\n",
       "  <th>Dep. Variable:</th>          <td>PRICE</td>      <th>  R-squared:         </th> <td>   0.594</td>\n",
       "</tr>\n",
       "<tr>\n",
       "  <th>Model:</th>                   <td>OLS</td>       <th>  Adj. R-squared:    </th> <td>   0.592</td>\n",
       "</tr>\n",
       "<tr>\n",
       "  <th>Method:</th>             <td>Least Squares</td>  <th>  F-statistic:       </th> <td>   245.2</td>\n",
       "</tr>\n",
       "<tr>\n",
       "  <th>Date:</th>             <td>Sat, 06 Jul 2019</td> <th>  Prob (F-statistic):</th> <td>6.15e-98</td>\n",
       "</tr>\n",
       "<tr>\n",
       "  <th>Time:</th>                 <td>12:40:33</td>     <th>  Log-Likelihood:    </th> <td> -1612.0</td>\n",
       "</tr>\n",
       "<tr>\n",
       "  <th>No. Observations:</th>      <td>   506</td>      <th>  AIC:               </th> <td>   3232.</td>\n",
       "</tr>\n",
       "<tr>\n",
       "  <th>Df Residuals:</th>          <td>   502</td>      <th>  BIC:               </th> <td>   3249.</td>\n",
       "</tr>\n",
       "<tr>\n",
       "  <th>Df Model:</th>              <td>     3</td>      <th>                     </th>     <td> </td>   \n",
       "</tr>\n",
       "<tr>\n",
       "  <th>Covariance Type:</th>      <td>nonrobust</td>    <th>                     </th>     <td> </td>   \n",
       "</tr>\n",
       "</table>\n",
       "<table class=\"simpletable\">\n",
       "<tr>\n",
       "      <td></td>         <th>coef</th>     <th>std err</th>      <th>t</th>      <th>P>|t|</th>  <th>[0.025</th>    <th>0.975]</th>  \n",
       "</tr>\n",
       "<tr>\n",
       "  <th>Intercept</th> <td>   -3.3707</td> <td>    4.034</td> <td>   -0.836</td> <td> 0.404</td> <td>  -11.296</td> <td>    4.555</td>\n",
       "</tr>\n",
       "<tr>\n",
       "  <th>PTRATIO</th>   <td>   -1.0695</td> <td>    0.133</td> <td>   -8.051</td> <td> 0.000</td> <td>   -1.331</td> <td>   -0.809</td>\n",
       "</tr>\n",
       "<tr>\n",
       "  <th>CRIM</th>      <td>   -0.2050</td> <td>    0.032</td> <td>   -6.399</td> <td> 0.000</td> <td>   -0.268</td> <td>   -0.142</td>\n",
       "</tr>\n",
       "<tr>\n",
       "  <th>RM</th>        <td>    7.3804</td> <td>    0.402</td> <td>   18.382</td> <td> 0.000</td> <td>    6.592</td> <td>    8.169</td>\n",
       "</tr>\n",
       "</table>\n",
       "<table class=\"simpletable\">\n",
       "<tr>\n",
       "  <th>Omnibus:</th>       <td>234.656</td> <th>  Durbin-Watson:     </th> <td>   0.830</td>\n",
       "</tr>\n",
       "<tr>\n",
       "  <th>Prob(Omnibus):</th> <td> 0.000</td>  <th>  Jarque-Bera (JB):  </th> <td>2020.689</td>\n",
       "</tr>\n",
       "<tr>\n",
       "  <th>Skew:</th>          <td> 1.815</td>  <th>  Prob(JB):          </th> <td>    0.00</td>\n",
       "</tr>\n",
       "<tr>\n",
       "  <th>Kurtosis:</th>      <td>12.092</td>  <th>  Cond. No.          </th> <td>    311.</td>\n",
       "</tr>\n",
       "</table><br/><br/>Warnings:<br/>[1] Standard Errors assume that the covariance matrix of the errors is correctly specified."
      ],
      "text/plain": [
       "<class 'statsmodels.iolib.summary.Summary'>\n",
       "\"\"\"\n",
       "                            OLS Regression Results                            \n",
       "==============================================================================\n",
       "Dep. Variable:                  PRICE   R-squared:                       0.594\n",
       "Model:                            OLS   Adj. R-squared:                  0.592\n",
       "Method:                 Least Squares   F-statistic:                     245.2\n",
       "Date:                Sat, 06 Jul 2019   Prob (F-statistic):           6.15e-98\n",
       "Time:                        12:40:33   Log-Likelihood:                -1612.0\n",
       "No. Observations:                 506   AIC:                             3232.\n",
       "Df Residuals:                     502   BIC:                             3249.\n",
       "Df Model:                           3                                         \n",
       "Covariance Type:            nonrobust                                         \n",
       "==============================================================================\n",
       "                 coef    std err          t      P>|t|      [0.025      0.975]\n",
       "------------------------------------------------------------------------------\n",
       "Intercept     -3.3707      4.034     -0.836      0.404     -11.296       4.555\n",
       "PTRATIO       -1.0695      0.133     -8.051      0.000      -1.331      -0.809\n",
       "CRIM          -0.2050      0.032     -6.399      0.000      -0.268      -0.142\n",
       "RM             7.3804      0.402     18.382      0.000       6.592       8.169\n",
       "==============================================================================\n",
       "Omnibus:                      234.656   Durbin-Watson:                   0.830\n",
       "Prob(Omnibus):                  0.000   Jarque-Bera (JB):             2020.689\n",
       "Skew:                           1.815   Prob(JB):                         0.00\n",
       "Kurtosis:                      12.092   Cond. No.                         311.\n",
       "==============================================================================\n",
       "\n",
       "Warnings:\n",
       "[1] Standard Errors assume that the covariance matrix of the errors is correctly specified.\n",
       "\"\"\""
      ]
     },
     "execution_count": 105,
     "metadata": {},
     "output_type": "execute_result"
    }
   ],
   "source": [
    "m1.summary()"
   ]
  },
  {
   "cell_type": "code",
   "execution_count": null,
   "metadata": {},
   "outputs": [],
   "source": [
    "#I got an improved model in terms of R squared and F statistic, so that's pretty good!"
   ]
  }
 ],
 "metadata": {
  "kernelspec": {
   "display_name": "Python 3",
   "language": "python",
   "name": "python3"
  },
  "language_info": {
   "codemirror_mode": {
    "name": "ipython",
    "version": 3
   },
   "file_extension": ".py",
   "mimetype": "text/x-python",
   "name": "python",
   "nbconvert_exporter": "python",
   "pygments_lexer": "ipython3",
   "version": "3.7.3"
  }
 },
 "nbformat": 4,
 "nbformat_minor": 1
}
